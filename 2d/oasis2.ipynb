{
 "cells": [
  {
   "cell_type": "code",
   "execution_count": 1,
   "source": [
    "%matplotlib inline\n",
    "import os, sys, re\n",
    "import glob\n",
    "\n",
    "import pandas as pd\n",
    "import numpy as np\n",
    "import torch\n",
    "import torch.utils.data\n",
    "import torch.nn\n",
    "\n",
    "from random import randrange\n",
    "from PIL import Image\n",
    "import matplotlib.pyplot as plt"
   ],
   "outputs": [
    {
     "output_type": "stream",
     "name": "stdout",
     "text": [
      "Intel MKL WARNING: Support of Intel(R) Streaming SIMD Extensions 4.2 (Intel(R) SSE4.2) enabled only processors has been deprecated. Intel oneAPI Math Kernel Library 2025.0 will require Intel(R) Advanced Vector Extensions (Intel(R) AVX) instructions.\n",
      "Intel MKL WARNING: Support of Intel(R) Streaming SIMD Extensions 4.2 (Intel(R) SSE4.2) enabled only processors has been deprecated. Intel oneAPI Math Kernel Library 2025.0 will require Intel(R) Advanced Vector Extensions (Intel(R) AVX) instructions.\n"
     ]
    }
   ],
   "metadata": {}
  },
  {
   "cell_type": "code",
   "execution_count": null,
   "source": [
    "import nibabel as nib\n",
    "import os\n",
    "import glob\n",
    "\n",
    "def convert_and_rename_hdr_img_to_nifti(base_dir, output_dir):\n",
    "    \"\"\"\n",
    "    Convert and rename .hdr/.img files to .nifti format.\n",
    "\n",
    "    Parameters:\n",
    "    base_dir (str): Base directory containing the subdirectories.\n",
    "    output_dir (str): Directory where .nifti files will be saved.\n",
    "    \"\"\"\n",
    "    # Check if the output directory exists, if not, create it\n",
    "    if not os.path.exists(output_dir):\n",
    "        os.makedirs(output_dir)\n",
    "\n",
    "    # Search for the specific subdirectories\n",
    "    subdirectories = glob.glob(os.path.join(base_dir, 'OAS2_*_MR1'))\n",
    "\n",
    "    for sub_dir in subdirectories:\n",
    "        # Construct the path to the RAW folder\n",
    "        raw_dir = os.path.join(sub_dir, 'RAW')\n",
    "\n",
    "        # Check if RAW directory exists\n",
    "        if os.path.exists(raw_dir):\n",
    "            # Construct the file path for hdr file\n",
    "            hdr_file = os.path.join(raw_dir, 'mpr-1.nifti.hdr')\n",
    "\n",
    "            # Check if hdr file exists\n",
    "            if os.path.exists(hdr_file):\n",
    "                # Load the image (this should automatically include the associated .img file)\n",
    "                img = nib.load(hdr_file)\n",
    "\n",
    "                # Create a corresponding .nifti file name\n",
    "                sub_dir_name = os.path.basename(sub_dir) + '.nii'\n",
    "                nifti_file_path = os.path.join(output_dir, sub_dir_name)\n",
    "\n",
    "                # Save the image in .nifti format\n",
    "                nib.save(img, nifti_file_path)\n",
    "                print(f'Converted {hdr_file} to {nifti_file_path}')\n",
    "            else:\n",
    "                print(f'No .hdr file found in {raw_dir}')\n",
    "        else:\n",
    "            print(f'No RAW directory found in {sub_dir}')\n",
    "\n",
    "# Example usage\n",
    "base_directory = '/Users/valenetjong/Downloads/OAS2_RAW_PART1'\n",
    "output_directory = '/Users/valenetjong/alzheimer-classification/oasis2/raw'\n",
    "\n",
    "convert_and_rename_hdr_img_to_nifti(base_directory, output_directory)"
   ],
   "outputs": [],
   "metadata": {}
  }
 ],
 "metadata": {
  "orig_nbformat": 4,
  "language_info": {
   "name": "python",
   "version": "3.11.4",
   "mimetype": "text/x-python",
   "codemirror_mode": {
    "name": "ipython",
    "version": 3
   },
   "pygments_lexer": "ipython3",
   "nbconvert_exporter": "python",
   "file_extension": ".py"
  },
  "kernelspec": {
   "name": "python3",
   "display_name": "Python 3.11.4 64-bit ('nlp-m': conda)"
  },
  "interpreter": {
   "hash": "62ef8ab7a50fde946441678ef251eba85852e5ab7813d8beba261a97f4cf7750"
  }
 },
 "nbformat": 4,
 "nbformat_minor": 2
}
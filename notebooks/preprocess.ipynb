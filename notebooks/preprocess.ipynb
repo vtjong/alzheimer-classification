{
 "cells": [
  {
   "cell_type": "code",
   "execution_count": 11,
   "metadata": {},
   "outputs": [],
   "source": [
    "%matplotlib inline\n",
    "import os\n",
    "import sys\n",
    "import re\n",
    "import glob\n",
    "\n",
    "import pandas as pd\n",
    "import numpy as np\n",
    "import torch\n",
    "import torch.utils.data\n",
    "import torch.nn\n",
    "\n",
    "from random import randrange\n",
    "from PIL import Image\n",
    "import matplotlib.pyplot as plt"
   ]
  },
  {
   "cell_type": "code",
   "execution_count": 10,
   "metadata": {},
   "outputs": [
    {
     "name": "stdout",
     "output_type": "stream",
     "text": [
      "\u001b[33mDEPRECATION: Configuring installation scheme with distutils config files is deprecated and will no longer work in the near future. If you are using a Homebrew or Linuxbrew Python, please see discussion at https://github.com/Homebrew/homebrew-core/issues/76621\u001b[0m\u001b[33m\n",
      "\u001b[0mCollecting scikit-image\n",
      "  Obtaining dependency information for scikit-image from https://files.pythonhosted.org/packages/71/23/9421f904701927d46b497489a48aacc5805284bdb93cb1a34f27d2b0ddfc/scikit_image-0.22.0-cp39-cp39-macosx_12_0_arm64.whl.metadata\n",
      "  Downloading scikit_image-0.22.0-cp39-cp39-macosx_12_0_arm64.whl.metadata (13 kB)\n",
      "Requirement already satisfied: numpy>=1.22 in /Users/msturman00/Library/Python/3.9/lib/python/site-packages (from scikit-image) (1.26.1)\n",
      "Requirement already satisfied: scipy>=1.8 in /Users/msturman00/Library/Python/3.9/lib/python/site-packages (from scikit-image) (1.11.3)\n",
      "Requirement already satisfied: networkx>=2.8 in /Users/msturman00/Library/Python/3.9/lib/python/site-packages (from scikit-image) (3.1)\n",
      "Requirement already satisfied: pillow>=9.0.1 in /opt/homebrew/lib/python3.9/site-packages (from scikit-image) (10.0.1)\n",
      "Requirement already satisfied: imageio>=2.27 in /opt/homebrew/lib/python3.9/site-packages (from scikit-image) (2.31.6)\n",
      "Collecting tifffile>=2022.8.12 (from scikit-image)\n",
      "  Obtaining dependency information for tifffile>=2022.8.12 from https://files.pythonhosted.org/packages/f5/72/68ea763b5f3e3d9871492683059ed4724fd700dbe54aa03cdda7a9692129/tifffile-2023.9.26-py3-none-any.whl.metadata\n",
      "  Downloading tifffile-2023.9.26-py3-none-any.whl.metadata (30 kB)\n",
      "Requirement already satisfied: packaging>=21 in /Users/msturman00/Library/Python/3.9/lib/python/site-packages (from scikit-image) (23.1)\n",
      "Collecting lazy_loader>=0.3 (from scikit-image)\n",
      "  Obtaining dependency information for lazy_loader>=0.3 from https://files.pythonhosted.org/packages/a1/c3/65b3814e155836acacf720e5be3b5757130346670ac454fee29d3eda1381/lazy_loader-0.3-py3-none-any.whl.metadata\n",
      "  Downloading lazy_loader-0.3-py3-none-any.whl.metadata (4.3 kB)\n",
      "Downloading scikit_image-0.22.0-cp39-cp39-macosx_12_0_arm64.whl (13.3 MB)\n",
      "\u001b[2K   \u001b[90m━━━━━━━━━━━━━━━━━━━━━━━━━━━━━━━━━━━━━━━━\u001b[0m \u001b[32m13.3/13.3 MB\u001b[0m \u001b[31m33.0 MB/s\u001b[0m eta \u001b[36m0:00:00\u001b[0ma \u001b[36m0:00:01\u001b[0m\n",
      "\u001b[?25hDownloading lazy_loader-0.3-py3-none-any.whl (9.1 kB)\n",
      "Downloading tifffile-2023.9.26-py3-none-any.whl (222 kB)\n",
      "\u001b[2K   \u001b[90m━━━━━━━━━━━━━━━━━━━━━━━━━━━━━━━━━━━━━━━━\u001b[0m \u001b[32m222.9/222.9 kB\u001b[0m \u001b[31m14.4 MB/s\u001b[0m eta \u001b[36m0:00:00\u001b[0m\n",
      "\u001b[?25hInstalling collected packages: tifffile, lazy_loader, scikit-image\n",
      "\u001b[33m  DEPRECATION: Configuring installation scheme with distutils config files is deprecated and will no longer work in the near future. If you are using a Homebrew or Linuxbrew Python, please see discussion at https://github.com/Homebrew/homebrew-core/issues/76621\u001b[0m\u001b[33m\n",
      "\u001b[0m\u001b[33m  DEPRECATION: Configuring installation scheme with distutils config files is deprecated and will no longer work in the near future. If you are using a Homebrew or Linuxbrew Python, please see discussion at https://github.com/Homebrew/homebrew-core/issues/76621\u001b[0m\u001b[33m\n",
      "\u001b[0m\u001b[33m  DEPRECATION: Configuring installation scheme with distutils config files is deprecated and will no longer work in the near future. If you are using a Homebrew or Linuxbrew Python, please see discussion at https://github.com/Homebrew/homebrew-core/issues/76621\u001b[0m\u001b[33m\n",
      "\u001b[0m\u001b[33mDEPRECATION: Configuring installation scheme with distutils config files is deprecated and will no longer work in the near future. If you are using a Homebrew or Linuxbrew Python, please see discussion at https://github.com/Homebrew/homebrew-core/issues/76621\u001b[0m\u001b[33m\n",
      "\u001b[0mSuccessfully installed lazy_loader-0.3 scikit-image-0.22.0 tifffile-2023.9.26\n",
      "\n",
      "\u001b[1m[\u001b[0m\u001b[34;49mnotice\u001b[0m\u001b[1;39;49m]\u001b[0m\u001b[39;49m A new release of pip is available: \u001b[0m\u001b[31;49m23.2.1\u001b[0m\u001b[39;49m -> \u001b[0m\u001b[32;49m23.3.1\u001b[0m\n",
      "\u001b[1m[\u001b[0m\u001b[34;49mnotice\u001b[0m\u001b[1;39;49m]\u001b[0m\u001b[39;49m To update, run: \u001b[0m\u001b[32;49mpython3.9 -m pip install --upgrade pip\u001b[0m\n",
      "Note: you may need to restart the kernel to use updated packages.\n"
     ]
    }
   ],
   "source": [
    "%pip install scikit-image"
   ]
  },
  {
   "cell_type": "markdown",
   "metadata": {},
   "source": [
    "### Pre-processing"
   ]
  },
  {
   "cell_type": "code",
   "execution_count": 13,
   "metadata": {},
   "outputs": [],
   "source": [
    "import skimage.filters\n",
    "import skimage.morphology\n",
    "\n",
    "\"\"\" Pre-processing Functions \"\"\"\n",
    "\n",
    "DEMENTIA_MAP = {\n",
    "    '0.0': \"nondemented\",\n",
    "    '0.5': \"mildly demented\",\n",
    "    '1.0': 'moderately demented',\n",
    "    '2.0': 'severely demented'\n",
    "}\n",
    "\n",
    "def extract_files(base_dir, target_dir, oasis_csv_path):\n",
    "    oasis_df = pd.read_csv(oasis_csv_path)\n",
    "    scan_types = [\"cor_110\", \"sag_95\", \"tra_90\"]\n",
    "\n",
    "    for subdir in filter(lambda d: d != '.DS_Store', os.listdir(base_dir)):\n",
    "        source_dir = os.path.join(base_dir, subdir, \"PROCESSED\", \"MPRAGE\", \n",
    "                                  \"T88_111\")\n",
    "        num = int(subdir.split('_')[1])\n",
    "        dementia_type = oasis_df.iloc[num]['CDR']\n",
    "        if pd.isna(dementia_type):\n",
    "            continue\n",
    "\n",
    "        for scan_type in scan_types:\n",
    "            for n_suffix in ['n3', 'n4']:\n",
    "                fn = os.path.join(source_dir, f\"{subdir}_mpr_{n_suffix}_anon_\"\n",
    "                                  f\"111_t88_gfc_{scan_type}.gif\")\n",
    "                if os.path.exists(fn):\n",
    "                    process_image(fn, target_dir, dementia_type, num, \n",
    "                                  scan_type)\n",
    "\n",
    "def process_image(fn, target_dir, dementia_type, num, scan_type):\n",
    "    with Image.open(fn) as img:\n",
    "        img = skull_strip(img)\n",
    "        target_subdir = os.path.join(target_dir, DEMENTIA_MAP[str(dementia_type)], str(num))\n",
    "        os.makedirs(target_subdir, exist_ok=True)\n",
    "        target_path = os.path.join(target_subdir, \n",
    "                                   f\"{scan_type}.png\")\n",
    "        img.convert('RGB').save(target_path)\n",
    "\n",
    "def skull_strip(img):\n",
    "    # Convert to grayscale for skull stripping\n",
    "    img_gray = img.convert('L')\n",
    "    img_np = np.array(img_gray)\n",
    "\n",
    "    # Basic skull stripping using Otsu's method\n",
    "    threshold = skimage.filters.threshold_otsu(img_np)\n",
    "    mask = img_np > threshold\n",
    "    mask = skimage.morphology.remove_small_objects(mask, min_size=100)\n",
    "    img_np[~mask] = 0\n",
    "\n",
    "    # Intensity normalization\n",
    "    img_normalized = img_np / 255.0\n",
    "\n",
    "    # Convert back to PIL Image\n",
    "    img_processed = Image.fromarray((img_normalized * 255).astype(np.uint8))\n",
    "    return img_processed\n",
    "\n",
    "# Replace 'path_to_disc1' with the actual path to your 'disc1' directory\n",
    "path_to_disc1 = '/Users/msturman00/Documents/GitHub/alzheimer-classification/data2/disc1'\n",
    "oasis_csv_path = '/Users/msturman00/Documents/GitHub/alzheimer-classification/datacsv/oasis_cross-sectional.csv'\n",
    "extracted_files = extract_files(path_to_disc1, '/Users/msturman00/Documents/GitHub/alzheimer-classification/data', oasis_csv_path)"
   ]
  },
  {
   "cell_type": "code",
   "execution_count": null,
   "metadata": {},
   "outputs": [],
   "source": []
  }
 ],
 "metadata": {
  "interpreter": {
   "hash": "62ef8ab7a50fde946441678ef251eba85852e5ab7813d8beba261a97f4cf7750"
  },
  "kernelspec": {
   "display_name": "Python 3.11.4 64-bit ('nlp-m': conda)",
   "name": "python3"
  },
  "language_info": {
   "codemirror_mode": {
    "name": "ipython",
    "version": 3
   },
   "file_extension": ".py",
   "mimetype": "text/x-python",
   "name": "python",
   "nbconvert_exporter": "python",
   "pygments_lexer": "ipython3",
   "version": "3.9.17"
  },
  "orig_nbformat": 4
 },
 "nbformat": 4,
 "nbformat_minor": 2
}

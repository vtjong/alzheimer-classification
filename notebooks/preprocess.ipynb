{
 "cells": [
  {
   "cell_type": "code",
   "execution_count": 2,
   "source": [
    "%matplotlib inline\n",
    "import os\n",
    "import sys\n",
    "import re\n",
    "import glob\n",
    "\n",
    "import pandas as pd\n",
    "import numpy as np\n",
    "import torch\n",
    "import torch.utils.data\n",
    "import torch.nn\n",
    "\n",
    "from random import randrange\n",
    "from PIL import Image\n",
    "import matplotlib.pyplot as plt"
   ],
   "outputs": [],
   "metadata": {}
  },
  {
   "cell_type": "markdown",
   "source": [
    "### Pre-processing"
   ],
   "metadata": {}
  },
  {
   "cell_type": "code",
   "execution_count": 3,
   "source": [
    "import skimage.filters\n",
    "import skimage.morphology\n",
    "\n",
    "\"\"\" Pre-processing Functions \"\"\"\n",
    "\n",
    "DEMENTIA_MAP = {\n",
    "    '0.0': \"nondemented\",\n",
    "    '0.5': \"mildly demented\",\n",
    "    '1.0': 'moderately demented',\n",
    "    '2.0': 'severely demented'\n",
    "}\n",
    "\n",
    "def extract_files(base_dir, target_dir, oasis_csv_path):\n",
    "    oasis_df = pd.read_csv(oasis_csv_path)\n",
    "    scan_types = [\"cor_110\", \"sag_95\", \"tra_90\"]\n",
    "\n",
    "    for subdir in filter(lambda d: d != '.DS_Store', os.listdir(base_dir)):\n",
    "        source_dir = os.path.join(base_dir, subdir, \"PROCESSED\", \"MPRAGE\", \n",
    "                                  \"T88_111\")\n",
    "        num = int(subdir.split('_')[1])\n",
    "        dementia_type = oasis_df.iloc[num]['CDR']\n",
    "        if pd.isna(dementia_type):\n",
    "            continue\n",
    "\n",
    "        for scan_type in scan_types:\n",
    "            for n_suffix in ['n3', 'n4']:\n",
    "                fn = os.path.join(source_dir, f\"{subdir}_mpr_{n_suffix}_anon_\"\n",
    "                                  f\"111_t88_gfc_{scan_type}.gif\")\n",
    "                if os.path.exists(fn):\n",
    "                    process_image(fn, target_dir, dementia_type, num, \n",
    "                                  scan_type)\n",
    "\n",
    "def process_image(fn, target_dir, dementia_type, num, scan_type):\n",
    "    with Image.open(fn) as img:\n",
    "        img = skull_strip(img)\n",
    "        target_subdir = os.path.join(target_dir, DEMENTIA_MAP[str(dementia_type)], str(num))\n",
    "        os.makedirs(target_subdir, exist_ok=True)\n",
    "        target_path = os.path.join(target_subdir, \n",
    "                                   f\"{scan_type}.png\")\n",
    "        img.convert('RGB').save(target_path)\n",
    "\n",
    "def skull_strip(img):\n",
    "    # Convert to grayscale for skull stripping\n",
    "    img_gray = img.convert('L')\n",
    "    img_np = np.array(img_gray)\n",
    "\n",
    "    # Basic skull stripping using Otsu's method\n",
    "    threshold = skimage.filters.threshold_otsu(img_np)\n",
    "    mask = img_np > threshold\n",
    "    mask = skimage.morphology.remove_small_objects(mask, min_size=100)\n",
    "    img_np[~mask] = 0\n",
    "\n",
    "    # Intensity normalization\n",
    "    img_normalized = img_np / 255.0\n",
    "\n",
    "    # Convert back to PIL Image\n",
    "    img_processed = Image.fromarray((img_normalized * 255).astype(np.uint8))\n",
    "    return img_processed\n",
    "\n",
    "# Replace 'path_to_disc1' with the actual path to your 'disc1' directory\n",
    "path_to_disc1 = '/Users/valenetjong/aml_final/disc1'\n",
    "oasis_csv_path = '/Users/valenetjong/aml_final/datacsv/oasis_cross-sectional.csv'\n",
    "extracted_files = extract_files(path_to_disc1, '/Users/valenetjong/aml_final/data', oasis_csv_path)"
   ],
   "outputs": [],
   "metadata": {}
  },
  {
   "cell_type": "code",
   "execution_count": null,
   "source": [],
   "outputs": [],
   "metadata": {}
  }
 ],
 "metadata": {
  "orig_nbformat": 4,
  "language_info": {
   "name": "python",
   "version": "3.11.4",
   "mimetype": "text/x-python",
   "codemirror_mode": {
    "name": "ipython",
    "version": 3
   },
   "pygments_lexer": "ipython3",
   "nbconvert_exporter": "python",
   "file_extension": ".py"
  },
  "kernelspec": {
   "name": "python3",
   "display_name": "Python 3.11.4 64-bit ('nlp-m': conda)"
  },
  "interpreter": {
   "hash": "62ef8ab7a50fde946441678ef251eba85852e5ab7813d8beba261a97f4cf7750"
  }
 },
 "nbformat": 4,
 "nbformat_minor": 2
}
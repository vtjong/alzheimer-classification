{
 "cells": [
  {
   "cell_type": "code",
   "execution_count": 1,
   "metadata": {},
   "outputs": [
    {
     "name": "stderr",
     "output_type": "stream",
     "text": [
      "Failed to detect the name of this notebook, you can set it manually with the WANDB_NOTEBOOK_NAME environment variable to enable code saving.\n",
      "\u001b[34m\u001b[1mwandb\u001b[0m: Currently logged in as: \u001b[33mvalenetjong\u001b[0m. Use \u001b[1m`wandb login --relogin`\u001b[0m to force relogin\n"
     ]
    },
    {
     "data": {
      "text/plain": [
       "True"
      ]
     },
     "execution_count": 1,
     "metadata": {},
     "output_type": "execute_result"
    }
   ],
   "source": [
    "%matplotlib inline\n",
    "import os, sys, re\n",
    "import glob\n",
    "\n",
    "import pandas as pd\n",
    "import numpy as np\n",
    "import torch\n",
    "import torch.utils.data\n",
    "import torch.nn\n",
    "\n",
    "from random import randrange\n",
    "from PIL import Image\n",
    "import matplotlib.pyplot as plt\n",
    "\n",
    "!pip install opencv-python -qqq\n",
    "!pip install wandb -qqq\n",
    "import wandb\n",
    "wandb.login()"
   ]
  },
  {
   "cell_type": "code",
   "execution_count": 2,
   "metadata": {},
   "outputs": [
    {
     "data": {
      "text/plain": [
       "<torch._C.Generator at 0x2332a063810>"
      ]
     },
     "execution_count": 2,
     "metadata": {},
     "output_type": "execute_result"
    }
   ],
   "source": [
    "import argparse\n",
    "\"\"\" Training and hyperparameter search configurations \"\"\"\n",
    "curr_dir = os.getcwd()\n",
    "\n",
    "parser = argparse.ArgumentParser(description='Final')\n",
    "parser.add_argument('--img_dir', type=str, default='/Users/valenetjong/alzheimer-classification/data',\n",
    "                    help='directory for image storage')\n",
    "parser.add_argument('--seed', type=int, default=1,\n",
    "                    help='random seed (default: 1)')\n",
    "parser.add_argument('--num_classes', type=int, default=3,\n",
    "                    help='number of classes')\n",
    "parser.add_argument('--loss', type=str, default=\"cross entropy\",\n",
    "                    help='cross entropy, focal')\n",
    "parser.add_argument('--download_oasis', type=bool, default=False,\n",
    "                    help=\"download oasis dataset from links if True, use already extracted files, if False\")\n",
    "parser.add_argument('--process_flag', type=bool, default=False,\n",
    "                    help=\"extract files from disk if True, use already extracted files, if False\")\n",
    "parser.add_argument('--create_dataset', type=bool, default=False,\n",
    "                    help=\"create dataset from scratch if True, load in processed dataset if False\")\n",
    "parser.add_argument('--transforms', type=str, default='all',\n",
    "                    help='transforms for data augmentation')\n",
    "parser.add_argument('--threshold', type=float, default=3e-4,\n",
    "                    help='early stopping criterion')\n",
    "args = parser.parse_args('')\n",
    "# Set random seed to reproduce results\n",
    "torch.manual_seed(args.seed)"
   ]
  },
  {
   "cell_type": "code",
   "execution_count": 3,
   "metadata": {},
   "outputs": [
    {
     "name": "stdout",
     "output_type": "stream",
     "text": [
      "Create sweep with ID: 476ov6p8\n",
      "Sweep URL: https://wandb.ai/valenetjong/2D-masked-imgs/sweeps/476ov6p8\n"
     ]
    }
   ],
   "source": [
    "\"\"\" Set-up wandb \"\"\"\n",
    "sweep_config = {\n",
    "    'method': 'bayes'\n",
    "    }\n",
    "\n",
    "metric = {\n",
    "    'name': 'max val acc',\n",
    "    'goal': 'maximize'   \n",
    "    }\n",
    "\n",
    "sweep_config['metric'] = metric\n",
    "\n",
    "params = {\n",
    "    'max_epochs': {\n",
    "        'value': 250\n",
    "        },\n",
    "    'hidden_size': {\n",
    "        'values': [8, 16],\n",
    "        },\n",
    "    'fc_size': {\n",
    "        'values': [32, 64, 128, 256, 512]\n",
    "        },\n",
    "    'conv_in_size': {\n",
    "        'values': [32, 64, 128, 256]\n",
    "        },\n",
    "    'conv_hid_size': {\n",
    "        'values': [8, 16, 32]\n",
    "        },\n",
    "    'conv_out_size': {\n",
    "        'values': [8, 16, 32]\n",
    "        },\n",
    "    'dropout': {\n",
    "          'values': [0.15, 0.2, 0.25, 0.3]\n",
    "        },\n",
    "    'batch_size': {\n",
    "        'distribution': 'q_log_uniform_values',\n",
    "        'q': 8,\n",
    "        'min': 8,\n",
    "        'max': 64,\n",
    "        },\n",
    "    'lr': {\n",
    "        'values': [1e-3, 1e-4, 1e-5]\n",
    "        },\n",
    "    }\n",
    "\n",
    "sweep_config['parameters'] = params\n",
    "sweep_id = wandb.sweep(sweep_config, project=\"2D-masked-imgs\")"
   ]
  },
  {
   "cell_type": "markdown",
   "metadata": {},
   "source": [
    "### Download Files"
   ]
  },
  {
   "cell_type": "code",
   "execution_count": 4,
   "metadata": {},
   "outputs": [],
   "source": [
    "import requests\n",
    "import os\n",
    "import tarfile\n",
    "\n",
    "def download_file(url, local_filename):\n",
    "    \"\"\"\n",
    "    Downloads a file from a given URL and saves it to a local path.\n",
    "    \"\"\"\n",
    "    with requests.get(url, stream=True) as r:\n",
    "        r.raise_for_status()\n",
    "        with open(local_filename, 'wb') as f:\n",
    "            for chunk in r.iter_content(chunk_size=8192):\n",
    "                f.write(chunk)\n",
    "    return local_filename\n",
    "\n",
    "def download_oasis1(base_dir=\"/Users/valenetjong/Downloads/\"):\n",
    "    base_url = \"https://download.nrg.wustl.edu/data/oasis_cross-sectional_disc\"\n",
    "    total_disks = 12\n",
    "\n",
    "    for i in range(1, total_disks + 1):\n",
    "        url = f\"{base_url}{i}.tar.gz\"\n",
    "        local_filename = f\"oasis_cross-sectional_disc{i}.tar.gz\"\n",
    "        full_file_path = os.path.join(base_dir, local_filename)\n",
    "\n",
    "        # Check if the file already exists\n",
    "        if os.path.exists(full_file_path):\n",
    "            print(f\"File {local_filename} already exists. Skipping download.\")\n",
    "            continue\n",
    "\n",
    "        print(f\"Downloading: {url}\")\n",
    "        \n",
    "        try:\n",
    "            download_file(url, full_file_path)\n",
    "            print(f\"Downloaded {local_filename}\")\n",
    "        except Exception as e:\n",
    "            print(f\"Failed to download {local_filename}: {e}\")\n",
    "\n",
    "def extract_tar_gz(tar_path, extract_to_path):\n",
    "    \"\"\"\n",
    "    Extracts a .tar.gz file to a specified directory.\n",
    "    \"\"\"\n",
    "    with tarfile.open(tar_path, 'r:gz') as tar:\n",
    "        tar.extractall(path=extract_to_path)\n",
    "        print(f\"Extracted {tar_path} to {extract_to_path}\")\n",
    "\n",
    "def extract_all_discs(base_disc_path=\"/Users/valenetjong/Downloads/\", \n",
    "                    extract_to_path=\"/Users/valenetjong/Downloads/\"):\n",
    "    total_disks = 12\n",
    "\n",
    "    for i in range(1, total_disks + 1):\n",
    "        if os.path.exists(extract_to_path + f\"/disc{i}\") and os.path.isdir(extract_to_path + f\"/disc{i}\"):\n",
    "            print(f\"Folder for disc{i} already exists. Skipping extraction.\")\n",
    "            continue\n",
    "        tar_path = os.path.join(base_disc_path, f\"oasis_cross-sectional_disc{i}.tar.gz\")\n",
    "        os.makedirs(extract_to_path, exist_ok=True)\n",
    "        extract_tar_gz(tar_path, extract_to_path)\n",
    "\n",
    "        # Remove the tar.gz file after extraction\n",
    "        # os.remove(tar_path)\n",
    "        # print(f\"Removed the archive: {tar_path}\")"
   ]
  },
  {
   "cell_type": "code",
   "execution_count": 5,
   "metadata": {},
   "outputs": [],
   "source": [
    "if args.download_oasis:\n",
    "    download_oasis1()"
   ]
  },
  {
   "cell_type": "code",
   "execution_count": 6,
   "metadata": {},
   "outputs": [],
   "source": [
    "if args.process_flag:\n",
    "    extract_all_discs()"
   ]
  },
  {
   "cell_type": "markdown",
   "metadata": {},
   "source": [
    "### Pre-processing"
   ]
  },
  {
   "cell_type": "code",
   "execution_count": 7,
   "metadata": {},
   "outputs": [],
   "source": [
    "import cv2 as cv\n",
    "import tempfile\n",
    "import shutil\n",
    "\n",
    "\"\"\" Pre-processing Functions \"\"\"\n",
    "\n",
    "DEMENTIA_MAP = {\n",
    "    '0.0': \"nondemented\",\n",
    "    '0.5': \"mildly demented\",\n",
    "    '1.0': 'moderately demented',\n",
    "}\n",
    "\n",
    "# Pre-determined max dimensions of cropped images\n",
    "CONV_WIDTH = 137\n",
    "CONV_HEIGHT = 167\n",
    "\n",
    "def normalize_intensity(img):\n",
    "    \"\"\"\n",
    "    Normalizes the intensity of an image to the range [0, 255].\n",
    "\n",
    "    Parameters:\n",
    "    img: The image to be normalized.\n",
    "\n",
    "    Returns:\n",
    "    Normalized image.\n",
    "    \"\"\"\n",
    "    img_min = img.min()\n",
    "    img_max = img.max()\n",
    "    normalized_img = (img - img_min) / (img_max - img_min) * 255\n",
    "    return normalized_img.astype(np.uint8)\n",
    "\n",
    "def pad_image_to_size(img, width, height):\n",
    "    \"\"\"\n",
    "    Pads an image with zeros to the specified width and height.\n",
    "\n",
    "    Parameters:\n",
    "    img: The image to be padded.\n",
    "    width: The desired width.\n",
    "    height: The desired height.\n",
    "\n",
    "    Returns:\n",
    "    Padded image.\n",
    "    \"\"\"\n",
    "    padded_img = np.zeros((height, width), dtype=img.dtype)\n",
    "    y_offset = (height - img.shape[0]) // 2\n",
    "    x_offset = (width - img.shape[1]) // 2\n",
    "    padded_img[y_offset:y_offset+img.shape[0], x_offset:x_offset+img.shape[1]] = img\n",
    "    return padded_img\n",
    "\n",
    "def crop_black_boundary(mri_image):\n",
    "    \"\"\"\n",
    "    Crops the black boundary from an MRI image.\n",
    "\n",
    "    Parameters:\n",
    "    mri_image: Input MRI image.\n",
    "\n",
    "    Returns:\n",
    "    Cropped MRI image with black boundaries removed.\n",
    "    \"\"\"\n",
    "    _, thresh = cv.threshold(mri_image, 1, 255, cv.THRESH_BINARY)\n",
    "    contours, _ = cv.findContours(thresh, cv.RETR_EXTERNAL, cv.CHAIN_APPROX_SIMPLE)\n",
    "    largest_contour = max(contours, key=cv.contourArea)\n",
    "    x, y, w, h = cv.boundingRect(largest_contour)\n",
    "    cropped_image = mri_image[y:y+h, x:x+w]\n",
    "    return cropped_image\n",
    "\n",
    "def extract_files(base_dir, target_dir, oasis_csv_path):\n",
    "    \"\"\"\n",
    "    Extracts and processes MRI files from a given directory.\n",
    "\n",
    "    Parameters:\n",
    "    base_dir: Directory containing MRI files.\n",
    "    target_dir: Directory where processed files will be saved.\n",
    "    oasis_csv_path: Path to the CSV file containing metadata.\n",
    "    \"\"\"\n",
    "    oasis_df = pd.read_csv(oasis_csv_path)\n",
    "\n",
    "    for subdir in filter(lambda d: d != '.DS_Store', os.listdir(base_dir)):\n",
    "        source_dir = os.path.join(base_dir, subdir, \"FSL_SEG\")\n",
    "        print(\"source_dir\", source_dir)\n",
    "        num = subdir.split('_')[1]\n",
    "        id = f'OAS1_{num}_MR1'\n",
    "        num = int(num)\n",
    "        row = oasis_df.loc[oasis_df['ID'] == id]\n",
    "        dementia_type = row['CDR'].item()\n",
    "        \n",
    "        if pd.isna(dementia_type):\n",
    "            continue\n",
    "\n",
    "        for n_suffix in ['n3', 'n4']:\n",
    "            fn = os.path.join(source_dir, f\"{subdir}_mpr_{n_suffix}_anon_\"\n",
    "                                  f\"111_t88_masked_gfc_fseg_tra_90.gif\")\n",
    "            if os.path.exists(fn):\n",
    "                process_image(fn, target_dir, dementia_type, id)\n",
    "\n",
    "def process_image(fn, target_dir, dementia_type, id):\n",
    "    \"\"\"\n",
    "    Processes a single MRI image file and saves it to the target directory.\n",
    "\n",
    "    Parameters:\n",
    "    fn: Path of the file to be processed.\n",
    "    target_dir: Directory where the processed file will be saved.\n",
    "    dementia_type: Type of dementia associated with the image.\n",
    "    id: Patient identifier associated with the image.\n",
    "    \"\"\"\n",
    "    with Image.open(fn) as img:\n",
    "        img = np.array(img.convert('RGB'))\n",
    "        img = cv.cvtColor(img, cv.COLOR_RGB2GRAY)\n",
    "    img = crop_black_boundary(img)\n",
    "    img = normalize_intensity(img)\n",
    "    img = pad_image_to_size(img, CONV_WIDTH, CONV_HEIGHT)\n",
    "\n",
    "    target_subdir = os.path.join(target_dir, DEMENTIA_MAP[str(dementia_type)])\n",
    "    os.makedirs(target_subdir, exist_ok=True)\n",
    "    target_path = os.path.join(target_subdir, f\"{id}.png\")\n",
    "    cv.imwrite(target_path, img)\n",
    "\n",
    "def process_all_discs(base_disc_path, base_extraction_path, oasis_csv_path):\n",
    "    \"\"\"\n",
    "    Processes all discs found in the base directory.\n",
    "\n",
    "    Parameters:\n",
    "    base_disc_path: Base path where the discs are located.\n",
    "    base_extraction_path: Base path where processed data will be saved.\n",
    "    oasis_csv_path: Path to the OASIS CSV file.\n",
    "    \"\"\"\n",
    "    total_disks = 12\n",
    "\n",
    "    for i in range(1, total_disks + 1):\n",
    "        disc_path = f'{base_disc_path}/disc{i}'\n",
    "        if not os.path.exists(disc_path):\n",
    "            print(f\"Disc {i} does not exist at path {disc_path}. Skipping.\")\n",
    "            continue\n",
    "        extract_files(disc_path, base_extraction_path, oasis_csv_path)\n",
    "        print(f\"Processed Disc {i}\")\n",
    "\n",
    "def cleanup_directory(path):\n",
    "    \"\"\"\n",
    "    Deletes a directory and all of its contents.\n",
    "\n",
    "    Parameters:\n",
    "    path: Path of the directory to be deleted.\n",
    "    \"\"\"\n",
    "    try:\n",
    "        shutil.rmtree(path)\n",
    "        print(f\"Cleaned up and deleted the directory: {path}\")\n",
    "    except OSError as e:\n",
    "        print(f\"Error: {e.filename} - {e.strerror}\")"
   ]
  },
  {
   "cell_type": "code",
   "execution_count": 8,
   "metadata": {},
   "outputs": [],
   "source": [
    "if args.process_flag:\n",
    "    base_disc_path = '/Users/valenetjong/Downloads'\n",
    "    base_extraction_path = '/Users/valenetjong/alzheimer-classification/data'\n",
    "    oasis_csv_path = '/Users/valenetjong/alzheimer-classification/datacsv/oasis_cross-sectional.csv'\n",
    "    process_all_discs(base_disc_path, base_extraction_path, oasis_csv_path)"
   ]
  },
  {
   "cell_type": "code",
   "execution_count": 9,
   "metadata": {},
   "outputs": [],
   "source": [
    "import os\n",
    "import torch\n",
    "from torchvision import transforms\n",
    "from PIL import Image\n",
    "from collections import Counter\n",
    "\n",
    "LABEL_MAP = {\n",
    "    \"nondemented\": 0,\n",
    "    \"mildly demented\": 1,\n",
    "    'moderately demented': 1 if args.num_classes == 2 else 2\n",
    "}\n",
    "\n",
    "def load_dataset(base_dir):\n",
    "    transform = transforms.Compose([\n",
    "        transforms.ToTensor(),\n",
    "    ])    \n",
    "    all_images = []\n",
    "    all_labels = []\n",
    "    class_counts = Counter()\n",
    "\n",
    "    # Automatically find all subdirectories in base_dir\n",
    "    for folder_name in os.listdir(base_dir):\n",
    "        folder_path = os.path.join(base_dir, folder_name)\n",
    "        if os.path.isdir(folder_path):  # Check if it's a directory\n",
    "            class_label = LABEL_MAP[folder_name]\n",
    "            for image_file in os.listdir(folder_path):\n",
    "                image_path = os.path.join(folder_path, image_file)\n",
    "                if os.path.isfile(image_path):\n",
    "                    with Image.open(image_path) as img:\n",
    "                        img_tensor = transform(img)\n",
    "                        all_images.append(img_tensor)\n",
    "                        all_labels.append(class_label)\n",
    "                        class_counts[folder_name] += 1\n",
    "\n",
    "    X = torch.stack(all_images)\n",
    "    y = torch.tensor(all_labels, dtype=torch.long)  # Changed to long for integer labels\n",
    "    return X, y, class_counts\n",
    "\n",
    "if args.create_dataset:\n",
    "    X, y, class_counts = load_dataset(args.img_dir)\n",
    "\n",
    "    print(f\"Combined Tensor Size: {X.size()}\")\n",
    "    print(f\"Labels Tensor Size: {y.size()}\")\n",
    "    print(f\"Class Counts: {class_counts}\")"
   ]
  },
  {
   "cell_type": "code",
   "execution_count": 10,
   "metadata": {},
   "outputs": [],
   "source": [
    "import torch\n",
    "from sklearn.model_selection import train_test_split\n",
    "\n",
    "def train_val_split(X, y, test_size=0.2, random_state=42, stratified=True):\n",
    "    # Convert X and y to numpy arrays if they are torch tensors\n",
    "    X_np = X.numpy() if isinstance(X, torch.Tensor) else X\n",
    "    y_np = y.numpy() if isinstance(y, torch.Tensor) else y\n",
    "\n",
    "    # Stratified split\n",
    "    if stratified:\n",
    "        X_train, X_val, y_train, y_val = train_test_split(\n",
    "            X_np, y_np, test_size=test_size, random_state=random_state, stratify=y_np\n",
    "        )\n",
    "    # Random split\n",
    "    else:\n",
    "        X_train, X_val, y_train, y_val = train_test_split(\n",
    "            X_np, y_np, test_size=test_size, random_state=random_state\n",
    "        )\n",
    "\n",
    "    # Convert numpy arrays back to torch tensors\n",
    "    X_train_tensor = torch.tensor(X_train, dtype=torch.float32)\n",
    "    y_train_tensor = torch.tensor(y_train, dtype=torch.long)\n",
    "    X_val_tensor = torch.tensor(X_val, dtype=torch.float32)\n",
    "    y_val_tensor = torch.tensor(y_val, dtype=torch.long)\n",
    "\n",
    "    return X_train_tensor, X_val_tensor, y_train_tensor, y_val_tensor\n",
    "\n",
    "if args.create_dataset:\n",
    "    X_train, X_val, y_train, y_val = train_val_split(X, y, test_size=0.2)\n",
    "\n",
    "    print(f'Training set size: {X_train.shape[0]}')\n",
    "    print(f'Validation set size: {X_val.shape[0]}')"
   ]
  },
  {
   "cell_type": "code",
   "execution_count": 11,
   "metadata": {},
   "outputs": [],
   "source": [
    "if args.create_dataset:\n",
    "    print(f\"Number of nondemented in train dataset as percentage: {((y_train == 0).sum() / (X_train.shape[0])) * 100:0.2f}%\")\n",
    "    print(f\"Number of mildly demented in train dataset as percentage: {((y_train == 1).sum() / (X_train.shape[0])) * 100:0.2f}%\")\n",
    "    print(f\"Number of moderately demented in train dataset as percentage: {((y_train == 2).sum() / (X_train.shape[0])) * 100:0.2f}%\")"
   ]
  },
  {
   "cell_type": "code",
   "execution_count": 12,
   "metadata": {},
   "outputs": [],
   "source": [
    "if args.create_dataset:\n",
    "    print(f\"Number of nondemented in train dataset as percentage: {((y_val == 0).sum() / (X_val.shape[0])) * 100:0.2f}%\")\n",
    "    print(f\"Number of mildly demented in train dataset as percentage: {((y_val == 1).sum() / (X_val.shape[0])) * 100:0.2f}%\")\n",
    "    print(f\"Number of moderately demented in train dataset as percentage: {((y_val == 2).sum() / (X_val.shape[0])) * 100:0.2f}%\")"
   ]
  },
  {
   "cell_type": "code",
   "execution_count": 13,
   "metadata": {},
   "outputs": [],
   "source": [
    "import torch\n",
    "from torchvision import transforms\n",
    "from torch.utils.data import DataLoader, TensorDataset\n",
    "import random\n",
    "\n",
    "\"\"\" Transforms w/ probability \"\"\"\n",
    "def custom_random_rotation(image, probability=0.25, min_degree=20, max_degree=40):\n",
    "    if random.random() < probability:\n",
    "        degrees = random.randint(min_degree, max_degree)\n",
    "        return transforms.RandomRotation(degrees=degrees)(image)\n",
    "    return image\n",
    "\n",
    "def custom_random_resized_crop(image, probability=0.25, size=(CONV_HEIGHT, CONV_WIDTH), scale=(0.9, 1.0)):\n",
    "    if random.random() < probability:\n",
    "        return transforms.RandomResizedCrop(size=size, scale=scale)(image)\n",
    "    return image\n",
    "\n",
    "def custom_random_horizontal_flip(image, probability=0.25):\n",
    "    if random.random() < probability:\n",
    "        return transforms.RandomHorizontalFlip()(image)\n",
    "    return image\n",
    "\n",
    "def custom_random_affine(image, probability=0.25, translate=(0.1, 0.1), scale=None, shear=10):\n",
    "    if random.random() < probability:\n",
    "        return transforms.RandomAffine(degrees=0, translate=translate, scale=scale, shear=shear)(image)\n",
    "    return image\n",
    "\n",
    "def custom_color_jitter(image, probability=0.25, brightness=0.2, contrast=0.2):\n",
    "    if random.random() < probability:\n",
    "        return transforms.ColorJitter(brightness=brightness, contrast=contrast)(image)\n",
    "    return image\n",
    "\n",
    "def apply_transforms(X):\n",
    "    transformed_data = []\n",
    "    for x in X:\n",
    "        x = custom_random_rotation(x)\n",
    "        x = custom_random_resized_crop(x)\n",
    "        x = custom_random_horizontal_flip(x)\n",
    "        x = custom_random_affine(x)\n",
    "        x = custom_color_jitter(x)\n",
    "        transformed_data.append(x)\n",
    "    return torch.stack(transformed_data)\n",
    "\n",
    "def apply_all_transforms(X, transform):\n",
    "    transformed_data = []\n",
    "    for x in X:\n",
    "        x = transform(x)  # Apply the transformation\n",
    "        transformed_data.append(x)\n",
    "    return torch.stack(transformed_data)\n",
    "\n",
    "all_train_transform = transforms.Compose([\n",
    "    transforms.RandomRotation(degrees=20),\n",
    "    transforms.RandomResizedCrop(size=(CONV_HEIGHT, CONV_WIDTH), scale=(0.9, 1.0)),\n",
    "    transforms.RandomHorizontalFlip(),\n",
    "    # transforms.ColorJitter(brightness=0.2, contrast=0.2), # You can adjust the values for brightness and contrast/\n",
    "    transforms.RandomAffine(degrees=0, translate=(0.1, 0.1), scale=None, shear=10),\n",
    "])"
   ]
  },
  {
   "cell_type": "code",
   "execution_count": 14,
   "metadata": {},
   "outputs": [],
   "source": [
    "if args.create_dataset:\n",
    "    print(X_train.shape)"
   ]
  },
  {
   "cell_type": "code",
   "execution_count": 15,
   "metadata": {},
   "outputs": [],
   "source": [
    "if args.create_dataset:\n",
    "    num_augment = 1\n",
    "    # augment_list += [apply_transforms(X_train) for _ in range(num_augment-1)]\n",
    "    X_augmented = apply_all_transforms(X_train, all_train_transform)\n",
    "    y_augmented = y_train\n",
    "\n",
    "    print(X_augmented.shape)\n",
    "    print(y_augmented.shape)\n",
    "\n",
    "    torch.save(X_augmented, 'X_augmented.pt')\n",
    "    torch.save(y_augmented, 'y_augmented.pt')\n",
    "    torch.save(X_val, 'X_val.pt')\n",
    "    torch.save(y_val, 'y_val.pt')"
   ]
  },
  {
   "cell_type": "markdown",
   "metadata": {},
   "source": [
    "### Handle Disproportionate Classes"
   ]
  },
  {
   "cell_type": "code",
   "execution_count": 16,
   "metadata": {},
   "outputs": [],
   "source": [
    "import torch\n",
    "import torch.nn as nn\n",
    "from collections import Counter\n",
    "\n",
    "def calculate_class_weights(y_train):\n",
    "    # Count the frequency of each class\n",
    "    class_counts = Counter(y_train.numpy())\n",
    "    total_samples = sum(class_counts.values())\n",
    "\n",
    "    # Calculate weights: Inverse of frequency\n",
    "    weights = {class_id: total_samples/class_counts[class_id] for class_id in class_counts}\n",
    "\n",
    "    # Convert to a list in the order of class ids\n",
    "    weights_list = [weights[i] for i in sorted(weights)]\n",
    "    return torch.tensor(weights_list, dtype=torch.float32)"
   ]
  },
  {
   "cell_type": "markdown",
   "metadata": {},
   "source": [
    "#### Define CNN Model"
   ]
  },
  {
   "cell_type": "code",
   "execution_count": 17,
   "metadata": {},
   "outputs": [],
   "source": [
    "import torch\n",
    "import torch.nn as nn\n",
    "import torch.nn.functional as F\n",
    "\n",
    "# Add skip connections \n",
    "# Number of conv. features should be correlated to number of segments\n",
    "# Other transformation types ()\n",
    "\n",
    "class DeepCNNModel(nn.Module):\n",
    "    def __init__(self, fc_size, conv_in_size, conv_hid_size, conv_out_size, dropout, num_classes=3):\n",
    "        super(DeepCNNModel, self).__init__()\n",
    "        \n",
    "        # Convolutional Block 1\n",
    "        self.conv1 = nn.Conv2d(1, conv_in_size, kernel_size=3, padding=1)  \n",
    "        self.bn1 = nn.BatchNorm2d(conv_in_size)\n",
    "        self.pool1 = nn.MaxPool2d(kernel_size=2)\n",
    "        \n",
    "        # Convolutional Block 2\n",
    "        self.conv2 = nn.Conv2d(conv_in_size, conv_hid_size, kernel_size=3, padding=1)\n",
    "        self.bn2 = nn.BatchNorm2d(conv_hid_size)\n",
    "        self.pool2 = nn.MaxPool2d(kernel_size=3)\n",
    "        \n",
    "        # Convolutional Block 3\n",
    "        self.conv3 = nn.Conv2d(conv_hid_size, conv_hid_size, kernel_size=3, padding=1)\n",
    "        self.bn3 = nn.BatchNorm2d(conv_hid_size)\n",
    "        self.pool3 = nn.MaxPool2d(kernel_size=2)\n",
    "        \n",
    "        # Convolutional Block 4\n",
    "        self.conv4 = nn.Conv2d(conv_hid_size, conv_out_size, kernel_size=3, padding=1)\n",
    "        self.bn4 = nn.BatchNorm2d(conv_out_size)\n",
    "        self.pool4 = nn.MaxPool2d(kernel_size=3)\n",
    "\n",
    "        # Compute the flattened size for the fully connected layer\n",
    "        self._to_linear = None\n",
    "        self._forward_conv(torch.randn(1, 1, 137, 167))\n",
    "\n",
    "        # Fully connected layers\n",
    "        self.fc1 = nn.Linear(self._to_linear, fc_size)\n",
    "        self.dropout1 = nn.Dropout(p=dropout)\n",
    "        self.fc2 = nn.Linear(fc_size, num_classes)\n",
    "        self.dropout2 = nn.Dropout(p=dropout)\n",
    "\n",
    "    def _forward_conv(self, x):\n",
    "        x = self.pool1(F.relu(self.bn1(self.conv1(x))))\n",
    "        x = self.pool2(F.relu(self.bn2(self.conv2(x))))\n",
    "        x = self.pool3(F.relu(self.bn3(self.conv3(x))))\n",
    "        x = self.pool4(F.relu(self.bn4(self.conv4(x))))\n",
    "        if self._to_linear is None:\n",
    "            self._to_linear = x[0].shape[0] * x[0].shape[1] * x[0].shape[2]\n",
    "        return x\n",
    "\n",
    "    def forward(self, x):\n",
    "        x = self._forward_conv(x)\n",
    "        x = x.view(-1, self._to_linear)  # Flatten the output for the fully connected layers\n",
    "        x = self.dropout1(F.relu(self.fc1(x)))\n",
    "        x = self.dropout2(self.fc2(x))\n",
    "        return F.log_softmax(x, dim=1)"
   ]
  },
  {
   "cell_type": "code",
   "execution_count": 18,
   "metadata": {},
   "outputs": [],
   "source": [
    "class FocalLoss(nn.Module):\n",
    "    def __init__(self, alpha=None, gamma=2.0, reduction='mean', num_classes=args.num_classes):\n",
    "        super(FocalLoss, self).__init__()\n",
    "        self.gamma = gamma\n",
    "        self.reduction = reduction\n",
    "        if alpha is None:\n",
    "            self.alpha = torch.ones(num_classes)\n",
    "        else:\n",
    "            if isinstance(alpha, (float, int)):\n",
    "                self.alpha = torch.ones(num_classes) * alpha\n",
    "            else:\n",
    "                self.alpha = torch.tensor(alpha)\n",
    "        self.alpha = self.alpha / self.alpha.sum()\n",
    "        self.num_classes = num_classes\n",
    "\n",
    "    def forward(self, inputs, targets):\n",
    "        # Convert targets to one-hot\n",
    "        targets_one_hot = F.one_hot(targets, num_classes=self.num_classes).to(inputs.device)\n",
    "\n",
    "        # Compute the log softmax\n",
    "        log_softmax = F.log_softmax(inputs, dim=1)\n",
    "\n",
    "        # Compute the loss per class\n",
    "        loss_per_class = -targets_one_hot * log_softmax\n",
    "\n",
    "        # Compute the focal loss factors\n",
    "        softmax_probs = torch.exp(log_softmax)\n",
    "        focal_factors = (1 - softmax_probs) ** self.gamma\n",
    "\n",
    "        # Apply alpha weighting and focal factors\n",
    "        alpha_factors = self.alpha.to(inputs.device).unsqueeze(0)\n",
    "        loss = alpha_factors * focal_factors * loss_per_class\n",
    "\n",
    "        # Sum over classes and compute the final loss based on reduction\n",
    "        loss = loss.sum(dim=1)\n",
    "        if self.reduction == 'mean':\n",
    "            return loss.mean()\n",
    "        elif self.reduction == 'sum':\n",
    "            return loss.sum()\n",
    "        else:\n",
    "            return loss"
   ]
  },
  {
   "cell_type": "code",
   "execution_count": 19,
   "metadata": {},
   "outputs": [],
   "source": [
    "import logging\n",
    "\n",
    "class WandbModelCheckpoint:\n",
    "    def __init__(self, dirpath, decreasing=False, top_n=1):\n",
    "        \"\"\"\n",
    "        dirpath: Directory path where to store all model weights \n",
    "        decreasing: If decreasing is `True`, then lower metric is better\n",
    "        top_n: Total number of models to track based on validation metric value\n",
    "        \"\"\"\n",
    "        if not os.path.exists(dirpath): os.makedirs(dirpath)\n",
    "        self.dirpath = dirpath\n",
    "        self.top_n = top_n \n",
    "        self.decreasing = decreasing\n",
    "        self.top_model_paths = []\n",
    "        self.best_metric_val = np.Inf if decreasing else -np.Inf\n",
    "        \n",
    "    def __call__(self, model, epoch, metric_val):\n",
    "        model_path = os.path.join(self.dirpath, model.__class__.__name__ + f'_epoch{epoch}.pt')\n",
    "        save = metric_val<self.best_metric_val if self.decreasing else metric_val>self.best_metric_val\n",
    "        if save: \n",
    "            logging.info(f\"Current metric value better than {metric_val} better than best {self.best_metric_val}, saving model at {model_path}, & logging model weights to W&B.\")\n",
    "            self.best_metric_val = metric_val\n",
    "            torch.save(model.state_dict(), model_path)\n",
    "            self.log_artifact(f'model-ckpt-epoch-{epoch}.pt', model_path, metric_val)\n",
    "            self.top_model_paths.append({'path': model_path, 'score': metric_val})\n",
    "            self.top_model_paths = sorted(self.top_model_paths, key=lambda o: o['score'], reverse=not self.decreasing)\n",
    "        if len(self.top_model_paths)>self.top_n: \n",
    "            self.cleanup()\n",
    "    \n",
    "    def log_artifact(self, filename, model_path, metric_val):\n",
    "        artifact = wandb.Artifact(filename, type='model', metadata={'Validation score': metric_val})\n",
    "        artifact.add_file(model_path)\n",
    "        wandb.run.log_artifact(artifact)        \n",
    "    \n",
    "    def cleanup(self):\n",
    "        to_remove = self.top_model_paths[self.top_n:]\n",
    "        logging.info(f\"Removing extra models.. {to_remove}\")\n",
    "        for o in to_remove:\n",
    "            os.remove(o['path'])\n",
    "        self.top_model_paths = self.top_model_paths[:self.top_n]"
   ]
  },
  {
   "cell_type": "code",
   "execution_count": 20,
   "metadata": {},
   "outputs": [],
   "source": [
    "checkpoint_dir = \"./model_checkpoints\"\n",
    "checkpoint = WandbModelCheckpoint(checkpoint_dir, decreasing=False, top_n=1)"
   ]
  },
  {
   "cell_type": "markdown",
   "metadata": {},
   "source": [
    "### Training and Validation"
   ]
  },
  {
   "cell_type": "code",
   "execution_count": 21,
   "metadata": {},
   "outputs": [],
   "source": [
    "import torch\n",
    "from torch.utils.data import DataLoader, TensorDataset\n",
    "import torch.optim as optim\n",
    "import torch.nn.functional as F\n",
    "\n",
    "# Training Function\n",
    "def train_model(config=None):\n",
    "    with wandb.init(config=config):\n",
    "        config = wandb.config\n",
    "        # wandb.define_metric(\"epoch\")\n",
    "        # wandb.define_metric(\"val acc\", step_metric=\"epoch\")\n",
    "        model = DeepCNNModel(config.fc_size, config.conv_in_size, config.conv_hid_size, config.conv_out_size, config.dropout, num_classes=3)\n",
    "        optimizer = optim.Adam(model.parameters(), config.lr, weight_decay=0.0001)   \n",
    "        batch_size = config.batch_size\n",
    "        \n",
    "        X_augmented = torch.load('X_augmented.pt')\n",
    "        y_augmented = torch.load('y_augmented.pt')\n",
    "        train_data = TensorDataset(X_augmented, y_augmented)\n",
    "        train_loader = DataLoader(train_data, batch_size=batch_size, shuffle=True)\n",
    "\n",
    "        X_val = torch.load('X_val.pt')\n",
    "        y_val = torch.load('y_val.pt')\n",
    "        val_data = TensorDataset(X_val, y_val)\n",
    "        val_loader = DataLoader(val_data, batch_size=batch_size)\n",
    "\n",
    "        class_weights = calculate_class_weights(y_augmented)\n",
    "        loss_function = nn.CrossEntropyLoss(weight=class_weights) if args.loss == 'cross entropy' else FocalLoss(alpha=class_weights)\n",
    "        \n",
    "        max_acc = 0\n",
    "        for epoch in range(config.max_epochs):\n",
    "            model.train()\n",
    "            total_loss = 0\n",
    "            for X_batch, y_batch in train_loader:\n",
    "                optimizer.zero_grad()\n",
    "                output = model(X_batch)\n",
    "                loss = loss_function(output, y_batch)\n",
    "                loss.backward()\n",
    "                optimizer.step()\n",
    "                batch_loss = loss.item()\n",
    "                total_loss += batch_loss\n",
    "            \n",
    "            wandb.log({\"batch loss\": loss.item()})\n",
    "            # Validation\n",
    "            model.eval()\n",
    "            with torch.no_grad():\n",
    "                correct = 0\n",
    "                total = 0\n",
    "                for X_batch, y_batch in val_loader:\n",
    "                    output = model(X_batch)\n",
    "                    _, predicted = torch.max(output.data, 1)\n",
    "                    total += y_batch.size(0)\n",
    "                    correct += (predicted == y_batch).sum().item()\n",
    "                    loss = loss_function(output, y_batch)\n",
    "                    wandb.log({\"val loss\": loss.item()})\n",
    "                    \n",
    "                acc = 100 * correct / total\n",
    "                \n",
    "                wandb.log({\"val acc\": acc})\n",
    "                if acc >= max_acc:\n",
    "                    max_acc = acc\n",
    "                    wandb.log({\"max val acc\": max_acc})\n",
    "                    checkpoint(model, epoch, acc)"
   ]
  },
  {
   "cell_type": "code",
   "execution_count": 22,
   "metadata": {},
   "outputs": [
    {
     "name": "stderr",
     "output_type": "stream",
     "text": [
      "\u001b[34m\u001b[1mwandb\u001b[0m: Agent Starting Run: 7kag5ezs with config:\n",
      "\u001b[34m\u001b[1mwandb\u001b[0m: \tbatch_size: 32\n",
      "\u001b[34m\u001b[1mwandb\u001b[0m: \tconv_hid_size: 32\n",
      "\u001b[34m\u001b[1mwandb\u001b[0m: \tconv_in_size: 32\n",
      "\u001b[34m\u001b[1mwandb\u001b[0m: \tconv_out_size: 8\n",
      "\u001b[34m\u001b[1mwandb\u001b[0m: \tdropout: 0.25\n",
      "\u001b[34m\u001b[1mwandb\u001b[0m: \tfc_size: 512\n",
      "\u001b[34m\u001b[1mwandb\u001b[0m: \thidden_size: 8\n",
      "\u001b[34m\u001b[1mwandb\u001b[0m: \tlr: 0.001\n",
      "\u001b[34m\u001b[1mwandb\u001b[0m: \tmax_epochs: 250\n",
      "Failed to detect the name of this notebook, you can set it manually with the WANDB_NOTEBOOK_NAME environment variable to enable code saving.\n"
     ]
    },
    {
     "data": {
      "text/html": [
       "Tracking run with wandb version 0.16.1"
      ],
      "text/plain": [
       "<IPython.core.display.HTML object>"
      ]
     },
     "metadata": {},
     "output_type": "display_data"
    },
    {
     "data": {
      "text/html": [
       "Run data is saved locally in <code>c:\\Users\\valen\\OneDrive\\Desktop\\CS 5785 AML\\alzheimer-classification\\notebooks\\wandb\\run-20231214_022418-7kag5ezs</code>"
      ],
      "text/plain": [
       "<IPython.core.display.HTML object>"
      ]
     },
     "metadata": {},
     "output_type": "display_data"
    },
    {
     "data": {
      "text/html": [
       "Syncing run <strong><a href='https://wandb.ai/valenetjong/2D-masked-imgs/runs/7kag5ezs' target=\"_blank\">avid-sweep-1</a></strong> to <a href='https://wandb.ai/valenetjong/2D-masked-imgs' target=\"_blank\">Weights & Biases</a> (<a href='https://wandb.me/run' target=\"_blank\">docs</a>)<br/>Sweep page: <a href='https://wandb.ai/valenetjong/2D-masked-imgs/sweeps/476ov6p8' target=\"_blank\">https://wandb.ai/valenetjong/2D-masked-imgs/sweeps/476ov6p8</a>"
      ],
      "text/plain": [
       "<IPython.core.display.HTML object>"
      ]
     },
     "metadata": {},
     "output_type": "display_data"
    },
    {
     "data": {
      "text/html": [
       " View project at <a href='https://wandb.ai/valenetjong/2D-masked-imgs' target=\"_blank\">https://wandb.ai/valenetjong/2D-masked-imgs</a>"
      ],
      "text/plain": [
       "<IPython.core.display.HTML object>"
      ]
     },
     "metadata": {},
     "output_type": "display_data"
    },
    {
     "data": {
      "text/html": [
       " View sweep at <a href='https://wandb.ai/valenetjong/2D-masked-imgs/sweeps/476ov6p8' target=\"_blank\">https://wandb.ai/valenetjong/2D-masked-imgs/sweeps/476ov6p8</a>"
      ],
      "text/plain": [
       "<IPython.core.display.HTML object>"
      ]
     },
     "metadata": {},
     "output_type": "display_data"
    },
    {
     "data": {
      "text/html": [
       " View run at <a href='https://wandb.ai/valenetjong/2D-masked-imgs/runs/7kag5ezs' target=\"_blank\">https://wandb.ai/valenetjong/2D-masked-imgs/runs/7kag5ezs</a>"
      ],
      "text/plain": [
       "<IPython.core.display.HTML object>"
      ]
     },
     "metadata": {},
     "output_type": "display_data"
    },
    {
     "data": {
      "application/vnd.jupyter.widget-view+json": {
       "model_id": "86652a2907314068ad84c03a4ef9ab70",
       "version_major": 2,
       "version_minor": 0
      },
      "text/plain": [
       "VBox(children=(Label(value='0.861 MB of 0.875 MB uploaded\\r'), FloatProgress(value=0.9843679834676874, max=1.0…"
      ]
     },
     "metadata": {},
     "output_type": "display_data"
    },
    {
     "data": {
      "text/html": [
       "<style>\n",
       "    table.wandb td:nth-child(1) { padding: 0 10px; text-align: left ; width: auto;} td:nth-child(2) {text-align: left ; width: 100%}\n",
       "    .wandb-row { display: flex; flex-direction: row; flex-wrap: wrap; justify-content: flex-start; width: 100% }\n",
       "    .wandb-col { display: flex; flex-direction: column; flex-basis: 100%; flex: 1; padding: 10px; }\n",
       "    </style>\n",
       "<div class=\"wandb-row\"><div class=\"wandb-col\"><h3>Run history:</h3><br/><table class=\"wandb\"><tr><td>batch loss</td><td>█▅▂▂▂▁▁▁▁▂▁▁▁▁▂▁▂▁▁▂▂▁▁▁▂▁▁▁▁▁▁▁▂▃▂▁▁▂▂▁</td></tr><tr><td>max val acc</td><td>▁▁▁▂██</td></tr><tr><td>val acc</td><td>▅█▁▄▅▅▅▅▅▅▅▄▅▅▄▄▅▄▅▃▅▅▅▃▄▄▄▄▄▅▅▅▅▄▄▄▅▅▄▅</td></tr><tr><td>val loss</td><td>▂▁▁▂▂▃▃▂▅▄▄▄▅▅▄▄▄▅▆▄▆▇▆▅▆▆▆▆▆▆▇▇▆▆▇▆▆█▆▇</td></tr></table><br/></div><div class=\"wandb-col\"><h3>Run summary:</h3><br/><table class=\"wandb\"><tr><td>batch loss</td><td>0.11038</td></tr><tr><td>max val acc</td><td>68.08511</td></tr><tr><td>val acc</td><td>57.44681</td></tr><tr><td>val loss</td><td>2.63053</td></tr></table><br/></div></div>"
      ],
      "text/plain": [
       "<IPython.core.display.HTML object>"
      ]
     },
     "metadata": {},
     "output_type": "display_data"
    },
    {
     "data": {
      "text/html": [
       " View run <strong style=\"color:#cdcd00\">avid-sweep-1</strong> at: <a href='https://wandb.ai/valenetjong/2D-masked-imgs/runs/7kag5ezs' target=\"_blank\">https://wandb.ai/valenetjong/2D-masked-imgs/runs/7kag5ezs</a><br/>Synced 5 W&B file(s), 0 media file(s), 3 artifact file(s) and 0 other file(s)"
      ],
      "text/plain": [
       "<IPython.core.display.HTML object>"
      ]
     },
     "metadata": {},
     "output_type": "display_data"
    },
    {
     "data": {
      "text/html": [
       "Find logs at: <code>.\\wandb\\run-20231214_022418-7kag5ezs\\logs</code>"
      ],
      "text/plain": [
       "<IPython.core.display.HTML object>"
      ]
     },
     "metadata": {},
     "output_type": "display_data"
    },
    {
     "name": "stderr",
     "output_type": "stream",
     "text": [
      "\u001b[34m\u001b[1mwandb\u001b[0m: Agent Starting Run: ln89unni with config:\n",
      "\u001b[34m\u001b[1mwandb\u001b[0m: \tbatch_size: 48\n",
      "\u001b[34m\u001b[1mwandb\u001b[0m: \tconv_hid_size: 32\n",
      "\u001b[34m\u001b[1mwandb\u001b[0m: \tconv_in_size: 64\n",
      "\u001b[34m\u001b[1mwandb\u001b[0m: \tconv_out_size: 8\n",
      "\u001b[34m\u001b[1mwandb\u001b[0m: \tdropout: 0.25\n",
      "\u001b[34m\u001b[1mwandb\u001b[0m: \tfc_size: 512\n",
      "\u001b[34m\u001b[1mwandb\u001b[0m: \thidden_size: 8\n",
      "\u001b[34m\u001b[1mwandb\u001b[0m: \tlr: 0.001\n",
      "\u001b[34m\u001b[1mwandb\u001b[0m: \tmax_epochs: 250\n",
      "Failed to detect the name of this notebook, you can set it manually with the WANDB_NOTEBOOK_NAME environment variable to enable code saving.\n"
     ]
    },
    {
     "data": {
      "text/html": [
       "Tracking run with wandb version 0.16.1"
      ],
      "text/plain": [
       "<IPython.core.display.HTML object>"
      ]
     },
     "metadata": {},
     "output_type": "display_data"
    },
    {
     "data": {
      "text/html": [
       "Run data is saved locally in <code>c:\\Users\\valen\\OneDrive\\Desktop\\CS 5785 AML\\alzheimer-classification\\notebooks\\wandb\\run-20231214_023109-ln89unni</code>"
      ],
      "text/plain": [
       "<IPython.core.display.HTML object>"
      ]
     },
     "metadata": {},
     "output_type": "display_data"
    },
    {
     "data": {
      "text/html": [
       "Syncing run <strong><a href='https://wandb.ai/valenetjong/2D-masked-imgs/runs/ln89unni' target=\"_blank\">dandy-sweep-2</a></strong> to <a href='https://wandb.ai/valenetjong/2D-masked-imgs' target=\"_blank\">Weights & Biases</a> (<a href='https://wandb.me/run' target=\"_blank\">docs</a>)<br/>Sweep page: <a href='https://wandb.ai/valenetjong/2D-masked-imgs/sweeps/476ov6p8' target=\"_blank\">https://wandb.ai/valenetjong/2D-masked-imgs/sweeps/476ov6p8</a>"
      ],
      "text/plain": [
       "<IPython.core.display.HTML object>"
      ]
     },
     "metadata": {},
     "output_type": "display_data"
    },
    {
     "data": {
      "text/html": [
       " View project at <a href='https://wandb.ai/valenetjong/2D-masked-imgs' target=\"_blank\">https://wandb.ai/valenetjong/2D-masked-imgs</a>"
      ],
      "text/plain": [
       "<IPython.core.display.HTML object>"
      ]
     },
     "metadata": {},
     "output_type": "display_data"
    },
    {
     "data": {
      "text/html": [
       " View sweep at <a href='https://wandb.ai/valenetjong/2D-masked-imgs/sweeps/476ov6p8' target=\"_blank\">https://wandb.ai/valenetjong/2D-masked-imgs/sweeps/476ov6p8</a>"
      ],
      "text/plain": [
       "<IPython.core.display.HTML object>"
      ]
     },
     "metadata": {},
     "output_type": "display_data"
    },
    {
     "data": {
      "text/html": [
       " View run at <a href='https://wandb.ai/valenetjong/2D-masked-imgs/runs/ln89unni' target=\"_blank\">https://wandb.ai/valenetjong/2D-masked-imgs/runs/ln89unni</a>"
      ],
      "text/plain": [
       "<IPython.core.display.HTML object>"
      ]
     },
     "metadata": {},
     "output_type": "display_data"
    },
    {
     "data": {
      "application/vnd.jupyter.widget-view+json": {
       "model_id": "e9cfc37667384e6fb64a9894747bbdae",
       "version_major": 2,
       "version_minor": 0
      },
      "text/plain": [
       "VBox(children=(Label(value='0.015 MB of 0.015 MB uploaded\\r'), FloatProgress(value=1.0, max=1.0)))"
      ]
     },
     "metadata": {},
     "output_type": "display_data"
    },
    {
     "data": {
      "text/html": [
       "<style>\n",
       "    table.wandb td:nth-child(1) { padding: 0 10px; text-align: left ; width: auto;} td:nth-child(2) {text-align: left ; width: 100%}\n",
       "    .wandb-row { display: flex; flex-direction: row; flex-wrap: wrap; justify-content: flex-start; width: 100% }\n",
       "    .wandb-col { display: flex; flex-direction: column; flex-basis: 100%; flex: 1; padding: 10px; }\n",
       "    </style>\n",
       "<div class=\"wandb-row\"><div class=\"wandb-col\"><h3>Run history:</h3><br/><table class=\"wandb\"><tr><td>batch loss</td><td>█▅▃▂▁▂▁▁▁▁▁▁▁▁▁▂▁▂▁▂▁▂▁▁▁▁▂▁▂▂▁▂▁▁▁▁▁▁▁▁</td></tr><tr><td>max val acc</td><td>▁▁▁▂▂▄▄▅▇███</td></tr><tr><td>val acc</td><td>▅▂▁▄▇▆▇▇▇▇▇▇▇█▇▇▇▇▇▆▇▇▇▇▆▇▇▇▇▇▇▇▇▇▇▇▇▆▇▇</td></tr><tr><td>val loss</td><td>▁▁▁▆▃▂▄▄▄▄▅▆▆▇▇▆▇▇▇██▇▇▇▇█▇█▇▇▇▇▇█▇█▇█▇▇</td></tr></table><br/></div><div class=\"wandb-col\"><h3>Run summary:</h3><br/><table class=\"wandb\"><tr><td>batch loss</td><td>0.09813</td></tr><tr><td>max val acc</td><td>68.08511</td></tr><tr><td>val acc</td><td>59.57447</td></tr><tr><td>val loss</td><td>2.47455</td></tr></table><br/></div></div>"
      ],
      "text/plain": [
       "<IPython.core.display.HTML object>"
      ]
     },
     "metadata": {},
     "output_type": "display_data"
    },
    {
     "data": {
      "text/html": [
       " View run <strong style=\"color:#cdcd00\">dandy-sweep-2</strong> at: <a href='https://wandb.ai/valenetjong/2D-masked-imgs/runs/ln89unni' target=\"_blank\">https://wandb.ai/valenetjong/2D-masked-imgs/runs/ln89unni</a><br/>Synced 5 W&B file(s), 0 media file(s), 0 artifact file(s) and 0 other file(s)"
      ],
      "text/plain": [
       "<IPython.core.display.HTML object>"
      ]
     },
     "metadata": {},
     "output_type": "display_data"
    },
    {
     "data": {
      "text/html": [
       "Find logs at: <code>.\\wandb\\run-20231214_023109-ln89unni\\logs</code>"
      ],
      "text/plain": [
       "<IPython.core.display.HTML object>"
      ]
     },
     "metadata": {},
     "output_type": "display_data"
    },
    {
     "name": "stderr",
     "output_type": "stream",
     "text": [
      "\u001b[34m\u001b[1mwandb\u001b[0m: Sweep Agent: Waiting for job.\n",
      "\u001b[34m\u001b[1mwandb\u001b[0m: Job received.\n",
      "\u001b[34m\u001b[1mwandb\u001b[0m: Agent Starting Run: 579o0yr3 with config:\n",
      "\u001b[34m\u001b[1mwandb\u001b[0m: \tbatch_size: 32\n",
      "\u001b[34m\u001b[1mwandb\u001b[0m: \tconv_hid_size: 16\n",
      "\u001b[34m\u001b[1mwandb\u001b[0m: \tconv_in_size: 256\n",
      "\u001b[34m\u001b[1mwandb\u001b[0m: \tconv_out_size: 32\n",
      "\u001b[34m\u001b[1mwandb\u001b[0m: \tdropout: 0.2\n",
      "\u001b[34m\u001b[1mwandb\u001b[0m: \tfc_size: 256\n",
      "\u001b[34m\u001b[1mwandb\u001b[0m: \thidden_size: 16\n",
      "\u001b[34m\u001b[1mwandb\u001b[0m: \tlr: 0.0001\n",
      "\u001b[34m\u001b[1mwandb\u001b[0m: \tmax_epochs: 250\n",
      "Failed to detect the name of this notebook, you can set it manually with the WANDB_NOTEBOOK_NAME environment variable to enable code saving.\n"
     ]
    },
    {
     "data": {
      "text/html": [
       "Tracking run with wandb version 0.16.1"
      ],
      "text/plain": [
       "<IPython.core.display.HTML object>"
      ]
     },
     "metadata": {},
     "output_type": "display_data"
    },
    {
     "data": {
      "text/html": [
       "Run data is saved locally in <code>c:\\Users\\valen\\OneDrive\\Desktop\\CS 5785 AML\\alzheimer-classification\\notebooks\\wandb\\run-20231214_024209-579o0yr3</code>"
      ],
      "text/plain": [
       "<IPython.core.display.HTML object>"
      ]
     },
     "metadata": {},
     "output_type": "display_data"
    },
    {
     "data": {
      "text/html": [
       "Syncing run <strong><a href='https://wandb.ai/valenetjong/2D-masked-imgs/runs/579o0yr3' target=\"_blank\">youthful-sweep-3</a></strong> to <a href='https://wandb.ai/valenetjong/2D-masked-imgs' target=\"_blank\">Weights & Biases</a> (<a href='https://wandb.me/run' target=\"_blank\">docs</a>)<br/>Sweep page: <a href='https://wandb.ai/valenetjong/2D-masked-imgs/sweeps/476ov6p8' target=\"_blank\">https://wandb.ai/valenetjong/2D-masked-imgs/sweeps/476ov6p8</a>"
      ],
      "text/plain": [
       "<IPython.core.display.HTML object>"
      ]
     },
     "metadata": {},
     "output_type": "display_data"
    },
    {
     "data": {
      "text/html": [
       " View project at <a href='https://wandb.ai/valenetjong/2D-masked-imgs' target=\"_blank\">https://wandb.ai/valenetjong/2D-masked-imgs</a>"
      ],
      "text/plain": [
       "<IPython.core.display.HTML object>"
      ]
     },
     "metadata": {},
     "output_type": "display_data"
    },
    {
     "data": {
      "text/html": [
       " View sweep at <a href='https://wandb.ai/valenetjong/2D-masked-imgs/sweeps/476ov6p8' target=\"_blank\">https://wandb.ai/valenetjong/2D-masked-imgs/sweeps/476ov6p8</a>"
      ],
      "text/plain": [
       "<IPython.core.display.HTML object>"
      ]
     },
     "metadata": {},
     "output_type": "display_data"
    },
    {
     "data": {
      "text/html": [
       " View run at <a href='https://wandb.ai/valenetjong/2D-masked-imgs/runs/579o0yr3' target=\"_blank\">https://wandb.ai/valenetjong/2D-masked-imgs/runs/579o0yr3</a>"
      ],
      "text/plain": [
       "<IPython.core.display.HTML object>"
      ]
     },
     "metadata": {},
     "output_type": "display_data"
    },
    {
     "data": {
      "application/vnd.jupyter.widget-view+json": {
       "model_id": "e741f3fcac3c4400a321d321ea26e1af",
       "version_major": 2,
       "version_minor": 0
      },
      "text/plain": [
       "VBox(children=(Label(value='0.001 MB of 0.015 MB uploaded\\r'), FloatProgress(value=0.08970942773759676, max=1.…"
      ]
     },
     "metadata": {},
     "output_type": "display_data"
    },
    {
     "data": {
      "text/html": [
       "<style>\n",
       "    table.wandb td:nth-child(1) { padding: 0 10px; text-align: left ; width: auto;} td:nth-child(2) {text-align: left ; width: 100%}\n",
       "    .wandb-row { display: flex; flex-direction: row; flex-wrap: wrap; justify-content: flex-start; width: 100% }\n",
       "    .wandb-col { display: flex; flex-direction: column; flex-basis: 100%; flex: 1; padding: 10px; }\n",
       "    </style>\n",
       "<div class=\"wandb-row\"><div class=\"wandb-col\"><h3>Run history:</h3><br/><table class=\"wandb\"><tr><td>batch loss</td><td>█▇▆▆▅▅▃▃▂▂▂▂▁▁▁▂▂▁▁▁▁▂▁▁▁▁▁▁▁▂▂▁▁▁▁▁▁▁▁▁</td></tr><tr><td>max val acc</td><td>▁▁▁▁▁▁▁▁▁▃████</td></tr><tr><td>val acc</td><td>▆▆▁▃▃▁▆▅█▆▆█▇▅█▃▇▃▇▇▇▃█▆▇▅▆▅█▇▇▃▇▆▇▇█▇▇▅</td></tr><tr><td>val loss</td><td>▂▂▁▁▁▁▁▁▁▂▂▂▂▂▂▄▂▃▃▃▂▄▃▂▃█▃▄▄▄▃▅▅▃▄▃▄▄▃▅</td></tr></table><br/></div><div class=\"wandb-col\"><h3>Run summary:</h3><br/><table class=\"wandb\"><tr><td>batch loss</td><td>0.11386</td></tr><tr><td>max val acc</td><td>63.82979</td></tr><tr><td>val acc</td><td>59.57447</td></tr><tr><td>val loss</td><td>1.70018</td></tr></table><br/></div></div>"
      ],
      "text/plain": [
       "<IPython.core.display.HTML object>"
      ]
     },
     "metadata": {},
     "output_type": "display_data"
    },
    {
     "data": {
      "text/html": [
       " View run <strong style=\"color:#cdcd00\">youthful-sweep-3</strong> at: <a href='https://wandb.ai/valenetjong/2D-masked-imgs/runs/579o0yr3' target=\"_blank\">https://wandb.ai/valenetjong/2D-masked-imgs/runs/579o0yr3</a><br/>Synced 5 W&B file(s), 0 media file(s), 0 artifact file(s) and 0 other file(s)"
      ],
      "text/plain": [
       "<IPython.core.display.HTML object>"
      ]
     },
     "metadata": {},
     "output_type": "display_data"
    },
    {
     "data": {
      "text/html": [
       "Find logs at: <code>.\\wandb\\run-20231214_024209-579o0yr3\\logs</code>"
      ],
      "text/plain": [
       "<IPython.core.display.HTML object>"
      ]
     },
     "metadata": {},
     "output_type": "display_data"
    },
    {
     "name": "stderr",
     "output_type": "stream",
     "text": [
      "\u001b[34m\u001b[1mwandb\u001b[0m: Agent Starting Run: wshencnk with config:\n",
      "\u001b[34m\u001b[1mwandb\u001b[0m: \tbatch_size: 40\n",
      "\u001b[34m\u001b[1mwandb\u001b[0m: \tconv_hid_size: 32\n",
      "\u001b[34m\u001b[1mwandb\u001b[0m: \tconv_in_size: 64\n",
      "\u001b[34m\u001b[1mwandb\u001b[0m: \tconv_out_size: 8\n",
      "\u001b[34m\u001b[1mwandb\u001b[0m: \tdropout: 0.25\n",
      "\u001b[34m\u001b[1mwandb\u001b[0m: \tfc_size: 512\n",
      "\u001b[34m\u001b[1mwandb\u001b[0m: \thidden_size: 8\n",
      "\u001b[34m\u001b[1mwandb\u001b[0m: \tlr: 0.001\n",
      "\u001b[34m\u001b[1mwandb\u001b[0m: \tmax_epochs: 250\n",
      "Failed to detect the name of this notebook, you can set it manually with the WANDB_NOTEBOOK_NAME environment variable to enable code saving.\n"
     ]
    },
    {
     "data": {
      "text/html": [
       "Tracking run with wandb version 0.16.1"
      ],
      "text/plain": [
       "<IPython.core.display.HTML object>"
      ]
     },
     "metadata": {},
     "output_type": "display_data"
    },
    {
     "data": {
      "text/html": [
       "Run data is saved locally in <code>c:\\Users\\valen\\OneDrive\\Desktop\\CS 5785 AML\\alzheimer-classification\\notebooks\\wandb\\run-20231214_031750-wshencnk</code>"
      ],
      "text/plain": [
       "<IPython.core.display.HTML object>"
      ]
     },
     "metadata": {},
     "output_type": "display_data"
    },
    {
     "data": {
      "text/html": [
       "Syncing run <strong><a href='https://wandb.ai/valenetjong/2D-masked-imgs/runs/wshencnk' target=\"_blank\">curious-sweep-4</a></strong> to <a href='https://wandb.ai/valenetjong/2D-masked-imgs' target=\"_blank\">Weights & Biases</a> (<a href='https://wandb.me/run' target=\"_blank\">docs</a>)<br/>Sweep page: <a href='https://wandb.ai/valenetjong/2D-masked-imgs/sweeps/476ov6p8' target=\"_blank\">https://wandb.ai/valenetjong/2D-masked-imgs/sweeps/476ov6p8</a>"
      ],
      "text/plain": [
       "<IPython.core.display.HTML object>"
      ]
     },
     "metadata": {},
     "output_type": "display_data"
    },
    {
     "data": {
      "text/html": [
       " View project at <a href='https://wandb.ai/valenetjong/2D-masked-imgs' target=\"_blank\">https://wandb.ai/valenetjong/2D-masked-imgs</a>"
      ],
      "text/plain": [
       "<IPython.core.display.HTML object>"
      ]
     },
     "metadata": {},
     "output_type": "display_data"
    },
    {
     "data": {
      "text/html": [
       " View sweep at <a href='https://wandb.ai/valenetjong/2D-masked-imgs/sweeps/476ov6p8' target=\"_blank\">https://wandb.ai/valenetjong/2D-masked-imgs/sweeps/476ov6p8</a>"
      ],
      "text/plain": [
       "<IPython.core.display.HTML object>"
      ]
     },
     "metadata": {},
     "output_type": "display_data"
    },
    {
     "data": {
      "text/html": [
       " View run at <a href='https://wandb.ai/valenetjong/2D-masked-imgs/runs/wshencnk' target=\"_blank\">https://wandb.ai/valenetjong/2D-masked-imgs/runs/wshencnk</a>"
      ],
      "text/plain": [
       "<IPython.core.display.HTML object>"
      ]
     },
     "metadata": {},
     "output_type": "display_data"
    },
    {
     "data": {
      "application/vnd.jupyter.widget-view+json": {
       "model_id": "7514f2cdf9c3425bbdb571f5726de70a",
       "version_major": 2,
       "version_minor": 0
      },
      "text/plain": [
       "VBox(children=(Label(value='0.001 MB of 0.015 MB uploaded\\r'), FloatProgress(value=0.0897549828614955, max=1.0…"
      ]
     },
     "metadata": {},
     "output_type": "display_data"
    },
    {
     "data": {
      "text/html": [
       "<style>\n",
       "    table.wandb td:nth-child(1) { padding: 0 10px; text-align: left ; width: auto;} td:nth-child(2) {text-align: left ; width: 100%}\n",
       "    .wandb-row { display: flex; flex-direction: row; flex-wrap: wrap; justify-content: flex-start; width: 100% }\n",
       "    .wandb-col { display: flex; flex-direction: column; flex-basis: 100%; flex: 1; padding: 10px; }\n",
       "    </style>\n",
       "<div class=\"wandb-row\"><div class=\"wandb-col\"><h3>Run history:</h3><br/><table class=\"wandb\"><tr><td>batch loss</td><td>█▅▂▁▁▁▂▁▂▂▂▁▂▁▁▁▁▁▂▁▁▂▂▁▁▁▁▁▁▁▁▁▁▂▂▁▁▂▁▁</td></tr><tr><td>max val acc</td><td>▁▁▁▁▁▇▇█████</td></tr><tr><td>val acc</td><td>▁▆█▆▅▆▆▅▆▆▆▆▆▅▆▅▆▆▆▆▆▅▅▅▆▆▅▅▆▅▅▆▆▆▆▅▅▆▆▅</td></tr><tr><td>val loss</td><td>▁▂▂▄▄▅▅▅▆▆▆▇▇▇▇▇▇▇▇█▇▇██████▇███▇█▇█████</td></tr></table><br/></div><div class=\"wandb-col\"><h3>Run summary:</h3><br/><table class=\"wandb\"><tr><td>batch loss</td><td>0.13032</td></tr><tr><td>max val acc</td><td>59.57447</td></tr><tr><td>val acc</td><td>51.06383</td></tr><tr><td>val loss</td><td>4.38878</td></tr></table><br/></div></div>"
      ],
      "text/plain": [
       "<IPython.core.display.HTML object>"
      ]
     },
     "metadata": {},
     "output_type": "display_data"
    },
    {
     "data": {
      "text/html": [
       " View run <strong style=\"color:#cdcd00\">curious-sweep-4</strong> at: <a href='https://wandb.ai/valenetjong/2D-masked-imgs/runs/wshencnk' target=\"_blank\">https://wandb.ai/valenetjong/2D-masked-imgs/runs/wshencnk</a><br/>Synced 5 W&B file(s), 0 media file(s), 0 artifact file(s) and 0 other file(s)"
      ],
      "text/plain": [
       "<IPython.core.display.HTML object>"
      ]
     },
     "metadata": {},
     "output_type": "display_data"
    },
    {
     "data": {
      "text/html": [
       "Find logs at: <code>.\\wandb\\run-20231214_031750-wshencnk\\logs</code>"
      ],
      "text/plain": [
       "<IPython.core.display.HTML object>"
      ]
     },
     "metadata": {},
     "output_type": "display_data"
    },
    {
     "name": "stderr",
     "output_type": "stream",
     "text": [
      "\u001b[34m\u001b[1mwandb\u001b[0m: Agent Starting Run: cqbkmkm9 with config:\n",
      "\u001b[34m\u001b[1mwandb\u001b[0m: \tbatch_size: 40\n",
      "\u001b[34m\u001b[1mwandb\u001b[0m: \tconv_hid_size: 32\n",
      "\u001b[34m\u001b[1mwandb\u001b[0m: \tconv_in_size: 256\n",
      "\u001b[34m\u001b[1mwandb\u001b[0m: \tconv_out_size: 16\n",
      "\u001b[34m\u001b[1mwandb\u001b[0m: \tdropout: 0.2\n",
      "\u001b[34m\u001b[1mwandb\u001b[0m: \tfc_size: 32\n",
      "\u001b[34m\u001b[1mwandb\u001b[0m: \thidden_size: 8\n",
      "\u001b[34m\u001b[1mwandb\u001b[0m: \tlr: 0.001\n",
      "\u001b[34m\u001b[1mwandb\u001b[0m: \tmax_epochs: 250\n",
      "Failed to detect the name of this notebook, you can set it manually with the WANDB_NOTEBOOK_NAME environment variable to enable code saving.\n"
     ]
    },
    {
     "data": {
      "text/html": [
       "Tracking run with wandb version 0.16.1"
      ],
      "text/plain": [
       "<IPython.core.display.HTML object>"
      ]
     },
     "metadata": {},
     "output_type": "display_data"
    },
    {
     "data": {
      "text/html": [
       "Run data is saved locally in <code>c:\\Users\\valen\\OneDrive\\Desktop\\CS 5785 AML\\alzheimer-classification\\notebooks\\wandb\\run-20231214_032908-cqbkmkm9</code>"
      ],
      "text/plain": [
       "<IPython.core.display.HTML object>"
      ]
     },
     "metadata": {},
     "output_type": "display_data"
    },
    {
     "data": {
      "text/html": [
       "Syncing run <strong><a href='https://wandb.ai/valenetjong/2D-masked-imgs/runs/cqbkmkm9' target=\"_blank\">rose-sweep-5</a></strong> to <a href='https://wandb.ai/valenetjong/2D-masked-imgs' target=\"_blank\">Weights & Biases</a> (<a href='https://wandb.me/run' target=\"_blank\">docs</a>)<br/>Sweep page: <a href='https://wandb.ai/valenetjong/2D-masked-imgs/sweeps/476ov6p8' target=\"_blank\">https://wandb.ai/valenetjong/2D-masked-imgs/sweeps/476ov6p8</a>"
      ],
      "text/plain": [
       "<IPython.core.display.HTML object>"
      ]
     },
     "metadata": {},
     "output_type": "display_data"
    },
    {
     "data": {
      "text/html": [
       " View project at <a href='https://wandb.ai/valenetjong/2D-masked-imgs' target=\"_blank\">https://wandb.ai/valenetjong/2D-masked-imgs</a>"
      ],
      "text/plain": [
       "<IPython.core.display.HTML object>"
      ]
     },
     "metadata": {},
     "output_type": "display_data"
    },
    {
     "data": {
      "text/html": [
       " View sweep at <a href='https://wandb.ai/valenetjong/2D-masked-imgs/sweeps/476ov6p8' target=\"_blank\">https://wandb.ai/valenetjong/2D-masked-imgs/sweeps/476ov6p8</a>"
      ],
      "text/plain": [
       "<IPython.core.display.HTML object>"
      ]
     },
     "metadata": {},
     "output_type": "display_data"
    },
    {
     "data": {
      "text/html": [
       " View run at <a href='https://wandb.ai/valenetjong/2D-masked-imgs/runs/cqbkmkm9' target=\"_blank\">https://wandb.ai/valenetjong/2D-masked-imgs/runs/cqbkmkm9</a>"
      ],
      "text/plain": [
       "<IPython.core.display.HTML object>"
      ]
     },
     "metadata": {},
     "output_type": "display_data"
    },
    {
     "data": {
      "application/vnd.jupyter.widget-view+json": {
       "model_id": "95cc88ad74d84c03b70dbeced897e70d",
       "version_major": 2,
       "version_minor": 0
      },
      "text/plain": [
       "VBox(children=(Label(value='0.780 MB of 0.780 MB uploaded\\r'), FloatProgress(value=1.0, max=1.0)))"
      ]
     },
     "metadata": {},
     "output_type": "display_data"
    },
    {
     "data": {
      "text/html": [
       "<style>\n",
       "    table.wandb td:nth-child(1) { padding: 0 10px; text-align: left ; width: auto;} td:nth-child(2) {text-align: left ; width: 100%}\n",
       "    .wandb-row { display: flex; flex-direction: row; flex-wrap: wrap; justify-content: flex-start; width: 100% }\n",
       "    .wandb-col { display: flex; flex-direction: column; flex-basis: 100%; flex: 1; padding: 10px; }\n",
       "    </style>\n",
       "<div class=\"wandb-row\"><div class=\"wandb-col\"><h3>Run history:</h3><br/><table class=\"wandb\"><tr><td>batch loss</td><td>█▇▅▃▃▂▂▂▂▃▂▂▁▁▂▁▁▁▁▁▁▁▁▁▁▁▂▁▂▁▁▁▁▁▁▁▁▁▁▁</td></tr><tr><td>max val acc</td><td>▁▁▂▆▆▇▇▇███████</td></tr><tr><td>val acc</td><td>▂▆▆▇█▇█▃▇▁▇▆▇▇▆█▇▇▇▇█▅▆█▆█▇▆▇█▆█▇▇█▇▇█▅▇</td></tr><tr><td>val loss</td><td>▁▁▁▁▁▂▂▂▃▃▁▃▃▃▃▅▃▃▃▄▃▅▃▄▄▅▆▅▆▇▃▆▅▅▆▃▅▄█▄</td></tr></table><br/></div><div class=\"wandb-col\"><h3>Run summary:</h3><br/><table class=\"wandb\"><tr><td>batch loss</td><td>0.01558</td></tr><tr><td>max val acc</td><td>72.34043</td></tr><tr><td>val acc</td><td>63.82979</td></tr><tr><td>val loss</td><td>2.81182</td></tr></table><br/></div></div>"
      ],
      "text/plain": [
       "<IPython.core.display.HTML object>"
      ]
     },
     "metadata": {},
     "output_type": "display_data"
    },
    {
     "data": {
      "text/html": [
       " View run <strong style=\"color:#cdcd00\">rose-sweep-5</strong> at: <a href='https://wandb.ai/valenetjong/2D-masked-imgs/runs/cqbkmkm9' target=\"_blank\">https://wandb.ai/valenetjong/2D-masked-imgs/runs/cqbkmkm9</a><br/>Synced 5 W&B file(s), 0 media file(s), 2 artifact file(s) and 0 other file(s)"
      ],
      "text/plain": [
       "<IPython.core.display.HTML object>"
      ]
     },
     "metadata": {},
     "output_type": "display_data"
    },
    {
     "data": {
      "text/html": [
       "Find logs at: <code>.\\wandb\\run-20231214_032908-cqbkmkm9\\logs</code>"
      ],
      "text/plain": [
       "<IPython.core.display.HTML object>"
      ]
     },
     "metadata": {},
     "output_type": "display_data"
    },
    {
     "name": "stderr",
     "output_type": "stream",
     "text": [
      "\u001b[34m\u001b[1mwandb\u001b[0m: Agent Starting Run: famxyq07 with config:\n",
      "\u001b[34m\u001b[1mwandb\u001b[0m: \tbatch_size: 16\n",
      "\u001b[34m\u001b[1mwandb\u001b[0m: \tconv_hid_size: 16\n",
      "\u001b[34m\u001b[1mwandb\u001b[0m: \tconv_in_size: 32\n",
      "\u001b[34m\u001b[1mwandb\u001b[0m: \tconv_out_size: 8\n",
      "\u001b[34m\u001b[1mwandb\u001b[0m: \tdropout: 0.2\n",
      "\u001b[34m\u001b[1mwandb\u001b[0m: \tfc_size: 64\n",
      "\u001b[34m\u001b[1mwandb\u001b[0m: \thidden_size: 16\n",
      "\u001b[34m\u001b[1mwandb\u001b[0m: \tlr: 0.001\n",
      "\u001b[34m\u001b[1mwandb\u001b[0m: \tmax_epochs: 250\n",
      "Failed to detect the name of this notebook, you can set it manually with the WANDB_NOTEBOOK_NAME environment variable to enable code saving.\n"
     ]
    },
    {
     "data": {
      "text/html": [
       "Tracking run with wandb version 0.16.1"
      ],
      "text/plain": [
       "<IPython.core.display.HTML object>"
      ]
     },
     "metadata": {},
     "output_type": "display_data"
    },
    {
     "data": {
      "text/html": [
       "Run data is saved locally in <code>c:\\Users\\valen\\OneDrive\\Desktop\\CS 5785 AML\\alzheimer-classification\\notebooks\\wandb\\run-20231214_040734-famxyq07</code>"
      ],
      "text/plain": [
       "<IPython.core.display.HTML object>"
      ]
     },
     "metadata": {},
     "output_type": "display_data"
    },
    {
     "data": {
      "text/html": [
       "Syncing run <strong><a href='https://wandb.ai/valenetjong/2D-masked-imgs/runs/famxyq07' target=\"_blank\">dainty-sweep-6</a></strong> to <a href='https://wandb.ai/valenetjong/2D-masked-imgs' target=\"_blank\">Weights & Biases</a> (<a href='https://wandb.me/run' target=\"_blank\">docs</a>)<br/>Sweep page: <a href='https://wandb.ai/valenetjong/2D-masked-imgs/sweeps/476ov6p8' target=\"_blank\">https://wandb.ai/valenetjong/2D-masked-imgs/sweeps/476ov6p8</a>"
      ],
      "text/plain": [
       "<IPython.core.display.HTML object>"
      ]
     },
     "metadata": {},
     "output_type": "display_data"
    },
    {
     "data": {
      "text/html": [
       " View project at <a href='https://wandb.ai/valenetjong/2D-masked-imgs' target=\"_blank\">https://wandb.ai/valenetjong/2D-masked-imgs</a>"
      ],
      "text/plain": [
       "<IPython.core.display.HTML object>"
      ]
     },
     "metadata": {},
     "output_type": "display_data"
    },
    {
     "data": {
      "text/html": [
       " View sweep at <a href='https://wandb.ai/valenetjong/2D-masked-imgs/sweeps/476ov6p8' target=\"_blank\">https://wandb.ai/valenetjong/2D-masked-imgs/sweeps/476ov6p8</a>"
      ],
      "text/plain": [
       "<IPython.core.display.HTML object>"
      ]
     },
     "metadata": {},
     "output_type": "display_data"
    },
    {
     "data": {
      "text/html": [
       " View run at <a href='https://wandb.ai/valenetjong/2D-masked-imgs/runs/famxyq07' target=\"_blank\">https://wandb.ai/valenetjong/2D-masked-imgs/runs/famxyq07</a>"
      ],
      "text/plain": [
       "<IPython.core.display.HTML object>"
      ]
     },
     "metadata": {},
     "output_type": "display_data"
    },
    {
     "data": {
      "application/vnd.jupyter.widget-view+json": {
       "model_id": "b9a69613d59f42cf8d5e580c3863cd9b",
       "version_major": 2,
       "version_minor": 0
      },
      "text/plain": [
       "VBox(children=(Label(value='0.001 MB of 0.015 MB uploaded\\r'), FloatProgress(value=0.08976068050530057, max=1.…"
      ]
     },
     "metadata": {},
     "output_type": "display_data"
    },
    {
     "data": {
      "text/html": [
       "<style>\n",
       "    table.wandb td:nth-child(1) { padding: 0 10px; text-align: left ; width: auto;} td:nth-child(2) {text-align: left ; width: 100%}\n",
       "    .wandb-row { display: flex; flex-direction: row; flex-wrap: wrap; justify-content: flex-start; width: 100% }\n",
       "    .wandb-col { display: flex; flex-direction: column; flex-basis: 100%; flex: 1; padding: 10px; }\n",
       "    </style>\n",
       "<div class=\"wandb-row\"><div class=\"wandb-col\"><h3>Run history:</h3><br/><table class=\"wandb\"><tr><td>batch loss</td><td>█▅▃▂▂▁▁▂▂▂▁▁▁▁▁▂▂▁▂▁▄▂▁▁▁▁▂▂▂▁▁▁▁▁▁▁▁▁▁▂</td></tr><tr><td>max val acc</td><td>▁▆█████</td></tr><tr><td>val acc</td><td>▅▆▇▇▇▇▇▇▆▆▇▇▇▇▇▇▇▇▇▆▁▇█▇▅▅▄▆▆▅▆▆▆▆▅▇▆▆▆▅</td></tr><tr><td>val loss</td><td>▁▁▂▃▃▂▂▅▅▆▂▅▆▆▇▃▆▇█▂▄▃▃▄▃▅▆▆▅▄▇▇▆▅▅▇▆▆▅▄</td></tr></table><br/></div><div class=\"wandb-col\"><h3>Run summary:</h3><br/><table class=\"wandb\"><tr><td>batch loss</td><td>0.07549</td></tr><tr><td>max val acc</td><td>63.82979</td></tr><tr><td>val acc</td><td>42.55319</td></tr><tr><td>val loss</td><td>2.60866</td></tr></table><br/></div></div>"
      ],
      "text/plain": [
       "<IPython.core.display.HTML object>"
      ]
     },
     "metadata": {},
     "output_type": "display_data"
    },
    {
     "data": {
      "text/html": [
       " View run <strong style=\"color:#cdcd00\">dainty-sweep-6</strong> at: <a href='https://wandb.ai/valenetjong/2D-masked-imgs/runs/famxyq07' target=\"_blank\">https://wandb.ai/valenetjong/2D-masked-imgs/runs/famxyq07</a><br/>Synced 5 W&B file(s), 0 media file(s), 0 artifact file(s) and 0 other file(s)"
      ],
      "text/plain": [
       "<IPython.core.display.HTML object>"
      ]
     },
     "metadata": {},
     "output_type": "display_data"
    },
    {
     "data": {
      "text/html": [
       "Find logs at: <code>.\\wandb\\run-20231214_040734-famxyq07\\logs</code>"
      ],
      "text/plain": [
       "<IPython.core.display.HTML object>"
      ]
     },
     "metadata": {},
     "output_type": "display_data"
    },
    {
     "name": "stderr",
     "output_type": "stream",
     "text": [
      "\u001b[34m\u001b[1mwandb\u001b[0m: Agent Starting Run: 9k9ojb90 with config:\n",
      "\u001b[34m\u001b[1mwandb\u001b[0m: \tbatch_size: 16\n",
      "\u001b[34m\u001b[1mwandb\u001b[0m: \tconv_hid_size: 16\n",
      "\u001b[34m\u001b[1mwandb\u001b[0m: \tconv_in_size: 256\n",
      "\u001b[34m\u001b[1mwandb\u001b[0m: \tconv_out_size: 32\n",
      "\u001b[34m\u001b[1mwandb\u001b[0m: \tdropout: 0.3\n",
      "\u001b[34m\u001b[1mwandb\u001b[0m: \tfc_size: 512\n",
      "\u001b[34m\u001b[1mwandb\u001b[0m: \thidden_size: 16\n",
      "\u001b[34m\u001b[1mwandb\u001b[0m: \tlr: 0.0001\n",
      "\u001b[34m\u001b[1mwandb\u001b[0m: \tmax_epochs: 250\n",
      "Failed to detect the name of this notebook, you can set it manually with the WANDB_NOTEBOOK_NAME environment variable to enable code saving.\n"
     ]
    },
    {
     "data": {
      "text/html": [
       "Tracking run with wandb version 0.16.1"
      ],
      "text/plain": [
       "<IPython.core.display.HTML object>"
      ]
     },
     "metadata": {},
     "output_type": "display_data"
    },
    {
     "data": {
      "text/html": [
       "Run data is saved locally in <code>c:\\Users\\valen\\OneDrive\\Desktop\\CS 5785 AML\\alzheimer-classification\\notebooks\\wandb\\run-20231214_041339-9k9ojb90</code>"
      ],
      "text/plain": [
       "<IPython.core.display.HTML object>"
      ]
     },
     "metadata": {},
     "output_type": "display_data"
    },
    {
     "data": {
      "text/html": [
       "Syncing run <strong><a href='https://wandb.ai/valenetjong/2D-masked-imgs/runs/9k9ojb90' target=\"_blank\">super-sweep-7</a></strong> to <a href='https://wandb.ai/valenetjong/2D-masked-imgs' target=\"_blank\">Weights & Biases</a> (<a href='https://wandb.me/run' target=\"_blank\">docs</a>)<br/>Sweep page: <a href='https://wandb.ai/valenetjong/2D-masked-imgs/sweeps/476ov6p8' target=\"_blank\">https://wandb.ai/valenetjong/2D-masked-imgs/sweeps/476ov6p8</a>"
      ],
      "text/plain": [
       "<IPython.core.display.HTML object>"
      ]
     },
     "metadata": {},
     "output_type": "display_data"
    },
    {
     "data": {
      "text/html": [
       " View project at <a href='https://wandb.ai/valenetjong/2D-masked-imgs' target=\"_blank\">https://wandb.ai/valenetjong/2D-masked-imgs</a>"
      ],
      "text/plain": [
       "<IPython.core.display.HTML object>"
      ]
     },
     "metadata": {},
     "output_type": "display_data"
    },
    {
     "data": {
      "text/html": [
       " View sweep at <a href='https://wandb.ai/valenetjong/2D-masked-imgs/sweeps/476ov6p8' target=\"_blank\">https://wandb.ai/valenetjong/2D-masked-imgs/sweeps/476ov6p8</a>"
      ],
      "text/plain": [
       "<IPython.core.display.HTML object>"
      ]
     },
     "metadata": {},
     "output_type": "display_data"
    },
    {
     "data": {
      "text/html": [
       " View run at <a href='https://wandb.ai/valenetjong/2D-masked-imgs/runs/9k9ojb90' target=\"_blank\">https://wandb.ai/valenetjong/2D-masked-imgs/runs/9k9ojb90</a>"
      ],
      "text/plain": [
       "<IPython.core.display.HTML object>"
      ]
     },
     "metadata": {},
     "output_type": "display_data"
    },
    {
     "data": {
      "application/vnd.jupyter.widget-view+json": {
       "model_id": "48d99ea5067d407896669ae4a0b2af85",
       "version_major": 2,
       "version_minor": 0
      },
      "text/plain": [
       "VBox(children=(Label(value='0.001 MB of 0.015 MB uploaded\\r'), FloatProgress(value=0.08970373659836325, max=1.…"
      ]
     },
     "metadata": {},
     "output_type": "display_data"
    },
    {
     "data": {
      "text/html": [
       "<style>\n",
       "    table.wandb td:nth-child(1) { padding: 0 10px; text-align: left ; width: auto;} td:nth-child(2) {text-align: left ; width: 100%}\n",
       "    .wandb-row { display: flex; flex-direction: row; flex-wrap: wrap; justify-content: flex-start; width: 100% }\n",
       "    .wandb-col { display: flex; flex-direction: column; flex-basis: 100%; flex: 1; padding: 10px; }\n",
       "    </style>\n",
       "<div class=\"wandb-row\"><div class=\"wandb-col\"><h3>Run history:</h3><br/><table class=\"wandb\"><tr><td>batch loss</td><td>█▇▆▅▄▅▃▃▃▂▁▃▂▂▂▂▁▁▂▁▂▂▁▂▃▁▂▂▂▁▂▂▂▁▃▂▁▂▂▂</td></tr><tr><td>max val acc</td><td>▁▁▁▂▂▇██████</td></tr><tr><td>val acc</td><td>▅▂▁▇▆▃▆█▇▇▆▇▇▆▄▆▅▆▇▇▆▅▅▅▅▆▄▅▇▆▆▅▄▆▅▅▄▅▅▅</td></tr><tr><td>val loss</td><td>▄▃▃▃▃▂▁▄▆▅▁▅▃▆▆▂▄▅▆▂▂▅▆▇▂▆▆█▇▃▆▇▇▃▃█▇█▃▄</td></tr></table><br/></div><div class=\"wandb-col\"><h3>Run summary:</h3><br/><table class=\"wandb\"><tr><td>batch loss</td><td>0.03535</td></tr><tr><td>max val acc</td><td>68.08511</td></tr><tr><td>val acc</td><td>61.70213</td></tr><tr><td>val loss</td><td>1.07914</td></tr></table><br/></div></div>"
      ],
      "text/plain": [
       "<IPython.core.display.HTML object>"
      ]
     },
     "metadata": {},
     "output_type": "display_data"
    },
    {
     "data": {
      "text/html": [
       " View run <strong style=\"color:#cdcd00\">super-sweep-7</strong> at: <a href='https://wandb.ai/valenetjong/2D-masked-imgs/runs/9k9ojb90' target=\"_blank\">https://wandb.ai/valenetjong/2D-masked-imgs/runs/9k9ojb90</a><br/>Synced 5 W&B file(s), 0 media file(s), 0 artifact file(s) and 0 other file(s)"
      ],
      "text/plain": [
       "<IPython.core.display.HTML object>"
      ]
     },
     "metadata": {},
     "output_type": "display_data"
    },
    {
     "data": {
      "text/html": [
       "Find logs at: <code>.\\wandb\\run-20231214_041339-9k9ojb90\\logs</code>"
      ],
      "text/plain": [
       "<IPython.core.display.HTML object>"
      ]
     },
     "metadata": {},
     "output_type": "display_data"
    },
    {
     "name": "stderr",
     "output_type": "stream",
     "text": [
      "\u001b[34m\u001b[1mwandb\u001b[0m: Agent Starting Run: 7f9mt1tu with config:\n",
      "\u001b[34m\u001b[1mwandb\u001b[0m: \tbatch_size: 16\n",
      "\u001b[34m\u001b[1mwandb\u001b[0m: \tconv_hid_size: 32\n",
      "\u001b[34m\u001b[1mwandb\u001b[0m: \tconv_in_size: 32\n",
      "\u001b[34m\u001b[1mwandb\u001b[0m: \tconv_out_size: 16\n",
      "\u001b[34m\u001b[1mwandb\u001b[0m: \tdropout: 0.2\n",
      "\u001b[34m\u001b[1mwandb\u001b[0m: \tfc_size: 128\n",
      "\u001b[34m\u001b[1mwandb\u001b[0m: \thidden_size: 8\n",
      "\u001b[34m\u001b[1mwandb\u001b[0m: \tlr: 1e-05\n",
      "\u001b[34m\u001b[1mwandb\u001b[0m: \tmax_epochs: 250\n",
      "Failed to detect the name of this notebook, you can set it manually with the WANDB_NOTEBOOK_NAME environment variable to enable code saving.\n"
     ]
    },
    {
     "data": {
      "text/html": [
       "Tracking run with wandb version 0.16.1"
      ],
      "text/plain": [
       "<IPython.core.display.HTML object>"
      ]
     },
     "metadata": {},
     "output_type": "display_data"
    },
    {
     "data": {
      "text/html": [
       "Run data is saved locally in <code>c:\\Users\\valen\\OneDrive\\Desktop\\CS 5785 AML\\alzheimer-classification\\notebooks\\wandb\\run-20231214_044831-7f9mt1tu</code>"
      ],
      "text/plain": [
       "<IPython.core.display.HTML object>"
      ]
     },
     "metadata": {},
     "output_type": "display_data"
    },
    {
     "data": {
      "text/html": [
       "Syncing run <strong><a href='https://wandb.ai/valenetjong/2D-masked-imgs/runs/7f9mt1tu' target=\"_blank\">absurd-sweep-8</a></strong> to <a href='https://wandb.ai/valenetjong/2D-masked-imgs' target=\"_blank\">Weights & Biases</a> (<a href='https://wandb.me/run' target=\"_blank\">docs</a>)<br/>Sweep page: <a href='https://wandb.ai/valenetjong/2D-masked-imgs/sweeps/476ov6p8' target=\"_blank\">https://wandb.ai/valenetjong/2D-masked-imgs/sweeps/476ov6p8</a>"
      ],
      "text/plain": [
       "<IPython.core.display.HTML object>"
      ]
     },
     "metadata": {},
     "output_type": "display_data"
    },
    {
     "data": {
      "text/html": [
       " View project at <a href='https://wandb.ai/valenetjong/2D-masked-imgs' target=\"_blank\">https://wandb.ai/valenetjong/2D-masked-imgs</a>"
      ],
      "text/plain": [
       "<IPython.core.display.HTML object>"
      ]
     },
     "metadata": {},
     "output_type": "display_data"
    },
    {
     "data": {
      "text/html": [
       " View sweep at <a href='https://wandb.ai/valenetjong/2D-masked-imgs/sweeps/476ov6p8' target=\"_blank\">https://wandb.ai/valenetjong/2D-masked-imgs/sweeps/476ov6p8</a>"
      ],
      "text/plain": [
       "<IPython.core.display.HTML object>"
      ]
     },
     "metadata": {},
     "output_type": "display_data"
    },
    {
     "data": {
      "text/html": [
       " View run at <a href='https://wandb.ai/valenetjong/2D-masked-imgs/runs/7f9mt1tu' target=\"_blank\">https://wandb.ai/valenetjong/2D-masked-imgs/runs/7f9mt1tu</a>"
      ],
      "text/plain": [
       "<IPython.core.display.HTML object>"
      ]
     },
     "metadata": {},
     "output_type": "display_data"
    },
    {
     "data": {
      "application/vnd.jupyter.widget-view+json": {
       "model_id": "8c7f7cfed57a4614a0a3ff03f46916ca",
       "version_major": 2,
       "version_minor": 0
      },
      "text/plain": [
       "VBox(children=(Label(value='0.001 MB of 0.015 MB uploaded\\r'), FloatProgress(value=0.08971511959901021, max=1.…"
      ]
     },
     "metadata": {},
     "output_type": "display_data"
    },
    {
     "data": {
      "text/html": [
       "<style>\n",
       "    table.wandb td:nth-child(1) { padding: 0 10px; text-align: left ; width: auto;} td:nth-child(2) {text-align: left ; width: 100%}\n",
       "    .wandb-row { display: flex; flex-direction: row; flex-wrap: wrap; justify-content: flex-start; width: 100% }\n",
       "    .wandb-col { display: flex; flex-direction: column; flex-basis: 100%; flex: 1; padding: 10px; }\n",
       "    </style>\n",
       "<div class=\"wandb-row\"><div class=\"wandb-col\"><h3>Run history:</h3><br/><table class=\"wandb\"><tr><td>batch loss</td><td>█▇▇▇█▆▆▆▇▆▆▅▅▄▆▆▅▅▃▅▄▆▄▄▃▂▃▃▂▂▃▂▃▂▂▂▂▁▂▂</td></tr><tr><td>max val acc</td><td>▁▃▄▄▄▄▆▆▆▆▆▆▆▆▇▇▇▇▇▇▇▇▇▇▇▇██████████████</td></tr><tr><td>val acc</td><td>▂▁▁▃▃▅▅▅▇▆▆▆▆▅▅▅▆▆▆▆▆▆▇▇▇▇▇▇█▇▇███████▇█</td></tr><tr><td>val loss</td><td>▆█▆▆▆▆▆▅▆▆▄▅▅▆▆▄▄▄▆▃▃▄▆▆▂▅▅▆▆▂▅▅▇▂▁▅▇▇▁▁</td></tr></table><br/></div><div class=\"wandb-col\"><h3>Run summary:</h3><br/><table class=\"wandb\"><tr><td>batch loss</td><td>0.31948</td></tr><tr><td>max val acc</td><td>61.70213</td></tr><tr><td>val acc</td><td>55.31915</td></tr><tr><td>val loss</td><td>0.95443</td></tr></table><br/></div></div>"
      ],
      "text/plain": [
       "<IPython.core.display.HTML object>"
      ]
     },
     "metadata": {},
     "output_type": "display_data"
    },
    {
     "data": {
      "text/html": [
       " View run <strong style=\"color:#cdcd00\">absurd-sweep-8</strong> at: <a href='https://wandb.ai/valenetjong/2D-masked-imgs/runs/7f9mt1tu' target=\"_blank\">https://wandb.ai/valenetjong/2D-masked-imgs/runs/7f9mt1tu</a><br/>Synced 5 W&B file(s), 0 media file(s), 0 artifact file(s) and 0 other file(s)"
      ],
      "text/plain": [
       "<IPython.core.display.HTML object>"
      ]
     },
     "metadata": {},
     "output_type": "display_data"
    },
    {
     "data": {
      "text/html": [
       "Find logs at: <code>.\\wandb\\run-20231214_044831-7f9mt1tu\\logs</code>"
      ],
      "text/plain": [
       "<IPython.core.display.HTML object>"
      ]
     },
     "metadata": {},
     "output_type": "display_data"
    },
    {
     "name": "stderr",
     "output_type": "stream",
     "text": [
      "\u001b[34m\u001b[1mwandb\u001b[0m: Agent Starting Run: 9xox0n0o with config:\n",
      "\u001b[34m\u001b[1mwandb\u001b[0m: \tbatch_size: 24\n",
      "\u001b[34m\u001b[1mwandb\u001b[0m: \tconv_hid_size: 8\n",
      "\u001b[34m\u001b[1mwandb\u001b[0m: \tconv_in_size: 128\n",
      "\u001b[34m\u001b[1mwandb\u001b[0m: \tconv_out_size: 16\n",
      "\u001b[34m\u001b[1mwandb\u001b[0m: \tdropout: 0.3\n",
      "\u001b[34m\u001b[1mwandb\u001b[0m: \tfc_size: 64\n",
      "\u001b[34m\u001b[1mwandb\u001b[0m: \thidden_size: 8\n",
      "\u001b[34m\u001b[1mwandb\u001b[0m: \tlr: 0.001\n",
      "\u001b[34m\u001b[1mwandb\u001b[0m: \tmax_epochs: 250\n",
      "Failed to detect the name of this notebook, you can set it manually with the WANDB_NOTEBOOK_NAME environment variable to enable code saving.\n"
     ]
    },
    {
     "data": {
      "text/html": [
       "Tracking run with wandb version 0.16.1"
      ],
      "text/plain": [
       "<IPython.core.display.HTML object>"
      ]
     },
     "metadata": {},
     "output_type": "display_data"
    },
    {
     "data": {
      "text/html": [
       "Run data is saved locally in <code>c:\\Users\\valen\\OneDrive\\Desktop\\CS 5785 AML\\alzheimer-classification\\notebooks\\wandb\\run-20231214_045537-9xox0n0o</code>"
      ],
      "text/plain": [
       "<IPython.core.display.HTML object>"
      ]
     },
     "metadata": {},
     "output_type": "display_data"
    },
    {
     "data": {
      "text/html": [
       "Syncing run <strong><a href='https://wandb.ai/valenetjong/2D-masked-imgs/runs/9xox0n0o' target=\"_blank\">swift-sweep-9</a></strong> to <a href='https://wandb.ai/valenetjong/2D-masked-imgs' target=\"_blank\">Weights & Biases</a> (<a href='https://wandb.me/run' target=\"_blank\">docs</a>)<br/>Sweep page: <a href='https://wandb.ai/valenetjong/2D-masked-imgs/sweeps/476ov6p8' target=\"_blank\">https://wandb.ai/valenetjong/2D-masked-imgs/sweeps/476ov6p8</a>"
      ],
      "text/plain": [
       "<IPython.core.display.HTML object>"
      ]
     },
     "metadata": {},
     "output_type": "display_data"
    },
    {
     "data": {
      "text/html": [
       " View project at <a href='https://wandb.ai/valenetjong/2D-masked-imgs' target=\"_blank\">https://wandb.ai/valenetjong/2D-masked-imgs</a>"
      ],
      "text/plain": [
       "<IPython.core.display.HTML object>"
      ]
     },
     "metadata": {},
     "output_type": "display_data"
    },
    {
     "data": {
      "text/html": [
       " View sweep at <a href='https://wandb.ai/valenetjong/2D-masked-imgs/sweeps/476ov6p8' target=\"_blank\">https://wandb.ai/valenetjong/2D-masked-imgs/sweeps/476ov6p8</a>"
      ],
      "text/plain": [
       "<IPython.core.display.HTML object>"
      ]
     },
     "metadata": {},
     "output_type": "display_data"
    },
    {
     "data": {
      "text/html": [
       " View run at <a href='https://wandb.ai/valenetjong/2D-masked-imgs/runs/9xox0n0o' target=\"_blank\">https://wandb.ai/valenetjong/2D-masked-imgs/runs/9xox0n0o</a>"
      ],
      "text/plain": [
       "<IPython.core.display.HTML object>"
      ]
     },
     "metadata": {},
     "output_type": "display_data"
    },
    {
     "data": {
      "application/vnd.jupyter.widget-view+json": {
       "model_id": "2fedfe0e692e43e0a97ea5c120cfd7fc",
       "version_major": 2,
       "version_minor": 0
      },
      "text/plain": [
       "VBox(children=(Label(value='0.001 MB of 0.015 MB uploaded\\r'), FloatProgress(value=0.08978996129196015, max=1.…"
      ]
     },
     "metadata": {},
     "output_type": "display_data"
    },
    {
     "data": {
      "text/html": [
       "<style>\n",
       "    table.wandb td:nth-child(1) { padding: 0 10px; text-align: left ; width: auto;} td:nth-child(2) {text-align: left ; width: 100%}\n",
       "    .wandb-row { display: flex; flex-direction: row; flex-wrap: wrap; justify-content: flex-start; width: 100% }\n",
       "    .wandb-col { display: flex; flex-direction: column; flex-basis: 100%; flex: 1; padding: 10px; }\n",
       "    </style>\n",
       "<div class=\"wandb-row\"><div class=\"wandb-col\"><h3>Run history:</h3><br/><table class=\"wandb\"><tr><td>batch loss</td><td>██▇▅▃▄▂▁▃▂▂▂▂▁▂▁▃▁▂▂▄▂▂▁▂▂▂▂▂▁▁▂▁▁▂▁▂▂▁▂</td></tr><tr><td>max val acc</td><td>▁▁▁▃▆█</td></tr><tr><td>val acc</td><td>▇▆▇▇▆██▅▇▅▇▇▇▇██▇▄▆▇▅▇▆█▆▇▇▇▆▇▆▆▇▃▆▇█▇▆▁</td></tr><tr><td>val loss</td><td>▁▁▁▁▁▁▂▂▂▃▄▇▅▇▄▅▅▃▇█▃▆▅▄▄▄▅▄▅▆▆▆▆▄▆▆▆▆▇▆</td></tr></table><br/></div><div class=\"wandb-col\"><h3>Run summary:</h3><br/><table class=\"wandb\"><tr><td>batch loss</td><td>0.11301</td></tr><tr><td>max val acc</td><td>65.95745</td></tr><tr><td>val acc</td><td>53.19149</td></tr><tr><td>val loss</td><td>3.63193</td></tr></table><br/></div></div>"
      ],
      "text/plain": [
       "<IPython.core.display.HTML object>"
      ]
     },
     "metadata": {},
     "output_type": "display_data"
    },
    {
     "data": {
      "text/html": [
       " View run <strong style=\"color:#cdcd00\">swift-sweep-9</strong> at: <a href='https://wandb.ai/valenetjong/2D-masked-imgs/runs/9xox0n0o' target=\"_blank\">https://wandb.ai/valenetjong/2D-masked-imgs/runs/9xox0n0o</a><br/>Synced 5 W&B file(s), 0 media file(s), 0 artifact file(s) and 0 other file(s)"
      ],
      "text/plain": [
       "<IPython.core.display.HTML object>"
      ]
     },
     "metadata": {},
     "output_type": "display_data"
    },
    {
     "data": {
      "text/html": [
       "Find logs at: <code>.\\wandb\\run-20231214_045537-9xox0n0o\\logs</code>"
      ],
      "text/plain": [
       "<IPython.core.display.HTML object>"
      ]
     },
     "metadata": {},
     "output_type": "display_data"
    },
    {
     "name": "stderr",
     "output_type": "stream",
     "text": [
      "\u001b[34m\u001b[1mwandb\u001b[0m: Agent Starting Run: 2wfxz4p1 with config:\n",
      "\u001b[34m\u001b[1mwandb\u001b[0m: \tbatch_size: 24\n",
      "\u001b[34m\u001b[1mwandb\u001b[0m: \tconv_hid_size: 8\n",
      "\u001b[34m\u001b[1mwandb\u001b[0m: \tconv_in_size: 32\n",
      "\u001b[34m\u001b[1mwandb\u001b[0m: \tconv_out_size: 8\n",
      "\u001b[34m\u001b[1mwandb\u001b[0m: \tdropout: 0.25\n",
      "\u001b[34m\u001b[1mwandb\u001b[0m: \tfc_size: 32\n",
      "\u001b[34m\u001b[1mwandb\u001b[0m: \thidden_size: 16\n",
      "\u001b[34m\u001b[1mwandb\u001b[0m: \tlr: 0.001\n",
      "\u001b[34m\u001b[1mwandb\u001b[0m: \tmax_epochs: 250\n",
      "Failed to detect the name of this notebook, you can set it manually with the WANDB_NOTEBOOK_NAME environment variable to enable code saving.\n"
     ]
    },
    {
     "data": {
      "text/html": [
       "Tracking run with wandb version 0.16.1"
      ],
      "text/plain": [
       "<IPython.core.display.HTML object>"
      ]
     },
     "metadata": {},
     "output_type": "display_data"
    },
    {
     "data": {
      "text/html": [
       "Run data is saved locally in <code>c:\\Users\\valen\\OneDrive\\Desktop\\CS 5785 AML\\alzheimer-classification\\notebooks\\wandb\\run-20231214_051322-2wfxz4p1</code>"
      ],
      "text/plain": [
       "<IPython.core.display.HTML object>"
      ]
     },
     "metadata": {},
     "output_type": "display_data"
    },
    {
     "data": {
      "text/html": [
       "Syncing run <strong><a href='https://wandb.ai/valenetjong/2D-masked-imgs/runs/2wfxz4p1' target=\"_blank\">exalted-sweep-10</a></strong> to <a href='https://wandb.ai/valenetjong/2D-masked-imgs' target=\"_blank\">Weights & Biases</a> (<a href='https://wandb.me/run' target=\"_blank\">docs</a>)<br/>Sweep page: <a href='https://wandb.ai/valenetjong/2D-masked-imgs/sweeps/476ov6p8' target=\"_blank\">https://wandb.ai/valenetjong/2D-masked-imgs/sweeps/476ov6p8</a>"
      ],
      "text/plain": [
       "<IPython.core.display.HTML object>"
      ]
     },
     "metadata": {},
     "output_type": "display_data"
    },
    {
     "data": {
      "text/html": [
       " View project at <a href='https://wandb.ai/valenetjong/2D-masked-imgs' target=\"_blank\">https://wandb.ai/valenetjong/2D-masked-imgs</a>"
      ],
      "text/plain": [
       "<IPython.core.display.HTML object>"
      ]
     },
     "metadata": {},
     "output_type": "display_data"
    },
    {
     "data": {
      "text/html": [
       " View sweep at <a href='https://wandb.ai/valenetjong/2D-masked-imgs/sweeps/476ov6p8' target=\"_blank\">https://wandb.ai/valenetjong/2D-masked-imgs/sweeps/476ov6p8</a>"
      ],
      "text/plain": [
       "<IPython.core.display.HTML object>"
      ]
     },
     "metadata": {},
     "output_type": "display_data"
    },
    {
     "data": {
      "text/html": [
       " View run at <a href='https://wandb.ai/valenetjong/2D-masked-imgs/runs/2wfxz4p1' target=\"_blank\">https://wandb.ai/valenetjong/2D-masked-imgs/runs/2wfxz4p1</a>"
      ],
      "text/plain": [
       "<IPython.core.display.HTML object>"
      ]
     },
     "metadata": {},
     "output_type": "display_data"
    },
    {
     "data": {
      "application/vnd.jupyter.widget-view+json": {
       "model_id": "c5585fd387d04082b5a078afbf5efc9d",
       "version_major": 2,
       "version_minor": 0
      },
      "text/plain": [
       "VBox(children=(Label(value='0.015 MB of 0.015 MB uploaded\\r'), FloatProgress(value=1.0, max=1.0)))"
      ]
     },
     "metadata": {},
     "output_type": "display_data"
    },
    {
     "data": {
      "text/html": [
       "<style>\n",
       "    table.wandb td:nth-child(1) { padding: 0 10px; text-align: left ; width: auto;} td:nth-child(2) {text-align: left ; width: 100%}\n",
       "    .wandb-row { display: flex; flex-direction: row; flex-wrap: wrap; justify-content: flex-start; width: 100% }\n",
       "    .wandb-col { display: flex; flex-direction: column; flex-basis: 100%; flex: 1; padding: 10px; }\n",
       "    </style>\n",
       "<div class=\"wandb-row\"><div class=\"wandb-col\"><h3>Run history:</h3><br/><table class=\"wandb\"><tr><td>batch loss</td><td>█▇▆▅▃▃▁▂▁▃▁▂▁▂▂▂▁▂▁▂▁▁▁▂▁▂▁▂▁▁▁▁▁▆▂▂▂▁▁▂</td></tr><tr><td>max val acc</td><td>▁▁▁▁▃▇▇▇▇▇▇▇▇████████</td></tr><tr><td>val acc</td><td>▁▅▃▄▅▆▆▅▅▇▇▇▇▆▇▅▅▇▇▇▇▄▆▇▆▇▆▆▇▅▇▇█▆▇█▇▇██</td></tr><tr><td>val loss</td><td>▁▁▁▁▁▁▁▁▁▂▂▂▂▂▂▂▂▂▂▂▂▂▂▂▂▂▂▃▃▃▂▃▂█▁▁▁▁▁▂</td></tr></table><br/></div><div class=\"wandb-col\"><h3>Run summary:</h3><br/><table class=\"wandb\"><tr><td>batch loss</td><td>0.0232</td></tr><tr><td>max val acc</td><td>70.21277</td></tr><tr><td>val acc</td><td>70.21277</td></tr><tr><td>val loss</td><td>1.73849</td></tr></table><br/></div></div>"
      ],
      "text/plain": [
       "<IPython.core.display.HTML object>"
      ]
     },
     "metadata": {},
     "output_type": "display_data"
    },
    {
     "data": {
      "text/html": [
       " View run <strong style=\"color:#cdcd00\">exalted-sweep-10</strong> at: <a href='https://wandb.ai/valenetjong/2D-masked-imgs/runs/2wfxz4p1' target=\"_blank\">https://wandb.ai/valenetjong/2D-masked-imgs/runs/2wfxz4p1</a><br/>Synced 5 W&B file(s), 0 media file(s), 0 artifact file(s) and 0 other file(s)"
      ],
      "text/plain": [
       "<IPython.core.display.HTML object>"
      ]
     },
     "metadata": {},
     "output_type": "display_data"
    },
    {
     "data": {
      "text/html": [
       "Find logs at: <code>.\\wandb\\run-20231214_051322-2wfxz4p1\\logs</code>"
      ],
      "text/plain": [
       "<IPython.core.display.HTML object>"
      ]
     },
     "metadata": {},
     "output_type": "display_data"
    },
    {
     "name": "stderr",
     "output_type": "stream",
     "text": [
      "\u001b[34m\u001b[1mwandb\u001b[0m: Agent Starting Run: mlojapjx with config:\n",
      "\u001b[34m\u001b[1mwandb\u001b[0m: \tbatch_size: 40\n",
      "\u001b[34m\u001b[1mwandb\u001b[0m: \tconv_hid_size: 16\n",
      "\u001b[34m\u001b[1mwandb\u001b[0m: \tconv_in_size: 256\n",
      "\u001b[34m\u001b[1mwandb\u001b[0m: \tconv_out_size: 16\n",
      "\u001b[34m\u001b[1mwandb\u001b[0m: \tdropout: 0.25\n",
      "\u001b[34m\u001b[1mwandb\u001b[0m: \tfc_size: 64\n",
      "\u001b[34m\u001b[1mwandb\u001b[0m: \thidden_size: 16\n",
      "\u001b[34m\u001b[1mwandb\u001b[0m: \tlr: 0.0001\n",
      "\u001b[34m\u001b[1mwandb\u001b[0m: \tmax_epochs: 250\n",
      "Failed to detect the name of this notebook, you can set it manually with the WANDB_NOTEBOOK_NAME environment variable to enable code saving.\n"
     ]
    },
    {
     "data": {
      "text/html": [
       "Tracking run with wandb version 0.16.1"
      ],
      "text/plain": [
       "<IPython.core.display.HTML object>"
      ]
     },
     "metadata": {},
     "output_type": "display_data"
    },
    {
     "data": {
      "text/html": [
       "Run data is saved locally in <code>c:\\Users\\valen\\OneDrive\\Desktop\\CS 5785 AML\\alzheimer-classification\\notebooks\\wandb\\run-20231214_051848-mlojapjx</code>"
      ],
      "text/plain": [
       "<IPython.core.display.HTML object>"
      ]
     },
     "metadata": {},
     "output_type": "display_data"
    },
    {
     "data": {
      "text/html": [
       "Syncing run <strong><a href='https://wandb.ai/valenetjong/2D-masked-imgs/runs/mlojapjx' target=\"_blank\">honest-sweep-11</a></strong> to <a href='https://wandb.ai/valenetjong/2D-masked-imgs' target=\"_blank\">Weights & Biases</a> (<a href='https://wandb.me/run' target=\"_blank\">docs</a>)<br/>Sweep page: <a href='https://wandb.ai/valenetjong/2D-masked-imgs/sweeps/476ov6p8' target=\"_blank\">https://wandb.ai/valenetjong/2D-masked-imgs/sweeps/476ov6p8</a>"
      ],
      "text/plain": [
       "<IPython.core.display.HTML object>"
      ]
     },
     "metadata": {},
     "output_type": "display_data"
    },
    {
     "data": {
      "text/html": [
       " View project at <a href='https://wandb.ai/valenetjong/2D-masked-imgs' target=\"_blank\">https://wandb.ai/valenetjong/2D-masked-imgs</a>"
      ],
      "text/plain": [
       "<IPython.core.display.HTML object>"
      ]
     },
     "metadata": {},
     "output_type": "display_data"
    },
    {
     "data": {
      "text/html": [
       " View sweep at <a href='https://wandb.ai/valenetjong/2D-masked-imgs/sweeps/476ov6p8' target=\"_blank\">https://wandb.ai/valenetjong/2D-masked-imgs/sweeps/476ov6p8</a>"
      ],
      "text/plain": [
       "<IPython.core.display.HTML object>"
      ]
     },
     "metadata": {},
     "output_type": "display_data"
    },
    {
     "data": {
      "text/html": [
       " View run at <a href='https://wandb.ai/valenetjong/2D-masked-imgs/runs/mlojapjx' target=\"_blank\">https://wandb.ai/valenetjong/2D-masked-imgs/runs/mlojapjx</a>"
      ],
      "text/plain": [
       "<IPython.core.display.HTML object>"
      ]
     },
     "metadata": {},
     "output_type": "display_data"
    },
    {
     "data": {
      "application/vnd.jupyter.widget-view+json": {
       "model_id": "6ec45a89bb924a5eb6f16b1ce472f1ae",
       "version_major": 2,
       "version_minor": 0
      },
      "text/plain": [
       "VBox(children=(Label(value='0.015 MB of 0.015 MB uploaded\\r'), FloatProgress(value=1.0, max=1.0)))"
      ]
     },
     "metadata": {},
     "output_type": "display_data"
    },
    {
     "data": {
      "text/html": [
       "<style>\n",
       "    table.wandb td:nth-child(1) { padding: 0 10px; text-align: left ; width: auto;} td:nth-child(2) {text-align: left ; width: 100%}\n",
       "    .wandb-row { display: flex; flex-direction: row; flex-wrap: wrap; justify-content: flex-start; width: 100% }\n",
       "    .wandb-col { display: flex; flex-direction: column; flex-basis: 100%; flex: 1; padding: 10px; }\n",
       "    </style>\n",
       "<div class=\"wandb-row\"><div class=\"wandb-col\"><h3>Run history:</h3><br/><table class=\"wandb\"><tr><td>batch loss</td><td>█▇▇▇▇▆▅▄▅▃▄▃▂▂▃▂▂▂▃▂▂▂▂▂▁▂▂▁▁▁▁▁▂▂▂▂▂▂▂▁</td></tr><tr><td>max val acc</td><td>▁▂▅▅▆▆▆▆▇▇█████</td></tr><tr><td>val acc</td><td>▁▆▆▆▇▇▇▇▇▇█▅▇▆▇▇▇▇▇▇▆▆▇▇▆▇▇▇▇▇▆▇▇▇▇▇▇▇▇▆</td></tr><tr><td>val loss</td><td>▁▁▁▁▁▁▁▁▁▁▂▁▂▁▂▃▃▃▃▃▃▃▄▅▄▄▄▄▅▄▆▆▆▆▅▆▆▆▆█</td></tr></table><br/></div><div class=\"wandb-col\"><h3>Run summary:</h3><br/><table class=\"wandb\"><tr><td>batch loss</td><td>0.06285</td></tr><tr><td>max val acc</td><td>65.95745</td></tr><tr><td>val acc</td><td>55.31915</td></tr><tr><td>val loss</td><td>2.77754</td></tr></table><br/></div></div>"
      ],
      "text/plain": [
       "<IPython.core.display.HTML object>"
      ]
     },
     "metadata": {},
     "output_type": "display_data"
    },
    {
     "data": {
      "text/html": [
       " View run <strong style=\"color:#cdcd00\">honest-sweep-11</strong> at: <a href='https://wandb.ai/valenetjong/2D-masked-imgs/runs/mlojapjx' target=\"_blank\">https://wandb.ai/valenetjong/2D-masked-imgs/runs/mlojapjx</a><br/>Synced 5 W&B file(s), 0 media file(s), 0 artifact file(s) and 0 other file(s)"
      ],
      "text/plain": [
       "<IPython.core.display.HTML object>"
      ]
     },
     "metadata": {},
     "output_type": "display_data"
    },
    {
     "data": {
      "text/html": [
       "Find logs at: <code>.\\wandb\\run-20231214_051848-mlojapjx\\logs</code>"
      ],
      "text/plain": [
       "<IPython.core.display.HTML object>"
      ]
     },
     "metadata": {},
     "output_type": "display_data"
    },
    {
     "name": "stderr",
     "output_type": "stream",
     "text": [
      "\u001b[34m\u001b[1mwandb\u001b[0m: Agent Starting Run: ifkth8we with config:\n",
      "\u001b[34m\u001b[1mwandb\u001b[0m: \tbatch_size: 16\n",
      "\u001b[34m\u001b[1mwandb\u001b[0m: \tconv_hid_size: 16\n",
      "\u001b[34m\u001b[1mwandb\u001b[0m: \tconv_in_size: 64\n",
      "\u001b[34m\u001b[1mwandb\u001b[0m: \tconv_out_size: 32\n",
      "\u001b[34m\u001b[1mwandb\u001b[0m: \tdropout: 0.3\n",
      "\u001b[34m\u001b[1mwandb\u001b[0m: \tfc_size: 256\n",
      "\u001b[34m\u001b[1mwandb\u001b[0m: \thidden_size: 16\n",
      "\u001b[34m\u001b[1mwandb\u001b[0m: \tlr: 1e-05\n",
      "\u001b[34m\u001b[1mwandb\u001b[0m: \tmax_epochs: 250\n",
      "Failed to detect the name of this notebook, you can set it manually with the WANDB_NOTEBOOK_NAME environment variable to enable code saving.\n"
     ]
    },
    {
     "data": {
      "text/html": [
       "Tracking run with wandb version 0.16.1"
      ],
      "text/plain": [
       "<IPython.core.display.HTML object>"
      ]
     },
     "metadata": {},
     "output_type": "display_data"
    },
    {
     "data": {
      "text/html": [
       "Run data is saved locally in <code>c:\\Users\\valen\\OneDrive\\Desktop\\CS 5785 AML\\alzheimer-classification\\notebooks\\wandb\\run-20231214_055525-ifkth8we</code>"
      ],
      "text/plain": [
       "<IPython.core.display.HTML object>"
      ]
     },
     "metadata": {},
     "output_type": "display_data"
    },
    {
     "data": {
      "text/html": [
       "Syncing run <strong><a href='https://wandb.ai/valenetjong/2D-masked-imgs/runs/ifkth8we' target=\"_blank\">icy-sweep-12</a></strong> to <a href='https://wandb.ai/valenetjong/2D-masked-imgs' target=\"_blank\">Weights & Biases</a> (<a href='https://wandb.me/run' target=\"_blank\">docs</a>)<br/>Sweep page: <a href='https://wandb.ai/valenetjong/2D-masked-imgs/sweeps/476ov6p8' target=\"_blank\">https://wandb.ai/valenetjong/2D-masked-imgs/sweeps/476ov6p8</a>"
      ],
      "text/plain": [
       "<IPython.core.display.HTML object>"
      ]
     },
     "metadata": {},
     "output_type": "display_data"
    },
    {
     "data": {
      "text/html": [
       " View project at <a href='https://wandb.ai/valenetjong/2D-masked-imgs' target=\"_blank\">https://wandb.ai/valenetjong/2D-masked-imgs</a>"
      ],
      "text/plain": [
       "<IPython.core.display.HTML object>"
      ]
     },
     "metadata": {},
     "output_type": "display_data"
    },
    {
     "data": {
      "text/html": [
       " View sweep at <a href='https://wandb.ai/valenetjong/2D-masked-imgs/sweeps/476ov6p8' target=\"_blank\">https://wandb.ai/valenetjong/2D-masked-imgs/sweeps/476ov6p8</a>"
      ],
      "text/plain": [
       "<IPython.core.display.HTML object>"
      ]
     },
     "metadata": {},
     "output_type": "display_data"
    },
    {
     "data": {
      "text/html": [
       " View run at <a href='https://wandb.ai/valenetjong/2D-masked-imgs/runs/ifkth8we' target=\"_blank\">https://wandb.ai/valenetjong/2D-masked-imgs/runs/ifkth8we</a>"
      ],
      "text/plain": [
       "<IPython.core.display.HTML object>"
      ]
     },
     "metadata": {},
     "output_type": "display_data"
    },
    {
     "data": {
      "application/vnd.jupyter.widget-view+json": {
       "model_id": "cbe3ad571371463c9a0506ae4d8944fe",
       "version_major": 2,
       "version_minor": 0
      },
      "text/plain": [
       "VBox(children=(Label(value='0.001 MB of 0.015 MB uploaded\\r'), FloatProgress(value=0.09110237742413504, max=1.…"
      ]
     },
     "metadata": {},
     "output_type": "display_data"
    },
    {
     "data": {
      "text/html": [
       "<style>\n",
       "    table.wandb td:nth-child(1) { padding: 0 10px; text-align: left ; width: auto;} td:nth-child(2) {text-align: left ; width: 100%}\n",
       "    .wandb-row { display: flex; flex-direction: row; flex-wrap: wrap; justify-content: flex-start; width: 100% }\n",
       "    .wandb-col { display: flex; flex-direction: column; flex-basis: 100%; flex: 1; padding: 10px; }\n",
       "    </style>\n",
       "<div class=\"wandb-row\"><div class=\"wandb-col\"><h3>Run history:</h3><br/><table class=\"wandb\"><tr><td>batch loss</td><td>█▆▆▇▅▅█▆▄▅▅▅▃▃▅▆▇▄▅▃▅▃▃▄▄▃▂▂▃▅▂▄▄▁▃▅▃▄▂▃</td></tr><tr><td>max val acc</td><td>▁▁▁</td></tr><tr><td>val acc</td><td>█▁▁▁▁▃▂▃▃▃▃▄▅▅▅▄▅▆▅▅▆▆▆▅▆▅▅▆▆▆▆▅▅▅▇▇▇▆▆▇</td></tr><tr><td>val loss</td><td>▅▅▅▄▇▅▅▄▇▇▄▄▃▇▇▄▃▃▇▃▃▃▇▇▂▃▃▇▇▂▃▃█▂▂▃██▁▁</td></tr></table><br/></div><div class=\"wandb-col\"><h3>Run summary:</h3><br/><table class=\"wandb\"><tr><td>batch loss</td><td>0.56657</td></tr><tr><td>max val acc</td><td>57.44681</td></tr><tr><td>val acc</td><td>53.19149</td></tr><tr><td>val loss</td><td>0.92081</td></tr></table><br/></div></div>"
      ],
      "text/plain": [
       "<IPython.core.display.HTML object>"
      ]
     },
     "metadata": {},
     "output_type": "display_data"
    },
    {
     "data": {
      "text/html": [
       " View run <strong style=\"color:#cdcd00\">icy-sweep-12</strong> at: <a href='https://wandb.ai/valenetjong/2D-masked-imgs/runs/ifkth8we' target=\"_blank\">https://wandb.ai/valenetjong/2D-masked-imgs/runs/ifkth8we</a><br/>Synced 5 W&B file(s), 0 media file(s), 0 artifact file(s) and 0 other file(s)"
      ],
      "text/plain": [
       "<IPython.core.display.HTML object>"
      ]
     },
     "metadata": {},
     "output_type": "display_data"
    },
    {
     "data": {
      "text/html": [
       "Find logs at: <code>.\\wandb\\run-20231214_055525-ifkth8we\\logs</code>"
      ],
      "text/plain": [
       "<IPython.core.display.HTML object>"
      ]
     },
     "metadata": {},
     "output_type": "display_data"
    },
    {
     "name": "stderr",
     "output_type": "stream",
     "text": [
      "\u001b[34m\u001b[1mwandb\u001b[0m: Sweep Agent: Waiting for job.\n",
      "\u001b[34m\u001b[1mwandb\u001b[0m: Job received.\n",
      "\u001b[34m\u001b[1mwandb\u001b[0m: Agent Starting Run: d709q75u with config:\n",
      "\u001b[34m\u001b[1mwandb\u001b[0m: \tbatch_size: 24\n",
      "\u001b[34m\u001b[1mwandb\u001b[0m: \tconv_hid_size: 8\n",
      "\u001b[34m\u001b[1mwandb\u001b[0m: \tconv_in_size: 128\n",
      "\u001b[34m\u001b[1mwandb\u001b[0m: \tconv_out_size: 32\n",
      "\u001b[34m\u001b[1mwandb\u001b[0m: \tdropout: 0.15\n",
      "\u001b[34m\u001b[1mwandb\u001b[0m: \tfc_size: 512\n",
      "\u001b[34m\u001b[1mwandb\u001b[0m: \thidden_size: 8\n",
      "\u001b[34m\u001b[1mwandb\u001b[0m: \tlr: 1e-05\n",
      "\u001b[34m\u001b[1mwandb\u001b[0m: \tmax_epochs: 250\n",
      "Failed to detect the name of this notebook, you can set it manually with the WANDB_NOTEBOOK_NAME environment variable to enable code saving.\n"
     ]
    },
    {
     "data": {
      "text/html": [
       "Tracking run with wandb version 0.16.1"
      ],
      "text/plain": [
       "<IPython.core.display.HTML object>"
      ]
     },
     "metadata": {},
     "output_type": "display_data"
    },
    {
     "data": {
      "text/html": [
       "Run data is saved locally in <code>c:\\Users\\valen\\OneDrive\\Desktop\\CS 5785 AML\\alzheimer-classification\\notebooks\\wandb\\run-20231214_060551-d709q75u</code>"
      ],
      "text/plain": [
       "<IPython.core.display.HTML object>"
      ]
     },
     "metadata": {},
     "output_type": "display_data"
    },
    {
     "data": {
      "text/html": [
       "Syncing run <strong><a href='https://wandb.ai/valenetjong/2D-masked-imgs/runs/d709q75u' target=\"_blank\">glad-sweep-13</a></strong> to <a href='https://wandb.ai/valenetjong/2D-masked-imgs' target=\"_blank\">Weights & Biases</a> (<a href='https://wandb.me/run' target=\"_blank\">docs</a>)<br/>Sweep page: <a href='https://wandb.ai/valenetjong/2D-masked-imgs/sweeps/476ov6p8' target=\"_blank\">https://wandb.ai/valenetjong/2D-masked-imgs/sweeps/476ov6p8</a>"
      ],
      "text/plain": [
       "<IPython.core.display.HTML object>"
      ]
     },
     "metadata": {},
     "output_type": "display_data"
    },
    {
     "data": {
      "text/html": [
       " View project at <a href='https://wandb.ai/valenetjong/2D-masked-imgs' target=\"_blank\">https://wandb.ai/valenetjong/2D-masked-imgs</a>"
      ],
      "text/plain": [
       "<IPython.core.display.HTML object>"
      ]
     },
     "metadata": {},
     "output_type": "display_data"
    },
    {
     "data": {
      "text/html": [
       " View sweep at <a href='https://wandb.ai/valenetjong/2D-masked-imgs/sweeps/476ov6p8' target=\"_blank\">https://wandb.ai/valenetjong/2D-masked-imgs/sweeps/476ov6p8</a>"
      ],
      "text/plain": [
       "<IPython.core.display.HTML object>"
      ]
     },
     "metadata": {},
     "output_type": "display_data"
    },
    {
     "data": {
      "text/html": [
       " View run at <a href='https://wandb.ai/valenetjong/2D-masked-imgs/runs/d709q75u' target=\"_blank\">https://wandb.ai/valenetjong/2D-masked-imgs/runs/d709q75u</a>"
      ],
      "text/plain": [
       "<IPython.core.display.HTML object>"
      ]
     },
     "metadata": {},
     "output_type": "display_data"
    },
    {
     "data": {
      "application/vnd.jupyter.widget-view+json": {
       "model_id": "24929eccc8a94466bbab321d4b07cbff",
       "version_major": 2,
       "version_minor": 0
      },
      "text/plain": [
       "VBox(children=(Label(value='0.015 MB of 0.015 MB uploaded\\r'), FloatProgress(value=1.0, max=1.0)))"
      ]
     },
     "metadata": {},
     "output_type": "display_data"
    },
    {
     "data": {
      "text/html": [
       "<style>\n",
       "    table.wandb td:nth-child(1) { padding: 0 10px; text-align: left ; width: auto;} td:nth-child(2) {text-align: left ; width: 100%}\n",
       "    .wandb-row { display: flex; flex-direction: row; flex-wrap: wrap; justify-content: flex-start; width: 100% }\n",
       "    .wandb-col { display: flex; flex-direction: column; flex-basis: 100%; flex: 1; padding: 10px; }\n",
       "    </style>\n",
       "<div class=\"wandb-row\"><div class=\"wandb-col\"><h3>Run history:</h3><br/><table class=\"wandb\"><tr><td>batch loss</td><td>██▇███▇▆▆▆▆▄▅▆▅▅▅▆▆▄▅▅▄▄▃▃▄▄▂▃▄▃▂▂▂▃▃▂▁▂</td></tr><tr><td>max val acc</td><td>▁▁▄▄▅▅▅▆▆▆▆▆▆▇▇▇▇▇▇▇▇▇▇▇▇▇▇▇▇▇▇█████████</td></tr><tr><td>val acc</td><td>▁▅▅▆▅▆▇▇▅▆▆▆▇▆▇▇▇▆▇▇▇▇▇▇▇▇▇▇█▇▇█▇█▇██▇█▇</td></tr><tr><td>val loss</td><td>▇███▇█▇▇▇▇▇▇▆▆▆▆▅▅▅▅▅▄▄▄▄▃▃▃▃▂▃▂▂▂▂▂▁▁▁▁</td></tr></table><br/></div><div class=\"wandb-col\"><h3>Run summary:</h3><br/><table class=\"wandb\"><tr><td>batch loss</td><td>0.60246</td></tr><tr><td>max val acc</td><td>68.08511</td></tr><tr><td>val acc</td><td>59.57447</td></tr><tr><td>val loss</td><td>0.99933</td></tr></table><br/></div></div>"
      ],
      "text/plain": [
       "<IPython.core.display.HTML object>"
      ]
     },
     "metadata": {},
     "output_type": "display_data"
    },
    {
     "data": {
      "text/html": [
       " View run <strong style=\"color:#cdcd00\">glad-sweep-13</strong> at: <a href='https://wandb.ai/valenetjong/2D-masked-imgs/runs/d709q75u' target=\"_blank\">https://wandb.ai/valenetjong/2D-masked-imgs/runs/d709q75u</a><br/>Synced 5 W&B file(s), 0 media file(s), 0 artifact file(s) and 0 other file(s)"
      ],
      "text/plain": [
       "<IPython.core.display.HTML object>"
      ]
     },
     "metadata": {},
     "output_type": "display_data"
    },
    {
     "data": {
      "text/html": [
       "Find logs at: <code>.\\wandb\\run-20231214_060551-d709q75u\\logs</code>"
      ],
      "text/plain": [
       "<IPython.core.display.HTML object>"
      ]
     },
     "metadata": {},
     "output_type": "display_data"
    },
    {
     "name": "stderr",
     "output_type": "stream",
     "text": [
      "\u001b[34m\u001b[1mwandb\u001b[0m: Sweep Agent: Waiting for job.\n",
      "\u001b[34m\u001b[1mwandb\u001b[0m: Job received.\n",
      "\u001b[34m\u001b[1mwandb\u001b[0m: Agent Starting Run: lj5td91v with config:\n",
      "\u001b[34m\u001b[1mwandb\u001b[0m: \tbatch_size: 16\n",
      "\u001b[34m\u001b[1mwandb\u001b[0m: \tconv_hid_size: 8\n",
      "\u001b[34m\u001b[1mwandb\u001b[0m: \tconv_in_size: 256\n",
      "\u001b[34m\u001b[1mwandb\u001b[0m: \tconv_out_size: 8\n",
      "\u001b[34m\u001b[1mwandb\u001b[0m: \tdropout: 0.25\n",
      "\u001b[34m\u001b[1mwandb\u001b[0m: \tfc_size: 32\n",
      "\u001b[34m\u001b[1mwandb\u001b[0m: \thidden_size: 16\n",
      "\u001b[34m\u001b[1mwandb\u001b[0m: \tlr: 0.0001\n",
      "\u001b[34m\u001b[1mwandb\u001b[0m: \tmax_epochs: 250\n",
      "Failed to detect the name of this notebook, you can set it manually with the WANDB_NOTEBOOK_NAME environment variable to enable code saving.\n"
     ]
    },
    {
     "data": {
      "text/html": [
       "Tracking run with wandb version 0.16.1"
      ],
      "text/plain": [
       "<IPython.core.display.HTML object>"
      ]
     },
     "metadata": {},
     "output_type": "display_data"
    },
    {
     "data": {
      "text/html": [
       "Run data is saved locally in <code>c:\\Users\\valen\\OneDrive\\Desktop\\CS 5785 AML\\alzheimer-classification\\notebooks\\wandb\\run-20231214_062337-lj5td91v</code>"
      ],
      "text/plain": [
       "<IPython.core.display.HTML object>"
      ]
     },
     "metadata": {},
     "output_type": "display_data"
    },
    {
     "data": {
      "text/html": [
       "Syncing run <strong><a href='https://wandb.ai/valenetjong/2D-masked-imgs/runs/lj5td91v' target=\"_blank\">honest-sweep-14</a></strong> to <a href='https://wandb.ai/valenetjong/2D-masked-imgs' target=\"_blank\">Weights & Biases</a> (<a href='https://wandb.me/run' target=\"_blank\">docs</a>)<br/>Sweep page: <a href='https://wandb.ai/valenetjong/2D-masked-imgs/sweeps/476ov6p8' target=\"_blank\">https://wandb.ai/valenetjong/2D-masked-imgs/sweeps/476ov6p8</a>"
      ],
      "text/plain": [
       "<IPython.core.display.HTML object>"
      ]
     },
     "metadata": {},
     "output_type": "display_data"
    },
    {
     "data": {
      "text/html": [
       " View project at <a href='https://wandb.ai/valenetjong/2D-masked-imgs' target=\"_blank\">https://wandb.ai/valenetjong/2D-masked-imgs</a>"
      ],
      "text/plain": [
       "<IPython.core.display.HTML object>"
      ]
     },
     "metadata": {},
     "output_type": "display_data"
    },
    {
     "data": {
      "text/html": [
       " View sweep at <a href='https://wandb.ai/valenetjong/2D-masked-imgs/sweeps/476ov6p8' target=\"_blank\">https://wandb.ai/valenetjong/2D-masked-imgs/sweeps/476ov6p8</a>"
      ],
      "text/plain": [
       "<IPython.core.display.HTML object>"
      ]
     },
     "metadata": {},
     "output_type": "display_data"
    },
    {
     "data": {
      "text/html": [
       " View run at <a href='https://wandb.ai/valenetjong/2D-masked-imgs/runs/lj5td91v' target=\"_blank\">https://wandb.ai/valenetjong/2D-masked-imgs/runs/lj5td91v</a>"
      ],
      "text/plain": [
       "<IPython.core.display.HTML object>"
      ]
     },
     "metadata": {},
     "output_type": "display_data"
    },
    {
     "data": {
      "application/vnd.jupyter.widget-view+json": {
       "model_id": "39ab772ef256466b9e5a7311c06d3161",
       "version_major": 2,
       "version_minor": 0
      },
      "text/plain": [
       "VBox(children=(Label(value='0.001 MB of 0.015 MB uploaded\\r'), FloatProgress(value=0.08979565934763295, max=1.…"
      ]
     },
     "metadata": {},
     "output_type": "display_data"
    },
    {
     "data": {
      "text/html": [
       "<style>\n",
       "    table.wandb td:nth-child(1) { padding: 0 10px; text-align: left ; width: auto;} td:nth-child(2) {text-align: left ; width: 100%}\n",
       "    .wandb-row { display: flex; flex-direction: row; flex-wrap: wrap; justify-content: flex-start; width: 100% }\n",
       "    .wandb-col { display: flex; flex-direction: column; flex-basis: 100%; flex: 1; padding: 10px; }\n",
       "    </style>\n",
       "<div class=\"wandb-row\"><div class=\"wandb-col\"><h3>Run history:</h3><br/><table class=\"wandb\"><tr><td>batch loss</td><td>███▇▆▆▇▆▅▅▄▄▃▄▅▃▃▃▂▂▂▂▂▂▂▂▂▂▂▂▁▃▃▂▂▁▁▁▂▂</td></tr><tr><td>max val acc</td><td>▁▁▁▁</td></tr><tr><td>val acc</td><td>█▃▁▄▄▃▄▇▂▄▆▆▆▅▅▆▅▅▅▆▇▆▇▇▇▆▇▇▆▇▇▇▆▆█▆▇▇▇▅</td></tr><tr><td>val loss</td><td>▁▁▁▁▁▁▂▁▁▂▂▁▂▃▃▁▂▂▃▂▃▄▄▄▂▃▃▅▅▄▃▃▆▅▃▅██▅▆</td></tr></table><br/></div><div class=\"wandb-col\"><h3>Run summary:</h3><br/><table class=\"wandb\"><tr><td>batch loss</td><td>0.083</td></tr><tr><td>max val acc</td><td>57.44681</td></tr><tr><td>val acc</td><td>46.80851</td></tr><tr><td>val loss</td><td>1.86527</td></tr></table><br/></div></div>"
      ],
      "text/plain": [
       "<IPython.core.display.HTML object>"
      ]
     },
     "metadata": {},
     "output_type": "display_data"
    },
    {
     "data": {
      "text/html": [
       " View run <strong style=\"color:#cdcd00\">honest-sweep-14</strong> at: <a href='https://wandb.ai/valenetjong/2D-masked-imgs/runs/lj5td91v' target=\"_blank\">https://wandb.ai/valenetjong/2D-masked-imgs/runs/lj5td91v</a><br/>Synced 5 W&B file(s), 0 media file(s), 0 artifact file(s) and 0 other file(s)"
      ],
      "text/plain": [
       "<IPython.core.display.HTML object>"
      ]
     },
     "metadata": {},
     "output_type": "display_data"
    },
    {
     "data": {
      "text/html": [
       "Find logs at: <code>.\\wandb\\run-20231214_062337-lj5td91v\\logs</code>"
      ],
      "text/plain": [
       "<IPython.core.display.HTML object>"
      ]
     },
     "metadata": {},
     "output_type": "display_data"
    },
    {
     "name": "stderr",
     "output_type": "stream",
     "text": [
      "\u001b[34m\u001b[1mwandb\u001b[0m: Agent Starting Run: 9ko0ous3 with config:\n",
      "\u001b[34m\u001b[1mwandb\u001b[0m: \tbatch_size: 16\n",
      "\u001b[34m\u001b[1mwandb\u001b[0m: \tconv_hid_size: 16\n",
      "\u001b[34m\u001b[1mwandb\u001b[0m: \tconv_in_size: 128\n",
      "\u001b[34m\u001b[1mwandb\u001b[0m: \tconv_out_size: 16\n",
      "\u001b[34m\u001b[1mwandb\u001b[0m: \tdropout: 0.2\n",
      "\u001b[34m\u001b[1mwandb\u001b[0m: \tfc_size: 256\n",
      "\u001b[34m\u001b[1mwandb\u001b[0m: \thidden_size: 8\n",
      "\u001b[34m\u001b[1mwandb\u001b[0m: \tlr: 0.001\n",
      "\u001b[34m\u001b[1mwandb\u001b[0m: \tmax_epochs: 250\n",
      "Failed to detect the name of this notebook, you can set it manually with the WANDB_NOTEBOOK_NAME environment variable to enable code saving.\n"
     ]
    },
    {
     "data": {
      "text/html": [
       "Tracking run with wandb version 0.16.1"
      ],
      "text/plain": [
       "<IPython.core.display.HTML object>"
      ]
     },
     "metadata": {},
     "output_type": "display_data"
    },
    {
     "data": {
      "text/html": [
       "Run data is saved locally in <code>c:\\Users\\valen\\OneDrive\\Desktop\\CS 5785 AML\\alzheimer-classification\\notebooks\\wandb\\run-20231214_065727-9ko0ous3</code>"
      ],
      "text/plain": [
       "<IPython.core.display.HTML object>"
      ]
     },
     "metadata": {},
     "output_type": "display_data"
    },
    {
     "data": {
      "text/html": [
       "Syncing run <strong><a href='https://wandb.ai/valenetjong/2D-masked-imgs/runs/9ko0ous3' target=\"_blank\">azure-sweep-15</a></strong> to <a href='https://wandb.ai/valenetjong/2D-masked-imgs' target=\"_blank\">Weights & Biases</a> (<a href='https://wandb.me/run' target=\"_blank\">docs</a>)<br/>Sweep page: <a href='https://wandb.ai/valenetjong/2D-masked-imgs/sweeps/476ov6p8' target=\"_blank\">https://wandb.ai/valenetjong/2D-masked-imgs/sweeps/476ov6p8</a>"
      ],
      "text/plain": [
       "<IPython.core.display.HTML object>"
      ]
     },
     "metadata": {},
     "output_type": "display_data"
    },
    {
     "data": {
      "text/html": [
       " View project at <a href='https://wandb.ai/valenetjong/2D-masked-imgs' target=\"_blank\">https://wandb.ai/valenetjong/2D-masked-imgs</a>"
      ],
      "text/plain": [
       "<IPython.core.display.HTML object>"
      ]
     },
     "metadata": {},
     "output_type": "display_data"
    },
    {
     "data": {
      "text/html": [
       " View sweep at <a href='https://wandb.ai/valenetjong/2D-masked-imgs/sweeps/476ov6p8' target=\"_blank\">https://wandb.ai/valenetjong/2D-masked-imgs/sweeps/476ov6p8</a>"
      ],
      "text/plain": [
       "<IPython.core.display.HTML object>"
      ]
     },
     "metadata": {},
     "output_type": "display_data"
    },
    {
     "data": {
      "text/html": [
       " View run at <a href='https://wandb.ai/valenetjong/2D-masked-imgs/runs/9ko0ous3' target=\"_blank\">https://wandb.ai/valenetjong/2D-masked-imgs/runs/9ko0ous3</a>"
      ],
      "text/plain": [
       "<IPython.core.display.HTML object>"
      ]
     },
     "metadata": {},
     "output_type": "display_data"
    },
    {
     "data": {
      "application/vnd.jupyter.widget-view+json": {
       "model_id": "84768e9f1c7246c8a30a65c69e2777e9",
       "version_major": 2,
       "version_minor": 0
      },
      "text/plain": [
       "VBox(children=(Label(value='0.001 MB of 0.015 MB uploaded\\r'), FloatProgress(value=0.08977856734978745, max=1.…"
      ]
     },
     "metadata": {},
     "output_type": "display_data"
    },
    {
     "data": {
      "text/html": [
       "<style>\n",
       "    table.wandb td:nth-child(1) { padding: 0 10px; text-align: left ; width: auto;} td:nth-child(2) {text-align: left ; width: 100%}\n",
       "    .wandb-row { display: flex; flex-direction: row; flex-wrap: wrap; justify-content: flex-start; width: 100% }\n",
       "    .wandb-col { display: flex; flex-direction: column; flex-basis: 100%; flex: 1; padding: 10px; }\n",
       "    </style>\n",
       "<div class=\"wandb-row\"><div class=\"wandb-col\"><h3>Run history:</h3><br/><table class=\"wandb\"><tr><td>batch loss</td><td>█▇▃▂▁▁▁▁▁▁▁▁▁▁▁▁▁▁▁▁▁▁▁▁▁▁▁▂▁▁▂▂▁▂▁▁▁▁▃▁</td></tr><tr><td>max val acc</td><td>▁▂▄▅▅▅▅▅▅▅▅▇▇▇▇▇███</td></tr><tr><td>val acc</td><td>▆▄▁▇█▇▇▇▇█▇▆▇████▇▇▆█▇▇██▇▇▇▇█▇▇▇▇▇█▇█▇▇</td></tr><tr><td>val loss</td><td>▂▁▂▂▅▁▁▃▅▄▂▅▅▆▆▂▄▅▆▂▂▄▆▇▂▅▅█▇▁▆▅█▂▂▅▇█▃▂</td></tr></table><br/></div><div class=\"wandb-col\"><h3>Run summary:</h3><br/><table class=\"wandb\"><tr><td>batch loss</td><td>0.08021</td></tr><tr><td>max val acc</td><td>70.21277</td></tr><tr><td>val acc</td><td>63.82979</td></tr><tr><td>val loss</td><td>2.13149</td></tr></table><br/></div></div>"
      ],
      "text/plain": [
       "<IPython.core.display.HTML object>"
      ]
     },
     "metadata": {},
     "output_type": "display_data"
    },
    {
     "data": {
      "text/html": [
       " View run <strong style=\"color:#cdcd00\">azure-sweep-15</strong> at: <a href='https://wandb.ai/valenetjong/2D-masked-imgs/runs/9ko0ous3' target=\"_blank\">https://wandb.ai/valenetjong/2D-masked-imgs/runs/9ko0ous3</a><br/>Synced 5 W&B file(s), 0 media file(s), 0 artifact file(s) and 0 other file(s)"
      ],
      "text/plain": [
       "<IPython.core.display.HTML object>"
      ]
     },
     "metadata": {},
     "output_type": "display_data"
    },
    {
     "data": {
      "text/html": [
       "Find logs at: <code>.\\wandb\\run-20231214_065727-9ko0ous3\\logs</code>"
      ],
      "text/plain": [
       "<IPython.core.display.HTML object>"
      ]
     },
     "metadata": {},
     "output_type": "display_data"
    },
    {
     "name": "stderr",
     "output_type": "stream",
     "text": [
      "\u001b[34m\u001b[1mwandb\u001b[0m: Agent Starting Run: 3zmu3s19 with config:\n",
      "\u001b[34m\u001b[1mwandb\u001b[0m: \tbatch_size: 16\n",
      "\u001b[34m\u001b[1mwandb\u001b[0m: \tconv_hid_size: 16\n",
      "\u001b[34m\u001b[1mwandb\u001b[0m: \tconv_in_size: 64\n",
      "\u001b[34m\u001b[1mwandb\u001b[0m: \tconv_out_size: 8\n",
      "\u001b[34m\u001b[1mwandb\u001b[0m: \tdropout: 0.25\n",
      "\u001b[34m\u001b[1mwandb\u001b[0m: \tfc_size: 128\n",
      "\u001b[34m\u001b[1mwandb\u001b[0m: \thidden_size: 16\n",
      "\u001b[34m\u001b[1mwandb\u001b[0m: \tlr: 0.001\n",
      "\u001b[34m\u001b[1mwandb\u001b[0m: \tmax_epochs: 250\n",
      "Failed to detect the name of this notebook, you can set it manually with the WANDB_NOTEBOOK_NAME environment variable to enable code saving.\n"
     ]
    },
    {
     "data": {
      "text/html": [
       "Tracking run with wandb version 0.16.1"
      ],
      "text/plain": [
       "<IPython.core.display.HTML object>"
      ]
     },
     "metadata": {},
     "output_type": "display_data"
    },
    {
     "data": {
      "text/html": [
       "Run data is saved locally in <code>c:\\Users\\valen\\OneDrive\\Desktop\\CS 5785 AML\\alzheimer-classification\\notebooks\\wandb\\run-20231214_071554-3zmu3s19</code>"
      ],
      "text/plain": [
       "<IPython.core.display.HTML object>"
      ]
     },
     "metadata": {},
     "output_type": "display_data"
    },
    {
     "data": {
      "text/html": [
       "Syncing run <strong><a href='https://wandb.ai/valenetjong/2D-masked-imgs/runs/3zmu3s19' target=\"_blank\">sunny-sweep-16</a></strong> to <a href='https://wandb.ai/valenetjong/2D-masked-imgs' target=\"_blank\">Weights & Biases</a> (<a href='https://wandb.me/run' target=\"_blank\">docs</a>)<br/>Sweep page: <a href='https://wandb.ai/valenetjong/2D-masked-imgs/sweeps/476ov6p8' target=\"_blank\">https://wandb.ai/valenetjong/2D-masked-imgs/sweeps/476ov6p8</a>"
      ],
      "text/plain": [
       "<IPython.core.display.HTML object>"
      ]
     },
     "metadata": {},
     "output_type": "display_data"
    },
    {
     "data": {
      "text/html": [
       " View project at <a href='https://wandb.ai/valenetjong/2D-masked-imgs' target=\"_blank\">https://wandb.ai/valenetjong/2D-masked-imgs</a>"
      ],
      "text/plain": [
       "<IPython.core.display.HTML object>"
      ]
     },
     "metadata": {},
     "output_type": "display_data"
    },
    {
     "data": {
      "text/html": [
       " View sweep at <a href='https://wandb.ai/valenetjong/2D-masked-imgs/sweeps/476ov6p8' target=\"_blank\">https://wandb.ai/valenetjong/2D-masked-imgs/sweeps/476ov6p8</a>"
      ],
      "text/plain": [
       "<IPython.core.display.HTML object>"
      ]
     },
     "metadata": {},
     "output_type": "display_data"
    },
    {
     "data": {
      "text/html": [
       " View run at <a href='https://wandb.ai/valenetjong/2D-masked-imgs/runs/3zmu3s19' target=\"_blank\">https://wandb.ai/valenetjong/2D-masked-imgs/runs/3zmu3s19</a>"
      ],
      "text/plain": [
       "<IPython.core.display.HTML object>"
      ]
     },
     "metadata": {},
     "output_type": "display_data"
    },
    {
     "name": "stderr",
     "output_type": "stream",
     "text": [
      "Traceback (most recent call last):\n",
      "  File \"C:\\Users\\valen\\AppData\\Local\\Temp\\ipykernel_19500\\35702409.py\", line 42, in train_model\n",
      "    wandb.log({\"batch loss\": loss.item()})\n",
      "  File \"c:\\Users\\valen\\anaconda3\\envs\\nlp-m\\lib\\site-packages\\wandb\\sdk\\wandb_run.py\", line 420, in wrapper\n",
      "    return func(self, *args, **kwargs)\n",
      "  File \"c:\\Users\\valen\\anaconda3\\envs\\nlp-m\\lib\\site-packages\\wandb\\sdk\\wandb_run.py\", line 371, in wrapper_fn\n",
      "    return func(self, *args, **kwargs)\n",
      "  File \"c:\\Users\\valen\\anaconda3\\envs\\nlp-m\\lib\\site-packages\\wandb\\sdk\\wandb_run.py\", line 361, in wrapper\n",
      "    return func(self, *args, **kwargs)\n",
      "  File \"c:\\Users\\valen\\anaconda3\\envs\\nlp-m\\lib\\site-packages\\wandb\\sdk\\wandb_run.py\", line 1820, in log\n",
      "    self._log(data=data, step=step, commit=commit)\n",
      "  File \"c:\\Users\\valen\\anaconda3\\envs\\nlp-m\\lib\\site-packages\\wandb\\sdk\\wandb_run.py\", line 1595, in _log\n",
      "    self._partial_history_callback(data, step, commit)\n",
      "  File \"c:\\Users\\valen\\anaconda3\\envs\\nlp-m\\lib\\site-packages\\wandb\\sdk\\wandb_run.py\", line 1467, in _partial_history_callback\n",
      "    self._backend.interface.publish_partial_history(\n",
      "  File \"c:\\Users\\valen\\anaconda3\\envs\\nlp-m\\lib\\site-packages\\wandb\\sdk\\interface\\interface.py\", line 567, in publish_partial_history\n",
      "    self._publish_partial_history(partial_history)\n",
      "  File \"c:\\Users\\valen\\anaconda3\\envs\\nlp-m\\lib\\site-packages\\wandb\\sdk\\interface\\interface_shared.py\", line 89, in _publish_partial_history\n",
      "    self._publish(rec)\n",
      "  File \"c:\\Users\\valen\\anaconda3\\envs\\nlp-m\\lib\\site-packages\\wandb\\sdk\\interface\\interface_sock.py\", line 51, in _publish\n",
      "    self._sock_client.send_record_publish(record)\n",
      "  File \"c:\\Users\\valen\\anaconda3\\envs\\nlp-m\\lib\\site-packages\\wandb\\sdk\\lib\\sock_client.py\", line 221, in send_record_publish\n",
      "    self.send_server_request(server_req)\n",
      "  File \"c:\\Users\\valen\\anaconda3\\envs\\nlp-m\\lib\\site-packages\\wandb\\sdk\\lib\\sock_client.py\", line 155, in send_server_request\n",
      "    self._send_message(msg)\n",
      "  File \"c:\\Users\\valen\\anaconda3\\envs\\nlp-m\\lib\\site-packages\\wandb\\sdk\\lib\\sock_client.py\", line 152, in _send_message\n",
      "    self._sendall_with_error_handle(header + data)\n",
      "  File \"c:\\Users\\valen\\anaconda3\\envs\\nlp-m\\lib\\site-packages\\wandb\\sdk\\lib\\sock_client.py\", line 130, in _sendall_with_error_handle\n",
      "    sent = self._sock.send(data)\n",
      "ConnectionResetError: [WinError 10054] An existing connection was forcibly closed by the remote host\n",
      "Exception in thread Thread-61:\n",
      "Traceback (most recent call last):\n",
      "  File \"C:\\Users\\valen\\AppData\\Local\\Temp\\ipykernel_19500\\35702409.py\", line 42, in train_model\n",
      "  File \"c:\\Users\\valen\\anaconda3\\envs\\nlp-m\\lib\\site-packages\\wandb\\sdk\\wandb_run.py\", line 420, in wrapper\n",
      "    return func(self, *args, **kwargs)\n",
      "  File \"c:\\Users\\valen\\anaconda3\\envs\\nlp-m\\lib\\site-packages\\wandb\\sdk\\wandb_run.py\", line 371, in wrapper_fn\n",
      "    return func(self, *args, **kwargs)\n",
      "  File \"c:\\Users\\valen\\anaconda3\\envs\\nlp-m\\lib\\site-packages\\wandb\\sdk\\wandb_run.py\", line 361, in wrapper\n",
      "    return func(self, *args, **kwargs)\n",
      "  File \"c:\\Users\\valen\\anaconda3\\envs\\nlp-m\\lib\\site-packages\\wandb\\sdk\\wandb_run.py\", line 1820, in log\n",
      "    self._log(data=data, step=step, commit=commit)\n",
      "  File \"c:\\Users\\valen\\anaconda3\\envs\\nlp-m\\lib\\site-packages\\wandb\\sdk\\wandb_run.py\", line 1595, in _log\n",
      "    self._partial_history_callback(data, step, commit)\n",
      "  File \"c:\\Users\\valen\\anaconda3\\envs\\nlp-m\\lib\\site-packages\\wandb\\sdk\\wandb_run.py\", line 1467, in _partial_history_callback\n",
      "    self._backend.interface.publish_partial_history(\n",
      "  File \"c:\\Users\\valen\\anaconda3\\envs\\nlp-m\\lib\\site-packages\\wandb\\sdk\\interface\\interface.py\", line 567, in publish_partial_history\n",
      "    self._publish_partial_history(partial_history)\n",
      "  File \"c:\\Users\\valen\\anaconda3\\envs\\nlp-m\\lib\\site-packages\\wandb\\sdk\\interface\\interface_shared.py\", line 89, in _publish_partial_history\n",
      "    self._publish(rec)\n",
      "  File \"c:\\Users\\valen\\anaconda3\\envs\\nlp-m\\lib\\site-packages\\wandb\\sdk\\interface\\interface_sock.py\", line 51, in _publish\n",
      "    self._sock_client.send_record_publish(record)\n",
      "  File \"c:\\Users\\valen\\anaconda3\\envs\\nlp-m\\lib\\site-packages\\wandb\\sdk\\lib\\sock_client.py\", line 221, in send_record_publish\n",
      "    self.send_server_request(server_req)\n",
      "  File \"c:\\Users\\valen\\anaconda3\\envs\\nlp-m\\lib\\site-packages\\wandb\\sdk\\lib\\sock_client.py\", line 155, in send_server_request\n",
      "    self._send_message(msg)\n",
      "  File \"c:\\Users\\valen\\anaconda3\\envs\\nlp-m\\lib\\site-packages\\wandb\\sdk\\lib\\sock_client.py\", line 152, in _send_message\n",
      "    self._sendall_with_error_handle(header + data)\n",
      "  File \"c:\\Users\\valen\\anaconda3\\envs\\nlp-m\\lib\\site-packages\\wandb\\sdk\\lib\\sock_client.py\", line 130, in _sendall_with_error_handle\n",
      "    sent = self._sock.send(data)\n",
      "ConnectionResetError: [WinError 10054] An existing connection was forcibly closed by the remote host\n",
      "\n",
      "During handling of the above exception, another exception occurred:\n",
      "\n",
      "Traceback (most recent call last):\n",
      "  File \"c:\\Users\\valen\\anaconda3\\envs\\nlp-m\\lib\\site-packages\\wandb\\agents\\pyagent.py\", line 298, in _run_job\n",
      "    self._function()\n",
      "  File \"C:\\Users\\valen\\AppData\\Local\\Temp\\ipykernel_19500\\35702409.py\", line 62, in train_model\n",
      "  File \"c:\\Users\\valen\\anaconda3\\envs\\nlp-m\\lib\\site-packages\\wandb\\sdk\\wandb_run.py\", line 3357, in __exit__\n",
      "    self._finish(exit_code=exit_code)\n",
      "  File \"c:\\Users\\valen\\anaconda3\\envs\\nlp-m\\lib\\site-packages\\wandb\\sdk\\wandb_run.py\", line 1961, in _finish\n",
      "    tel.feature.finish = True\n",
      "  File \"c:\\Users\\valen\\anaconda3\\envs\\nlp-m\\lib\\site-packages\\wandb\\sdk\\lib\\telemetry.py\", line 42, in __exit__\n",
      "    self._run._telemetry_callback(self._obj)\n",
      "  File \"c:\\Users\\valen\\anaconda3\\envs\\nlp-m\\lib\\site-packages\\wandb\\sdk\\wandb_run.py\", line 758, in _telemetry_callback\n",
      "    self._telemetry_flush()\n",
      "  File \"c:\\Users\\valen\\anaconda3\\envs\\nlp-m\\lib\\site-packages\\wandb\\sdk\\wandb_run.py\", line 769, in _telemetry_flush\n",
      "    self._backend.interface._publish_telemetry(self._telemetry_obj)\n",
      "  File \"c:\\Users\\valen\\anaconda3\\envs\\nlp-m\\lib\\site-packages\\wandb\\sdk\\interface\\interface_shared.py\", line 101, in _publish_telemetry\n",
      "    self._publish(rec)\n",
      "  File \"c:\\Users\\valen\\anaconda3\\envs\\nlp-m\\lib\\site-packages\\wandb\\sdk\\interface\\interface_sock.py\", line 51, in _publish\n",
      "    self._sock_client.send_record_publish(record)\n",
      "  File \"c:\\Users\\valen\\anaconda3\\envs\\nlp-m\\lib\\site-packages\\wandb\\sdk\\lib\\sock_client.py\", line 221, in send_record_publish\n",
      "    self.send_server_request(server_req)\n",
      "  File \"c:\\Users\\valen\\anaconda3\\envs\\nlp-m\\lib\\site-packages\\wandb\\sdk\\lib\\sock_client.py\", line 155, in send_server_request\n",
      "    self._send_message(msg)\n",
      "  File \"c:\\Users\\valen\\anaconda3\\envs\\nlp-m\\lib\\site-packages\\wandb\\sdk\\lib\\sock_client.py\", line 152, in _send_message\n",
      "    self._sendall_with_error_handle(header + data)\n",
      "  File \"c:\\Users\\valen\\anaconda3\\envs\\nlp-m\\lib\\site-packages\\wandb\\sdk\\lib\\sock_client.py\", line 130, in _sendall_with_error_handle\n",
      "    sent = self._sock.send(data)\n",
      "ConnectionResetError: [WinError 10054] An existing connection was forcibly closed by the remote host\n",
      "\n",
      "During handling of the above exception, another exception occurred:\n",
      "\n",
      "Traceback (most recent call last):\n",
      "  File \"c:\\Users\\valen\\anaconda3\\envs\\nlp-m\\lib\\threading.py\", line 980, in _bootstrap_inner\n",
      "    self.run()\n",
      "  File \"c:\\Users\\valen\\anaconda3\\envs\\nlp-m\\lib\\threading.py\", line 917, in run\n",
      "    self._target(*self._args, **self._kwargs)\n",
      "  File \"c:\\Users\\valen\\anaconda3\\envs\\nlp-m\\lib\\site-packages\\wandb\\agents\\pyagent.py\", line 303, in _run_job\n",
      "    wandb.finish(exit_code=1)\n",
      "  File \"c:\\Users\\valen\\anaconda3\\envs\\nlp-m\\lib\\site-packages\\wandb\\sdk\\wandb_run.py\", line 4090, in finish\n",
      "    wandb.run.finish(exit_code=exit_code, quiet=quiet)\n",
      "  File \"c:\\Users\\valen\\anaconda3\\envs\\nlp-m\\lib\\site-packages\\wandb\\sdk\\wandb_run.py\", line 420, in wrapper\n",
      "    return func(self, *args, **kwargs)\n",
      "  File \"c:\\Users\\valen\\anaconda3\\envs\\nlp-m\\lib\\site-packages\\wandb\\sdk\\wandb_run.py\", line 361, in wrapper\n",
      "    return func(self, *args, **kwargs)\n",
      "  File \"c:\\Users\\valen\\anaconda3\\envs\\nlp-m\\lib\\site-packages\\wandb\\sdk\\wandb_run.py\", line 1953, in finish\n",
      "    return self._finish(exit_code, quiet)\n",
      "  File \"c:\\Users\\valen\\anaconda3\\envs\\nlp-m\\lib\\site-packages\\wandb\\sdk\\wandb_run.py\", line 1961, in _finish\n",
      "    tel.feature.finish = True\n",
      "  File \"c:\\Users\\valen\\anaconda3\\envs\\nlp-m\\lib\\site-packages\\wandb\\sdk\\lib\\telemetry.py\", line 42, in __exit__\n",
      "    self._run._telemetry_callback(self._obj)\n",
      "  File \"c:\\Users\\valen\\anaconda3\\envs\\nlp-m\\lib\\site-packages\\wandb\\sdk\\wandb_run.py\", line 758, in _telemetry_callback\n",
      "    self._telemetry_flush()\n",
      "  File \"c:\\Users\\valen\\anaconda3\\envs\\nlp-m\\lib\\site-packages\\wandb\\sdk\\wandb_run.py\", line 769, in _telemetry_flush\n",
      "    self._backend.interface._publish_telemetry(self._telemetry_obj)\n",
      "  File \"c:\\Users\\valen\\anaconda3\\envs\\nlp-m\\lib\\site-packages\\wandb\\sdk\\interface\\interface_shared.py\", line 101, in _publish_telemetry\n",
      "    self._publish(rec)\n",
      "  File \"c:\\Users\\valen\\anaconda3\\envs\\nlp-m\\lib\\site-packages\\wandb\\sdk\\interface\\interface_sock.py\", line 51, in _publish\n",
      "    self._sock_client.send_record_publish(record)\n",
      "  File \"c:\\Users\\valen\\anaconda3\\envs\\nlp-m\\lib\\site-packages\\wandb\\sdk\\lib\\sock_client.py\", line 221, in send_record_publish\n",
      "    self.send_server_request(server_req)\n",
      "  File \"c:\\Users\\valen\\anaconda3\\envs\\nlp-m\\lib\\site-packages\\wandb\\sdk\\lib\\sock_client.py\", line 155, in send_server_request\n",
      "    self._send_message(msg)\n",
      "  File \"c:\\Users\\valen\\anaconda3\\envs\\nlp-m\\lib\\site-packages\\wandb\\sdk\\lib\\sock_client.py\", line 152, in _send_message\n",
      "    self._sendall_with_error_handle(header + data)\n",
      "  File \"c:\\Users\\valen\\anaconda3\\envs\\nlp-m\\lib\\site-packages\\wandb\\sdk\\lib\\sock_client.py\", line 130, in _sendall_with_error_handle\n",
      "    sent = self._sock.send(data)\n",
      "ConnectionResetError: [WinError 10054] An existing connection was forcibly closed by the remote host\n",
      "Exception in thread IntMsgThr:\n",
      "Traceback (most recent call last):\n",
      "  File \"c:\\Users\\valen\\anaconda3\\envs\\nlp-m\\lib\\threading.py\", line 980, in _bootstrap_inner\n",
      "    self.run()\n",
      "  File \"c:\\Users\\valen\\anaconda3\\envs\\nlp-m\\lib\\threading.py\", line 917, in run\n",
      "    self._target(*self._args, **self._kwargs)\n",
      "  File \"c:\\Users\\valen\\anaconda3\\envs\\nlp-m\\lib\\site-packages\\wandb\\sdk\\wandb_run.py\", line 300, in check_internal_messages\n",
      "    self._loop_check_status(\n",
      "  File \"c:\\Users\\valen\\anaconda3\\envs\\nlp-m\\lib\\site-packages\\wandb\\sdk\\wandb_run.py\", line 224, in _loop_check_status\n",
      "    local_handle = request()\n",
      "  File \"c:\\Users\\valen\\anaconda3\\envs\\nlp-m\\lib\\site-packages\\wandb\\sdk\\interface\\interface.py\", line 764, in deliver_internal_messages\n",
      "    return self._deliver_internal_messages(internal_message)\n",
      "  File \"c:\\Users\\valen\\anaconda3\\envs\\nlp-m\\lib\\site-packages\\wandb\\sdk\\interface\\interface_shared.py\", line 490, in _deliver_internal_messages\n",
      "    return self._deliver_record(record)\n",
      "  File \"c:\\Users\\valen\\anaconda3\\envs\\nlp-m\\lib\\site-packages\\wandb\\sdk\\interface\\interface_shared.py\", line 437, in _deliver_record\n",
      "    handle = mailbox._deliver_record(record, interface=self)\n",
      "  File \"c:\\Users\\valen\\anaconda3\\envs\\nlp-m\\lib\\site-packages\\wandb\\sdk\\lib\\mailbox.py\", line 455, in _deliver_record\n",
      "    interface._publish(record)\n",
      "  File \"c:\\Users\\valen\\anaconda3\\envs\\nlp-m\\lib\\site-packages\\wandb\\sdk\\interface\\interface_sock.py\", line 51, in _publish\n",
      "    self._sock_client.send_record_publish(record)\n",
      "  File \"c:\\Users\\valen\\anaconda3\\envs\\nlp-m\\lib\\site-packages\\wandb\\sdk\\lib\\sock_client.py\", line 221, in send_record_publish\n",
      "    self.send_server_request(server_req)\n",
      "  File \"c:\\Users\\valen\\anaconda3\\envs\\nlp-m\\lib\\site-packages\\wandb\\sdk\\lib\\sock_client.py\", line 155, in send_server_request\n",
      "    self._send_message(msg)\n",
      "  File \"c:\\Users\\valen\\anaconda3\\envs\\nlp-m\\lib\\site-packages\\wandb\\sdk\\lib\\sock_client.py\", line 152, in _send_message\n",
      "    self._sendall_with_error_handle(header + data)\n",
      "  File \"c:\\Users\\valen\\anaconda3\\envs\\nlp-m\\lib\\site-packages\\wandb\\sdk\\lib\\sock_client.py\", line 130, in _sendall_with_error_handle\n",
      "    sent = self._sock.send(data)\n",
      "ConnectionResetError: [WinError 10054] An existing connection was forcibly closed by the remote host\n",
      "Exception in thread ChkStopThr:\n",
      "Traceback (most recent call last):\n",
      "  File \"c:\\Users\\valen\\anaconda3\\envs\\nlp-m\\lib\\threading.py\", line 980, in _bootstrap_inner\n",
      "    self.run()\n",
      "  File \"c:\\Users\\valen\\anaconda3\\envs\\nlp-m\\lib\\threading.py\", line 917, in run\n",
      "    self._target(*self._args, **self._kwargs)\n",
      "  File \"c:\\Users\\valen\\anaconda3\\envs\\nlp-m\\lib\\site-packages\\wandb\\sdk\\wandb_run.py\", line 286, in check_stop_status\n",
      "    self._loop_check_status(\n",
      "  File \"c:\\Users\\valen\\anaconda3\\envs\\nlp-m\\lib\\site-packages\\wandb\\sdk\\wandb_run.py\", line 224, in _loop_check_status\n",
      "    local_handle = request()\n",
      "  File \"c:\\Users\\valen\\anaconda3\\envs\\nlp-m\\lib\\site-packages\\wandb\\sdk\\interface\\interface.py\", line 748, in deliver_stop_status\n",
      "    return self._deliver_stop_status(status)\n",
      "  File \"c:\\Users\\valen\\anaconda3\\envs\\nlp-m\\lib\\site-packages\\wandb\\sdk\\interface\\interface_shared.py\", line 468, in _deliver_stop_status\n",
      "    return self._deliver_record(record)\n",
      "  File \"c:\\Users\\valen\\anaconda3\\envs\\nlp-m\\lib\\site-packages\\wandb\\sdk\\interface\\interface_shared.py\", line 437, in _deliver_record\n",
      "    handle = mailbox._deliver_record(record, interface=self)\n",
      "  File \"c:\\Users\\valen\\anaconda3\\envs\\nlp-m\\lib\\site-packages\\wandb\\sdk\\lib\\mailbox.py\", line 455, in _deliver_record\n",
      "    interface._publish(record)\n",
      "  File \"c:\\Users\\valen\\anaconda3\\envs\\nlp-m\\lib\\site-packages\\wandb\\sdk\\interface\\interface_sock.py\", line 51, in _publish\n",
      "    self._sock_client.send_record_publish(record)\n",
      "  File \"c:\\Users\\valen\\anaconda3\\envs\\nlp-m\\lib\\site-packages\\wandb\\sdk\\lib\\sock_client.py\", line 221, in send_record_publish\n",
      "    self.send_server_request(server_req)\n",
      "  File \"c:\\Users\\valen\\anaconda3\\envs\\nlp-m\\lib\\site-packages\\wandb\\sdk\\lib\\sock_client.py\", line 155, in send_server_request\n",
      "    self._send_message(msg)\n",
      "  File \"c:\\Users\\valen\\anaconda3\\envs\\nlp-m\\lib\\site-packages\\wandb\\sdk\\lib\\sock_client.py\", line 152, in _send_message\n",
      "    self._sendall_with_error_handle(header + data)\n",
      "  File \"c:\\Users\\valen\\anaconda3\\envs\\nlp-m\\lib\\site-packages\\wandb\\sdk\\lib\\sock_client.py\", line 130, in _sendall_with_error_handle\n",
      "    sent = self._sock.send(data)\n",
      "ConnectionResetError: [WinError 10054] An existing connection was forcibly closed by the remote host\n",
      "Exception in thread NetStatThr:\n",
      "Traceback (most recent call last):\n",
      "  File \"c:\\Users\\valen\\anaconda3\\envs\\nlp-m\\lib\\threading.py\", line 980, in _bootstrap_inner\n",
      "    self.run()\n",
      "  File \"c:\\Users\\valen\\anaconda3\\envs\\nlp-m\\lib\\threading.py\", line 917, in run\n",
      "    self._target(*self._args, **self._kwargs)\n",
      "  File \"c:\\Users\\valen\\anaconda3\\envs\\nlp-m\\lib\\site-packages\\wandb\\sdk\\wandb_run.py\", line 268, in check_network_status\n",
      "    self._loop_check_status(\n",
      "  File \"c:\\Users\\valen\\anaconda3\\envs\\nlp-m\\lib\\site-packages\\wandb\\sdk\\wandb_run.py\", line 224, in _loop_check_status\n",
      "    local_handle = request()\n",
      "  File \"c:\\Users\\valen\\anaconda3\\envs\\nlp-m\\lib\\site-packages\\wandb\\sdk\\interface\\interface.py\", line 756, in deliver_network_status\n",
      "    return self._deliver_network_status(status)\n",
      "  File \"c:\\Users\\valen\\anaconda3\\envs\\nlp-m\\lib\\site-packages\\wandb\\sdk\\interface\\interface_shared.py\", line 484, in _deliver_network_status\n",
      "    return self._deliver_record(record)\n",
      "  File \"c:\\Users\\valen\\anaconda3\\envs\\nlp-m\\lib\\site-packages\\wandb\\sdk\\interface\\interface_shared.py\", line 437, in _deliver_record\n",
      "    handle = mailbox._deliver_record(record, interface=self)\n",
      "  File \"c:\\Users\\valen\\anaconda3\\envs\\nlp-m\\lib\\site-packages\\wandb\\sdk\\lib\\mailbox.py\", line 455, in _deliver_record\n",
      "    interface._publish(record)\n",
      "  File \"c:\\Users\\valen\\anaconda3\\envs\\nlp-m\\lib\\site-packages\\wandb\\sdk\\interface\\interface_sock.py\", line 51, in _publish\n",
      "    self._sock_client.send_record_publish(record)\n",
      "  File \"c:\\Users\\valen\\anaconda3\\envs\\nlp-m\\lib\\site-packages\\wandb\\sdk\\lib\\sock_client.py\", line 221, in send_record_publish\n",
      "    self.send_server_request(server_req)\n",
      "  File \"c:\\Users\\valen\\anaconda3\\envs\\nlp-m\\lib\\site-packages\\wandb\\sdk\\lib\\sock_client.py\", line 155, in send_server_request\n",
      "    self._send_message(msg)\n",
      "  File \"c:\\Users\\valen\\anaconda3\\envs\\nlp-m\\lib\\site-packages\\wandb\\sdk\\lib\\sock_client.py\", line 152, in _send_message\n",
      "    self._sendall_with_error_handle(header + data)\n",
      "  File \"c:\\Users\\valen\\anaconda3\\envs\\nlp-m\\lib\\site-packages\\wandb\\sdk\\lib\\sock_client.py\", line 130, in _sendall_with_error_handle\n",
      "    sent = self._sock.send(data)\n",
      "ConnectionResetError: [WinError 10054] An existing connection was forcibly closed by the remote host\n",
      "\u001b[34m\u001b[1mwandb\u001b[0m: While tearing down the service manager. The following error has occurred: [WinError 10054] An existing connection was forcibly closed by the remote host\n",
      "\u001b[34m\u001b[1mwandb\u001b[0m: Agent Starting Run: xcq8aset with config:\n",
      "\u001b[34m\u001b[1mwandb\u001b[0m: \tbatch_size: 8\n",
      "\u001b[34m\u001b[1mwandb\u001b[0m: \tconv_hid_size: 32\n",
      "\u001b[34m\u001b[1mwandb\u001b[0m: \tconv_in_size: 32\n",
      "\u001b[34m\u001b[1mwandb\u001b[0m: \tconv_out_size: 8\n",
      "\u001b[34m\u001b[1mwandb\u001b[0m: \tdropout: 0.25\n",
      "\u001b[34m\u001b[1mwandb\u001b[0m: \tfc_size: 128\n",
      "\u001b[34m\u001b[1mwandb\u001b[0m: \thidden_size: 8\n",
      "\u001b[34m\u001b[1mwandb\u001b[0m: \tlr: 0.0001\n",
      "\u001b[34m\u001b[1mwandb\u001b[0m: \tmax_epochs: 250\n",
      "Traceback (most recent call last):\n",
      "  File \"c:\\Users\\valen\\anaconda3\\envs\\nlp-m\\lib\\site-packages\\wandb\\sdk\\wandb_init.py\", line 1166, in init\n",
      "    wi.setup(kwargs)\n",
      "  File \"c:\\Users\\valen\\anaconda3\\envs\\nlp-m\\lib\\site-packages\\wandb\\sdk\\wandb_init.py\", line 233, in setup\n",
      "    tel.feature.set_init_tags = True\n",
      "  File \"c:\\Users\\valen\\anaconda3\\envs\\nlp-m\\lib\\site-packages\\wandb\\sdk\\lib\\telemetry.py\", line 42, in __exit__\n",
      "    self._run._telemetry_callback(self._obj)\n",
      "  File \"c:\\Users\\valen\\anaconda3\\envs\\nlp-m\\lib\\site-packages\\wandb\\sdk\\wandb_run.py\", line 758, in _telemetry_callback\n",
      "    self._telemetry_flush()\n",
      "  File \"c:\\Users\\valen\\anaconda3\\envs\\nlp-m\\lib\\site-packages\\wandb\\sdk\\wandb_run.py\", line 769, in _telemetry_flush\n",
      "    self._backend.interface._publish_telemetry(self._telemetry_obj)\n",
      "  File \"c:\\Users\\valen\\anaconda3\\envs\\nlp-m\\lib\\site-packages\\wandb\\sdk\\interface\\interface_shared.py\", line 101, in _publish_telemetry\n",
      "    self._publish(rec)\n",
      "  File \"c:\\Users\\valen\\anaconda3\\envs\\nlp-m\\lib\\site-packages\\wandb\\sdk\\interface\\interface_sock.py\", line 51, in _publish\n",
      "    self._sock_client.send_record_publish(record)\n",
      "  File \"c:\\Users\\valen\\anaconda3\\envs\\nlp-m\\lib\\site-packages\\wandb\\sdk\\lib\\sock_client.py\", line 221, in send_record_publish\n",
      "    self.send_server_request(server_req)\n",
      "  File \"c:\\Users\\valen\\anaconda3\\envs\\nlp-m\\lib\\site-packages\\wandb\\sdk\\lib\\sock_client.py\", line 155, in send_server_request\n",
      "    self._send_message(msg)\n",
      "  File \"c:\\Users\\valen\\anaconda3\\envs\\nlp-m\\lib\\site-packages\\wandb\\sdk\\lib\\sock_client.py\", line 152, in _send_message\n",
      "    self._sendall_with_error_handle(header + data)\n",
      "  File \"c:\\Users\\valen\\anaconda3\\envs\\nlp-m\\lib\\site-packages\\wandb\\sdk\\lib\\sock_client.py\", line 130, in _sendall_with_error_handle\n",
      "    sent = self._sock.send(data)\n",
      "ConnectionResetError: [WinError 10054] An existing connection was forcibly closed by the remote host\n",
      "Exception in thread Thread-64:\n",
      "Traceback (most recent call last):\n",
      "  File \"c:\\Users\\valen\\anaconda3\\envs\\nlp-m\\lib\\site-packages\\wandb\\sdk\\wandb_init.py\", line 1166, in init\n",
      "    wi.setup(kwargs)\n",
      "  File \"c:\\Users\\valen\\anaconda3\\envs\\nlp-m\\lib\\site-packages\\wandb\\sdk\\wandb_init.py\", line 233, in setup\n",
      "    tel.feature.set_init_tags = True\n",
      "  File \"c:\\Users\\valen\\anaconda3\\envs\\nlp-m\\lib\\site-packages\\wandb\\sdk\\lib\\telemetry.py\", line 42, in __exit__\n",
      "    self._run._telemetry_callback(self._obj)\n",
      "  File \"c:\\Users\\valen\\anaconda3\\envs\\nlp-m\\lib\\site-packages\\wandb\\sdk\\wandb_run.py\", line 758, in _telemetry_callback\n",
      "    self._telemetry_flush()\n",
      "  File \"c:\\Users\\valen\\anaconda3\\envs\\nlp-m\\lib\\site-packages\\wandb\\sdk\\wandb_run.py\", line 769, in _telemetry_flush\n",
      "    self._backend.interface._publish_telemetry(self._telemetry_obj)\n",
      "  File \"c:\\Users\\valen\\anaconda3\\envs\\nlp-m\\lib\\site-packages\\wandb\\sdk\\interface\\interface_shared.py\", line 101, in _publish_telemetry\n",
      "    self._publish(rec)\n",
      "  File \"c:\\Users\\valen\\anaconda3\\envs\\nlp-m\\lib\\site-packages\\wandb\\sdk\\interface\\interface_sock.py\", line 51, in _publish\n",
      "    self._sock_client.send_record_publish(record)\n",
      "  File \"c:\\Users\\valen\\anaconda3\\envs\\nlp-m\\lib\\site-packages\\wandb\\sdk\\lib\\sock_client.py\", line 221, in send_record_publish\n",
      "    self.send_server_request(server_req)\n",
      "  File \"c:\\Users\\valen\\anaconda3\\envs\\nlp-m\\lib\\site-packages\\wandb\\sdk\\lib\\sock_client.py\", line 155, in send_server_request\n",
      "    self._send_message(msg)\n",
      "  File \"c:\\Users\\valen\\anaconda3\\envs\\nlp-m\\lib\\site-packages\\wandb\\sdk\\lib\\sock_client.py\", line 152, in _send_message\n",
      "    self._sendall_with_error_handle(header + data)\n",
      "  File \"c:\\Users\\valen\\anaconda3\\envs\\nlp-m\\lib\\site-packages\\wandb\\sdk\\lib\\sock_client.py\", line 130, in _sendall_with_error_handle\n",
      "    sent = self._sock.send(data)\n",
      "ConnectionResetError: [WinError 10054] An existing connection was forcibly closed by the remote host\n",
      "\n",
      "The above exception was the direct cause of the following exception:\n",
      "\n",
      "Traceback (most recent call last):\n",
      "  File \"c:\\Users\\valen\\anaconda3\\envs\\nlp-m\\lib\\site-packages\\wandb\\agents\\pyagent.py\", line 298, in _run_job\n",
      "    self._function()\n",
      "  File \"C:\\Users\\valen\\AppData\\Local\\Temp\\ipykernel_19500\\35702409.py\", line 8, in train_model\n",
      "  File \"c:\\Users\\valen\\anaconda3\\envs\\nlp-m\\lib\\site-packages\\wandb\\sdk\\wandb_init.py\", line 1208, in init\n",
      "    raise Error(\"An unexpected error occurred\") from error_seen\n",
      "wandb.errors.Error: An unexpected error occurred\n",
      "\n",
      "During handling of the above exception, another exception occurred:\n",
      "\n",
      "Traceback (most recent call last):\n",
      "  File \"c:\\Users\\valen\\anaconda3\\envs\\nlp-m\\lib\\threading.py\", line 980, in _bootstrap_inner\n",
      "    self.run()\n",
      "  File \"c:\\Users\\valen\\anaconda3\\envs\\nlp-m\\lib\\threading.py\", line 917, in run\n",
      "    self._target(*self._args, **self._kwargs)\n",
      "  File \"c:\\Users\\valen\\anaconda3\\envs\\nlp-m\\lib\\site-packages\\wandb\\agents\\pyagent.py\", line 303, in _run_job\n",
      "    wandb.finish(exit_code=1)\n",
      "  File \"c:\\Users\\valen\\anaconda3\\envs\\nlp-m\\lib\\site-packages\\wandb\\sdk\\wandb_run.py\", line 4090, in finish\n",
      "    wandb.run.finish(exit_code=exit_code, quiet=quiet)\n",
      "  File \"c:\\Users\\valen\\anaconda3\\envs\\nlp-m\\lib\\site-packages\\wandb\\sdk\\wandb_run.py\", line 420, in wrapper\n",
      "    return func(self, *args, **kwargs)\n",
      "  File \"c:\\Users\\valen\\anaconda3\\envs\\nlp-m\\lib\\site-packages\\wandb\\sdk\\wandb_run.py\", line 361, in wrapper\n",
      "    return func(self, *args, **kwargs)\n",
      "  File \"c:\\Users\\valen\\anaconda3\\envs\\nlp-m\\lib\\site-packages\\wandb\\sdk\\wandb_run.py\", line 1953, in finish\n",
      "    return self._finish(exit_code, quiet)\n",
      "  File \"c:\\Users\\valen\\anaconda3\\envs\\nlp-m\\lib\\site-packages\\wandb\\sdk\\wandb_run.py\", line 1961, in _finish\n",
      "    tel.feature.finish = True\n",
      "  File \"c:\\Users\\valen\\anaconda3\\envs\\nlp-m\\lib\\site-packages\\wandb\\sdk\\lib\\telemetry.py\", line 42, in __exit__\n",
      "    self._run._telemetry_callback(self._obj)\n",
      "  File \"c:\\Users\\valen\\anaconda3\\envs\\nlp-m\\lib\\site-packages\\wandb\\sdk\\wandb_run.py\", line 758, in _telemetry_callback\n",
      "    self._telemetry_flush()\n",
      "  File \"c:\\Users\\valen\\anaconda3\\envs\\nlp-m\\lib\\site-packages\\wandb\\sdk\\wandb_run.py\", line 769, in _telemetry_flush\n",
      "    self._backend.interface._publish_telemetry(self._telemetry_obj)\n",
      "  File \"c:\\Users\\valen\\anaconda3\\envs\\nlp-m\\lib\\site-packages\\wandb\\sdk\\interface\\interface_shared.py\", line 101, in _publish_telemetry\n",
      "    self._publish(rec)\n",
      "  File \"c:\\Users\\valen\\anaconda3\\envs\\nlp-m\\lib\\site-packages\\wandb\\sdk\\interface\\interface_sock.py\", line 51, in _publish\n",
      "    self._sock_client.send_record_publish(record)\n",
      "  File \"c:\\Users\\valen\\anaconda3\\envs\\nlp-m\\lib\\site-packages\\wandb\\sdk\\lib\\sock_client.py\", line 221, in send_record_publish\n",
      "    self.send_server_request(server_req)\n",
      "  File \"c:\\Users\\valen\\anaconda3\\envs\\nlp-m\\lib\\site-packages\\wandb\\sdk\\lib\\sock_client.py\", line 155, in send_server_request\n",
      "    self._send_message(msg)\n",
      "  File \"c:\\Users\\valen\\anaconda3\\envs\\nlp-m\\lib\\site-packages\\wandb\\sdk\\lib\\sock_client.py\", line 152, in _send_message\n",
      "    self._sendall_with_error_handle(header + data)\n",
      "  File \"c:\\Users\\valen\\anaconda3\\envs\\nlp-m\\lib\\site-packages\\wandb\\sdk\\lib\\sock_client.py\", line 130, in _sendall_with_error_handle\n",
      "    sent = self._sock.send(data)\n",
      "ConnectionResetError: [WinError 10054] An existing connection was forcibly closed by the remote host\n",
      "\u001b[34m\u001b[1mwandb\u001b[0m: Agent Starting Run: cqpht344 with config:\n",
      "\u001b[34m\u001b[1mwandb\u001b[0m: \tbatch_size: 24\n",
      "\u001b[34m\u001b[1mwandb\u001b[0m: \tconv_hid_size: 32\n",
      "\u001b[34m\u001b[1mwandb\u001b[0m: \tconv_in_size: 256\n",
      "\u001b[34m\u001b[1mwandb\u001b[0m: \tconv_out_size: 8\n",
      "\u001b[34m\u001b[1mwandb\u001b[0m: \tdropout: 0.25\n",
      "\u001b[34m\u001b[1mwandb\u001b[0m: \tfc_size: 512\n",
      "\u001b[34m\u001b[1mwandb\u001b[0m: \thidden_size: 16\n",
      "\u001b[34m\u001b[1mwandb\u001b[0m: \tlr: 0.001\n",
      "\u001b[34m\u001b[1mwandb\u001b[0m: \tmax_epochs: 250\n",
      "Traceback (most recent call last):\n",
      "  File \"c:\\Users\\valen\\anaconda3\\envs\\nlp-m\\lib\\site-packages\\wandb\\sdk\\wandb_init.py\", line 1166, in init\n",
      "    wi.setup(kwargs)\n",
      "  File \"c:\\Users\\valen\\anaconda3\\envs\\nlp-m\\lib\\site-packages\\wandb\\sdk\\wandb_init.py\", line 233, in setup\n",
      "    tel.feature.set_init_tags = True\n",
      "  File \"c:\\Users\\valen\\anaconda3\\envs\\nlp-m\\lib\\site-packages\\wandb\\sdk\\lib\\telemetry.py\", line 42, in __exit__\n",
      "    self._run._telemetry_callback(self._obj)\n",
      "  File \"c:\\Users\\valen\\anaconda3\\envs\\nlp-m\\lib\\site-packages\\wandb\\sdk\\wandb_run.py\", line 758, in _telemetry_callback\n",
      "    self._telemetry_flush()\n",
      "  File \"c:\\Users\\valen\\anaconda3\\envs\\nlp-m\\lib\\site-packages\\wandb\\sdk\\wandb_run.py\", line 769, in _telemetry_flush\n",
      "    self._backend.interface._publish_telemetry(self._telemetry_obj)\n",
      "  File \"c:\\Users\\valen\\anaconda3\\envs\\nlp-m\\lib\\site-packages\\wandb\\sdk\\interface\\interface_shared.py\", line 101, in _publish_telemetry\n",
      "    self._publish(rec)\n",
      "  File \"c:\\Users\\valen\\anaconda3\\envs\\nlp-m\\lib\\site-packages\\wandb\\sdk\\interface\\interface_sock.py\", line 51, in _publish\n",
      "    self._sock_client.send_record_publish(record)\n",
      "  File \"c:\\Users\\valen\\anaconda3\\envs\\nlp-m\\lib\\site-packages\\wandb\\sdk\\lib\\sock_client.py\", line 221, in send_record_publish\n",
      "    self.send_server_request(server_req)\n",
      "  File \"c:\\Users\\valen\\anaconda3\\envs\\nlp-m\\lib\\site-packages\\wandb\\sdk\\lib\\sock_client.py\", line 155, in send_server_request\n",
      "    self._send_message(msg)\n",
      "  File \"c:\\Users\\valen\\anaconda3\\envs\\nlp-m\\lib\\site-packages\\wandb\\sdk\\lib\\sock_client.py\", line 152, in _send_message\n",
      "    self._sendall_with_error_handle(header + data)\n",
      "  File \"c:\\Users\\valen\\anaconda3\\envs\\nlp-m\\lib\\site-packages\\wandb\\sdk\\lib\\sock_client.py\", line 130, in _sendall_with_error_handle\n",
      "    sent = self._sock.send(data)\n",
      "ConnectionResetError: [WinError 10054] An existing connection was forcibly closed by the remote host\n",
      "Exception in thread Thread-65:\n",
      "Traceback (most recent call last):\n",
      "  File \"c:\\Users\\valen\\anaconda3\\envs\\nlp-m\\lib\\site-packages\\wandb\\sdk\\wandb_init.py\", line 1166, in init\n",
      "    wi.setup(kwargs)\n",
      "  File \"c:\\Users\\valen\\anaconda3\\envs\\nlp-m\\lib\\site-packages\\wandb\\sdk\\wandb_init.py\", line 233, in setup\n",
      "    tel.feature.set_init_tags = True\n",
      "  File \"c:\\Users\\valen\\anaconda3\\envs\\nlp-m\\lib\\site-packages\\wandb\\sdk\\lib\\telemetry.py\", line 42, in __exit__\n",
      "    self._run._telemetry_callback(self._obj)\n",
      "  File \"c:\\Users\\valen\\anaconda3\\envs\\nlp-m\\lib\\site-packages\\wandb\\sdk\\wandb_run.py\", line 758, in _telemetry_callback\n",
      "    self._telemetry_flush()\n",
      "  File \"c:\\Users\\valen\\anaconda3\\envs\\nlp-m\\lib\\site-packages\\wandb\\sdk\\wandb_run.py\", line 769, in _telemetry_flush\n",
      "    self._backend.interface._publish_telemetry(self._telemetry_obj)\n",
      "  File \"c:\\Users\\valen\\anaconda3\\envs\\nlp-m\\lib\\site-packages\\wandb\\sdk\\interface\\interface_shared.py\", line 101, in _publish_telemetry\n",
      "    self._publish(rec)\n",
      "  File \"c:\\Users\\valen\\anaconda3\\envs\\nlp-m\\lib\\site-packages\\wandb\\sdk\\interface\\interface_sock.py\", line 51, in _publish\n",
      "    self._sock_client.send_record_publish(record)\n",
      "  File \"c:\\Users\\valen\\anaconda3\\envs\\nlp-m\\lib\\site-packages\\wandb\\sdk\\lib\\sock_client.py\", line 221, in send_record_publish\n",
      "    self.send_server_request(server_req)\n",
      "  File \"c:\\Users\\valen\\anaconda3\\envs\\nlp-m\\lib\\site-packages\\wandb\\sdk\\lib\\sock_client.py\", line 155, in send_server_request\n",
      "    self._send_message(msg)\n",
      "  File \"c:\\Users\\valen\\anaconda3\\envs\\nlp-m\\lib\\site-packages\\wandb\\sdk\\lib\\sock_client.py\", line 152, in _send_message\n",
      "    self._sendall_with_error_handle(header + data)\n",
      "  File \"c:\\Users\\valen\\anaconda3\\envs\\nlp-m\\lib\\site-packages\\wandb\\sdk\\lib\\sock_client.py\", line 130, in _sendall_with_error_handle\n",
      "    sent = self._sock.send(data)\n",
      "ConnectionResetError: [WinError 10054] An existing connection was forcibly closed by the remote host\n",
      "\n",
      "The above exception was the direct cause of the following exception:\n",
      "\n",
      "Traceback (most recent call last):\n",
      "  File \"c:\\Users\\valen\\anaconda3\\envs\\nlp-m\\lib\\site-packages\\wandb\\agents\\pyagent.py\", line 298, in _run_job\n",
      "    self._function()\n",
      "  File \"C:\\Users\\valen\\AppData\\Local\\Temp\\ipykernel_19500\\35702409.py\", line 8, in train_model\n",
      "  File \"c:\\Users\\valen\\anaconda3\\envs\\nlp-m\\lib\\site-packages\\wandb\\sdk\\wandb_init.py\", line 1208, in init\n",
      "    raise Error(\"An unexpected error occurred\") from error_seen\n",
      "wandb.errors.Error: An unexpected error occurred\n",
      "\n",
      "During handling of the above exception, another exception occurred:\n",
      "\n",
      "Traceback (most recent call last):\n",
      "  File \"c:\\Users\\valen\\anaconda3\\envs\\nlp-m\\lib\\threading.py\", line 980, in _bootstrap_inner\n",
      "    self.run()\n",
      "  File \"c:\\Users\\valen\\anaconda3\\envs\\nlp-m\\lib\\threading.py\", line 917, in run\n",
      "    self._target(*self._args, **self._kwargs)\n",
      "  File \"c:\\Users\\valen\\anaconda3\\envs\\nlp-m\\lib\\site-packages\\wandb\\agents\\pyagent.py\", line 303, in _run_job\n",
      "    wandb.finish(exit_code=1)\n",
      "  File \"c:\\Users\\valen\\anaconda3\\envs\\nlp-m\\lib\\site-packages\\wandb\\sdk\\wandb_run.py\", line 4090, in finish\n",
      "    wandb.run.finish(exit_code=exit_code, quiet=quiet)\n",
      "  File \"c:\\Users\\valen\\anaconda3\\envs\\nlp-m\\lib\\site-packages\\wandb\\sdk\\wandb_run.py\", line 420, in wrapper\n",
      "    return func(self, *args, **kwargs)\n",
      "  File \"c:\\Users\\valen\\anaconda3\\envs\\nlp-m\\lib\\site-packages\\wandb\\sdk\\wandb_run.py\", line 361, in wrapper\n",
      "    return func(self, *args, **kwargs)\n",
      "  File \"c:\\Users\\valen\\anaconda3\\envs\\nlp-m\\lib\\site-packages\\wandb\\sdk\\wandb_run.py\", line 1953, in finish\n",
      "    return self._finish(exit_code, quiet)\n",
      "  File \"c:\\Users\\valen\\anaconda3\\envs\\nlp-m\\lib\\site-packages\\wandb\\sdk\\wandb_run.py\", line 1961, in _finish\n",
      "    tel.feature.finish = True\n",
      "  File \"c:\\Users\\valen\\anaconda3\\envs\\nlp-m\\lib\\site-packages\\wandb\\sdk\\lib\\telemetry.py\", line 42, in __exit__\n",
      "    self._run._telemetry_callback(self._obj)\n",
      "  File \"c:\\Users\\valen\\anaconda3\\envs\\nlp-m\\lib\\site-packages\\wandb\\sdk\\wandb_run.py\", line 758, in _telemetry_callback\n",
      "    self._telemetry_flush()\n",
      "  File \"c:\\Users\\valen\\anaconda3\\envs\\nlp-m\\lib\\site-packages\\wandb\\sdk\\wandb_run.py\", line 769, in _telemetry_flush\n",
      "    self._backend.interface._publish_telemetry(self._telemetry_obj)\n",
      "  File \"c:\\Users\\valen\\anaconda3\\envs\\nlp-m\\lib\\site-packages\\wandb\\sdk\\interface\\interface_shared.py\", line 101, in _publish_telemetry\n",
      "    self._publish(rec)\n",
      "  File \"c:\\Users\\valen\\anaconda3\\envs\\nlp-m\\lib\\site-packages\\wandb\\sdk\\interface\\interface_sock.py\", line 51, in _publish\n",
      "    self._sock_client.send_record_publish(record)\n",
      "  File \"c:\\Users\\valen\\anaconda3\\envs\\nlp-m\\lib\\site-packages\\wandb\\sdk\\lib\\sock_client.py\", line 221, in send_record_publish\n",
      "    self.send_server_request(server_req)\n",
      "  File \"c:\\Users\\valen\\anaconda3\\envs\\nlp-m\\lib\\site-packages\\wandb\\sdk\\lib\\sock_client.py\", line 155, in send_server_request\n",
      "    self._send_message(msg)\n",
      "  File \"c:\\Users\\valen\\anaconda3\\envs\\nlp-m\\lib\\site-packages\\wandb\\sdk\\lib\\sock_client.py\", line 152, in _send_message\n",
      "    self._sendall_with_error_handle(header + data)\n",
      "  File \"c:\\Users\\valen\\anaconda3\\envs\\nlp-m\\lib\\site-packages\\wandb\\sdk\\lib\\sock_client.py\", line 130, in _sendall_with_error_handle\n",
      "    sent = self._sock.send(data)\n",
      "ConnectionResetError: [WinError 10054] An existing connection was forcibly closed by the remote host\n",
      "\u001b[34m\u001b[1mwandb\u001b[0m: Agent Starting Run: de07kjwv with config:\n",
      "\u001b[34m\u001b[1mwandb\u001b[0m: \tbatch_size: 16\n",
      "\u001b[34m\u001b[1mwandb\u001b[0m: \tconv_hid_size: 16\n",
      "\u001b[34m\u001b[1mwandb\u001b[0m: \tconv_in_size: 256\n",
      "\u001b[34m\u001b[1mwandb\u001b[0m: \tconv_out_size: 16\n",
      "\u001b[34m\u001b[1mwandb\u001b[0m: \tdropout: 0.2\n",
      "\u001b[34m\u001b[1mwandb\u001b[0m: \tfc_size: 32\n",
      "\u001b[34m\u001b[1mwandb\u001b[0m: \thidden_size: 16\n",
      "\u001b[34m\u001b[1mwandb\u001b[0m: \tlr: 0.0001\n",
      "\u001b[34m\u001b[1mwandb\u001b[0m: \tmax_epochs: 250\n",
      "Traceback (most recent call last):\n",
      "  File \"c:\\Users\\valen\\anaconda3\\envs\\nlp-m\\lib\\site-packages\\wandb\\sdk\\wandb_init.py\", line 1166, in init\n",
      "    wi.setup(kwargs)\n",
      "  File \"c:\\Users\\valen\\anaconda3\\envs\\nlp-m\\lib\\site-packages\\wandb\\sdk\\wandb_init.py\", line 233, in setup\n",
      "    tel.feature.set_init_tags = True\n",
      "  File \"c:\\Users\\valen\\anaconda3\\envs\\nlp-m\\lib\\site-packages\\wandb\\sdk\\lib\\telemetry.py\", line 42, in __exit__\n",
      "    self._run._telemetry_callback(self._obj)\n",
      "  File \"c:\\Users\\valen\\anaconda3\\envs\\nlp-m\\lib\\site-packages\\wandb\\sdk\\wandb_run.py\", line 758, in _telemetry_callback\n",
      "    self._telemetry_flush()\n",
      "  File \"c:\\Users\\valen\\anaconda3\\envs\\nlp-m\\lib\\site-packages\\wandb\\sdk\\wandb_run.py\", line 769, in _telemetry_flush\n",
      "    self._backend.interface._publish_telemetry(self._telemetry_obj)\n",
      "  File \"c:\\Users\\valen\\anaconda3\\envs\\nlp-m\\lib\\site-packages\\wandb\\sdk\\interface\\interface_shared.py\", line 101, in _publish_telemetry\n",
      "    self._publish(rec)\n",
      "  File \"c:\\Users\\valen\\anaconda3\\envs\\nlp-m\\lib\\site-packages\\wandb\\sdk\\interface\\interface_sock.py\", line 51, in _publish\n",
      "    self._sock_client.send_record_publish(record)\n",
      "  File \"c:\\Users\\valen\\anaconda3\\envs\\nlp-m\\lib\\site-packages\\wandb\\sdk\\lib\\sock_client.py\", line 221, in send_record_publish\n",
      "    self.send_server_request(server_req)\n",
      "  File \"c:\\Users\\valen\\anaconda3\\envs\\nlp-m\\lib\\site-packages\\wandb\\sdk\\lib\\sock_client.py\", line 155, in send_server_request\n",
      "    self._send_message(msg)\n",
      "  File \"c:\\Users\\valen\\anaconda3\\envs\\nlp-m\\lib\\site-packages\\wandb\\sdk\\lib\\sock_client.py\", line 152, in _send_message\n",
      "    self._sendall_with_error_handle(header + data)\n",
      "  File \"c:\\Users\\valen\\anaconda3\\envs\\nlp-m\\lib\\site-packages\\wandb\\sdk\\lib\\sock_client.py\", line 130, in _sendall_with_error_handle\n",
      "    sent = self._sock.send(data)\n",
      "ConnectionResetError: [WinError 10054] An existing connection was forcibly closed by the remote host\n",
      "Exception in thread Thread-66:\n",
      "Traceback (most recent call last):\n",
      "  File \"c:\\Users\\valen\\anaconda3\\envs\\nlp-m\\lib\\site-packages\\wandb\\sdk\\wandb_init.py\", line 1166, in init\n",
      "    wi.setup(kwargs)\n",
      "  File \"c:\\Users\\valen\\anaconda3\\envs\\nlp-m\\lib\\site-packages\\wandb\\sdk\\wandb_init.py\", line 233, in setup\n",
      "    tel.feature.set_init_tags = True\n",
      "  File \"c:\\Users\\valen\\anaconda3\\envs\\nlp-m\\lib\\site-packages\\wandb\\sdk\\lib\\telemetry.py\", line 42, in __exit__\n",
      "    self._run._telemetry_callback(self._obj)\n",
      "  File \"c:\\Users\\valen\\anaconda3\\envs\\nlp-m\\lib\\site-packages\\wandb\\sdk\\wandb_run.py\", line 758, in _telemetry_callback\n",
      "    self._telemetry_flush()\n",
      "  File \"c:\\Users\\valen\\anaconda3\\envs\\nlp-m\\lib\\site-packages\\wandb\\sdk\\wandb_run.py\", line 769, in _telemetry_flush\n",
      "    self._backend.interface._publish_telemetry(self._telemetry_obj)\n",
      "  File \"c:\\Users\\valen\\anaconda3\\envs\\nlp-m\\lib\\site-packages\\wandb\\sdk\\interface\\interface_shared.py\", line 101, in _publish_telemetry\n",
      "    self._publish(rec)\n",
      "  File \"c:\\Users\\valen\\anaconda3\\envs\\nlp-m\\lib\\site-packages\\wandb\\sdk\\interface\\interface_sock.py\", line 51, in _publish\n",
      "    self._sock_client.send_record_publish(record)\n",
      "  File \"c:\\Users\\valen\\anaconda3\\envs\\nlp-m\\lib\\site-packages\\wandb\\sdk\\lib\\sock_client.py\", line 221, in send_record_publish\n",
      "    self.send_server_request(server_req)\n",
      "  File \"c:\\Users\\valen\\anaconda3\\envs\\nlp-m\\lib\\site-packages\\wandb\\sdk\\lib\\sock_client.py\", line 155, in send_server_request\n",
      "    self._send_message(msg)\n",
      "  File \"c:\\Users\\valen\\anaconda3\\envs\\nlp-m\\lib\\site-packages\\wandb\\sdk\\lib\\sock_client.py\", line 152, in _send_message\n",
      "    self._sendall_with_error_handle(header + data)\n",
      "  File \"c:\\Users\\valen\\anaconda3\\envs\\nlp-m\\lib\\site-packages\\wandb\\sdk\\lib\\sock_client.py\", line 130, in _sendall_with_error_handle\n",
      "    sent = self._sock.send(data)\n",
      "ConnectionResetError: [WinError 10054] An existing connection was forcibly closed by the remote host\n",
      "\n",
      "The above exception was the direct cause of the following exception:\n",
      "\n",
      "Traceback (most recent call last):\n",
      "  File \"c:\\Users\\valen\\anaconda3\\envs\\nlp-m\\lib\\site-packages\\wandb\\agents\\pyagent.py\", line 298, in _run_job\n",
      "    self._function()\n",
      "  File \"C:\\Users\\valen\\AppData\\Local\\Temp\\ipykernel_19500\\35702409.py\", line 8, in train_model\n",
      "  File \"c:\\Users\\valen\\anaconda3\\envs\\nlp-m\\lib\\site-packages\\wandb\\sdk\\wandb_init.py\", line 1208, in init\n",
      "    raise Error(\"An unexpected error occurred\") from error_seen\n",
      "wandb.errors.Error: An unexpected error occurred\n",
      "\n",
      "During handling of the above exception, another exception occurred:\n",
      "\n",
      "Traceback (most recent call last):\n",
      "  File \"c:\\Users\\valen\\anaconda3\\envs\\nlp-m\\lib\\threading.py\", line 980, in _bootstrap_inner\n",
      "    self.run()\n",
      "  File \"c:\\Users\\valen\\anaconda3\\envs\\nlp-m\\lib\\threading.py\", line 917, in run\n",
      "    self._target(*self._args, **self._kwargs)\n",
      "  File \"c:\\Users\\valen\\anaconda3\\envs\\nlp-m\\lib\\site-packages\\wandb\\agents\\pyagent.py\", line 303, in _run_job\n",
      "    wandb.finish(exit_code=1)\n",
      "  File \"c:\\Users\\valen\\anaconda3\\envs\\nlp-m\\lib\\site-packages\\wandb\\sdk\\wandb_run.py\", line 4090, in finish\n",
      "    wandb.run.finish(exit_code=exit_code, quiet=quiet)\n",
      "  File \"c:\\Users\\valen\\anaconda3\\envs\\nlp-m\\lib\\site-packages\\wandb\\sdk\\wandb_run.py\", line 420, in wrapper\n",
      "    return func(self, *args, **kwargs)\n",
      "  File \"c:\\Users\\valen\\anaconda3\\envs\\nlp-m\\lib\\site-packages\\wandb\\sdk\\wandb_run.py\", line 361, in wrapper\n",
      "    return func(self, *args, **kwargs)\n",
      "  File \"c:\\Users\\valen\\anaconda3\\envs\\nlp-m\\lib\\site-packages\\wandb\\sdk\\wandb_run.py\", line 1953, in finish\n",
      "    return self._finish(exit_code, quiet)\n",
      "  File \"c:\\Users\\valen\\anaconda3\\envs\\nlp-m\\lib\\site-packages\\wandb\\sdk\\wandb_run.py\", line 1961, in _finish\n",
      "    tel.feature.finish = True\n",
      "  File \"c:\\Users\\valen\\anaconda3\\envs\\nlp-m\\lib\\site-packages\\wandb\\sdk\\lib\\telemetry.py\", line 42, in __exit__\n",
      "    self._run._telemetry_callback(self._obj)\n",
      "  File \"c:\\Users\\valen\\anaconda3\\envs\\nlp-m\\lib\\site-packages\\wandb\\sdk\\wandb_run.py\", line 758, in _telemetry_callback\n",
      "    self._telemetry_flush()\n",
      "  File \"c:\\Users\\valen\\anaconda3\\envs\\nlp-m\\lib\\site-packages\\wandb\\sdk\\wandb_run.py\", line 769, in _telemetry_flush\n",
      "    self._backend.interface._publish_telemetry(self._telemetry_obj)\n",
      "  File \"c:\\Users\\valen\\anaconda3\\envs\\nlp-m\\lib\\site-packages\\wandb\\sdk\\interface\\interface_shared.py\", line 101, in _publish_telemetry\n",
      "    self._publish(rec)\n",
      "  File \"c:\\Users\\valen\\anaconda3\\envs\\nlp-m\\lib\\site-packages\\wandb\\sdk\\interface\\interface_sock.py\", line 51, in _publish\n",
      "    self._sock_client.send_record_publish(record)\n",
      "  File \"c:\\Users\\valen\\anaconda3\\envs\\nlp-m\\lib\\site-packages\\wandb\\sdk\\lib\\sock_client.py\", line 221, in send_record_publish\n",
      "    self.send_server_request(server_req)\n",
      "  File \"c:\\Users\\valen\\anaconda3\\envs\\nlp-m\\lib\\site-packages\\wandb\\sdk\\lib\\sock_client.py\", line 155, in send_server_request\n",
      "    self._send_message(msg)\n",
      "  File \"c:\\Users\\valen\\anaconda3\\envs\\nlp-m\\lib\\site-packages\\wandb\\sdk\\lib\\sock_client.py\", line 152, in _send_message\n",
      "    self._sendall_with_error_handle(header + data)\n",
      "  File \"c:\\Users\\valen\\anaconda3\\envs\\nlp-m\\lib\\site-packages\\wandb\\sdk\\lib\\sock_client.py\", line 130, in _sendall_with_error_handle\n",
      "    sent = self._sock.send(data)\n",
      "ConnectionResetError: [WinError 10054] An existing connection was forcibly closed by the remote host\n",
      "\u001b[34m\u001b[1mwandb\u001b[0m: Agent Starting Run: xpoxdjen with config:\n",
      "\u001b[34m\u001b[1mwandb\u001b[0m: \tbatch_size: 8\n",
      "\u001b[34m\u001b[1mwandb\u001b[0m: \tconv_hid_size: 32\n",
      "\u001b[34m\u001b[1mwandb\u001b[0m: \tconv_in_size: 256\n",
      "\u001b[34m\u001b[1mwandb\u001b[0m: \tconv_out_size: 8\n",
      "\u001b[34m\u001b[1mwandb\u001b[0m: \tdropout: 0.3\n",
      "\u001b[34m\u001b[1mwandb\u001b[0m: \tfc_size: 64\n",
      "\u001b[34m\u001b[1mwandb\u001b[0m: \thidden_size: 8\n",
      "\u001b[34m\u001b[1mwandb\u001b[0m: \tlr: 1e-05\n",
      "\u001b[34m\u001b[1mwandb\u001b[0m: \tmax_epochs: 250\n",
      "Traceback (most recent call last):\n",
      "  File \"c:\\Users\\valen\\anaconda3\\envs\\nlp-m\\lib\\site-packages\\wandb\\sdk\\wandb_init.py\", line 1166, in init\n",
      "    wi.setup(kwargs)\n",
      "  File \"c:\\Users\\valen\\anaconda3\\envs\\nlp-m\\lib\\site-packages\\wandb\\sdk\\wandb_init.py\", line 233, in setup\n",
      "    tel.feature.set_init_tags = True\n",
      "  File \"c:\\Users\\valen\\anaconda3\\envs\\nlp-m\\lib\\site-packages\\wandb\\sdk\\lib\\telemetry.py\", line 42, in __exit__\n",
      "    self._run._telemetry_callback(self._obj)\n",
      "  File \"c:\\Users\\valen\\anaconda3\\envs\\nlp-m\\lib\\site-packages\\wandb\\sdk\\wandb_run.py\", line 758, in _telemetry_callback\n",
      "    self._telemetry_flush()\n",
      "  File \"c:\\Users\\valen\\anaconda3\\envs\\nlp-m\\lib\\site-packages\\wandb\\sdk\\wandb_run.py\", line 769, in _telemetry_flush\n",
      "    self._backend.interface._publish_telemetry(self._telemetry_obj)\n",
      "  File \"c:\\Users\\valen\\anaconda3\\envs\\nlp-m\\lib\\site-packages\\wandb\\sdk\\interface\\interface_shared.py\", line 101, in _publish_telemetry\n",
      "    self._publish(rec)\n",
      "  File \"c:\\Users\\valen\\anaconda3\\envs\\nlp-m\\lib\\site-packages\\wandb\\sdk\\interface\\interface_sock.py\", line 51, in _publish\n",
      "    self._sock_client.send_record_publish(record)\n",
      "  File \"c:\\Users\\valen\\anaconda3\\envs\\nlp-m\\lib\\site-packages\\wandb\\sdk\\lib\\sock_client.py\", line 221, in send_record_publish\n",
      "    self.send_server_request(server_req)\n",
      "  File \"c:\\Users\\valen\\anaconda3\\envs\\nlp-m\\lib\\site-packages\\wandb\\sdk\\lib\\sock_client.py\", line 155, in send_server_request\n",
      "    self._send_message(msg)\n",
      "  File \"c:\\Users\\valen\\anaconda3\\envs\\nlp-m\\lib\\site-packages\\wandb\\sdk\\lib\\sock_client.py\", line 152, in _send_message\n",
      "    self._sendall_with_error_handle(header + data)\n",
      "  File \"c:\\Users\\valen\\anaconda3\\envs\\nlp-m\\lib\\site-packages\\wandb\\sdk\\lib\\sock_client.py\", line 130, in _sendall_with_error_handle\n",
      "    sent = self._sock.send(data)\n",
      "ConnectionResetError: [WinError 10054] An existing connection was forcibly closed by the remote host\n",
      "Exception in thread Thread-67:\n",
      "Traceback (most recent call last):\n",
      "  File \"c:\\Users\\valen\\anaconda3\\envs\\nlp-m\\lib\\site-packages\\wandb\\sdk\\wandb_init.py\", line 1166, in init\n",
      "    wi.setup(kwargs)\n",
      "  File \"c:\\Users\\valen\\anaconda3\\envs\\nlp-m\\lib\\site-packages\\wandb\\sdk\\wandb_init.py\", line 233, in setup\n",
      "    tel.feature.set_init_tags = True\n",
      "  File \"c:\\Users\\valen\\anaconda3\\envs\\nlp-m\\lib\\site-packages\\wandb\\sdk\\lib\\telemetry.py\", line 42, in __exit__\n",
      "    self._run._telemetry_callback(self._obj)\n",
      "  File \"c:\\Users\\valen\\anaconda3\\envs\\nlp-m\\lib\\site-packages\\wandb\\sdk\\wandb_run.py\", line 758, in _telemetry_callback\n",
      "    self._telemetry_flush()\n",
      "  File \"c:\\Users\\valen\\anaconda3\\envs\\nlp-m\\lib\\site-packages\\wandb\\sdk\\wandb_run.py\", line 769, in _telemetry_flush\n",
      "    self._backend.interface._publish_telemetry(self._telemetry_obj)\n",
      "  File \"c:\\Users\\valen\\anaconda3\\envs\\nlp-m\\lib\\site-packages\\wandb\\sdk\\interface\\interface_shared.py\", line 101, in _publish_telemetry\n",
      "    self._publish(rec)\n",
      "  File \"c:\\Users\\valen\\anaconda3\\envs\\nlp-m\\lib\\site-packages\\wandb\\sdk\\interface\\interface_sock.py\", line 51, in _publish\n",
      "    self._sock_client.send_record_publish(record)\n",
      "  File \"c:\\Users\\valen\\anaconda3\\envs\\nlp-m\\lib\\site-packages\\wandb\\sdk\\lib\\sock_client.py\", line 221, in send_record_publish\n",
      "    self.send_server_request(server_req)\n",
      "  File \"c:\\Users\\valen\\anaconda3\\envs\\nlp-m\\lib\\site-packages\\wandb\\sdk\\lib\\sock_client.py\", line 155, in send_server_request\n",
      "    self._send_message(msg)\n",
      "  File \"c:\\Users\\valen\\anaconda3\\envs\\nlp-m\\lib\\site-packages\\wandb\\sdk\\lib\\sock_client.py\", line 152, in _send_message\n",
      "    self._sendall_with_error_handle(header + data)\n",
      "  File \"c:\\Users\\valen\\anaconda3\\envs\\nlp-m\\lib\\site-packages\\wandb\\sdk\\lib\\sock_client.py\", line 130, in _sendall_with_error_handle\n",
      "    sent = self._sock.send(data)\n",
      "ConnectionResetError: [WinError 10054] An existing connection was forcibly closed by the remote host\n",
      "\n",
      "The above exception was the direct cause of the following exception:\n",
      "\n",
      "Traceback (most recent call last):\n",
      "  File \"c:\\Users\\valen\\anaconda3\\envs\\nlp-m\\lib\\site-packages\\wandb\\agents\\pyagent.py\", line 298, in _run_job\n",
      "    self._function()\n",
      "  File \"C:\\Users\\valen\\AppData\\Local\\Temp\\ipykernel_19500\\35702409.py\", line 8, in train_model\n",
      "  File \"c:\\Users\\valen\\anaconda3\\envs\\nlp-m\\lib\\site-packages\\wandb\\sdk\\wandb_init.py\", line 1208, in init\n",
      "    raise Error(\"An unexpected error occurred\") from error_seen\n",
      "wandb.errors.Error: An unexpected error occurred\n",
      "\n",
      "During handling of the above exception, another exception occurred:\n",
      "\n",
      "Traceback (most recent call last):\n",
      "  File \"c:\\Users\\valen\\anaconda3\\envs\\nlp-m\\lib\\threading.py\", line 980, in _bootstrap_inner\n",
      "    self.run()\n",
      "  File \"c:\\Users\\valen\\anaconda3\\envs\\nlp-m\\lib\\threading.py\", line 917, in run\n",
      "    self._target(*self._args, **self._kwargs)\n",
      "  File \"c:\\Users\\valen\\anaconda3\\envs\\nlp-m\\lib\\site-packages\\wandb\\agents\\pyagent.py\", line 303, in _run_job\n",
      "    wandb.finish(exit_code=1)\n",
      "  File \"c:\\Users\\valen\\anaconda3\\envs\\nlp-m\\lib\\site-packages\\wandb\\sdk\\wandb_run.py\", line 4090, in finish\n",
      "    wandb.run.finish(exit_code=exit_code, quiet=quiet)\n",
      "  File \"c:\\Users\\valen\\anaconda3\\envs\\nlp-m\\lib\\site-packages\\wandb\\sdk\\wandb_run.py\", line 420, in wrapper\n",
      "    return func(self, *args, **kwargs)\n",
      "  File \"c:\\Users\\valen\\anaconda3\\envs\\nlp-m\\lib\\site-packages\\wandb\\sdk\\wandb_run.py\", line 361, in wrapper\n",
      "    return func(self, *args, **kwargs)\n",
      "  File \"c:\\Users\\valen\\anaconda3\\envs\\nlp-m\\lib\\site-packages\\wandb\\sdk\\wandb_run.py\", line 1953, in finish\n",
      "    return self._finish(exit_code, quiet)\n",
      "  File \"c:\\Users\\valen\\anaconda3\\envs\\nlp-m\\lib\\site-packages\\wandb\\sdk\\wandb_run.py\", line 1961, in _finish\n",
      "    tel.feature.finish = True\n",
      "  File \"c:\\Users\\valen\\anaconda3\\envs\\nlp-m\\lib\\site-packages\\wandb\\sdk\\lib\\telemetry.py\", line 42, in __exit__\n",
      "    self._run._telemetry_callback(self._obj)\n",
      "  File \"c:\\Users\\valen\\anaconda3\\envs\\nlp-m\\lib\\site-packages\\wandb\\sdk\\wandb_run.py\", line 758, in _telemetry_callback\n",
      "    self._telemetry_flush()\n",
      "  File \"c:\\Users\\valen\\anaconda3\\envs\\nlp-m\\lib\\site-packages\\wandb\\sdk\\wandb_run.py\", line 769, in _telemetry_flush\n",
      "    self._backend.interface._publish_telemetry(self._telemetry_obj)\n",
      "  File \"c:\\Users\\valen\\anaconda3\\envs\\nlp-m\\lib\\site-packages\\wandb\\sdk\\interface\\interface_shared.py\", line 101, in _publish_telemetry\n",
      "    self._publish(rec)\n",
      "  File \"c:\\Users\\valen\\anaconda3\\envs\\nlp-m\\lib\\site-packages\\wandb\\sdk\\interface\\interface_sock.py\", line 51, in _publish\n",
      "    self._sock_client.send_record_publish(record)\n",
      "  File \"c:\\Users\\valen\\anaconda3\\envs\\nlp-m\\lib\\site-packages\\wandb\\sdk\\lib\\sock_client.py\", line 221, in send_record_publish\n",
      "    self.send_server_request(server_req)\n",
      "  File \"c:\\Users\\valen\\anaconda3\\envs\\nlp-m\\lib\\site-packages\\wandb\\sdk\\lib\\sock_client.py\", line 155, in send_server_request\n",
      "    self._send_message(msg)\n",
      "  File \"c:\\Users\\valen\\anaconda3\\envs\\nlp-m\\lib\\site-packages\\wandb\\sdk\\lib\\sock_client.py\", line 152, in _send_message\n",
      "    self._sendall_with_error_handle(header + data)\n",
      "  File \"c:\\Users\\valen\\anaconda3\\envs\\nlp-m\\lib\\site-packages\\wandb\\sdk\\lib\\sock_client.py\", line 130, in _sendall_with_error_handle\n",
      "    sent = self._sock.send(data)\n",
      "ConnectionResetError: [WinError 10054] An existing connection was forcibly closed by the remote host\n",
      "\u001b[34m\u001b[1mwandb\u001b[0m: Agent Starting Run: 92b13lqc with config:\n",
      "\u001b[34m\u001b[1mwandb\u001b[0m: \tbatch_size: 40\n",
      "\u001b[34m\u001b[1mwandb\u001b[0m: \tconv_hid_size: 8\n",
      "\u001b[34m\u001b[1mwandb\u001b[0m: \tconv_in_size: 256\n",
      "\u001b[34m\u001b[1mwandb\u001b[0m: \tconv_out_size: 16\n",
      "\u001b[34m\u001b[1mwandb\u001b[0m: \tdropout: 0.15\n",
      "\u001b[34m\u001b[1mwandb\u001b[0m: \tfc_size: 64\n",
      "\u001b[34m\u001b[1mwandb\u001b[0m: \thidden_size: 16\n",
      "\u001b[34m\u001b[1mwandb\u001b[0m: \tlr: 1e-05\n",
      "\u001b[34m\u001b[1mwandb\u001b[0m: \tmax_epochs: 250\n",
      "Traceback (most recent call last):\n",
      "  File \"c:\\Users\\valen\\anaconda3\\envs\\nlp-m\\lib\\site-packages\\wandb\\sdk\\wandb_init.py\", line 1166, in init\n",
      "    wi.setup(kwargs)\n",
      "  File \"c:\\Users\\valen\\anaconda3\\envs\\nlp-m\\lib\\site-packages\\wandb\\sdk\\wandb_init.py\", line 233, in setup\n",
      "    tel.feature.set_init_tags = True\n",
      "  File \"c:\\Users\\valen\\anaconda3\\envs\\nlp-m\\lib\\site-packages\\wandb\\sdk\\lib\\telemetry.py\", line 42, in __exit__\n",
      "    self._run._telemetry_callback(self._obj)\n",
      "  File \"c:\\Users\\valen\\anaconda3\\envs\\nlp-m\\lib\\site-packages\\wandb\\sdk\\wandb_run.py\", line 758, in _telemetry_callback\n",
      "    self._telemetry_flush()\n",
      "  File \"c:\\Users\\valen\\anaconda3\\envs\\nlp-m\\lib\\site-packages\\wandb\\sdk\\wandb_run.py\", line 769, in _telemetry_flush\n",
      "    self._backend.interface._publish_telemetry(self._telemetry_obj)\n",
      "  File \"c:\\Users\\valen\\anaconda3\\envs\\nlp-m\\lib\\site-packages\\wandb\\sdk\\interface\\interface_shared.py\", line 101, in _publish_telemetry\n",
      "    self._publish(rec)\n",
      "  File \"c:\\Users\\valen\\anaconda3\\envs\\nlp-m\\lib\\site-packages\\wandb\\sdk\\interface\\interface_sock.py\", line 51, in _publish\n",
      "    self._sock_client.send_record_publish(record)\n",
      "  File \"c:\\Users\\valen\\anaconda3\\envs\\nlp-m\\lib\\site-packages\\wandb\\sdk\\lib\\sock_client.py\", line 221, in send_record_publish\n",
      "    self.send_server_request(server_req)\n",
      "  File \"c:\\Users\\valen\\anaconda3\\envs\\nlp-m\\lib\\site-packages\\wandb\\sdk\\lib\\sock_client.py\", line 155, in send_server_request\n",
      "    self._send_message(msg)\n",
      "  File \"c:\\Users\\valen\\anaconda3\\envs\\nlp-m\\lib\\site-packages\\wandb\\sdk\\lib\\sock_client.py\", line 152, in _send_message\n",
      "    self._sendall_with_error_handle(header + data)\n",
      "  File \"c:\\Users\\valen\\anaconda3\\envs\\nlp-m\\lib\\site-packages\\wandb\\sdk\\lib\\sock_client.py\", line 130, in _sendall_with_error_handle\n",
      "    sent = self._sock.send(data)\n",
      "ConnectionResetError: [WinError 10054] An existing connection was forcibly closed by the remote host\n",
      "Exception in thread Thread-68:\n",
      "Traceback (most recent call last):\n",
      "  File \"c:\\Users\\valen\\anaconda3\\envs\\nlp-m\\lib\\site-packages\\wandb\\sdk\\wandb_init.py\", line 1166, in init\n",
      "    wi.setup(kwargs)\n",
      "  File \"c:\\Users\\valen\\anaconda3\\envs\\nlp-m\\lib\\site-packages\\wandb\\sdk\\wandb_init.py\", line 233, in setup\n",
      "    tel.feature.set_init_tags = True\n",
      "  File \"c:\\Users\\valen\\anaconda3\\envs\\nlp-m\\lib\\site-packages\\wandb\\sdk\\lib\\telemetry.py\", line 42, in __exit__\n",
      "    self._run._telemetry_callback(self._obj)\n",
      "  File \"c:\\Users\\valen\\anaconda3\\envs\\nlp-m\\lib\\site-packages\\wandb\\sdk\\wandb_run.py\", line 758, in _telemetry_callback\n",
      "    self._telemetry_flush()\n",
      "  File \"c:\\Users\\valen\\anaconda3\\envs\\nlp-m\\lib\\site-packages\\wandb\\sdk\\wandb_run.py\", line 769, in _telemetry_flush\n",
      "    self._backend.interface._publish_telemetry(self._telemetry_obj)\n",
      "  File \"c:\\Users\\valen\\anaconda3\\envs\\nlp-m\\lib\\site-packages\\wandb\\sdk\\interface\\interface_shared.py\", line 101, in _publish_telemetry\n",
      "    self._publish(rec)\n",
      "  File \"c:\\Users\\valen\\anaconda3\\envs\\nlp-m\\lib\\site-packages\\wandb\\sdk\\interface\\interface_sock.py\", line 51, in _publish\n",
      "    self._sock_client.send_record_publish(record)\n",
      "  File \"c:\\Users\\valen\\anaconda3\\envs\\nlp-m\\lib\\site-packages\\wandb\\sdk\\lib\\sock_client.py\", line 221, in send_record_publish\n",
      "    self.send_server_request(server_req)\n",
      "  File \"c:\\Users\\valen\\anaconda3\\envs\\nlp-m\\lib\\site-packages\\wandb\\sdk\\lib\\sock_client.py\", line 155, in send_server_request\n",
      "    self._send_message(msg)\n",
      "  File \"c:\\Users\\valen\\anaconda3\\envs\\nlp-m\\lib\\site-packages\\wandb\\sdk\\lib\\sock_client.py\", line 152, in _send_message\n",
      "    self._sendall_with_error_handle(header + data)\n",
      "  File \"c:\\Users\\valen\\anaconda3\\envs\\nlp-m\\lib\\site-packages\\wandb\\sdk\\lib\\sock_client.py\", line 130, in _sendall_with_error_handle\n",
      "    sent = self._sock.send(data)\n",
      "ConnectionResetError: [WinError 10054] An existing connection was forcibly closed by the remote host\n",
      "\n",
      "The above exception was the direct cause of the following exception:\n",
      "\n",
      "Traceback (most recent call last):\n",
      "  File \"c:\\Users\\valen\\anaconda3\\envs\\nlp-m\\lib\\site-packages\\wandb\\agents\\pyagent.py\", line 298, in _run_job\n",
      "    self._function()\n",
      "  File \"C:\\Users\\valen\\AppData\\Local\\Temp\\ipykernel_19500\\35702409.py\", line 8, in train_model\n",
      "  File \"c:\\Users\\valen\\anaconda3\\envs\\nlp-m\\lib\\site-packages\\wandb\\sdk\\wandb_init.py\", line 1208, in init\n",
      "    raise Error(\"An unexpected error occurred\") from error_seen\n",
      "wandb.errors.Error: An unexpected error occurred\n",
      "\n",
      "During handling of the above exception, another exception occurred:\n",
      "\n",
      "Traceback (most recent call last):\n",
      "  File \"c:\\Users\\valen\\anaconda3\\envs\\nlp-m\\lib\\threading.py\", line 980, in _bootstrap_inner\n",
      "    self.run()\n",
      "  File \"c:\\Users\\valen\\anaconda3\\envs\\nlp-m\\lib\\threading.py\", line 917, in run\n",
      "    self._target(*self._args, **self._kwargs)\n",
      "  File \"c:\\Users\\valen\\anaconda3\\envs\\nlp-m\\lib\\site-packages\\wandb\\agents\\pyagent.py\", line 303, in _run_job\n",
      "    wandb.finish(exit_code=1)\n",
      "  File \"c:\\Users\\valen\\anaconda3\\envs\\nlp-m\\lib\\site-packages\\wandb\\sdk\\wandb_run.py\", line 4090, in finish\n",
      "    wandb.run.finish(exit_code=exit_code, quiet=quiet)\n",
      "  File \"c:\\Users\\valen\\anaconda3\\envs\\nlp-m\\lib\\site-packages\\wandb\\sdk\\wandb_run.py\", line 420, in wrapper\n",
      "    return func(self, *args, **kwargs)\n",
      "  File \"c:\\Users\\valen\\anaconda3\\envs\\nlp-m\\lib\\site-packages\\wandb\\sdk\\wandb_run.py\", line 361, in wrapper\n",
      "    return func(self, *args, **kwargs)\n",
      "  File \"c:\\Users\\valen\\anaconda3\\envs\\nlp-m\\lib\\site-packages\\wandb\\sdk\\wandb_run.py\", line 1953, in finish\n",
      "    return self._finish(exit_code, quiet)\n",
      "  File \"c:\\Users\\valen\\anaconda3\\envs\\nlp-m\\lib\\site-packages\\wandb\\sdk\\wandb_run.py\", line 1961, in _finish\n",
      "    tel.feature.finish = True\n",
      "  File \"c:\\Users\\valen\\anaconda3\\envs\\nlp-m\\lib\\site-packages\\wandb\\sdk\\lib\\telemetry.py\", line 42, in __exit__\n",
      "    self._run._telemetry_callback(self._obj)\n",
      "  File \"c:\\Users\\valen\\anaconda3\\envs\\nlp-m\\lib\\site-packages\\wandb\\sdk\\wandb_run.py\", line 758, in _telemetry_callback\n",
      "    self._telemetry_flush()\n",
      "  File \"c:\\Users\\valen\\anaconda3\\envs\\nlp-m\\lib\\site-packages\\wandb\\sdk\\wandb_run.py\", line 769, in _telemetry_flush\n",
      "    self._backend.interface._publish_telemetry(self._telemetry_obj)\n",
      "  File \"c:\\Users\\valen\\anaconda3\\envs\\nlp-m\\lib\\site-packages\\wandb\\sdk\\interface\\interface_shared.py\", line 101, in _publish_telemetry\n",
      "    self._publish(rec)\n",
      "  File \"c:\\Users\\valen\\anaconda3\\envs\\nlp-m\\lib\\site-packages\\wandb\\sdk\\interface\\interface_sock.py\", line 51, in _publish\n",
      "    self._sock_client.send_record_publish(record)\n",
      "  File \"c:\\Users\\valen\\anaconda3\\envs\\nlp-m\\lib\\site-packages\\wandb\\sdk\\lib\\sock_client.py\", line 221, in send_record_publish\n",
      "    self.send_server_request(server_req)\n",
      "  File \"c:\\Users\\valen\\anaconda3\\envs\\nlp-m\\lib\\site-packages\\wandb\\sdk\\lib\\sock_client.py\", line 155, in send_server_request\n",
      "    self._send_message(msg)\n",
      "  File \"c:\\Users\\valen\\anaconda3\\envs\\nlp-m\\lib\\site-packages\\wandb\\sdk\\lib\\sock_client.py\", line 152, in _send_message\n",
      "    self._sendall_with_error_handle(header + data)\n",
      "  File \"c:\\Users\\valen\\anaconda3\\envs\\nlp-m\\lib\\site-packages\\wandb\\sdk\\lib\\sock_client.py\", line 130, in _sendall_with_error_handle\n",
      "    sent = self._sock.send(data)\n",
      "ConnectionResetError: [WinError 10054] An existing connection was forcibly closed by the remote host\n",
      "\u001b[34m\u001b[1mwandb\u001b[0m: Agent Starting Run: y9qxcndr with config:\n",
      "\u001b[34m\u001b[1mwandb\u001b[0m: \tbatch_size: 24\n",
      "\u001b[34m\u001b[1mwandb\u001b[0m: \tconv_hid_size: 8\n",
      "\u001b[34m\u001b[1mwandb\u001b[0m: \tconv_in_size: 256\n",
      "\u001b[34m\u001b[1mwandb\u001b[0m: \tconv_out_size: 32\n",
      "\u001b[34m\u001b[1mwandb\u001b[0m: \tdropout: 0.15\n",
      "\u001b[34m\u001b[1mwandb\u001b[0m: \tfc_size: 512\n",
      "\u001b[34m\u001b[1mwandb\u001b[0m: \thidden_size: 16\n",
      "\u001b[34m\u001b[1mwandb\u001b[0m: \tlr: 0.001\n",
      "\u001b[34m\u001b[1mwandb\u001b[0m: \tmax_epochs: 250\n",
      "Traceback (most recent call last):\n",
      "  File \"c:\\Users\\valen\\anaconda3\\envs\\nlp-m\\lib\\site-packages\\wandb\\sdk\\wandb_init.py\", line 1166, in init\n",
      "    wi.setup(kwargs)\n",
      "  File \"c:\\Users\\valen\\anaconda3\\envs\\nlp-m\\lib\\site-packages\\wandb\\sdk\\wandb_init.py\", line 233, in setup\n",
      "    tel.feature.set_init_tags = True\n",
      "  File \"c:\\Users\\valen\\anaconda3\\envs\\nlp-m\\lib\\site-packages\\wandb\\sdk\\lib\\telemetry.py\", line 42, in __exit__\n",
      "    self._run._telemetry_callback(self._obj)\n",
      "  File \"c:\\Users\\valen\\anaconda3\\envs\\nlp-m\\lib\\site-packages\\wandb\\sdk\\wandb_run.py\", line 758, in _telemetry_callback\n",
      "    self._telemetry_flush()\n",
      "  File \"c:\\Users\\valen\\anaconda3\\envs\\nlp-m\\lib\\site-packages\\wandb\\sdk\\wandb_run.py\", line 769, in _telemetry_flush\n",
      "    self._backend.interface._publish_telemetry(self._telemetry_obj)\n",
      "  File \"c:\\Users\\valen\\anaconda3\\envs\\nlp-m\\lib\\site-packages\\wandb\\sdk\\interface\\interface_shared.py\", line 101, in _publish_telemetry\n",
      "    self._publish(rec)\n",
      "  File \"c:\\Users\\valen\\anaconda3\\envs\\nlp-m\\lib\\site-packages\\wandb\\sdk\\interface\\interface_sock.py\", line 51, in _publish\n",
      "    self._sock_client.send_record_publish(record)\n",
      "  File \"c:\\Users\\valen\\anaconda3\\envs\\nlp-m\\lib\\site-packages\\wandb\\sdk\\lib\\sock_client.py\", line 221, in send_record_publish\n",
      "    self.send_server_request(server_req)\n",
      "  File \"c:\\Users\\valen\\anaconda3\\envs\\nlp-m\\lib\\site-packages\\wandb\\sdk\\lib\\sock_client.py\", line 155, in send_server_request\n",
      "    self._send_message(msg)\n",
      "  File \"c:\\Users\\valen\\anaconda3\\envs\\nlp-m\\lib\\site-packages\\wandb\\sdk\\lib\\sock_client.py\", line 152, in _send_message\n",
      "    self._sendall_with_error_handle(header + data)\n",
      "  File \"c:\\Users\\valen\\anaconda3\\envs\\nlp-m\\lib\\site-packages\\wandb\\sdk\\lib\\sock_client.py\", line 130, in _sendall_with_error_handle\n",
      "    sent = self._sock.send(data)\n",
      "ConnectionResetError: [WinError 10054] An existing connection was forcibly closed by the remote host\n",
      "Exception in thread Thread-69:\n",
      "Traceback (most recent call last):\n",
      "  File \"c:\\Users\\valen\\anaconda3\\envs\\nlp-m\\lib\\site-packages\\wandb\\sdk\\wandb_init.py\", line 1166, in init\n",
      "    wi.setup(kwargs)\n",
      "  File \"c:\\Users\\valen\\anaconda3\\envs\\nlp-m\\lib\\site-packages\\wandb\\sdk\\wandb_init.py\", line 233, in setup\n",
      "    tel.feature.set_init_tags = True\n",
      "  File \"c:\\Users\\valen\\anaconda3\\envs\\nlp-m\\lib\\site-packages\\wandb\\sdk\\lib\\telemetry.py\", line 42, in __exit__\n",
      "    self._run._telemetry_callback(self._obj)\n",
      "  File \"c:\\Users\\valen\\anaconda3\\envs\\nlp-m\\lib\\site-packages\\wandb\\sdk\\wandb_run.py\", line 758, in _telemetry_callback\n",
      "    self._telemetry_flush()\n",
      "  File \"c:\\Users\\valen\\anaconda3\\envs\\nlp-m\\lib\\site-packages\\wandb\\sdk\\wandb_run.py\", line 769, in _telemetry_flush\n",
      "    self._backend.interface._publish_telemetry(self._telemetry_obj)\n",
      "  File \"c:\\Users\\valen\\anaconda3\\envs\\nlp-m\\lib\\site-packages\\wandb\\sdk\\interface\\interface_shared.py\", line 101, in _publish_telemetry\n",
      "    self._publish(rec)\n",
      "  File \"c:\\Users\\valen\\anaconda3\\envs\\nlp-m\\lib\\site-packages\\wandb\\sdk\\interface\\interface_sock.py\", line 51, in _publish\n",
      "    self._sock_client.send_record_publish(record)\n",
      "  File \"c:\\Users\\valen\\anaconda3\\envs\\nlp-m\\lib\\site-packages\\wandb\\sdk\\lib\\sock_client.py\", line 221, in send_record_publish\n",
      "    self.send_server_request(server_req)\n",
      "  File \"c:\\Users\\valen\\anaconda3\\envs\\nlp-m\\lib\\site-packages\\wandb\\sdk\\lib\\sock_client.py\", line 155, in send_server_request\n",
      "    self._send_message(msg)\n",
      "  File \"c:\\Users\\valen\\anaconda3\\envs\\nlp-m\\lib\\site-packages\\wandb\\sdk\\lib\\sock_client.py\", line 152, in _send_message\n",
      "    self._sendall_with_error_handle(header + data)\n",
      "  File \"c:\\Users\\valen\\anaconda3\\envs\\nlp-m\\lib\\site-packages\\wandb\\sdk\\lib\\sock_client.py\", line 130, in _sendall_with_error_handle\n",
      "    sent = self._sock.send(data)\n",
      "ConnectionResetError: [WinError 10054] An existing connection was forcibly closed by the remote host\n",
      "\n",
      "The above exception was the direct cause of the following exception:\n",
      "\n",
      "Traceback (most recent call last):\n",
      "  File \"c:\\Users\\valen\\anaconda3\\envs\\nlp-m\\lib\\site-packages\\wandb\\agents\\pyagent.py\", line 298, in _run_job\n",
      "    self._function()\n",
      "  File \"C:\\Users\\valen\\AppData\\Local\\Temp\\ipykernel_19500\\35702409.py\", line 8, in train_model\n",
      "  File \"c:\\Users\\valen\\anaconda3\\envs\\nlp-m\\lib\\site-packages\\wandb\\sdk\\wandb_init.py\", line 1208, in init\n",
      "    raise Error(\"An unexpected error occurred\") from error_seen\n",
      "wandb.errors.Error: An unexpected error occurred\n",
      "\n",
      "During handling of the above exception, another exception occurred:\n",
      "\n",
      "Traceback (most recent call last):\n",
      "  File \"c:\\Users\\valen\\anaconda3\\envs\\nlp-m\\lib\\threading.py\", line 980, in _bootstrap_inner\n",
      "    self.run()\n",
      "  File \"c:\\Users\\valen\\anaconda3\\envs\\nlp-m\\lib\\threading.py\", line 917, in run\n",
      "    self._target(*self._args, **self._kwargs)\n",
      "  File \"c:\\Users\\valen\\anaconda3\\envs\\nlp-m\\lib\\site-packages\\wandb\\agents\\pyagent.py\", line 303, in _run_job\n",
      "    wandb.finish(exit_code=1)\n",
      "  File \"c:\\Users\\valen\\anaconda3\\envs\\nlp-m\\lib\\site-packages\\wandb\\sdk\\wandb_run.py\", line 4090, in finish\n",
      "    wandb.run.finish(exit_code=exit_code, quiet=quiet)\n",
      "  File \"c:\\Users\\valen\\anaconda3\\envs\\nlp-m\\lib\\site-packages\\wandb\\sdk\\wandb_run.py\", line 420, in wrapper\n",
      "    return func(self, *args, **kwargs)\n",
      "  File \"c:\\Users\\valen\\anaconda3\\envs\\nlp-m\\lib\\site-packages\\wandb\\sdk\\wandb_run.py\", line 361, in wrapper\n",
      "    return func(self, *args, **kwargs)\n",
      "  File \"c:\\Users\\valen\\anaconda3\\envs\\nlp-m\\lib\\site-packages\\wandb\\sdk\\wandb_run.py\", line 1953, in finish\n",
      "    return self._finish(exit_code, quiet)\n",
      "  File \"c:\\Users\\valen\\anaconda3\\envs\\nlp-m\\lib\\site-packages\\wandb\\sdk\\wandb_run.py\", line 1961, in _finish\n",
      "    tel.feature.finish = True\n",
      "  File \"c:\\Users\\valen\\anaconda3\\envs\\nlp-m\\lib\\site-packages\\wandb\\sdk\\lib\\telemetry.py\", line 42, in __exit__\n",
      "    self._run._telemetry_callback(self._obj)\n",
      "  File \"c:\\Users\\valen\\anaconda3\\envs\\nlp-m\\lib\\site-packages\\wandb\\sdk\\wandb_run.py\", line 758, in _telemetry_callback\n",
      "    self._telemetry_flush()\n",
      "  File \"c:\\Users\\valen\\anaconda3\\envs\\nlp-m\\lib\\site-packages\\wandb\\sdk\\wandb_run.py\", line 769, in _telemetry_flush\n",
      "    self._backend.interface._publish_telemetry(self._telemetry_obj)\n",
      "  File \"c:\\Users\\valen\\anaconda3\\envs\\nlp-m\\lib\\site-packages\\wandb\\sdk\\interface\\interface_shared.py\", line 101, in _publish_telemetry\n",
      "    self._publish(rec)\n",
      "  File \"c:\\Users\\valen\\anaconda3\\envs\\nlp-m\\lib\\site-packages\\wandb\\sdk\\interface\\interface_sock.py\", line 51, in _publish\n",
      "    self._sock_client.send_record_publish(record)\n",
      "  File \"c:\\Users\\valen\\anaconda3\\envs\\nlp-m\\lib\\site-packages\\wandb\\sdk\\lib\\sock_client.py\", line 221, in send_record_publish\n",
      "    self.send_server_request(server_req)\n",
      "  File \"c:\\Users\\valen\\anaconda3\\envs\\nlp-m\\lib\\site-packages\\wandb\\sdk\\lib\\sock_client.py\", line 155, in send_server_request\n",
      "    self._send_message(msg)\n",
      "  File \"c:\\Users\\valen\\anaconda3\\envs\\nlp-m\\lib\\site-packages\\wandb\\sdk\\lib\\sock_client.py\", line 152, in _send_message\n",
      "    self._sendall_with_error_handle(header + data)\n",
      "  File \"c:\\Users\\valen\\anaconda3\\envs\\nlp-m\\lib\\site-packages\\wandb\\sdk\\lib\\sock_client.py\", line 130, in _sendall_with_error_handle\n",
      "    sent = self._sock.send(data)\n",
      "ConnectionResetError: [WinError 10054] An existing connection was forcibly closed by the remote host\n",
      "\u001b[34m\u001b[1mwandb\u001b[0m: Agent Starting Run: s70zm2tf with config:\n",
      "\u001b[34m\u001b[1mwandb\u001b[0m: \tbatch_size: 40\n",
      "\u001b[34m\u001b[1mwandb\u001b[0m: \tconv_hid_size: 8\n",
      "\u001b[34m\u001b[1mwandb\u001b[0m: \tconv_in_size: 256\n",
      "\u001b[34m\u001b[1mwandb\u001b[0m: \tconv_out_size: 16\n",
      "\u001b[34m\u001b[1mwandb\u001b[0m: \tdropout: 0.25\n",
      "\u001b[34m\u001b[1mwandb\u001b[0m: \tfc_size: 32\n",
      "\u001b[34m\u001b[1mwandb\u001b[0m: \thidden_size: 8\n",
      "\u001b[34m\u001b[1mwandb\u001b[0m: \tlr: 1e-05\n",
      "\u001b[34m\u001b[1mwandb\u001b[0m: \tmax_epochs: 250\n",
      "Traceback (most recent call last):\n",
      "  File \"c:\\Users\\valen\\anaconda3\\envs\\nlp-m\\lib\\site-packages\\wandb\\sdk\\wandb_init.py\", line 1166, in init\n",
      "    wi.setup(kwargs)\n",
      "  File \"c:\\Users\\valen\\anaconda3\\envs\\nlp-m\\lib\\site-packages\\wandb\\sdk\\wandb_init.py\", line 233, in setup\n",
      "    tel.feature.set_init_tags = True\n",
      "  File \"c:\\Users\\valen\\anaconda3\\envs\\nlp-m\\lib\\site-packages\\wandb\\sdk\\lib\\telemetry.py\", line 42, in __exit__\n",
      "    self._run._telemetry_callback(self._obj)\n",
      "  File \"c:\\Users\\valen\\anaconda3\\envs\\nlp-m\\lib\\site-packages\\wandb\\sdk\\wandb_run.py\", line 758, in _telemetry_callback\n",
      "    self._telemetry_flush()\n",
      "  File \"c:\\Users\\valen\\anaconda3\\envs\\nlp-m\\lib\\site-packages\\wandb\\sdk\\wandb_run.py\", line 769, in _telemetry_flush\n",
      "    self._backend.interface._publish_telemetry(self._telemetry_obj)\n",
      "  File \"c:\\Users\\valen\\anaconda3\\envs\\nlp-m\\lib\\site-packages\\wandb\\sdk\\interface\\interface_shared.py\", line 101, in _publish_telemetry\n",
      "    self._publish(rec)\n",
      "  File \"c:\\Users\\valen\\anaconda3\\envs\\nlp-m\\lib\\site-packages\\wandb\\sdk\\interface\\interface_sock.py\", line 51, in _publish\n",
      "    self._sock_client.send_record_publish(record)\n",
      "  File \"c:\\Users\\valen\\anaconda3\\envs\\nlp-m\\lib\\site-packages\\wandb\\sdk\\lib\\sock_client.py\", line 221, in send_record_publish\n",
      "    self.send_server_request(server_req)\n",
      "  File \"c:\\Users\\valen\\anaconda3\\envs\\nlp-m\\lib\\site-packages\\wandb\\sdk\\lib\\sock_client.py\", line 155, in send_server_request\n",
      "    self._send_message(msg)\n",
      "  File \"c:\\Users\\valen\\anaconda3\\envs\\nlp-m\\lib\\site-packages\\wandb\\sdk\\lib\\sock_client.py\", line 152, in _send_message\n",
      "    self._sendall_with_error_handle(header + data)\n",
      "  File \"c:\\Users\\valen\\anaconda3\\envs\\nlp-m\\lib\\site-packages\\wandb\\sdk\\lib\\sock_client.py\", line 130, in _sendall_with_error_handle\n",
      "    sent = self._sock.send(data)\n",
      "ConnectionResetError: [WinError 10054] An existing connection was forcibly closed by the remote host\n",
      "Exception in thread Thread-70:\n",
      "Traceback (most recent call last):\n",
      "  File \"c:\\Users\\valen\\anaconda3\\envs\\nlp-m\\lib\\site-packages\\wandb\\sdk\\wandb_init.py\", line 1166, in init\n",
      "    wi.setup(kwargs)\n",
      "  File \"c:\\Users\\valen\\anaconda3\\envs\\nlp-m\\lib\\site-packages\\wandb\\sdk\\wandb_init.py\", line 233, in setup\n",
      "    tel.feature.set_init_tags = True\n",
      "  File \"c:\\Users\\valen\\anaconda3\\envs\\nlp-m\\lib\\site-packages\\wandb\\sdk\\lib\\telemetry.py\", line 42, in __exit__\n",
      "    self._run._telemetry_callback(self._obj)\n",
      "  File \"c:\\Users\\valen\\anaconda3\\envs\\nlp-m\\lib\\site-packages\\wandb\\sdk\\wandb_run.py\", line 758, in _telemetry_callback\n",
      "    self._telemetry_flush()\n",
      "  File \"c:\\Users\\valen\\anaconda3\\envs\\nlp-m\\lib\\site-packages\\wandb\\sdk\\wandb_run.py\", line 769, in _telemetry_flush\n",
      "    self._backend.interface._publish_telemetry(self._telemetry_obj)\n",
      "  File \"c:\\Users\\valen\\anaconda3\\envs\\nlp-m\\lib\\site-packages\\wandb\\sdk\\interface\\interface_shared.py\", line 101, in _publish_telemetry\n",
      "    self._publish(rec)\n",
      "  File \"c:\\Users\\valen\\anaconda3\\envs\\nlp-m\\lib\\site-packages\\wandb\\sdk\\interface\\interface_sock.py\", line 51, in _publish\n",
      "    self._sock_client.send_record_publish(record)\n",
      "  File \"c:\\Users\\valen\\anaconda3\\envs\\nlp-m\\lib\\site-packages\\wandb\\sdk\\lib\\sock_client.py\", line 221, in send_record_publish\n",
      "    self.send_server_request(server_req)\n",
      "  File \"c:\\Users\\valen\\anaconda3\\envs\\nlp-m\\lib\\site-packages\\wandb\\sdk\\lib\\sock_client.py\", line 155, in send_server_request\n",
      "    self._send_message(msg)\n",
      "  File \"c:\\Users\\valen\\anaconda3\\envs\\nlp-m\\lib\\site-packages\\wandb\\sdk\\lib\\sock_client.py\", line 152, in _send_message\n",
      "    self._sendall_with_error_handle(header + data)\n",
      "  File \"c:\\Users\\valen\\anaconda3\\envs\\nlp-m\\lib\\site-packages\\wandb\\sdk\\lib\\sock_client.py\", line 130, in _sendall_with_error_handle\n",
      "    sent = self._sock.send(data)\n",
      "ConnectionResetError: [WinError 10054] An existing connection was forcibly closed by the remote host\n",
      "\n",
      "The above exception was the direct cause of the following exception:\n",
      "\n",
      "Traceback (most recent call last):\n",
      "  File \"c:\\Users\\valen\\anaconda3\\envs\\nlp-m\\lib\\site-packages\\wandb\\agents\\pyagent.py\", line 298, in _run_job\n",
      "    self._function()\n",
      "  File \"C:\\Users\\valen\\AppData\\Local\\Temp\\ipykernel_19500\\35702409.py\", line 8, in train_model\n",
      "  File \"c:\\Users\\valen\\anaconda3\\envs\\nlp-m\\lib\\site-packages\\wandb\\sdk\\wandb_init.py\", line 1208, in init\n",
      "    raise Error(\"An unexpected error occurred\") from error_seen\n",
      "wandb.errors.Error: An unexpected error occurred\n",
      "\n",
      "During handling of the above exception, another exception occurred:\n",
      "\n",
      "Traceback (most recent call last):\n",
      "  File \"c:\\Users\\valen\\anaconda3\\envs\\nlp-m\\lib\\threading.py\", line 980, in _bootstrap_inner\n",
      "    self.run()\n",
      "  File \"c:\\Users\\valen\\anaconda3\\envs\\nlp-m\\lib\\threading.py\", line 917, in run\n",
      "    self._target(*self._args, **self._kwargs)\n",
      "  File \"c:\\Users\\valen\\anaconda3\\envs\\nlp-m\\lib\\site-packages\\wandb\\agents\\pyagent.py\", line 303, in _run_job\n",
      "    wandb.finish(exit_code=1)\n",
      "  File \"c:\\Users\\valen\\anaconda3\\envs\\nlp-m\\lib\\site-packages\\wandb\\sdk\\wandb_run.py\", line 4090, in finish\n",
      "    wandb.run.finish(exit_code=exit_code, quiet=quiet)\n",
      "  File \"c:\\Users\\valen\\anaconda3\\envs\\nlp-m\\lib\\site-packages\\wandb\\sdk\\wandb_run.py\", line 420, in wrapper\n",
      "    return func(self, *args, **kwargs)\n",
      "  File \"c:\\Users\\valen\\anaconda3\\envs\\nlp-m\\lib\\site-packages\\wandb\\sdk\\wandb_run.py\", line 361, in wrapper\n",
      "    return func(self, *args, **kwargs)\n",
      "  File \"c:\\Users\\valen\\anaconda3\\envs\\nlp-m\\lib\\site-packages\\wandb\\sdk\\wandb_run.py\", line 1953, in finish\n",
      "    return self._finish(exit_code, quiet)\n",
      "  File \"c:\\Users\\valen\\anaconda3\\envs\\nlp-m\\lib\\site-packages\\wandb\\sdk\\wandb_run.py\", line 1961, in _finish\n",
      "    tel.feature.finish = True\n",
      "  File \"c:\\Users\\valen\\anaconda3\\envs\\nlp-m\\lib\\site-packages\\wandb\\sdk\\lib\\telemetry.py\", line 42, in __exit__\n",
      "    self._run._telemetry_callback(self._obj)\n",
      "  File \"c:\\Users\\valen\\anaconda3\\envs\\nlp-m\\lib\\site-packages\\wandb\\sdk\\wandb_run.py\", line 758, in _telemetry_callback\n",
      "    self._telemetry_flush()\n",
      "  File \"c:\\Users\\valen\\anaconda3\\envs\\nlp-m\\lib\\site-packages\\wandb\\sdk\\wandb_run.py\", line 769, in _telemetry_flush\n",
      "    self._backend.interface._publish_telemetry(self._telemetry_obj)\n",
      "  File \"c:\\Users\\valen\\anaconda3\\envs\\nlp-m\\lib\\site-packages\\wandb\\sdk\\interface\\interface_shared.py\", line 101, in _publish_telemetry\n",
      "    self._publish(rec)\n",
      "  File \"c:\\Users\\valen\\anaconda3\\envs\\nlp-m\\lib\\site-packages\\wandb\\sdk\\interface\\interface_sock.py\", line 51, in _publish\n",
      "    self._sock_client.send_record_publish(record)\n",
      "  File \"c:\\Users\\valen\\anaconda3\\envs\\nlp-m\\lib\\site-packages\\wandb\\sdk\\lib\\sock_client.py\", line 221, in send_record_publish\n",
      "    self.send_server_request(server_req)\n",
      "  File \"c:\\Users\\valen\\anaconda3\\envs\\nlp-m\\lib\\site-packages\\wandb\\sdk\\lib\\sock_client.py\", line 155, in send_server_request\n",
      "    self._send_message(msg)\n",
      "  File \"c:\\Users\\valen\\anaconda3\\envs\\nlp-m\\lib\\site-packages\\wandb\\sdk\\lib\\sock_client.py\", line 152, in _send_message\n",
      "    self._sendall_with_error_handle(header + data)\n",
      "  File \"c:\\Users\\valen\\anaconda3\\envs\\nlp-m\\lib\\site-packages\\wandb\\sdk\\lib\\sock_client.py\", line 130, in _sendall_with_error_handle\n",
      "    sent = self._sock.send(data)\n",
      "ConnectionResetError: [WinError 10054] An existing connection was forcibly closed by the remote host\n",
      "\u001b[34m\u001b[1mwandb\u001b[0m: Agent Starting Run: g0m70qtg with config:\n",
      "\u001b[34m\u001b[1mwandb\u001b[0m: \tbatch_size: 8\n",
      "\u001b[34m\u001b[1mwandb\u001b[0m: \tconv_hid_size: 8\n",
      "\u001b[34m\u001b[1mwandb\u001b[0m: \tconv_in_size: 256\n",
      "\u001b[34m\u001b[1mwandb\u001b[0m: \tconv_out_size: 8\n",
      "\u001b[34m\u001b[1mwandb\u001b[0m: \tdropout: 0.3\n",
      "\u001b[34m\u001b[1mwandb\u001b[0m: \tfc_size: 32\n",
      "\u001b[34m\u001b[1mwandb\u001b[0m: \thidden_size: 8\n",
      "\u001b[34m\u001b[1mwandb\u001b[0m: \tlr: 1e-05\n",
      "\u001b[34m\u001b[1mwandb\u001b[0m: \tmax_epochs: 250\n",
      "Traceback (most recent call last):\n",
      "  File \"c:\\Users\\valen\\anaconda3\\envs\\nlp-m\\lib\\site-packages\\wandb\\sdk\\wandb_init.py\", line 1166, in init\n",
      "    wi.setup(kwargs)\n",
      "  File \"c:\\Users\\valen\\anaconda3\\envs\\nlp-m\\lib\\site-packages\\wandb\\sdk\\wandb_init.py\", line 233, in setup\n",
      "    tel.feature.set_init_tags = True\n",
      "  File \"c:\\Users\\valen\\anaconda3\\envs\\nlp-m\\lib\\site-packages\\wandb\\sdk\\lib\\telemetry.py\", line 42, in __exit__\n",
      "    self._run._telemetry_callback(self._obj)\n",
      "  File \"c:\\Users\\valen\\anaconda3\\envs\\nlp-m\\lib\\site-packages\\wandb\\sdk\\wandb_run.py\", line 758, in _telemetry_callback\n",
      "    self._telemetry_flush()\n",
      "  File \"c:\\Users\\valen\\anaconda3\\envs\\nlp-m\\lib\\site-packages\\wandb\\sdk\\wandb_run.py\", line 769, in _telemetry_flush\n",
      "    self._backend.interface._publish_telemetry(self._telemetry_obj)\n",
      "  File \"c:\\Users\\valen\\anaconda3\\envs\\nlp-m\\lib\\site-packages\\wandb\\sdk\\interface\\interface_shared.py\", line 101, in _publish_telemetry\n",
      "    self._publish(rec)\n",
      "  File \"c:\\Users\\valen\\anaconda3\\envs\\nlp-m\\lib\\site-packages\\wandb\\sdk\\interface\\interface_sock.py\", line 51, in _publish\n",
      "    self._sock_client.send_record_publish(record)\n",
      "  File \"c:\\Users\\valen\\anaconda3\\envs\\nlp-m\\lib\\site-packages\\wandb\\sdk\\lib\\sock_client.py\", line 221, in send_record_publish\n",
      "    self.send_server_request(server_req)\n",
      "  File \"c:\\Users\\valen\\anaconda3\\envs\\nlp-m\\lib\\site-packages\\wandb\\sdk\\lib\\sock_client.py\", line 155, in send_server_request\n",
      "    self._send_message(msg)\n",
      "  File \"c:\\Users\\valen\\anaconda3\\envs\\nlp-m\\lib\\site-packages\\wandb\\sdk\\lib\\sock_client.py\", line 152, in _send_message\n",
      "    self._sendall_with_error_handle(header + data)\n",
      "  File \"c:\\Users\\valen\\anaconda3\\envs\\nlp-m\\lib\\site-packages\\wandb\\sdk\\lib\\sock_client.py\", line 130, in _sendall_with_error_handle\n",
      "    sent = self._sock.send(data)\n",
      "ConnectionResetError: [WinError 10054] An existing connection was forcibly closed by the remote host\n",
      "Exception in thread Thread-71:\n",
      "Traceback (most recent call last):\n",
      "  File \"c:\\Users\\valen\\anaconda3\\envs\\nlp-m\\lib\\site-packages\\wandb\\sdk\\wandb_init.py\", line 1166, in init\n",
      "    wi.setup(kwargs)\n",
      "  File \"c:\\Users\\valen\\anaconda3\\envs\\nlp-m\\lib\\site-packages\\wandb\\sdk\\wandb_init.py\", line 233, in setup\n",
      "    tel.feature.set_init_tags = True\n",
      "  File \"c:\\Users\\valen\\anaconda3\\envs\\nlp-m\\lib\\site-packages\\wandb\\sdk\\lib\\telemetry.py\", line 42, in __exit__\n",
      "    self._run._telemetry_callback(self._obj)\n",
      "  File \"c:\\Users\\valen\\anaconda3\\envs\\nlp-m\\lib\\site-packages\\wandb\\sdk\\wandb_run.py\", line 758, in _telemetry_callback\n",
      "    self._telemetry_flush()\n",
      "  File \"c:\\Users\\valen\\anaconda3\\envs\\nlp-m\\lib\\site-packages\\wandb\\sdk\\wandb_run.py\", line 769, in _telemetry_flush\n",
      "    self._backend.interface._publish_telemetry(self._telemetry_obj)\n",
      "  File \"c:\\Users\\valen\\anaconda3\\envs\\nlp-m\\lib\\site-packages\\wandb\\sdk\\interface\\interface_shared.py\", line 101, in _publish_telemetry\n",
      "    self._publish(rec)\n",
      "  File \"c:\\Users\\valen\\anaconda3\\envs\\nlp-m\\lib\\site-packages\\wandb\\sdk\\interface\\interface_sock.py\", line 51, in _publish\n",
      "    self._sock_client.send_record_publish(record)\n",
      "  File \"c:\\Users\\valen\\anaconda3\\envs\\nlp-m\\lib\\site-packages\\wandb\\sdk\\lib\\sock_client.py\", line 221, in send_record_publish\n",
      "    self.send_server_request(server_req)\n",
      "  File \"c:\\Users\\valen\\anaconda3\\envs\\nlp-m\\lib\\site-packages\\wandb\\sdk\\lib\\sock_client.py\", line 155, in send_server_request\n",
      "    self._send_message(msg)\n",
      "  File \"c:\\Users\\valen\\anaconda3\\envs\\nlp-m\\lib\\site-packages\\wandb\\sdk\\lib\\sock_client.py\", line 152, in _send_message\n",
      "    self._sendall_with_error_handle(header + data)\n",
      "  File \"c:\\Users\\valen\\anaconda3\\envs\\nlp-m\\lib\\site-packages\\wandb\\sdk\\lib\\sock_client.py\", line 130, in _sendall_with_error_handle\n",
      "    sent = self._sock.send(data)\n",
      "ConnectionResetError: [WinError 10054] An existing connection was forcibly closed by the remote host\n",
      "\n",
      "The above exception was the direct cause of the following exception:\n",
      "\n",
      "Traceback (most recent call last):\n",
      "  File \"c:\\Users\\valen\\anaconda3\\envs\\nlp-m\\lib\\site-packages\\wandb\\agents\\pyagent.py\", line 298, in _run_job\n",
      "    self._function()\n",
      "  File \"C:\\Users\\valen\\AppData\\Local\\Temp\\ipykernel_19500\\35702409.py\", line 8, in train_model\n",
      "  File \"c:\\Users\\valen\\anaconda3\\envs\\nlp-m\\lib\\site-packages\\wandb\\sdk\\wandb_init.py\", line 1208, in init\n",
      "    raise Error(\"An unexpected error occurred\") from error_seen\n",
      "wandb.errors.Error: An unexpected error occurred\n",
      "\n",
      "During handling of the above exception, another exception occurred:\n",
      "\n",
      "Traceback (most recent call last):\n",
      "  File \"c:\\Users\\valen\\anaconda3\\envs\\nlp-m\\lib\\threading.py\", line 980, in _bootstrap_inner\n",
      "    self.run()\n",
      "  File \"c:\\Users\\valen\\anaconda3\\envs\\nlp-m\\lib\\threading.py\", line 917, in run\n",
      "    self._target(*self._args, **self._kwargs)\n",
      "  File \"c:\\Users\\valen\\anaconda3\\envs\\nlp-m\\lib\\site-packages\\wandb\\agents\\pyagent.py\", line 303, in _run_job\n",
      "    wandb.finish(exit_code=1)\n",
      "  File \"c:\\Users\\valen\\anaconda3\\envs\\nlp-m\\lib\\site-packages\\wandb\\sdk\\wandb_run.py\", line 4090, in finish\n",
      "    wandb.run.finish(exit_code=exit_code, quiet=quiet)\n",
      "  File \"c:\\Users\\valen\\anaconda3\\envs\\nlp-m\\lib\\site-packages\\wandb\\sdk\\wandb_run.py\", line 420, in wrapper\n",
      "    return func(self, *args, **kwargs)\n",
      "  File \"c:\\Users\\valen\\anaconda3\\envs\\nlp-m\\lib\\site-packages\\wandb\\sdk\\wandb_run.py\", line 361, in wrapper\n",
      "    return func(self, *args, **kwargs)\n",
      "  File \"c:\\Users\\valen\\anaconda3\\envs\\nlp-m\\lib\\site-packages\\wandb\\sdk\\wandb_run.py\", line 1953, in finish\n",
      "    return self._finish(exit_code, quiet)\n",
      "  File \"c:\\Users\\valen\\anaconda3\\envs\\nlp-m\\lib\\site-packages\\wandb\\sdk\\wandb_run.py\", line 1961, in _finish\n",
      "    tel.feature.finish = True\n",
      "  File \"c:\\Users\\valen\\anaconda3\\envs\\nlp-m\\lib\\site-packages\\wandb\\sdk\\lib\\telemetry.py\", line 42, in __exit__\n",
      "    self._run._telemetry_callback(self._obj)\n",
      "  File \"c:\\Users\\valen\\anaconda3\\envs\\nlp-m\\lib\\site-packages\\wandb\\sdk\\wandb_run.py\", line 758, in _telemetry_callback\n",
      "    self._telemetry_flush()\n",
      "  File \"c:\\Users\\valen\\anaconda3\\envs\\nlp-m\\lib\\site-packages\\wandb\\sdk\\wandb_run.py\", line 769, in _telemetry_flush\n",
      "    self._backend.interface._publish_telemetry(self._telemetry_obj)\n",
      "  File \"c:\\Users\\valen\\anaconda3\\envs\\nlp-m\\lib\\site-packages\\wandb\\sdk\\interface\\interface_shared.py\", line 101, in _publish_telemetry\n",
      "    self._publish(rec)\n",
      "  File \"c:\\Users\\valen\\anaconda3\\envs\\nlp-m\\lib\\site-packages\\wandb\\sdk\\interface\\interface_sock.py\", line 51, in _publish\n",
      "    self._sock_client.send_record_publish(record)\n",
      "  File \"c:\\Users\\valen\\anaconda3\\envs\\nlp-m\\lib\\site-packages\\wandb\\sdk\\lib\\sock_client.py\", line 221, in send_record_publish\n",
      "    self.send_server_request(server_req)\n",
      "  File \"c:\\Users\\valen\\anaconda3\\envs\\nlp-m\\lib\\site-packages\\wandb\\sdk\\lib\\sock_client.py\", line 155, in send_server_request\n",
      "    self._send_message(msg)\n",
      "  File \"c:\\Users\\valen\\anaconda3\\envs\\nlp-m\\lib\\site-packages\\wandb\\sdk\\lib\\sock_client.py\", line 152, in _send_message\n",
      "    self._sendall_with_error_handle(header + data)\n",
      "  File \"c:\\Users\\valen\\anaconda3\\envs\\nlp-m\\lib\\site-packages\\wandb\\sdk\\lib\\sock_client.py\", line 130, in _sendall_with_error_handle\n",
      "    sent = self._sock.send(data)\n",
      "ConnectionResetError: [WinError 10054] An existing connection was forcibly closed by the remote host\n",
      "\u001b[34m\u001b[1mwandb\u001b[0m: Agent Starting Run: 13atx1vd with config:\n",
      "\u001b[34m\u001b[1mwandb\u001b[0m: \tbatch_size: 16\n",
      "\u001b[34m\u001b[1mwandb\u001b[0m: \tconv_hid_size: 32\n",
      "\u001b[34m\u001b[1mwandb\u001b[0m: \tconv_in_size: 32\n",
      "\u001b[34m\u001b[1mwandb\u001b[0m: \tconv_out_size: 8\n",
      "\u001b[34m\u001b[1mwandb\u001b[0m: \tdropout: 0.25\n",
      "\u001b[34m\u001b[1mwandb\u001b[0m: \tfc_size: 512\n",
      "\u001b[34m\u001b[1mwandb\u001b[0m: \thidden_size: 8\n",
      "\u001b[34m\u001b[1mwandb\u001b[0m: \tlr: 0.0001\n",
      "\u001b[34m\u001b[1mwandb\u001b[0m: \tmax_epochs: 250\n",
      "Traceback (most recent call last):\n",
      "  File \"c:\\Users\\valen\\anaconda3\\envs\\nlp-m\\lib\\site-packages\\wandb\\sdk\\wandb_init.py\", line 1166, in init\n",
      "    wi.setup(kwargs)\n",
      "  File \"c:\\Users\\valen\\anaconda3\\envs\\nlp-m\\lib\\site-packages\\wandb\\sdk\\wandb_init.py\", line 233, in setup\n",
      "    tel.feature.set_init_tags = True\n",
      "  File \"c:\\Users\\valen\\anaconda3\\envs\\nlp-m\\lib\\site-packages\\wandb\\sdk\\lib\\telemetry.py\", line 42, in __exit__\n",
      "    self._run._telemetry_callback(self._obj)\n",
      "  File \"c:\\Users\\valen\\anaconda3\\envs\\nlp-m\\lib\\site-packages\\wandb\\sdk\\wandb_run.py\", line 758, in _telemetry_callback\n",
      "    self._telemetry_flush()\n",
      "  File \"c:\\Users\\valen\\anaconda3\\envs\\nlp-m\\lib\\site-packages\\wandb\\sdk\\wandb_run.py\", line 769, in _telemetry_flush\n",
      "    self._backend.interface._publish_telemetry(self._telemetry_obj)\n",
      "  File \"c:\\Users\\valen\\anaconda3\\envs\\nlp-m\\lib\\site-packages\\wandb\\sdk\\interface\\interface_shared.py\", line 101, in _publish_telemetry\n",
      "    self._publish(rec)\n",
      "  File \"c:\\Users\\valen\\anaconda3\\envs\\nlp-m\\lib\\site-packages\\wandb\\sdk\\interface\\interface_sock.py\", line 51, in _publish\n",
      "    self._sock_client.send_record_publish(record)\n",
      "  File \"c:\\Users\\valen\\anaconda3\\envs\\nlp-m\\lib\\site-packages\\wandb\\sdk\\lib\\sock_client.py\", line 221, in send_record_publish\n",
      "    self.send_server_request(server_req)\n",
      "  File \"c:\\Users\\valen\\anaconda3\\envs\\nlp-m\\lib\\site-packages\\wandb\\sdk\\lib\\sock_client.py\", line 155, in send_server_request\n",
      "    self._send_message(msg)\n",
      "  File \"c:\\Users\\valen\\anaconda3\\envs\\nlp-m\\lib\\site-packages\\wandb\\sdk\\lib\\sock_client.py\", line 152, in _send_message\n",
      "    self._sendall_with_error_handle(header + data)\n",
      "  File \"c:\\Users\\valen\\anaconda3\\envs\\nlp-m\\lib\\site-packages\\wandb\\sdk\\lib\\sock_client.py\", line 130, in _sendall_with_error_handle\n",
      "    sent = self._sock.send(data)\n",
      "ConnectionResetError: [WinError 10054] An existing connection was forcibly closed by the remote host\n",
      "Exception in thread Thread-72:\n",
      "Traceback (most recent call last):\n",
      "  File \"c:\\Users\\valen\\anaconda3\\envs\\nlp-m\\lib\\site-packages\\wandb\\sdk\\wandb_init.py\", line 1166, in init\n",
      "    wi.setup(kwargs)\n",
      "  File \"c:\\Users\\valen\\anaconda3\\envs\\nlp-m\\lib\\site-packages\\wandb\\sdk\\wandb_init.py\", line 233, in setup\n",
      "    tel.feature.set_init_tags = True\n",
      "  File \"c:\\Users\\valen\\anaconda3\\envs\\nlp-m\\lib\\site-packages\\wandb\\sdk\\lib\\telemetry.py\", line 42, in __exit__\n",
      "    self._run._telemetry_callback(self._obj)\n",
      "  File \"c:\\Users\\valen\\anaconda3\\envs\\nlp-m\\lib\\site-packages\\wandb\\sdk\\wandb_run.py\", line 758, in _telemetry_callback\n",
      "    self._telemetry_flush()\n",
      "  File \"c:\\Users\\valen\\anaconda3\\envs\\nlp-m\\lib\\site-packages\\wandb\\sdk\\wandb_run.py\", line 769, in _telemetry_flush\n",
      "    self._backend.interface._publish_telemetry(self._telemetry_obj)\n",
      "  File \"c:\\Users\\valen\\anaconda3\\envs\\nlp-m\\lib\\site-packages\\wandb\\sdk\\interface\\interface_shared.py\", line 101, in _publish_telemetry\n",
      "    self._publish(rec)\n",
      "  File \"c:\\Users\\valen\\anaconda3\\envs\\nlp-m\\lib\\site-packages\\wandb\\sdk\\interface\\interface_sock.py\", line 51, in _publish\n",
      "    self._sock_client.send_record_publish(record)\n",
      "  File \"c:\\Users\\valen\\anaconda3\\envs\\nlp-m\\lib\\site-packages\\wandb\\sdk\\lib\\sock_client.py\", line 221, in send_record_publish\n",
      "    self.send_server_request(server_req)\n",
      "  File \"c:\\Users\\valen\\anaconda3\\envs\\nlp-m\\lib\\site-packages\\wandb\\sdk\\lib\\sock_client.py\", line 155, in send_server_request\n",
      "    self._send_message(msg)\n",
      "  File \"c:\\Users\\valen\\anaconda3\\envs\\nlp-m\\lib\\site-packages\\wandb\\sdk\\lib\\sock_client.py\", line 152, in _send_message\n",
      "    self._sendall_with_error_handle(header + data)\n",
      "  File \"c:\\Users\\valen\\anaconda3\\envs\\nlp-m\\lib\\site-packages\\wandb\\sdk\\lib\\sock_client.py\", line 130, in _sendall_with_error_handle\n",
      "    sent = self._sock.send(data)\n",
      "ConnectionResetError: [WinError 10054] An existing connection was forcibly closed by the remote host\n",
      "\n",
      "The above exception was the direct cause of the following exception:\n",
      "\n",
      "Traceback (most recent call last):\n",
      "  File \"c:\\Users\\valen\\anaconda3\\envs\\nlp-m\\lib\\site-packages\\wandb\\agents\\pyagent.py\", line 298, in _run_job\n",
      "    self._function()\n",
      "  File \"C:\\Users\\valen\\AppData\\Local\\Temp\\ipykernel_19500\\35702409.py\", line 8, in train_model\n",
      "  File \"c:\\Users\\valen\\anaconda3\\envs\\nlp-m\\lib\\site-packages\\wandb\\sdk\\wandb_init.py\", line 1208, in init\n",
      "    raise Error(\"An unexpected error occurred\") from error_seen\n",
      "wandb.errors.Error: An unexpected error occurred\n",
      "\n",
      "During handling of the above exception, another exception occurred:\n",
      "\n",
      "Traceback (most recent call last):\n",
      "  File \"c:\\Users\\valen\\anaconda3\\envs\\nlp-m\\lib\\threading.py\", line 980, in _bootstrap_inner\n",
      "    self.run()\n",
      "  File \"c:\\Users\\valen\\anaconda3\\envs\\nlp-m\\lib\\threading.py\", line 917, in run\n",
      "    self._target(*self._args, **self._kwargs)\n",
      "  File \"c:\\Users\\valen\\anaconda3\\envs\\nlp-m\\lib\\site-packages\\wandb\\agents\\pyagent.py\", line 303, in _run_job\n",
      "    wandb.finish(exit_code=1)\n",
      "  File \"c:\\Users\\valen\\anaconda3\\envs\\nlp-m\\lib\\site-packages\\wandb\\sdk\\wandb_run.py\", line 4090, in finish\n",
      "    wandb.run.finish(exit_code=exit_code, quiet=quiet)\n",
      "  File \"c:\\Users\\valen\\anaconda3\\envs\\nlp-m\\lib\\site-packages\\wandb\\sdk\\wandb_run.py\", line 420, in wrapper\n",
      "    return func(self, *args, **kwargs)\n",
      "  File \"c:\\Users\\valen\\anaconda3\\envs\\nlp-m\\lib\\site-packages\\wandb\\sdk\\wandb_run.py\", line 361, in wrapper\n",
      "    return func(self, *args, **kwargs)\n",
      "  File \"c:\\Users\\valen\\anaconda3\\envs\\nlp-m\\lib\\site-packages\\wandb\\sdk\\wandb_run.py\", line 1953, in finish\n",
      "    return self._finish(exit_code, quiet)\n",
      "  File \"c:\\Users\\valen\\anaconda3\\envs\\nlp-m\\lib\\site-packages\\wandb\\sdk\\wandb_run.py\", line 1961, in _finish\n",
      "    tel.feature.finish = True\n",
      "  File \"c:\\Users\\valen\\anaconda3\\envs\\nlp-m\\lib\\site-packages\\wandb\\sdk\\lib\\telemetry.py\", line 42, in __exit__\n",
      "    self._run._telemetry_callback(self._obj)\n",
      "  File \"c:\\Users\\valen\\anaconda3\\envs\\nlp-m\\lib\\site-packages\\wandb\\sdk\\wandb_run.py\", line 758, in _telemetry_callback\n",
      "    self._telemetry_flush()\n",
      "  File \"c:\\Users\\valen\\anaconda3\\envs\\nlp-m\\lib\\site-packages\\wandb\\sdk\\wandb_run.py\", line 769, in _telemetry_flush\n",
      "    self._backend.interface._publish_telemetry(self._telemetry_obj)\n",
      "  File \"c:\\Users\\valen\\anaconda3\\envs\\nlp-m\\lib\\site-packages\\wandb\\sdk\\interface\\interface_shared.py\", line 101, in _publish_telemetry\n",
      "    self._publish(rec)\n",
      "  File \"c:\\Users\\valen\\anaconda3\\envs\\nlp-m\\lib\\site-packages\\wandb\\sdk\\interface\\interface_sock.py\", line 51, in _publish\n",
      "    self._sock_client.send_record_publish(record)\n",
      "  File \"c:\\Users\\valen\\anaconda3\\envs\\nlp-m\\lib\\site-packages\\wandb\\sdk\\lib\\sock_client.py\", line 221, in send_record_publish\n",
      "    self.send_server_request(server_req)\n",
      "  File \"c:\\Users\\valen\\anaconda3\\envs\\nlp-m\\lib\\site-packages\\wandb\\sdk\\lib\\sock_client.py\", line 155, in send_server_request\n",
      "    self._send_message(msg)\n",
      "  File \"c:\\Users\\valen\\anaconda3\\envs\\nlp-m\\lib\\site-packages\\wandb\\sdk\\lib\\sock_client.py\", line 152, in _send_message\n",
      "    self._sendall_with_error_handle(header + data)\n",
      "  File \"c:\\Users\\valen\\anaconda3\\envs\\nlp-m\\lib\\site-packages\\wandb\\sdk\\lib\\sock_client.py\", line 130, in _sendall_with_error_handle\n",
      "    sent = self._sock.send(data)\n",
      "ConnectionResetError: [WinError 10054] An existing connection was forcibly closed by the remote host\n",
      "\u001b[34m\u001b[1mwandb\u001b[0m: Agent Starting Run: ikoxnzyp with config:\n",
      "\u001b[34m\u001b[1mwandb\u001b[0m: \tbatch_size: 16\n",
      "\u001b[34m\u001b[1mwandb\u001b[0m: \tconv_hid_size: 32\n",
      "\u001b[34m\u001b[1mwandb\u001b[0m: \tconv_in_size: 128\n",
      "\u001b[34m\u001b[1mwandb\u001b[0m: \tconv_out_size: 16\n",
      "\u001b[34m\u001b[1mwandb\u001b[0m: \tdropout: 0.2\n",
      "\u001b[34m\u001b[1mwandb\u001b[0m: \tfc_size: 512\n",
      "\u001b[34m\u001b[1mwandb\u001b[0m: \thidden_size: 16\n",
      "\u001b[34m\u001b[1mwandb\u001b[0m: \tlr: 0.001\n",
      "\u001b[34m\u001b[1mwandb\u001b[0m: \tmax_epochs: 250\n",
      "Traceback (most recent call last):\n",
      "  File \"c:\\Users\\valen\\anaconda3\\envs\\nlp-m\\lib\\site-packages\\wandb\\sdk\\wandb_init.py\", line 1166, in init\n",
      "    wi.setup(kwargs)\n",
      "  File \"c:\\Users\\valen\\anaconda3\\envs\\nlp-m\\lib\\site-packages\\wandb\\sdk\\wandb_init.py\", line 233, in setup\n",
      "    tel.feature.set_init_tags = True\n",
      "  File \"c:\\Users\\valen\\anaconda3\\envs\\nlp-m\\lib\\site-packages\\wandb\\sdk\\lib\\telemetry.py\", line 42, in __exit__\n",
      "    self._run._telemetry_callback(self._obj)\n",
      "  File \"c:\\Users\\valen\\anaconda3\\envs\\nlp-m\\lib\\site-packages\\wandb\\sdk\\wandb_run.py\", line 758, in _telemetry_callback\n",
      "    self._telemetry_flush()\n",
      "  File \"c:\\Users\\valen\\anaconda3\\envs\\nlp-m\\lib\\site-packages\\wandb\\sdk\\wandb_run.py\", line 769, in _telemetry_flush\n",
      "    self._backend.interface._publish_telemetry(self._telemetry_obj)\n",
      "  File \"c:\\Users\\valen\\anaconda3\\envs\\nlp-m\\lib\\site-packages\\wandb\\sdk\\interface\\interface_shared.py\", line 101, in _publish_telemetry\n",
      "    self._publish(rec)\n",
      "  File \"c:\\Users\\valen\\anaconda3\\envs\\nlp-m\\lib\\site-packages\\wandb\\sdk\\interface\\interface_sock.py\", line 51, in _publish\n",
      "    self._sock_client.send_record_publish(record)\n",
      "  File \"c:\\Users\\valen\\anaconda3\\envs\\nlp-m\\lib\\site-packages\\wandb\\sdk\\lib\\sock_client.py\", line 221, in send_record_publish\n",
      "    self.send_server_request(server_req)\n",
      "  File \"c:\\Users\\valen\\anaconda3\\envs\\nlp-m\\lib\\site-packages\\wandb\\sdk\\lib\\sock_client.py\", line 155, in send_server_request\n",
      "    self._send_message(msg)\n",
      "  File \"c:\\Users\\valen\\anaconda3\\envs\\nlp-m\\lib\\site-packages\\wandb\\sdk\\lib\\sock_client.py\", line 152, in _send_message\n",
      "    self._sendall_with_error_handle(header + data)\n",
      "  File \"c:\\Users\\valen\\anaconda3\\envs\\nlp-m\\lib\\site-packages\\wandb\\sdk\\lib\\sock_client.py\", line 130, in _sendall_with_error_handle\n",
      "    sent = self._sock.send(data)\n",
      "ConnectionResetError: [WinError 10054] An existing connection was forcibly closed by the remote host\n",
      "Exception in thread Thread-73:\n",
      "Traceback (most recent call last):\n",
      "  File \"c:\\Users\\valen\\anaconda3\\envs\\nlp-m\\lib\\site-packages\\wandb\\sdk\\wandb_init.py\", line 1166, in init\n",
      "    wi.setup(kwargs)\n",
      "  File \"c:\\Users\\valen\\anaconda3\\envs\\nlp-m\\lib\\site-packages\\wandb\\sdk\\wandb_init.py\", line 233, in setup\n",
      "    tel.feature.set_init_tags = True\n",
      "  File \"c:\\Users\\valen\\anaconda3\\envs\\nlp-m\\lib\\site-packages\\wandb\\sdk\\lib\\telemetry.py\", line 42, in __exit__\n",
      "    self._run._telemetry_callback(self._obj)\n",
      "  File \"c:\\Users\\valen\\anaconda3\\envs\\nlp-m\\lib\\site-packages\\wandb\\sdk\\wandb_run.py\", line 758, in _telemetry_callback\n",
      "    self._telemetry_flush()\n",
      "  File \"c:\\Users\\valen\\anaconda3\\envs\\nlp-m\\lib\\site-packages\\wandb\\sdk\\wandb_run.py\", line 769, in _telemetry_flush\n",
      "    self._backend.interface._publish_telemetry(self._telemetry_obj)\n",
      "  File \"c:\\Users\\valen\\anaconda3\\envs\\nlp-m\\lib\\site-packages\\wandb\\sdk\\interface\\interface_shared.py\", line 101, in _publish_telemetry\n",
      "    self._publish(rec)\n",
      "  File \"c:\\Users\\valen\\anaconda3\\envs\\nlp-m\\lib\\site-packages\\wandb\\sdk\\interface\\interface_sock.py\", line 51, in _publish\n",
      "    self._sock_client.send_record_publish(record)\n",
      "  File \"c:\\Users\\valen\\anaconda3\\envs\\nlp-m\\lib\\site-packages\\wandb\\sdk\\lib\\sock_client.py\", line 221, in send_record_publish\n",
      "    self.send_server_request(server_req)\n",
      "  File \"c:\\Users\\valen\\anaconda3\\envs\\nlp-m\\lib\\site-packages\\wandb\\sdk\\lib\\sock_client.py\", line 155, in send_server_request\n",
      "    self._send_message(msg)\n",
      "  File \"c:\\Users\\valen\\anaconda3\\envs\\nlp-m\\lib\\site-packages\\wandb\\sdk\\lib\\sock_client.py\", line 152, in _send_message\n",
      "    self._sendall_with_error_handle(header + data)\n",
      "  File \"c:\\Users\\valen\\anaconda3\\envs\\nlp-m\\lib\\site-packages\\wandb\\sdk\\lib\\sock_client.py\", line 130, in _sendall_with_error_handle\n",
      "    sent = self._sock.send(data)\n",
      "ConnectionResetError: [WinError 10054] An existing connection was forcibly closed by the remote host\n",
      "\n",
      "The above exception was the direct cause of the following exception:\n",
      "\n",
      "Traceback (most recent call last):\n",
      "  File \"c:\\Users\\valen\\anaconda3\\envs\\nlp-m\\lib\\site-packages\\wandb\\agents\\pyagent.py\", line 298, in _run_job\n",
      "    self._function()\n",
      "  File \"C:\\Users\\valen\\AppData\\Local\\Temp\\ipykernel_19500\\35702409.py\", line 8, in train_model\n",
      "  File \"c:\\Users\\valen\\anaconda3\\envs\\nlp-m\\lib\\site-packages\\wandb\\sdk\\wandb_init.py\", line 1208, in init\n",
      "    raise Error(\"An unexpected error occurred\") from error_seen\n",
      "wandb.errors.Error: An unexpected error occurred\n",
      "\n",
      "During handling of the above exception, another exception occurred:\n",
      "\n",
      "Traceback (most recent call last):\n",
      "  File \"c:\\Users\\valen\\anaconda3\\envs\\nlp-m\\lib\\threading.py\", line 980, in _bootstrap_inner\n",
      "    self.run()\n",
      "  File \"c:\\Users\\valen\\anaconda3\\envs\\nlp-m\\lib\\threading.py\", line 917, in run\n",
      "    self._target(*self._args, **self._kwargs)\n",
      "  File \"c:\\Users\\valen\\anaconda3\\envs\\nlp-m\\lib\\site-packages\\wandb\\agents\\pyagent.py\", line 303, in _run_job\n",
      "    wandb.finish(exit_code=1)\n",
      "  File \"c:\\Users\\valen\\anaconda3\\envs\\nlp-m\\lib\\site-packages\\wandb\\sdk\\wandb_run.py\", line 4090, in finish\n",
      "    wandb.run.finish(exit_code=exit_code, quiet=quiet)\n",
      "  File \"c:\\Users\\valen\\anaconda3\\envs\\nlp-m\\lib\\site-packages\\wandb\\sdk\\wandb_run.py\", line 420, in wrapper\n",
      "    return func(self, *args, **kwargs)\n",
      "  File \"c:\\Users\\valen\\anaconda3\\envs\\nlp-m\\lib\\site-packages\\wandb\\sdk\\wandb_run.py\", line 361, in wrapper\n",
      "    return func(self, *args, **kwargs)\n",
      "  File \"c:\\Users\\valen\\anaconda3\\envs\\nlp-m\\lib\\site-packages\\wandb\\sdk\\wandb_run.py\", line 1953, in finish\n",
      "    return self._finish(exit_code, quiet)\n",
      "  File \"c:\\Users\\valen\\anaconda3\\envs\\nlp-m\\lib\\site-packages\\wandb\\sdk\\wandb_run.py\", line 1961, in _finish\n",
      "    tel.feature.finish = True\n",
      "  File \"c:\\Users\\valen\\anaconda3\\envs\\nlp-m\\lib\\site-packages\\wandb\\sdk\\lib\\telemetry.py\", line 42, in __exit__\n",
      "    self._run._telemetry_callback(self._obj)\n",
      "  File \"c:\\Users\\valen\\anaconda3\\envs\\nlp-m\\lib\\site-packages\\wandb\\sdk\\wandb_run.py\", line 758, in _telemetry_callback\n",
      "    self._telemetry_flush()\n",
      "  File \"c:\\Users\\valen\\anaconda3\\envs\\nlp-m\\lib\\site-packages\\wandb\\sdk\\wandb_run.py\", line 769, in _telemetry_flush\n",
      "    self._backend.interface._publish_telemetry(self._telemetry_obj)\n",
      "  File \"c:\\Users\\valen\\anaconda3\\envs\\nlp-m\\lib\\site-packages\\wandb\\sdk\\interface\\interface_shared.py\", line 101, in _publish_telemetry\n",
      "    self._publish(rec)\n",
      "  File \"c:\\Users\\valen\\anaconda3\\envs\\nlp-m\\lib\\site-packages\\wandb\\sdk\\interface\\interface_sock.py\", line 51, in _publish\n",
      "    self._sock_client.send_record_publish(record)\n",
      "  File \"c:\\Users\\valen\\anaconda3\\envs\\nlp-m\\lib\\site-packages\\wandb\\sdk\\lib\\sock_client.py\", line 221, in send_record_publish\n",
      "    self.send_server_request(server_req)\n",
      "  File \"c:\\Users\\valen\\anaconda3\\envs\\nlp-m\\lib\\site-packages\\wandb\\sdk\\lib\\sock_client.py\", line 155, in send_server_request\n",
      "    self._send_message(msg)\n",
      "  File \"c:\\Users\\valen\\anaconda3\\envs\\nlp-m\\lib\\site-packages\\wandb\\sdk\\lib\\sock_client.py\", line 152, in _send_message\n",
      "    self._sendall_with_error_handle(header + data)\n",
      "  File \"c:\\Users\\valen\\anaconda3\\envs\\nlp-m\\lib\\site-packages\\wandb\\sdk\\lib\\sock_client.py\", line 130, in _sendall_with_error_handle\n",
      "    sent = self._sock.send(data)\n",
      "ConnectionResetError: [WinError 10054] An existing connection was forcibly closed by the remote host\n",
      "\u001b[34m\u001b[1mwandb\u001b[0m: Agent Starting Run: fu4mnn25 with config:\n",
      "\u001b[34m\u001b[1mwandb\u001b[0m: \tbatch_size: 16\n",
      "\u001b[34m\u001b[1mwandb\u001b[0m: \tconv_hid_size: 16\n",
      "\u001b[34m\u001b[1mwandb\u001b[0m: \tconv_in_size: 64\n",
      "\u001b[34m\u001b[1mwandb\u001b[0m: \tconv_out_size: 16\n",
      "\u001b[34m\u001b[1mwandb\u001b[0m: \tdropout: 0.2\n",
      "\u001b[34m\u001b[1mwandb\u001b[0m: \tfc_size: 512\n",
      "\u001b[34m\u001b[1mwandb\u001b[0m: \thidden_size: 8\n",
      "\u001b[34m\u001b[1mwandb\u001b[0m: \tlr: 0.0001\n",
      "\u001b[34m\u001b[1mwandb\u001b[0m: \tmax_epochs: 250\n",
      "Traceback (most recent call last):\n",
      "  File \"c:\\Users\\valen\\anaconda3\\envs\\nlp-m\\lib\\site-packages\\wandb\\sdk\\wandb_init.py\", line 1166, in init\n",
      "    wi.setup(kwargs)\n",
      "  File \"c:\\Users\\valen\\anaconda3\\envs\\nlp-m\\lib\\site-packages\\wandb\\sdk\\wandb_init.py\", line 233, in setup\n",
      "    tel.feature.set_init_tags = True\n",
      "  File \"c:\\Users\\valen\\anaconda3\\envs\\nlp-m\\lib\\site-packages\\wandb\\sdk\\lib\\telemetry.py\", line 42, in __exit__\n",
      "    self._run._telemetry_callback(self._obj)\n",
      "  File \"c:\\Users\\valen\\anaconda3\\envs\\nlp-m\\lib\\site-packages\\wandb\\sdk\\wandb_run.py\", line 758, in _telemetry_callback\n",
      "    self._telemetry_flush()\n",
      "  File \"c:\\Users\\valen\\anaconda3\\envs\\nlp-m\\lib\\site-packages\\wandb\\sdk\\wandb_run.py\", line 769, in _telemetry_flush\n",
      "    self._backend.interface._publish_telemetry(self._telemetry_obj)\n",
      "  File \"c:\\Users\\valen\\anaconda3\\envs\\nlp-m\\lib\\site-packages\\wandb\\sdk\\interface\\interface_shared.py\", line 101, in _publish_telemetry\n",
      "    self._publish(rec)\n",
      "  File \"c:\\Users\\valen\\anaconda3\\envs\\nlp-m\\lib\\site-packages\\wandb\\sdk\\interface\\interface_sock.py\", line 51, in _publish\n",
      "    self._sock_client.send_record_publish(record)\n",
      "  File \"c:\\Users\\valen\\anaconda3\\envs\\nlp-m\\lib\\site-packages\\wandb\\sdk\\lib\\sock_client.py\", line 221, in send_record_publish\n",
      "    self.send_server_request(server_req)\n",
      "  File \"c:\\Users\\valen\\anaconda3\\envs\\nlp-m\\lib\\site-packages\\wandb\\sdk\\lib\\sock_client.py\", line 155, in send_server_request\n",
      "    self._send_message(msg)\n",
      "  File \"c:\\Users\\valen\\anaconda3\\envs\\nlp-m\\lib\\site-packages\\wandb\\sdk\\lib\\sock_client.py\", line 152, in _send_message\n",
      "    self._sendall_with_error_handle(header + data)\n",
      "  File \"c:\\Users\\valen\\anaconda3\\envs\\nlp-m\\lib\\site-packages\\wandb\\sdk\\lib\\sock_client.py\", line 130, in _sendall_with_error_handle\n",
      "    sent = self._sock.send(data)\n",
      "ConnectionResetError: [WinError 10054] An existing connection was forcibly closed by the remote host\n",
      "Exception in thread Thread-74:\n",
      "Traceback (most recent call last):\n",
      "  File \"c:\\Users\\valen\\anaconda3\\envs\\nlp-m\\lib\\site-packages\\wandb\\sdk\\wandb_init.py\", line 1166, in init\n",
      "    wi.setup(kwargs)\n",
      "  File \"c:\\Users\\valen\\anaconda3\\envs\\nlp-m\\lib\\site-packages\\wandb\\sdk\\wandb_init.py\", line 233, in setup\n",
      "    tel.feature.set_init_tags = True\n",
      "  File \"c:\\Users\\valen\\anaconda3\\envs\\nlp-m\\lib\\site-packages\\wandb\\sdk\\lib\\telemetry.py\", line 42, in __exit__\n",
      "    self._run._telemetry_callback(self._obj)\n",
      "  File \"c:\\Users\\valen\\anaconda3\\envs\\nlp-m\\lib\\site-packages\\wandb\\sdk\\wandb_run.py\", line 758, in _telemetry_callback\n",
      "    self._telemetry_flush()\n",
      "  File \"c:\\Users\\valen\\anaconda3\\envs\\nlp-m\\lib\\site-packages\\wandb\\sdk\\wandb_run.py\", line 769, in _telemetry_flush\n",
      "    self._backend.interface._publish_telemetry(self._telemetry_obj)\n",
      "  File \"c:\\Users\\valen\\anaconda3\\envs\\nlp-m\\lib\\site-packages\\wandb\\sdk\\interface\\interface_shared.py\", line 101, in _publish_telemetry\n",
      "    self._publish(rec)\n",
      "  File \"c:\\Users\\valen\\anaconda3\\envs\\nlp-m\\lib\\site-packages\\wandb\\sdk\\interface\\interface_sock.py\", line 51, in _publish\n",
      "    self._sock_client.send_record_publish(record)\n",
      "  File \"c:\\Users\\valen\\anaconda3\\envs\\nlp-m\\lib\\site-packages\\wandb\\sdk\\lib\\sock_client.py\", line 221, in send_record_publish\n",
      "    self.send_server_request(server_req)\n",
      "  File \"c:\\Users\\valen\\anaconda3\\envs\\nlp-m\\lib\\site-packages\\wandb\\sdk\\lib\\sock_client.py\", line 155, in send_server_request\n",
      "    self._send_message(msg)\n",
      "  File \"c:\\Users\\valen\\anaconda3\\envs\\nlp-m\\lib\\site-packages\\wandb\\sdk\\lib\\sock_client.py\", line 152, in _send_message\n",
      "    self._sendall_with_error_handle(header + data)\n",
      "  File \"c:\\Users\\valen\\anaconda3\\envs\\nlp-m\\lib\\site-packages\\wandb\\sdk\\lib\\sock_client.py\", line 130, in _sendall_with_error_handle\n",
      "    sent = self._sock.send(data)\n",
      "ConnectionResetError: [WinError 10054] An existing connection was forcibly closed by the remote host\n",
      "\n",
      "The above exception was the direct cause of the following exception:\n",
      "\n",
      "Traceback (most recent call last):\n",
      "  File \"c:\\Users\\valen\\anaconda3\\envs\\nlp-m\\lib\\site-packages\\wandb\\agents\\pyagent.py\", line 298, in _run_job\n",
      "    self._function()\n",
      "  File \"C:\\Users\\valen\\AppData\\Local\\Temp\\ipykernel_19500\\35702409.py\", line 8, in train_model\n",
      "  File \"c:\\Users\\valen\\anaconda3\\envs\\nlp-m\\lib\\site-packages\\wandb\\sdk\\wandb_init.py\", line 1208, in init\n",
      "    raise Error(\"An unexpected error occurred\") from error_seen\n",
      "wandb.errors.Error: An unexpected error occurred\n",
      "\n",
      "During handling of the above exception, another exception occurred:\n",
      "\n",
      "Traceback (most recent call last):\n",
      "  File \"c:\\Users\\valen\\anaconda3\\envs\\nlp-m\\lib\\threading.py\", line 980, in _bootstrap_inner\n",
      "    self.run()\n",
      "  File \"c:\\Users\\valen\\anaconda3\\envs\\nlp-m\\lib\\threading.py\", line 917, in run\n",
      "    self._target(*self._args, **self._kwargs)\n",
      "  File \"c:\\Users\\valen\\anaconda3\\envs\\nlp-m\\lib\\site-packages\\wandb\\agents\\pyagent.py\", line 303, in _run_job\n",
      "    wandb.finish(exit_code=1)\n",
      "  File \"c:\\Users\\valen\\anaconda3\\envs\\nlp-m\\lib\\site-packages\\wandb\\sdk\\wandb_run.py\", line 4090, in finish\n",
      "    wandb.run.finish(exit_code=exit_code, quiet=quiet)\n",
      "  File \"c:\\Users\\valen\\anaconda3\\envs\\nlp-m\\lib\\site-packages\\wandb\\sdk\\wandb_run.py\", line 420, in wrapper\n",
      "    return func(self, *args, **kwargs)\n",
      "  File \"c:\\Users\\valen\\anaconda3\\envs\\nlp-m\\lib\\site-packages\\wandb\\sdk\\wandb_run.py\", line 361, in wrapper\n",
      "    return func(self, *args, **kwargs)\n",
      "  File \"c:\\Users\\valen\\anaconda3\\envs\\nlp-m\\lib\\site-packages\\wandb\\sdk\\wandb_run.py\", line 1953, in finish\n",
      "    return self._finish(exit_code, quiet)\n",
      "  File \"c:\\Users\\valen\\anaconda3\\envs\\nlp-m\\lib\\site-packages\\wandb\\sdk\\wandb_run.py\", line 1961, in _finish\n",
      "    tel.feature.finish = True\n",
      "  File \"c:\\Users\\valen\\anaconda3\\envs\\nlp-m\\lib\\site-packages\\wandb\\sdk\\lib\\telemetry.py\", line 42, in __exit__\n",
      "    self._run._telemetry_callback(self._obj)\n",
      "  File \"c:\\Users\\valen\\anaconda3\\envs\\nlp-m\\lib\\site-packages\\wandb\\sdk\\wandb_run.py\", line 758, in _telemetry_callback\n",
      "    self._telemetry_flush()\n",
      "  File \"c:\\Users\\valen\\anaconda3\\envs\\nlp-m\\lib\\site-packages\\wandb\\sdk\\wandb_run.py\", line 769, in _telemetry_flush\n",
      "    self._backend.interface._publish_telemetry(self._telemetry_obj)\n",
      "  File \"c:\\Users\\valen\\anaconda3\\envs\\nlp-m\\lib\\site-packages\\wandb\\sdk\\interface\\interface_shared.py\", line 101, in _publish_telemetry\n",
      "    self._publish(rec)\n",
      "  File \"c:\\Users\\valen\\anaconda3\\envs\\nlp-m\\lib\\site-packages\\wandb\\sdk\\interface\\interface_sock.py\", line 51, in _publish\n",
      "    self._sock_client.send_record_publish(record)\n",
      "  File \"c:\\Users\\valen\\anaconda3\\envs\\nlp-m\\lib\\site-packages\\wandb\\sdk\\lib\\sock_client.py\", line 221, in send_record_publish\n",
      "    self.send_server_request(server_req)\n",
      "  File \"c:\\Users\\valen\\anaconda3\\envs\\nlp-m\\lib\\site-packages\\wandb\\sdk\\lib\\sock_client.py\", line 155, in send_server_request\n",
      "    self._send_message(msg)\n",
      "  File \"c:\\Users\\valen\\anaconda3\\envs\\nlp-m\\lib\\site-packages\\wandb\\sdk\\lib\\sock_client.py\", line 152, in _send_message\n",
      "    self._sendall_with_error_handle(header + data)\n",
      "  File \"c:\\Users\\valen\\anaconda3\\envs\\nlp-m\\lib\\site-packages\\wandb\\sdk\\lib\\sock_client.py\", line 130, in _sendall_with_error_handle\n",
      "    sent = self._sock.send(data)\n",
      "ConnectionResetError: [WinError 10054] An existing connection was forcibly closed by the remote host\n",
      "\u001b[34m\u001b[1mwandb\u001b[0m: Agent Starting Run: c8pfsr0v with config:\n",
      "\u001b[34m\u001b[1mwandb\u001b[0m: \tbatch_size: 8\n",
      "\u001b[34m\u001b[1mwandb\u001b[0m: \tconv_hid_size: 8\n",
      "\u001b[34m\u001b[1mwandb\u001b[0m: \tconv_in_size: 64\n",
      "\u001b[34m\u001b[1mwandb\u001b[0m: \tconv_out_size: 32\n",
      "\u001b[34m\u001b[1mwandb\u001b[0m: \tdropout: 0.3\n",
      "\u001b[34m\u001b[1mwandb\u001b[0m: \tfc_size: 512\n",
      "\u001b[34m\u001b[1mwandb\u001b[0m: \thidden_size: 8\n",
      "\u001b[34m\u001b[1mwandb\u001b[0m: \tlr: 0.001\n",
      "\u001b[34m\u001b[1mwandb\u001b[0m: \tmax_epochs: 250\n",
      "Traceback (most recent call last):\n",
      "  File \"c:\\Users\\valen\\anaconda3\\envs\\nlp-m\\lib\\site-packages\\wandb\\sdk\\wandb_init.py\", line 1166, in init\n",
      "    wi.setup(kwargs)\n",
      "  File \"c:\\Users\\valen\\anaconda3\\envs\\nlp-m\\lib\\site-packages\\wandb\\sdk\\wandb_init.py\", line 233, in setup\n",
      "    tel.feature.set_init_tags = True\n",
      "  File \"c:\\Users\\valen\\anaconda3\\envs\\nlp-m\\lib\\site-packages\\wandb\\sdk\\lib\\telemetry.py\", line 42, in __exit__\n",
      "    self._run._telemetry_callback(self._obj)\n",
      "  File \"c:\\Users\\valen\\anaconda3\\envs\\nlp-m\\lib\\site-packages\\wandb\\sdk\\wandb_run.py\", line 758, in _telemetry_callback\n",
      "    self._telemetry_flush()\n",
      "  File \"c:\\Users\\valen\\anaconda3\\envs\\nlp-m\\lib\\site-packages\\wandb\\sdk\\wandb_run.py\", line 769, in _telemetry_flush\n",
      "    self._backend.interface._publish_telemetry(self._telemetry_obj)\n",
      "  File \"c:\\Users\\valen\\anaconda3\\envs\\nlp-m\\lib\\site-packages\\wandb\\sdk\\interface\\interface_shared.py\", line 101, in _publish_telemetry\n",
      "    self._publish(rec)\n",
      "  File \"c:\\Users\\valen\\anaconda3\\envs\\nlp-m\\lib\\site-packages\\wandb\\sdk\\interface\\interface_sock.py\", line 51, in _publish\n",
      "    self._sock_client.send_record_publish(record)\n",
      "  File \"c:\\Users\\valen\\anaconda3\\envs\\nlp-m\\lib\\site-packages\\wandb\\sdk\\lib\\sock_client.py\", line 221, in send_record_publish\n",
      "    self.send_server_request(server_req)\n",
      "  File \"c:\\Users\\valen\\anaconda3\\envs\\nlp-m\\lib\\site-packages\\wandb\\sdk\\lib\\sock_client.py\", line 155, in send_server_request\n",
      "    self._send_message(msg)\n",
      "  File \"c:\\Users\\valen\\anaconda3\\envs\\nlp-m\\lib\\site-packages\\wandb\\sdk\\lib\\sock_client.py\", line 152, in _send_message\n",
      "    self._sendall_with_error_handle(header + data)\n",
      "  File \"c:\\Users\\valen\\anaconda3\\envs\\nlp-m\\lib\\site-packages\\wandb\\sdk\\lib\\sock_client.py\", line 130, in _sendall_with_error_handle\n",
      "    sent = self._sock.send(data)\n",
      "ConnectionResetError: [WinError 10054] An existing connection was forcibly closed by the remote host\n",
      "Exception in thread Thread-75:\n",
      "Traceback (most recent call last):\n",
      "  File \"c:\\Users\\valen\\anaconda3\\envs\\nlp-m\\lib\\site-packages\\wandb\\sdk\\wandb_init.py\", line 1166, in init\n",
      "    wi.setup(kwargs)\n",
      "  File \"c:\\Users\\valen\\anaconda3\\envs\\nlp-m\\lib\\site-packages\\wandb\\sdk\\wandb_init.py\", line 233, in setup\n",
      "    tel.feature.set_init_tags = True\n",
      "  File \"c:\\Users\\valen\\anaconda3\\envs\\nlp-m\\lib\\site-packages\\wandb\\sdk\\lib\\telemetry.py\", line 42, in __exit__\n",
      "    self._run._telemetry_callback(self._obj)\n",
      "  File \"c:\\Users\\valen\\anaconda3\\envs\\nlp-m\\lib\\site-packages\\wandb\\sdk\\wandb_run.py\", line 758, in _telemetry_callback\n",
      "    self._telemetry_flush()\n",
      "  File \"c:\\Users\\valen\\anaconda3\\envs\\nlp-m\\lib\\site-packages\\wandb\\sdk\\wandb_run.py\", line 769, in _telemetry_flush\n",
      "    self._backend.interface._publish_telemetry(self._telemetry_obj)\n",
      "  File \"c:\\Users\\valen\\anaconda3\\envs\\nlp-m\\lib\\site-packages\\wandb\\sdk\\interface\\interface_shared.py\", line 101, in _publish_telemetry\n",
      "    self._publish(rec)\n",
      "  File \"c:\\Users\\valen\\anaconda3\\envs\\nlp-m\\lib\\site-packages\\wandb\\sdk\\interface\\interface_sock.py\", line 51, in _publish\n",
      "    self._sock_client.send_record_publish(record)\n",
      "  File \"c:\\Users\\valen\\anaconda3\\envs\\nlp-m\\lib\\site-packages\\wandb\\sdk\\lib\\sock_client.py\", line 221, in send_record_publish\n",
      "    self.send_server_request(server_req)\n",
      "  File \"c:\\Users\\valen\\anaconda3\\envs\\nlp-m\\lib\\site-packages\\wandb\\sdk\\lib\\sock_client.py\", line 155, in send_server_request\n",
      "    self._send_message(msg)\n",
      "  File \"c:\\Users\\valen\\anaconda3\\envs\\nlp-m\\lib\\site-packages\\wandb\\sdk\\lib\\sock_client.py\", line 152, in _send_message\n",
      "    self._sendall_with_error_handle(header + data)\n",
      "  File \"c:\\Users\\valen\\anaconda3\\envs\\nlp-m\\lib\\site-packages\\wandb\\sdk\\lib\\sock_client.py\", line 130, in _sendall_with_error_handle\n",
      "    sent = self._sock.send(data)\n",
      "ConnectionResetError: [WinError 10054] An existing connection was forcibly closed by the remote host\n",
      "\n",
      "The above exception was the direct cause of the following exception:\n",
      "\n",
      "Traceback (most recent call last):\n",
      "  File \"c:\\Users\\valen\\anaconda3\\envs\\nlp-m\\lib\\site-packages\\wandb\\agents\\pyagent.py\", line 298, in _run_job\n",
      "    self._function()\n",
      "  File \"C:\\Users\\valen\\AppData\\Local\\Temp\\ipykernel_19500\\35702409.py\", line 8, in train_model\n",
      "  File \"c:\\Users\\valen\\anaconda3\\envs\\nlp-m\\lib\\site-packages\\wandb\\sdk\\wandb_init.py\", line 1208, in init\n",
      "    raise Error(\"An unexpected error occurred\") from error_seen\n",
      "wandb.errors.Error: An unexpected error occurred\n",
      "\n",
      "During handling of the above exception, another exception occurred:\n",
      "\n",
      "Traceback (most recent call last):\n",
      "  File \"c:\\Users\\valen\\anaconda3\\envs\\nlp-m\\lib\\threading.py\", line 980, in _bootstrap_inner\n",
      "    self.run()\n",
      "  File \"c:\\Users\\valen\\anaconda3\\envs\\nlp-m\\lib\\threading.py\", line 917, in run\n",
      "    self._target(*self._args, **self._kwargs)\n",
      "  File \"c:\\Users\\valen\\anaconda3\\envs\\nlp-m\\lib\\site-packages\\wandb\\agents\\pyagent.py\", line 303, in _run_job\n",
      "    wandb.finish(exit_code=1)\n",
      "  File \"c:\\Users\\valen\\anaconda3\\envs\\nlp-m\\lib\\site-packages\\wandb\\sdk\\wandb_run.py\", line 4090, in finish\n",
      "    wandb.run.finish(exit_code=exit_code, quiet=quiet)\n",
      "  File \"c:\\Users\\valen\\anaconda3\\envs\\nlp-m\\lib\\site-packages\\wandb\\sdk\\wandb_run.py\", line 420, in wrapper\n",
      "    return func(self, *args, **kwargs)\n",
      "  File \"c:\\Users\\valen\\anaconda3\\envs\\nlp-m\\lib\\site-packages\\wandb\\sdk\\wandb_run.py\", line 361, in wrapper\n",
      "    return func(self, *args, **kwargs)\n",
      "  File \"c:\\Users\\valen\\anaconda3\\envs\\nlp-m\\lib\\site-packages\\wandb\\sdk\\wandb_run.py\", line 1953, in finish\n",
      "    return self._finish(exit_code, quiet)\n",
      "  File \"c:\\Users\\valen\\anaconda3\\envs\\nlp-m\\lib\\site-packages\\wandb\\sdk\\wandb_run.py\", line 1961, in _finish\n",
      "    tel.feature.finish = True\n",
      "  File \"c:\\Users\\valen\\anaconda3\\envs\\nlp-m\\lib\\site-packages\\wandb\\sdk\\lib\\telemetry.py\", line 42, in __exit__\n",
      "    self._run._telemetry_callback(self._obj)\n",
      "  File \"c:\\Users\\valen\\anaconda3\\envs\\nlp-m\\lib\\site-packages\\wandb\\sdk\\wandb_run.py\", line 758, in _telemetry_callback\n",
      "    self._telemetry_flush()\n",
      "  File \"c:\\Users\\valen\\anaconda3\\envs\\nlp-m\\lib\\site-packages\\wandb\\sdk\\wandb_run.py\", line 769, in _telemetry_flush\n",
      "    self._backend.interface._publish_telemetry(self._telemetry_obj)\n",
      "  File \"c:\\Users\\valen\\anaconda3\\envs\\nlp-m\\lib\\site-packages\\wandb\\sdk\\interface\\interface_shared.py\", line 101, in _publish_telemetry\n",
      "    self._publish(rec)\n",
      "  File \"c:\\Users\\valen\\anaconda3\\envs\\nlp-m\\lib\\site-packages\\wandb\\sdk\\interface\\interface_sock.py\", line 51, in _publish\n",
      "    self._sock_client.send_record_publish(record)\n",
      "  File \"c:\\Users\\valen\\anaconda3\\envs\\nlp-m\\lib\\site-packages\\wandb\\sdk\\lib\\sock_client.py\", line 221, in send_record_publish\n",
      "    self.send_server_request(server_req)\n",
      "  File \"c:\\Users\\valen\\anaconda3\\envs\\nlp-m\\lib\\site-packages\\wandb\\sdk\\lib\\sock_client.py\", line 155, in send_server_request\n",
      "    self._send_message(msg)\n",
      "  File \"c:\\Users\\valen\\anaconda3\\envs\\nlp-m\\lib\\site-packages\\wandb\\sdk\\lib\\sock_client.py\", line 152, in _send_message\n",
      "    self._sendall_with_error_handle(header + data)\n",
      "  File \"c:\\Users\\valen\\anaconda3\\envs\\nlp-m\\lib\\site-packages\\wandb\\sdk\\lib\\sock_client.py\", line 130, in _sendall_with_error_handle\n",
      "    sent = self._sock.send(data)\n",
      "ConnectionResetError: [WinError 10054] An existing connection was forcibly closed by the remote host\n",
      "\u001b[34m\u001b[1mwandb\u001b[0m: Agent Starting Run: i2yt97k4 with config:\n",
      "\u001b[34m\u001b[1mwandb\u001b[0m: \tbatch_size: 16\n",
      "\u001b[34m\u001b[1mwandb\u001b[0m: \tconv_hid_size: 16\n",
      "\u001b[34m\u001b[1mwandb\u001b[0m: \tconv_in_size: 128\n",
      "\u001b[34m\u001b[1mwandb\u001b[0m: \tconv_out_size: 16\n",
      "\u001b[34m\u001b[1mwandb\u001b[0m: \tdropout: 0.2\n",
      "\u001b[34m\u001b[1mwandb\u001b[0m: \tfc_size: 128\n",
      "\u001b[34m\u001b[1mwandb\u001b[0m: \thidden_size: 16\n",
      "\u001b[34m\u001b[1mwandb\u001b[0m: \tlr: 0.0001\n",
      "\u001b[34m\u001b[1mwandb\u001b[0m: \tmax_epochs: 250\n",
      "Traceback (most recent call last):\n",
      "  File \"c:\\Users\\valen\\anaconda3\\envs\\nlp-m\\lib\\site-packages\\wandb\\sdk\\wandb_init.py\", line 1166, in init\n",
      "    wi.setup(kwargs)\n",
      "  File \"c:\\Users\\valen\\anaconda3\\envs\\nlp-m\\lib\\site-packages\\wandb\\sdk\\wandb_init.py\", line 233, in setup\n",
      "    tel.feature.set_init_tags = True\n",
      "  File \"c:\\Users\\valen\\anaconda3\\envs\\nlp-m\\lib\\site-packages\\wandb\\sdk\\lib\\telemetry.py\", line 42, in __exit__\n",
      "    self._run._telemetry_callback(self._obj)\n",
      "  File \"c:\\Users\\valen\\anaconda3\\envs\\nlp-m\\lib\\site-packages\\wandb\\sdk\\wandb_run.py\", line 758, in _telemetry_callback\n",
      "    self._telemetry_flush()\n",
      "  File \"c:\\Users\\valen\\anaconda3\\envs\\nlp-m\\lib\\site-packages\\wandb\\sdk\\wandb_run.py\", line 769, in _telemetry_flush\n",
      "    self._backend.interface._publish_telemetry(self._telemetry_obj)\n",
      "  File \"c:\\Users\\valen\\anaconda3\\envs\\nlp-m\\lib\\site-packages\\wandb\\sdk\\interface\\interface_shared.py\", line 101, in _publish_telemetry\n",
      "    self._publish(rec)\n",
      "  File \"c:\\Users\\valen\\anaconda3\\envs\\nlp-m\\lib\\site-packages\\wandb\\sdk\\interface\\interface_sock.py\", line 51, in _publish\n",
      "    self._sock_client.send_record_publish(record)\n",
      "  File \"c:\\Users\\valen\\anaconda3\\envs\\nlp-m\\lib\\site-packages\\wandb\\sdk\\lib\\sock_client.py\", line 221, in send_record_publish\n",
      "    self.send_server_request(server_req)\n",
      "  File \"c:\\Users\\valen\\anaconda3\\envs\\nlp-m\\lib\\site-packages\\wandb\\sdk\\lib\\sock_client.py\", line 155, in send_server_request\n",
      "    self._send_message(msg)\n",
      "  File \"c:\\Users\\valen\\anaconda3\\envs\\nlp-m\\lib\\site-packages\\wandb\\sdk\\lib\\sock_client.py\", line 152, in _send_message\n",
      "    self._sendall_with_error_handle(header + data)\n",
      "  File \"c:\\Users\\valen\\anaconda3\\envs\\nlp-m\\lib\\site-packages\\wandb\\sdk\\lib\\sock_client.py\", line 130, in _sendall_with_error_handle\n",
      "    sent = self._sock.send(data)\n",
      "ConnectionResetError: [WinError 10054] An existing connection was forcibly closed by the remote host\n",
      "Exception in thread Thread-76:\n",
      "Traceback (most recent call last):\n",
      "  File \"c:\\Users\\valen\\anaconda3\\envs\\nlp-m\\lib\\site-packages\\wandb\\sdk\\wandb_init.py\", line 1166, in init\n",
      "    wi.setup(kwargs)\n",
      "  File \"c:\\Users\\valen\\anaconda3\\envs\\nlp-m\\lib\\site-packages\\wandb\\sdk\\wandb_init.py\", line 233, in setup\n",
      "    tel.feature.set_init_tags = True\n",
      "  File \"c:\\Users\\valen\\anaconda3\\envs\\nlp-m\\lib\\site-packages\\wandb\\sdk\\lib\\telemetry.py\", line 42, in __exit__\n",
      "    self._run._telemetry_callback(self._obj)\n",
      "  File \"c:\\Users\\valen\\anaconda3\\envs\\nlp-m\\lib\\site-packages\\wandb\\sdk\\wandb_run.py\", line 758, in _telemetry_callback\n",
      "    self._telemetry_flush()\n",
      "  File \"c:\\Users\\valen\\anaconda3\\envs\\nlp-m\\lib\\site-packages\\wandb\\sdk\\wandb_run.py\", line 769, in _telemetry_flush\n",
      "    self._backend.interface._publish_telemetry(self._telemetry_obj)\n",
      "  File \"c:\\Users\\valen\\anaconda3\\envs\\nlp-m\\lib\\site-packages\\wandb\\sdk\\interface\\interface_shared.py\", line 101, in _publish_telemetry\n",
      "    self._publish(rec)\n",
      "  File \"c:\\Users\\valen\\anaconda3\\envs\\nlp-m\\lib\\site-packages\\wandb\\sdk\\interface\\interface_sock.py\", line 51, in _publish\n",
      "    self._sock_client.send_record_publish(record)\n",
      "  File \"c:\\Users\\valen\\anaconda3\\envs\\nlp-m\\lib\\site-packages\\wandb\\sdk\\lib\\sock_client.py\", line 221, in send_record_publish\n",
      "    self.send_server_request(server_req)\n",
      "  File \"c:\\Users\\valen\\anaconda3\\envs\\nlp-m\\lib\\site-packages\\wandb\\sdk\\lib\\sock_client.py\", line 155, in send_server_request\n",
      "    self._send_message(msg)\n",
      "  File \"c:\\Users\\valen\\anaconda3\\envs\\nlp-m\\lib\\site-packages\\wandb\\sdk\\lib\\sock_client.py\", line 152, in _send_message\n",
      "    self._sendall_with_error_handle(header + data)\n",
      "  File \"c:\\Users\\valen\\anaconda3\\envs\\nlp-m\\lib\\site-packages\\wandb\\sdk\\lib\\sock_client.py\", line 130, in _sendall_with_error_handle\n",
      "    sent = self._sock.send(data)\n",
      "ConnectionResetError: [WinError 10054] An existing connection was forcibly closed by the remote host\n",
      "\n",
      "The above exception was the direct cause of the following exception:\n",
      "\n",
      "Traceback (most recent call last):\n",
      "  File \"c:\\Users\\valen\\anaconda3\\envs\\nlp-m\\lib\\site-packages\\wandb\\agents\\pyagent.py\", line 298, in _run_job\n",
      "    self._function()\n",
      "  File \"C:\\Users\\valen\\AppData\\Local\\Temp\\ipykernel_19500\\35702409.py\", line 8, in train_model\n",
      "  File \"c:\\Users\\valen\\anaconda3\\envs\\nlp-m\\lib\\site-packages\\wandb\\sdk\\wandb_init.py\", line 1208, in init\n",
      "    raise Error(\"An unexpected error occurred\") from error_seen\n",
      "wandb.errors.Error: An unexpected error occurred\n",
      "\n",
      "During handling of the above exception, another exception occurred:\n",
      "\n",
      "Traceback (most recent call last):\n",
      "  File \"c:\\Users\\valen\\anaconda3\\envs\\nlp-m\\lib\\threading.py\", line 980, in _bootstrap_inner\n",
      "    self.run()\n",
      "  File \"c:\\Users\\valen\\anaconda3\\envs\\nlp-m\\lib\\threading.py\", line 917, in run\n",
      "    self._target(*self._args, **self._kwargs)\n",
      "  File \"c:\\Users\\valen\\anaconda3\\envs\\nlp-m\\lib\\site-packages\\wandb\\agents\\pyagent.py\", line 303, in _run_job\n",
      "    wandb.finish(exit_code=1)\n",
      "  File \"c:\\Users\\valen\\anaconda3\\envs\\nlp-m\\lib\\site-packages\\wandb\\sdk\\wandb_run.py\", line 4090, in finish\n",
      "    wandb.run.finish(exit_code=exit_code, quiet=quiet)\n",
      "  File \"c:\\Users\\valen\\anaconda3\\envs\\nlp-m\\lib\\site-packages\\wandb\\sdk\\wandb_run.py\", line 420, in wrapper\n",
      "    return func(self, *args, **kwargs)\n",
      "  File \"c:\\Users\\valen\\anaconda3\\envs\\nlp-m\\lib\\site-packages\\wandb\\sdk\\wandb_run.py\", line 361, in wrapper\n",
      "    return func(self, *args, **kwargs)\n",
      "  File \"c:\\Users\\valen\\anaconda3\\envs\\nlp-m\\lib\\site-packages\\wandb\\sdk\\wandb_run.py\", line 1953, in finish\n",
      "    return self._finish(exit_code, quiet)\n",
      "  File \"c:\\Users\\valen\\anaconda3\\envs\\nlp-m\\lib\\site-packages\\wandb\\sdk\\wandb_run.py\", line 1961, in _finish\n",
      "    tel.feature.finish = True\n",
      "  File \"c:\\Users\\valen\\anaconda3\\envs\\nlp-m\\lib\\site-packages\\wandb\\sdk\\lib\\telemetry.py\", line 42, in __exit__\n",
      "    self._run._telemetry_callback(self._obj)\n",
      "  File \"c:\\Users\\valen\\anaconda3\\envs\\nlp-m\\lib\\site-packages\\wandb\\sdk\\wandb_run.py\", line 758, in _telemetry_callback\n",
      "    self._telemetry_flush()\n",
      "  File \"c:\\Users\\valen\\anaconda3\\envs\\nlp-m\\lib\\site-packages\\wandb\\sdk\\wandb_run.py\", line 769, in _telemetry_flush\n",
      "    self._backend.interface._publish_telemetry(self._telemetry_obj)\n",
      "  File \"c:\\Users\\valen\\anaconda3\\envs\\nlp-m\\lib\\site-packages\\wandb\\sdk\\interface\\interface_shared.py\", line 101, in _publish_telemetry\n",
      "    self._publish(rec)\n",
      "  File \"c:\\Users\\valen\\anaconda3\\envs\\nlp-m\\lib\\site-packages\\wandb\\sdk\\interface\\interface_sock.py\", line 51, in _publish\n",
      "    self._sock_client.send_record_publish(record)\n",
      "  File \"c:\\Users\\valen\\anaconda3\\envs\\nlp-m\\lib\\site-packages\\wandb\\sdk\\lib\\sock_client.py\", line 221, in send_record_publish\n",
      "    self.send_server_request(server_req)\n",
      "  File \"c:\\Users\\valen\\anaconda3\\envs\\nlp-m\\lib\\site-packages\\wandb\\sdk\\lib\\sock_client.py\", line 155, in send_server_request\n",
      "    self._send_message(msg)\n",
      "  File \"c:\\Users\\valen\\anaconda3\\envs\\nlp-m\\lib\\site-packages\\wandb\\sdk\\lib\\sock_client.py\", line 152, in _send_message\n",
      "    self._sendall_with_error_handle(header + data)\n",
      "  File \"c:\\Users\\valen\\anaconda3\\envs\\nlp-m\\lib\\site-packages\\wandb\\sdk\\lib\\sock_client.py\", line 130, in _sendall_with_error_handle\n",
      "    sent = self._sock.send(data)\n",
      "ConnectionResetError: [WinError 10054] An existing connection was forcibly closed by the remote host\n",
      "\u001b[34m\u001b[1mwandb\u001b[0m: Agent Starting Run: zxfwigyu with config:\n",
      "\u001b[34m\u001b[1mwandb\u001b[0m: \tbatch_size: 32\n",
      "\u001b[34m\u001b[1mwandb\u001b[0m: \tconv_hid_size: 32\n",
      "\u001b[34m\u001b[1mwandb\u001b[0m: \tconv_in_size: 32\n",
      "\u001b[34m\u001b[1mwandb\u001b[0m: \tconv_out_size: 8\n",
      "\u001b[34m\u001b[1mwandb\u001b[0m: \tdropout: 0.15\n",
      "\u001b[34m\u001b[1mwandb\u001b[0m: \tfc_size: 512\n",
      "\u001b[34m\u001b[1mwandb\u001b[0m: \thidden_size: 16\n",
      "\u001b[34m\u001b[1mwandb\u001b[0m: \tlr: 0.0001\n",
      "\u001b[34m\u001b[1mwandb\u001b[0m: \tmax_epochs: 250\n",
      "Traceback (most recent call last):\n",
      "  File \"c:\\Users\\valen\\anaconda3\\envs\\nlp-m\\lib\\site-packages\\wandb\\sdk\\wandb_init.py\", line 1166, in init\n",
      "    wi.setup(kwargs)\n",
      "  File \"c:\\Users\\valen\\anaconda3\\envs\\nlp-m\\lib\\site-packages\\wandb\\sdk\\wandb_init.py\", line 233, in setup\n",
      "    tel.feature.set_init_tags = True\n",
      "  File \"c:\\Users\\valen\\anaconda3\\envs\\nlp-m\\lib\\site-packages\\wandb\\sdk\\lib\\telemetry.py\", line 42, in __exit__\n",
      "    self._run._telemetry_callback(self._obj)\n",
      "  File \"c:\\Users\\valen\\anaconda3\\envs\\nlp-m\\lib\\site-packages\\wandb\\sdk\\wandb_run.py\", line 758, in _telemetry_callback\n",
      "    self._telemetry_flush()\n",
      "  File \"c:\\Users\\valen\\anaconda3\\envs\\nlp-m\\lib\\site-packages\\wandb\\sdk\\wandb_run.py\", line 769, in _telemetry_flush\n",
      "    self._backend.interface._publish_telemetry(self._telemetry_obj)\n",
      "  File \"c:\\Users\\valen\\anaconda3\\envs\\nlp-m\\lib\\site-packages\\wandb\\sdk\\interface\\interface_shared.py\", line 101, in _publish_telemetry\n",
      "    self._publish(rec)\n",
      "  File \"c:\\Users\\valen\\anaconda3\\envs\\nlp-m\\lib\\site-packages\\wandb\\sdk\\interface\\interface_sock.py\", line 51, in _publish\n",
      "    self._sock_client.send_record_publish(record)\n",
      "  File \"c:\\Users\\valen\\anaconda3\\envs\\nlp-m\\lib\\site-packages\\wandb\\sdk\\lib\\sock_client.py\", line 221, in send_record_publish\n",
      "    self.send_server_request(server_req)\n",
      "  File \"c:\\Users\\valen\\anaconda3\\envs\\nlp-m\\lib\\site-packages\\wandb\\sdk\\lib\\sock_client.py\", line 155, in send_server_request\n",
      "    self._send_message(msg)\n",
      "  File \"c:\\Users\\valen\\anaconda3\\envs\\nlp-m\\lib\\site-packages\\wandb\\sdk\\lib\\sock_client.py\", line 152, in _send_message\n",
      "    self._sendall_with_error_handle(header + data)\n",
      "  File \"c:\\Users\\valen\\anaconda3\\envs\\nlp-m\\lib\\site-packages\\wandb\\sdk\\lib\\sock_client.py\", line 130, in _sendall_with_error_handle\n",
      "    sent = self._sock.send(data)\n",
      "ConnectionResetError: [WinError 10054] An existing connection was forcibly closed by the remote host\n",
      "Exception in thread Thread-77:\n",
      "Traceback (most recent call last):\n",
      "  File \"c:\\Users\\valen\\anaconda3\\envs\\nlp-m\\lib\\site-packages\\wandb\\sdk\\wandb_init.py\", line 1166, in init\n",
      "    wi.setup(kwargs)\n",
      "  File \"c:\\Users\\valen\\anaconda3\\envs\\nlp-m\\lib\\site-packages\\wandb\\sdk\\wandb_init.py\", line 233, in setup\n",
      "    tel.feature.set_init_tags = True\n",
      "  File \"c:\\Users\\valen\\anaconda3\\envs\\nlp-m\\lib\\site-packages\\wandb\\sdk\\lib\\telemetry.py\", line 42, in __exit__\n",
      "    self._run._telemetry_callback(self._obj)\n",
      "  File \"c:\\Users\\valen\\anaconda3\\envs\\nlp-m\\lib\\site-packages\\wandb\\sdk\\wandb_run.py\", line 758, in _telemetry_callback\n",
      "    self._telemetry_flush()\n",
      "  File \"c:\\Users\\valen\\anaconda3\\envs\\nlp-m\\lib\\site-packages\\wandb\\sdk\\wandb_run.py\", line 769, in _telemetry_flush\n",
      "    self._backend.interface._publish_telemetry(self._telemetry_obj)\n",
      "  File \"c:\\Users\\valen\\anaconda3\\envs\\nlp-m\\lib\\site-packages\\wandb\\sdk\\interface\\interface_shared.py\", line 101, in _publish_telemetry\n",
      "    self._publish(rec)\n",
      "  File \"c:\\Users\\valen\\anaconda3\\envs\\nlp-m\\lib\\site-packages\\wandb\\sdk\\interface\\interface_sock.py\", line 51, in _publish\n",
      "    self._sock_client.send_record_publish(record)\n",
      "  File \"c:\\Users\\valen\\anaconda3\\envs\\nlp-m\\lib\\site-packages\\wandb\\sdk\\lib\\sock_client.py\", line 221, in send_record_publish\n",
      "    self.send_server_request(server_req)\n",
      "  File \"c:\\Users\\valen\\anaconda3\\envs\\nlp-m\\lib\\site-packages\\wandb\\sdk\\lib\\sock_client.py\", line 155, in send_server_request\n",
      "    self._send_message(msg)\n",
      "  File \"c:\\Users\\valen\\anaconda3\\envs\\nlp-m\\lib\\site-packages\\wandb\\sdk\\lib\\sock_client.py\", line 152, in _send_message\n",
      "    self._sendall_with_error_handle(header + data)\n",
      "  File \"c:\\Users\\valen\\anaconda3\\envs\\nlp-m\\lib\\site-packages\\wandb\\sdk\\lib\\sock_client.py\", line 130, in _sendall_with_error_handle\n",
      "    sent = self._sock.send(data)\n",
      "ConnectionResetError: [WinError 10054] An existing connection was forcibly closed by the remote host\n",
      "\n",
      "The above exception was the direct cause of the following exception:\n",
      "\n",
      "Traceback (most recent call last):\n",
      "  File \"c:\\Users\\valen\\anaconda3\\envs\\nlp-m\\lib\\site-packages\\wandb\\agents\\pyagent.py\", line 298, in _run_job\n",
      "    self._function()\n",
      "  File \"C:\\Users\\valen\\AppData\\Local\\Temp\\ipykernel_19500\\35702409.py\", line 8, in train_model\n",
      "  File \"c:\\Users\\valen\\anaconda3\\envs\\nlp-m\\lib\\site-packages\\wandb\\sdk\\wandb_init.py\", line 1208, in init\n",
      "    raise Error(\"An unexpected error occurred\") from error_seen\n",
      "wandb.errors.Error: An unexpected error occurred\n",
      "\n",
      "During handling of the above exception, another exception occurred:\n",
      "\n",
      "Traceback (most recent call last):\n",
      "  File \"c:\\Users\\valen\\anaconda3\\envs\\nlp-m\\lib\\threading.py\", line 980, in _bootstrap_inner\n",
      "    self.run()\n",
      "  File \"c:\\Users\\valen\\anaconda3\\envs\\nlp-m\\lib\\threading.py\", line 917, in run\n",
      "    self._target(*self._args, **self._kwargs)\n",
      "  File \"c:\\Users\\valen\\anaconda3\\envs\\nlp-m\\lib\\site-packages\\wandb\\agents\\pyagent.py\", line 303, in _run_job\n",
      "    wandb.finish(exit_code=1)\n",
      "  File \"c:\\Users\\valen\\anaconda3\\envs\\nlp-m\\lib\\site-packages\\wandb\\sdk\\wandb_run.py\", line 4090, in finish\n",
      "    wandb.run.finish(exit_code=exit_code, quiet=quiet)\n",
      "  File \"c:\\Users\\valen\\anaconda3\\envs\\nlp-m\\lib\\site-packages\\wandb\\sdk\\wandb_run.py\", line 420, in wrapper\n",
      "    return func(self, *args, **kwargs)\n",
      "  File \"c:\\Users\\valen\\anaconda3\\envs\\nlp-m\\lib\\site-packages\\wandb\\sdk\\wandb_run.py\", line 361, in wrapper\n",
      "    return func(self, *args, **kwargs)\n",
      "  File \"c:\\Users\\valen\\anaconda3\\envs\\nlp-m\\lib\\site-packages\\wandb\\sdk\\wandb_run.py\", line 1953, in finish\n",
      "    return self._finish(exit_code, quiet)\n",
      "  File \"c:\\Users\\valen\\anaconda3\\envs\\nlp-m\\lib\\site-packages\\wandb\\sdk\\wandb_run.py\", line 1961, in _finish\n",
      "    tel.feature.finish = True\n",
      "  File \"c:\\Users\\valen\\anaconda3\\envs\\nlp-m\\lib\\site-packages\\wandb\\sdk\\lib\\telemetry.py\", line 42, in __exit__\n",
      "    self._run._telemetry_callback(self._obj)\n",
      "  File \"c:\\Users\\valen\\anaconda3\\envs\\nlp-m\\lib\\site-packages\\wandb\\sdk\\wandb_run.py\", line 758, in _telemetry_callback\n",
      "    self._telemetry_flush()\n",
      "  File \"c:\\Users\\valen\\anaconda3\\envs\\nlp-m\\lib\\site-packages\\wandb\\sdk\\wandb_run.py\", line 769, in _telemetry_flush\n",
      "    self._backend.interface._publish_telemetry(self._telemetry_obj)\n",
      "  File \"c:\\Users\\valen\\anaconda3\\envs\\nlp-m\\lib\\site-packages\\wandb\\sdk\\interface\\interface_shared.py\", line 101, in _publish_telemetry\n",
      "    self._publish(rec)\n",
      "  File \"c:\\Users\\valen\\anaconda3\\envs\\nlp-m\\lib\\site-packages\\wandb\\sdk\\interface\\interface_sock.py\", line 51, in _publish\n",
      "    self._sock_client.send_record_publish(record)\n",
      "  File \"c:\\Users\\valen\\anaconda3\\envs\\nlp-m\\lib\\site-packages\\wandb\\sdk\\lib\\sock_client.py\", line 221, in send_record_publish\n",
      "    self.send_server_request(server_req)\n",
      "  File \"c:\\Users\\valen\\anaconda3\\envs\\nlp-m\\lib\\site-packages\\wandb\\sdk\\lib\\sock_client.py\", line 155, in send_server_request\n",
      "    self._send_message(msg)\n",
      "  File \"c:\\Users\\valen\\anaconda3\\envs\\nlp-m\\lib\\site-packages\\wandb\\sdk\\lib\\sock_client.py\", line 152, in _send_message\n",
      "    self._sendall_with_error_handle(header + data)\n",
      "  File \"c:\\Users\\valen\\anaconda3\\envs\\nlp-m\\lib\\site-packages\\wandb\\sdk\\lib\\sock_client.py\", line 130, in _sendall_with_error_handle\n",
      "    sent = self._sock.send(data)\n",
      "ConnectionResetError: [WinError 10054] An existing connection was forcibly closed by the remote host\n",
      "\u001b[34m\u001b[1mwandb\u001b[0m: Agent Starting Run: 8e1uapkn with config:\n",
      "\u001b[34m\u001b[1mwandb\u001b[0m: \tbatch_size: 32\n",
      "\u001b[34m\u001b[1mwandb\u001b[0m: \tconv_hid_size: 8\n",
      "\u001b[34m\u001b[1mwandb\u001b[0m: \tconv_in_size: 256\n",
      "\u001b[34m\u001b[1mwandb\u001b[0m: \tconv_out_size: 16\n",
      "\u001b[34m\u001b[1mwandb\u001b[0m: \tdropout: 0.15\n",
      "\u001b[34m\u001b[1mwandb\u001b[0m: \tfc_size: 256\n",
      "\u001b[34m\u001b[1mwandb\u001b[0m: \thidden_size: 8\n",
      "\u001b[34m\u001b[1mwandb\u001b[0m: \tlr: 0.001\n",
      "\u001b[34m\u001b[1mwandb\u001b[0m: \tmax_epochs: 250\n",
      "Traceback (most recent call last):\n",
      "  File \"c:\\Users\\valen\\anaconda3\\envs\\nlp-m\\lib\\site-packages\\wandb\\sdk\\wandb_init.py\", line 1166, in init\n",
      "    wi.setup(kwargs)\n",
      "  File \"c:\\Users\\valen\\anaconda3\\envs\\nlp-m\\lib\\site-packages\\wandb\\sdk\\wandb_init.py\", line 233, in setup\n",
      "    tel.feature.set_init_tags = True\n",
      "  File \"c:\\Users\\valen\\anaconda3\\envs\\nlp-m\\lib\\site-packages\\wandb\\sdk\\lib\\telemetry.py\", line 42, in __exit__\n",
      "    self._run._telemetry_callback(self._obj)\n",
      "  File \"c:\\Users\\valen\\anaconda3\\envs\\nlp-m\\lib\\site-packages\\wandb\\sdk\\wandb_run.py\", line 758, in _telemetry_callback\n",
      "    self._telemetry_flush()\n",
      "  File \"c:\\Users\\valen\\anaconda3\\envs\\nlp-m\\lib\\site-packages\\wandb\\sdk\\wandb_run.py\", line 769, in _telemetry_flush\n",
      "    self._backend.interface._publish_telemetry(self._telemetry_obj)\n",
      "  File \"c:\\Users\\valen\\anaconda3\\envs\\nlp-m\\lib\\site-packages\\wandb\\sdk\\interface\\interface_shared.py\", line 101, in _publish_telemetry\n",
      "    self._publish(rec)\n",
      "  File \"c:\\Users\\valen\\anaconda3\\envs\\nlp-m\\lib\\site-packages\\wandb\\sdk\\interface\\interface_sock.py\", line 51, in _publish\n",
      "    self._sock_client.send_record_publish(record)\n",
      "  File \"c:\\Users\\valen\\anaconda3\\envs\\nlp-m\\lib\\site-packages\\wandb\\sdk\\lib\\sock_client.py\", line 221, in send_record_publish\n",
      "    self.send_server_request(server_req)\n",
      "  File \"c:\\Users\\valen\\anaconda3\\envs\\nlp-m\\lib\\site-packages\\wandb\\sdk\\lib\\sock_client.py\", line 155, in send_server_request\n",
      "    self._send_message(msg)\n",
      "  File \"c:\\Users\\valen\\anaconda3\\envs\\nlp-m\\lib\\site-packages\\wandb\\sdk\\lib\\sock_client.py\", line 152, in _send_message\n",
      "    self._sendall_with_error_handle(header + data)\n",
      "  File \"c:\\Users\\valen\\anaconda3\\envs\\nlp-m\\lib\\site-packages\\wandb\\sdk\\lib\\sock_client.py\", line 130, in _sendall_with_error_handle\n",
      "    sent = self._sock.send(data)\n",
      "ConnectionResetError: [WinError 10054] An existing connection was forcibly closed by the remote host\n",
      "Exception in thread Thread-78:\n",
      "Traceback (most recent call last):\n",
      "  File \"c:\\Users\\valen\\anaconda3\\envs\\nlp-m\\lib\\site-packages\\wandb\\sdk\\wandb_init.py\", line 1166, in init\n",
      "    wi.setup(kwargs)\n",
      "  File \"c:\\Users\\valen\\anaconda3\\envs\\nlp-m\\lib\\site-packages\\wandb\\sdk\\wandb_init.py\", line 233, in setup\n",
      "    tel.feature.set_init_tags = True\n",
      "  File \"c:\\Users\\valen\\anaconda3\\envs\\nlp-m\\lib\\site-packages\\wandb\\sdk\\lib\\telemetry.py\", line 42, in __exit__\n",
      "    self._run._telemetry_callback(self._obj)\n",
      "  File \"c:\\Users\\valen\\anaconda3\\envs\\nlp-m\\lib\\site-packages\\wandb\\sdk\\wandb_run.py\", line 758, in _telemetry_callback\n",
      "    self._telemetry_flush()\n",
      "  File \"c:\\Users\\valen\\anaconda3\\envs\\nlp-m\\lib\\site-packages\\wandb\\sdk\\wandb_run.py\", line 769, in _telemetry_flush\n",
      "    self._backend.interface._publish_telemetry(self._telemetry_obj)\n",
      "  File \"c:\\Users\\valen\\anaconda3\\envs\\nlp-m\\lib\\site-packages\\wandb\\sdk\\interface\\interface_shared.py\", line 101, in _publish_telemetry\n",
      "    self._publish(rec)\n",
      "  File \"c:\\Users\\valen\\anaconda3\\envs\\nlp-m\\lib\\site-packages\\wandb\\sdk\\interface\\interface_sock.py\", line 51, in _publish\n",
      "    self._sock_client.send_record_publish(record)\n",
      "  File \"c:\\Users\\valen\\anaconda3\\envs\\nlp-m\\lib\\site-packages\\wandb\\sdk\\lib\\sock_client.py\", line 221, in send_record_publish\n",
      "    self.send_server_request(server_req)\n",
      "  File \"c:\\Users\\valen\\anaconda3\\envs\\nlp-m\\lib\\site-packages\\wandb\\sdk\\lib\\sock_client.py\", line 155, in send_server_request\n",
      "    self._send_message(msg)\n",
      "  File \"c:\\Users\\valen\\anaconda3\\envs\\nlp-m\\lib\\site-packages\\wandb\\sdk\\lib\\sock_client.py\", line 152, in _send_message\n",
      "    self._sendall_with_error_handle(header + data)\n",
      "  File \"c:\\Users\\valen\\anaconda3\\envs\\nlp-m\\lib\\site-packages\\wandb\\sdk\\lib\\sock_client.py\", line 130, in _sendall_with_error_handle\n",
      "    sent = self._sock.send(data)\n",
      "ConnectionResetError: [WinError 10054] An existing connection was forcibly closed by the remote host\n",
      "\n",
      "The above exception was the direct cause of the following exception:\n",
      "\n",
      "Traceback (most recent call last):\n",
      "  File \"c:\\Users\\valen\\anaconda3\\envs\\nlp-m\\lib\\site-packages\\wandb\\agents\\pyagent.py\", line 298, in _run_job\n",
      "    self._function()\n",
      "  File \"C:\\Users\\valen\\AppData\\Local\\Temp\\ipykernel_19500\\35702409.py\", line 8, in train_model\n",
      "  File \"c:\\Users\\valen\\anaconda3\\envs\\nlp-m\\lib\\site-packages\\wandb\\sdk\\wandb_init.py\", line 1208, in init\n",
      "    raise Error(\"An unexpected error occurred\") from error_seen\n",
      "wandb.errors.Error: An unexpected error occurred\n",
      "\n",
      "During handling of the above exception, another exception occurred:\n",
      "\n",
      "Traceback (most recent call last):\n",
      "  File \"c:\\Users\\valen\\anaconda3\\envs\\nlp-m\\lib\\threading.py\", line 980, in _bootstrap_inner\n",
      "    self.run()\n",
      "  File \"c:\\Users\\valen\\anaconda3\\envs\\nlp-m\\lib\\threading.py\", line 917, in run\n",
      "    self._target(*self._args, **self._kwargs)\n",
      "  File \"c:\\Users\\valen\\anaconda3\\envs\\nlp-m\\lib\\site-packages\\wandb\\agents\\pyagent.py\", line 303, in _run_job\n",
      "    wandb.finish(exit_code=1)\n",
      "  File \"c:\\Users\\valen\\anaconda3\\envs\\nlp-m\\lib\\site-packages\\wandb\\sdk\\wandb_run.py\", line 4090, in finish\n",
      "    wandb.run.finish(exit_code=exit_code, quiet=quiet)\n",
      "  File \"c:\\Users\\valen\\anaconda3\\envs\\nlp-m\\lib\\site-packages\\wandb\\sdk\\wandb_run.py\", line 420, in wrapper\n",
      "    return func(self, *args, **kwargs)\n",
      "  File \"c:\\Users\\valen\\anaconda3\\envs\\nlp-m\\lib\\site-packages\\wandb\\sdk\\wandb_run.py\", line 361, in wrapper\n",
      "    return func(self, *args, **kwargs)\n",
      "  File \"c:\\Users\\valen\\anaconda3\\envs\\nlp-m\\lib\\site-packages\\wandb\\sdk\\wandb_run.py\", line 1953, in finish\n",
      "    return self._finish(exit_code, quiet)\n",
      "  File \"c:\\Users\\valen\\anaconda3\\envs\\nlp-m\\lib\\site-packages\\wandb\\sdk\\wandb_run.py\", line 1961, in _finish\n",
      "    tel.feature.finish = True\n",
      "  File \"c:\\Users\\valen\\anaconda3\\envs\\nlp-m\\lib\\site-packages\\wandb\\sdk\\lib\\telemetry.py\", line 42, in __exit__\n",
      "    self._run._telemetry_callback(self._obj)\n",
      "  File \"c:\\Users\\valen\\anaconda3\\envs\\nlp-m\\lib\\site-packages\\wandb\\sdk\\wandb_run.py\", line 758, in _telemetry_callback\n",
      "    self._telemetry_flush()\n",
      "  File \"c:\\Users\\valen\\anaconda3\\envs\\nlp-m\\lib\\site-packages\\wandb\\sdk\\wandb_run.py\", line 769, in _telemetry_flush\n",
      "    self._backend.interface._publish_telemetry(self._telemetry_obj)\n",
      "  File \"c:\\Users\\valen\\anaconda3\\envs\\nlp-m\\lib\\site-packages\\wandb\\sdk\\interface\\interface_shared.py\", line 101, in _publish_telemetry\n",
      "    self._publish(rec)\n",
      "  File \"c:\\Users\\valen\\anaconda3\\envs\\nlp-m\\lib\\site-packages\\wandb\\sdk\\interface\\interface_sock.py\", line 51, in _publish\n",
      "    self._sock_client.send_record_publish(record)\n",
      "  File \"c:\\Users\\valen\\anaconda3\\envs\\nlp-m\\lib\\site-packages\\wandb\\sdk\\lib\\sock_client.py\", line 221, in send_record_publish\n",
      "    self.send_server_request(server_req)\n",
      "  File \"c:\\Users\\valen\\anaconda3\\envs\\nlp-m\\lib\\site-packages\\wandb\\sdk\\lib\\sock_client.py\", line 155, in send_server_request\n",
      "    self._send_message(msg)\n",
      "  File \"c:\\Users\\valen\\anaconda3\\envs\\nlp-m\\lib\\site-packages\\wandb\\sdk\\lib\\sock_client.py\", line 152, in _send_message\n",
      "    self._sendall_with_error_handle(header + data)\n",
      "  File \"c:\\Users\\valen\\anaconda3\\envs\\nlp-m\\lib\\site-packages\\wandb\\sdk\\lib\\sock_client.py\", line 130, in _sendall_with_error_handle\n",
      "    sent = self._sock.send(data)\n",
      "ConnectionResetError: [WinError 10054] An existing connection was forcibly closed by the remote host\n",
      "\u001b[34m\u001b[1mwandb\u001b[0m: Agent Starting Run: q5un31s0 with config:\n",
      "\u001b[34m\u001b[1mwandb\u001b[0m: \tbatch_size: 32\n",
      "\u001b[34m\u001b[1mwandb\u001b[0m: \tconv_hid_size: 16\n",
      "\u001b[34m\u001b[1mwandb\u001b[0m: \tconv_in_size: 64\n",
      "\u001b[34m\u001b[1mwandb\u001b[0m: \tconv_out_size: 16\n",
      "\u001b[34m\u001b[1mwandb\u001b[0m: \tdropout: 0.15\n",
      "\u001b[34m\u001b[1mwandb\u001b[0m: \tfc_size: 32\n",
      "\u001b[34m\u001b[1mwandb\u001b[0m: \thidden_size: 8\n",
      "\u001b[34m\u001b[1mwandb\u001b[0m: \tlr: 0.001\n",
      "\u001b[34m\u001b[1mwandb\u001b[0m: \tmax_epochs: 250\n",
      "Traceback (most recent call last):\n",
      "  File \"c:\\Users\\valen\\anaconda3\\envs\\nlp-m\\lib\\site-packages\\wandb\\sdk\\wandb_init.py\", line 1166, in init\n",
      "    wi.setup(kwargs)\n",
      "  File \"c:\\Users\\valen\\anaconda3\\envs\\nlp-m\\lib\\site-packages\\wandb\\sdk\\wandb_init.py\", line 233, in setup\n",
      "    tel.feature.set_init_tags = True\n",
      "  File \"c:\\Users\\valen\\anaconda3\\envs\\nlp-m\\lib\\site-packages\\wandb\\sdk\\lib\\telemetry.py\", line 42, in __exit__\n",
      "    self._run._telemetry_callback(self._obj)\n",
      "  File \"c:\\Users\\valen\\anaconda3\\envs\\nlp-m\\lib\\site-packages\\wandb\\sdk\\wandb_run.py\", line 758, in _telemetry_callback\n",
      "    self._telemetry_flush()\n",
      "  File \"c:\\Users\\valen\\anaconda3\\envs\\nlp-m\\lib\\site-packages\\wandb\\sdk\\wandb_run.py\", line 769, in _telemetry_flush\n",
      "    self._backend.interface._publish_telemetry(self._telemetry_obj)\n",
      "  File \"c:\\Users\\valen\\anaconda3\\envs\\nlp-m\\lib\\site-packages\\wandb\\sdk\\interface\\interface_shared.py\", line 101, in _publish_telemetry\n",
      "    self._publish(rec)\n",
      "  File \"c:\\Users\\valen\\anaconda3\\envs\\nlp-m\\lib\\site-packages\\wandb\\sdk\\interface\\interface_sock.py\", line 51, in _publish\n",
      "    self._sock_client.send_record_publish(record)\n",
      "  File \"c:\\Users\\valen\\anaconda3\\envs\\nlp-m\\lib\\site-packages\\wandb\\sdk\\lib\\sock_client.py\", line 221, in send_record_publish\n",
      "    self.send_server_request(server_req)\n",
      "  File \"c:\\Users\\valen\\anaconda3\\envs\\nlp-m\\lib\\site-packages\\wandb\\sdk\\lib\\sock_client.py\", line 155, in send_server_request\n",
      "    self._send_message(msg)\n",
      "  File \"c:\\Users\\valen\\anaconda3\\envs\\nlp-m\\lib\\site-packages\\wandb\\sdk\\lib\\sock_client.py\", line 152, in _send_message\n",
      "    self._sendall_with_error_handle(header + data)\n",
      "  File \"c:\\Users\\valen\\anaconda3\\envs\\nlp-m\\lib\\site-packages\\wandb\\sdk\\lib\\sock_client.py\", line 130, in _sendall_with_error_handle\n",
      "    sent = self._sock.send(data)\n",
      "ConnectionResetError: [WinError 10054] An existing connection was forcibly closed by the remote host\n",
      "Exception in thread Thread-79:\n",
      "Traceback (most recent call last):\n",
      "  File \"c:\\Users\\valen\\anaconda3\\envs\\nlp-m\\lib\\site-packages\\wandb\\sdk\\wandb_init.py\", line 1166, in init\n",
      "    wi.setup(kwargs)\n",
      "  File \"c:\\Users\\valen\\anaconda3\\envs\\nlp-m\\lib\\site-packages\\wandb\\sdk\\wandb_init.py\", line 233, in setup\n",
      "    tel.feature.set_init_tags = True\n",
      "  File \"c:\\Users\\valen\\anaconda3\\envs\\nlp-m\\lib\\site-packages\\wandb\\sdk\\lib\\telemetry.py\", line 42, in __exit__\n",
      "    self._run._telemetry_callback(self._obj)\n",
      "  File \"c:\\Users\\valen\\anaconda3\\envs\\nlp-m\\lib\\site-packages\\wandb\\sdk\\wandb_run.py\", line 758, in _telemetry_callback\n",
      "    self._telemetry_flush()\n",
      "  File \"c:\\Users\\valen\\anaconda3\\envs\\nlp-m\\lib\\site-packages\\wandb\\sdk\\wandb_run.py\", line 769, in _telemetry_flush\n",
      "    self._backend.interface._publish_telemetry(self._telemetry_obj)\n",
      "  File \"c:\\Users\\valen\\anaconda3\\envs\\nlp-m\\lib\\site-packages\\wandb\\sdk\\interface\\interface_shared.py\", line 101, in _publish_telemetry\n",
      "    self._publish(rec)\n",
      "  File \"c:\\Users\\valen\\anaconda3\\envs\\nlp-m\\lib\\site-packages\\wandb\\sdk\\interface\\interface_sock.py\", line 51, in _publish\n",
      "    self._sock_client.send_record_publish(record)\n",
      "  File \"c:\\Users\\valen\\anaconda3\\envs\\nlp-m\\lib\\site-packages\\wandb\\sdk\\lib\\sock_client.py\", line 221, in send_record_publish\n",
      "    self.send_server_request(server_req)\n",
      "  File \"c:\\Users\\valen\\anaconda3\\envs\\nlp-m\\lib\\site-packages\\wandb\\sdk\\lib\\sock_client.py\", line 155, in send_server_request\n",
      "    self._send_message(msg)\n",
      "  File \"c:\\Users\\valen\\anaconda3\\envs\\nlp-m\\lib\\site-packages\\wandb\\sdk\\lib\\sock_client.py\", line 152, in _send_message\n",
      "    self._sendall_with_error_handle(header + data)\n",
      "  File \"c:\\Users\\valen\\anaconda3\\envs\\nlp-m\\lib\\site-packages\\wandb\\sdk\\lib\\sock_client.py\", line 130, in _sendall_with_error_handle\n",
      "    sent = self._sock.send(data)\n",
      "ConnectionResetError: [WinError 10054] An existing connection was forcibly closed by the remote host\n",
      "\n",
      "The above exception was the direct cause of the following exception:\n",
      "\n",
      "Traceback (most recent call last):\n",
      "  File \"c:\\Users\\valen\\anaconda3\\envs\\nlp-m\\lib\\site-packages\\wandb\\agents\\pyagent.py\", line 298, in _run_job\n",
      "    self._function()\n",
      "  File \"C:\\Users\\valen\\AppData\\Local\\Temp\\ipykernel_19500\\35702409.py\", line 8, in train_model\n",
      "  File \"c:\\Users\\valen\\anaconda3\\envs\\nlp-m\\lib\\site-packages\\wandb\\sdk\\wandb_init.py\", line 1208, in init\n",
      "    raise Error(\"An unexpected error occurred\") from error_seen\n",
      "wandb.errors.Error: An unexpected error occurred\n",
      "\n",
      "During handling of the above exception, another exception occurred:\n",
      "\n",
      "Traceback (most recent call last):\n",
      "  File \"c:\\Users\\valen\\anaconda3\\envs\\nlp-m\\lib\\threading.py\", line 980, in _bootstrap_inner\n",
      "    self.run()\n",
      "  File \"c:\\Users\\valen\\anaconda3\\envs\\nlp-m\\lib\\threading.py\", line 917, in run\n",
      "    self._target(*self._args, **self._kwargs)\n",
      "  File \"c:\\Users\\valen\\anaconda3\\envs\\nlp-m\\lib\\site-packages\\wandb\\agents\\pyagent.py\", line 303, in _run_job\n",
      "    wandb.finish(exit_code=1)\n",
      "  File \"c:\\Users\\valen\\anaconda3\\envs\\nlp-m\\lib\\site-packages\\wandb\\sdk\\wandb_run.py\", line 4090, in finish\n",
      "    wandb.run.finish(exit_code=exit_code, quiet=quiet)\n",
      "  File \"c:\\Users\\valen\\anaconda3\\envs\\nlp-m\\lib\\site-packages\\wandb\\sdk\\wandb_run.py\", line 420, in wrapper\n",
      "    return func(self, *args, **kwargs)\n",
      "  File \"c:\\Users\\valen\\anaconda3\\envs\\nlp-m\\lib\\site-packages\\wandb\\sdk\\wandb_run.py\", line 361, in wrapper\n",
      "    return func(self, *args, **kwargs)\n",
      "  File \"c:\\Users\\valen\\anaconda3\\envs\\nlp-m\\lib\\site-packages\\wandb\\sdk\\wandb_run.py\", line 1953, in finish\n",
      "    return self._finish(exit_code, quiet)\n",
      "  File \"c:\\Users\\valen\\anaconda3\\envs\\nlp-m\\lib\\site-packages\\wandb\\sdk\\wandb_run.py\", line 1961, in _finish\n",
      "    tel.feature.finish = True\n",
      "  File \"c:\\Users\\valen\\anaconda3\\envs\\nlp-m\\lib\\site-packages\\wandb\\sdk\\lib\\telemetry.py\", line 42, in __exit__\n",
      "    self._run._telemetry_callback(self._obj)\n",
      "  File \"c:\\Users\\valen\\anaconda3\\envs\\nlp-m\\lib\\site-packages\\wandb\\sdk\\wandb_run.py\", line 758, in _telemetry_callback\n",
      "    self._telemetry_flush()\n",
      "  File \"c:\\Users\\valen\\anaconda3\\envs\\nlp-m\\lib\\site-packages\\wandb\\sdk\\wandb_run.py\", line 769, in _telemetry_flush\n",
      "    self._backend.interface._publish_telemetry(self._telemetry_obj)\n",
      "  File \"c:\\Users\\valen\\anaconda3\\envs\\nlp-m\\lib\\site-packages\\wandb\\sdk\\interface\\interface_shared.py\", line 101, in _publish_telemetry\n",
      "    self._publish(rec)\n",
      "  File \"c:\\Users\\valen\\anaconda3\\envs\\nlp-m\\lib\\site-packages\\wandb\\sdk\\interface\\interface_sock.py\", line 51, in _publish\n",
      "    self._sock_client.send_record_publish(record)\n",
      "  File \"c:\\Users\\valen\\anaconda3\\envs\\nlp-m\\lib\\site-packages\\wandb\\sdk\\lib\\sock_client.py\", line 221, in send_record_publish\n",
      "    self.send_server_request(server_req)\n",
      "  File \"c:\\Users\\valen\\anaconda3\\envs\\nlp-m\\lib\\site-packages\\wandb\\sdk\\lib\\sock_client.py\", line 155, in send_server_request\n",
      "    self._send_message(msg)\n",
      "  File \"c:\\Users\\valen\\anaconda3\\envs\\nlp-m\\lib\\site-packages\\wandb\\sdk\\lib\\sock_client.py\", line 152, in _send_message\n",
      "    self._sendall_with_error_handle(header + data)\n",
      "  File \"c:\\Users\\valen\\anaconda3\\envs\\nlp-m\\lib\\site-packages\\wandb\\sdk\\lib\\sock_client.py\", line 130, in _sendall_with_error_handle\n",
      "    sent = self._sock.send(data)\n",
      "ConnectionResetError: [WinError 10054] An existing connection was forcibly closed by the remote host\n",
      "\u001b[34m\u001b[1mwandb\u001b[0m: Agent Starting Run: 083zf4q1 with config:\n",
      "\u001b[34m\u001b[1mwandb\u001b[0m: \tbatch_size: 32\n",
      "\u001b[34m\u001b[1mwandb\u001b[0m: \tconv_hid_size: 16\n",
      "\u001b[34m\u001b[1mwandb\u001b[0m: \tconv_in_size: 128\n",
      "\u001b[34m\u001b[1mwandb\u001b[0m: \tconv_out_size: 8\n",
      "\u001b[34m\u001b[1mwandb\u001b[0m: \tdropout: 0.15\n",
      "\u001b[34m\u001b[1mwandb\u001b[0m: \tfc_size: 128\n",
      "\u001b[34m\u001b[1mwandb\u001b[0m: \thidden_size: 8\n",
      "\u001b[34m\u001b[1mwandb\u001b[0m: \tlr: 1e-05\n",
      "\u001b[34m\u001b[1mwandb\u001b[0m: \tmax_epochs: 250\n",
      "Traceback (most recent call last):\n",
      "  File \"c:\\Users\\valen\\anaconda3\\envs\\nlp-m\\lib\\site-packages\\wandb\\sdk\\wandb_init.py\", line 1166, in init\n",
      "    wi.setup(kwargs)\n",
      "  File \"c:\\Users\\valen\\anaconda3\\envs\\nlp-m\\lib\\site-packages\\wandb\\sdk\\wandb_init.py\", line 233, in setup\n",
      "    tel.feature.set_init_tags = True\n",
      "  File \"c:\\Users\\valen\\anaconda3\\envs\\nlp-m\\lib\\site-packages\\wandb\\sdk\\lib\\telemetry.py\", line 42, in __exit__\n",
      "    self._run._telemetry_callback(self._obj)\n",
      "  File \"c:\\Users\\valen\\anaconda3\\envs\\nlp-m\\lib\\site-packages\\wandb\\sdk\\wandb_run.py\", line 758, in _telemetry_callback\n",
      "    self._telemetry_flush()\n",
      "  File \"c:\\Users\\valen\\anaconda3\\envs\\nlp-m\\lib\\site-packages\\wandb\\sdk\\wandb_run.py\", line 769, in _telemetry_flush\n",
      "    self._backend.interface._publish_telemetry(self._telemetry_obj)\n",
      "  File \"c:\\Users\\valen\\anaconda3\\envs\\nlp-m\\lib\\site-packages\\wandb\\sdk\\interface\\interface_shared.py\", line 101, in _publish_telemetry\n",
      "    self._publish(rec)\n",
      "  File \"c:\\Users\\valen\\anaconda3\\envs\\nlp-m\\lib\\site-packages\\wandb\\sdk\\interface\\interface_sock.py\", line 51, in _publish\n",
      "    self._sock_client.send_record_publish(record)\n",
      "  File \"c:\\Users\\valen\\anaconda3\\envs\\nlp-m\\lib\\site-packages\\wandb\\sdk\\lib\\sock_client.py\", line 221, in send_record_publish\n",
      "    self.send_server_request(server_req)\n",
      "  File \"c:\\Users\\valen\\anaconda3\\envs\\nlp-m\\lib\\site-packages\\wandb\\sdk\\lib\\sock_client.py\", line 155, in send_server_request\n",
      "    self._send_message(msg)\n",
      "  File \"c:\\Users\\valen\\anaconda3\\envs\\nlp-m\\lib\\site-packages\\wandb\\sdk\\lib\\sock_client.py\", line 152, in _send_message\n",
      "    self._sendall_with_error_handle(header + data)\n",
      "  File \"c:\\Users\\valen\\anaconda3\\envs\\nlp-m\\lib\\site-packages\\wandb\\sdk\\lib\\sock_client.py\", line 130, in _sendall_with_error_handle\n",
      "    sent = self._sock.send(data)\n",
      "ConnectionResetError: [WinError 10054] An existing connection was forcibly closed by the remote host\n",
      "Exception in thread Thread-80:\n",
      "Traceback (most recent call last):\n",
      "  File \"c:\\Users\\valen\\anaconda3\\envs\\nlp-m\\lib\\site-packages\\wandb\\sdk\\wandb_init.py\", line 1166, in init\n",
      "    wi.setup(kwargs)\n",
      "  File \"c:\\Users\\valen\\anaconda3\\envs\\nlp-m\\lib\\site-packages\\wandb\\sdk\\wandb_init.py\", line 233, in setup\n",
      "    tel.feature.set_init_tags = True\n",
      "  File \"c:\\Users\\valen\\anaconda3\\envs\\nlp-m\\lib\\site-packages\\wandb\\sdk\\lib\\telemetry.py\", line 42, in __exit__\n",
      "    self._run._telemetry_callback(self._obj)\n",
      "  File \"c:\\Users\\valen\\anaconda3\\envs\\nlp-m\\lib\\site-packages\\wandb\\sdk\\wandb_run.py\", line 758, in _telemetry_callback\n",
      "    self._telemetry_flush()\n",
      "  File \"c:\\Users\\valen\\anaconda3\\envs\\nlp-m\\lib\\site-packages\\wandb\\sdk\\wandb_run.py\", line 769, in _telemetry_flush\n",
      "    self._backend.interface._publish_telemetry(self._telemetry_obj)\n",
      "  File \"c:\\Users\\valen\\anaconda3\\envs\\nlp-m\\lib\\site-packages\\wandb\\sdk\\interface\\interface_shared.py\", line 101, in _publish_telemetry\n",
      "    self._publish(rec)\n",
      "  File \"c:\\Users\\valen\\anaconda3\\envs\\nlp-m\\lib\\site-packages\\wandb\\sdk\\interface\\interface_sock.py\", line 51, in _publish\n",
      "    self._sock_client.send_record_publish(record)\n",
      "  File \"c:\\Users\\valen\\anaconda3\\envs\\nlp-m\\lib\\site-packages\\wandb\\sdk\\lib\\sock_client.py\", line 221, in send_record_publish\n",
      "    self.send_server_request(server_req)\n",
      "  File \"c:\\Users\\valen\\anaconda3\\envs\\nlp-m\\lib\\site-packages\\wandb\\sdk\\lib\\sock_client.py\", line 155, in send_server_request\n",
      "    self._send_message(msg)\n",
      "  File \"c:\\Users\\valen\\anaconda3\\envs\\nlp-m\\lib\\site-packages\\wandb\\sdk\\lib\\sock_client.py\", line 152, in _send_message\n",
      "    self._sendall_with_error_handle(header + data)\n",
      "  File \"c:\\Users\\valen\\anaconda3\\envs\\nlp-m\\lib\\site-packages\\wandb\\sdk\\lib\\sock_client.py\", line 130, in _sendall_with_error_handle\n",
      "    sent = self._sock.send(data)\n",
      "ConnectionResetError: [WinError 10054] An existing connection was forcibly closed by the remote host\n",
      "\n",
      "The above exception was the direct cause of the following exception:\n",
      "\n",
      "Traceback (most recent call last):\n",
      "  File \"c:\\Users\\valen\\anaconda3\\envs\\nlp-m\\lib\\site-packages\\wandb\\agents\\pyagent.py\", line 298, in _run_job\n",
      "    self._function()\n",
      "  File \"C:\\Users\\valen\\AppData\\Local\\Temp\\ipykernel_19500\\35702409.py\", line 8, in train_model\n",
      "  File \"c:\\Users\\valen\\anaconda3\\envs\\nlp-m\\lib\\site-packages\\wandb\\sdk\\wandb_init.py\", line 1208, in init\n",
      "    raise Error(\"An unexpected error occurred\") from error_seen\n",
      "wandb.errors.Error: An unexpected error occurred\n",
      "\n",
      "During handling of the above exception, another exception occurred:\n",
      "\n",
      "Traceback (most recent call last):\n",
      "  File \"c:\\Users\\valen\\anaconda3\\envs\\nlp-m\\lib\\threading.py\", line 980, in _bootstrap_inner\n",
      "    self.run()\n",
      "  File \"c:\\Users\\valen\\anaconda3\\envs\\nlp-m\\lib\\threading.py\", line 917, in run\n",
      "    self._target(*self._args, **self._kwargs)\n",
      "  File \"c:\\Users\\valen\\anaconda3\\envs\\nlp-m\\lib\\site-packages\\wandb\\agents\\pyagent.py\", line 303, in _run_job\n",
      "    wandb.finish(exit_code=1)\n",
      "  File \"c:\\Users\\valen\\anaconda3\\envs\\nlp-m\\lib\\site-packages\\wandb\\sdk\\wandb_run.py\", line 4090, in finish\n",
      "    wandb.run.finish(exit_code=exit_code, quiet=quiet)\n",
      "  File \"c:\\Users\\valen\\anaconda3\\envs\\nlp-m\\lib\\site-packages\\wandb\\sdk\\wandb_run.py\", line 420, in wrapper\n",
      "    return func(self, *args, **kwargs)\n",
      "  File \"c:\\Users\\valen\\anaconda3\\envs\\nlp-m\\lib\\site-packages\\wandb\\sdk\\wandb_run.py\", line 361, in wrapper\n",
      "    return func(self, *args, **kwargs)\n",
      "  File \"c:\\Users\\valen\\anaconda3\\envs\\nlp-m\\lib\\site-packages\\wandb\\sdk\\wandb_run.py\", line 1953, in finish\n",
      "    return self._finish(exit_code, quiet)\n",
      "  File \"c:\\Users\\valen\\anaconda3\\envs\\nlp-m\\lib\\site-packages\\wandb\\sdk\\wandb_run.py\", line 1961, in _finish\n",
      "    tel.feature.finish = True\n",
      "  File \"c:\\Users\\valen\\anaconda3\\envs\\nlp-m\\lib\\site-packages\\wandb\\sdk\\lib\\telemetry.py\", line 42, in __exit__\n",
      "    self._run._telemetry_callback(self._obj)\n",
      "  File \"c:\\Users\\valen\\anaconda3\\envs\\nlp-m\\lib\\site-packages\\wandb\\sdk\\wandb_run.py\", line 758, in _telemetry_callback\n",
      "    self._telemetry_flush()\n",
      "  File \"c:\\Users\\valen\\anaconda3\\envs\\nlp-m\\lib\\site-packages\\wandb\\sdk\\wandb_run.py\", line 769, in _telemetry_flush\n",
      "    self._backend.interface._publish_telemetry(self._telemetry_obj)\n",
      "  File \"c:\\Users\\valen\\anaconda3\\envs\\nlp-m\\lib\\site-packages\\wandb\\sdk\\interface\\interface_shared.py\", line 101, in _publish_telemetry\n",
      "    self._publish(rec)\n",
      "  File \"c:\\Users\\valen\\anaconda3\\envs\\nlp-m\\lib\\site-packages\\wandb\\sdk\\interface\\interface_sock.py\", line 51, in _publish\n",
      "    self._sock_client.send_record_publish(record)\n",
      "  File \"c:\\Users\\valen\\anaconda3\\envs\\nlp-m\\lib\\site-packages\\wandb\\sdk\\lib\\sock_client.py\", line 221, in send_record_publish\n",
      "    self.send_server_request(server_req)\n",
      "  File \"c:\\Users\\valen\\anaconda3\\envs\\nlp-m\\lib\\site-packages\\wandb\\sdk\\lib\\sock_client.py\", line 155, in send_server_request\n",
      "    self._send_message(msg)\n",
      "  File \"c:\\Users\\valen\\anaconda3\\envs\\nlp-m\\lib\\site-packages\\wandb\\sdk\\lib\\sock_client.py\", line 152, in _send_message\n",
      "    self._sendall_with_error_handle(header + data)\n",
      "  File \"c:\\Users\\valen\\anaconda3\\envs\\nlp-m\\lib\\site-packages\\wandb\\sdk\\lib\\sock_client.py\", line 130, in _sendall_with_error_handle\n",
      "    sent = self._sock.send(data)\n",
      "ConnectionResetError: [WinError 10054] An existing connection was forcibly closed by the remote host\n",
      "\u001b[34m\u001b[1mwandb\u001b[0m: Agent Starting Run: tuhes758 with config:\n",
      "\u001b[34m\u001b[1mwandb\u001b[0m: \tbatch_size: 24\n",
      "\u001b[34m\u001b[1mwandb\u001b[0m: \tconv_hid_size: 8\n",
      "\u001b[34m\u001b[1mwandb\u001b[0m: \tconv_in_size: 64\n",
      "\u001b[34m\u001b[1mwandb\u001b[0m: \tconv_out_size: 8\n",
      "\u001b[34m\u001b[1mwandb\u001b[0m: \tdropout: 0.15\n",
      "\u001b[34m\u001b[1mwandb\u001b[0m: \tfc_size: 256\n",
      "\u001b[34m\u001b[1mwandb\u001b[0m: \thidden_size: 8\n",
      "\u001b[34m\u001b[1mwandb\u001b[0m: \tlr: 1e-05\n",
      "\u001b[34m\u001b[1mwandb\u001b[0m: \tmax_epochs: 250\n",
      "Traceback (most recent call last):\n",
      "  File \"c:\\Users\\valen\\anaconda3\\envs\\nlp-m\\lib\\site-packages\\wandb\\sdk\\wandb_init.py\", line 1166, in init\n",
      "    wi.setup(kwargs)\n",
      "  File \"c:\\Users\\valen\\anaconda3\\envs\\nlp-m\\lib\\site-packages\\wandb\\sdk\\wandb_init.py\", line 233, in setup\n",
      "    tel.feature.set_init_tags = True\n",
      "  File \"c:\\Users\\valen\\anaconda3\\envs\\nlp-m\\lib\\site-packages\\wandb\\sdk\\lib\\telemetry.py\", line 42, in __exit__\n",
      "    self._run._telemetry_callback(self._obj)\n",
      "  File \"c:\\Users\\valen\\anaconda3\\envs\\nlp-m\\lib\\site-packages\\wandb\\sdk\\wandb_run.py\", line 758, in _telemetry_callback\n",
      "    self._telemetry_flush()\n",
      "  File \"c:\\Users\\valen\\anaconda3\\envs\\nlp-m\\lib\\site-packages\\wandb\\sdk\\wandb_run.py\", line 769, in _telemetry_flush\n",
      "    self._backend.interface._publish_telemetry(self._telemetry_obj)\n",
      "  File \"c:\\Users\\valen\\anaconda3\\envs\\nlp-m\\lib\\site-packages\\wandb\\sdk\\interface\\interface_shared.py\", line 101, in _publish_telemetry\n",
      "    self._publish(rec)\n",
      "  File \"c:\\Users\\valen\\anaconda3\\envs\\nlp-m\\lib\\site-packages\\wandb\\sdk\\interface\\interface_sock.py\", line 51, in _publish\n",
      "    self._sock_client.send_record_publish(record)\n",
      "  File \"c:\\Users\\valen\\anaconda3\\envs\\nlp-m\\lib\\site-packages\\wandb\\sdk\\lib\\sock_client.py\", line 221, in send_record_publish\n",
      "    self.send_server_request(server_req)\n",
      "  File \"c:\\Users\\valen\\anaconda3\\envs\\nlp-m\\lib\\site-packages\\wandb\\sdk\\lib\\sock_client.py\", line 155, in send_server_request\n",
      "    self._send_message(msg)\n",
      "  File \"c:\\Users\\valen\\anaconda3\\envs\\nlp-m\\lib\\site-packages\\wandb\\sdk\\lib\\sock_client.py\", line 152, in _send_message\n",
      "    self._sendall_with_error_handle(header + data)\n",
      "  File \"c:\\Users\\valen\\anaconda3\\envs\\nlp-m\\lib\\site-packages\\wandb\\sdk\\lib\\sock_client.py\", line 130, in _sendall_with_error_handle\n",
      "    sent = self._sock.send(data)\n",
      "ConnectionResetError: [WinError 10054] An existing connection was forcibly closed by the remote host\n",
      "Exception in thread Thread-81:\n",
      "Traceback (most recent call last):\n",
      "  File \"c:\\Users\\valen\\anaconda3\\envs\\nlp-m\\lib\\site-packages\\wandb\\sdk\\wandb_init.py\", line 1166, in init\n",
      "    wi.setup(kwargs)\n",
      "  File \"c:\\Users\\valen\\anaconda3\\envs\\nlp-m\\lib\\site-packages\\wandb\\sdk\\wandb_init.py\", line 233, in setup\n",
      "    tel.feature.set_init_tags = True\n",
      "  File \"c:\\Users\\valen\\anaconda3\\envs\\nlp-m\\lib\\site-packages\\wandb\\sdk\\lib\\telemetry.py\", line 42, in __exit__\n",
      "    self._run._telemetry_callback(self._obj)\n",
      "  File \"c:\\Users\\valen\\anaconda3\\envs\\nlp-m\\lib\\site-packages\\wandb\\sdk\\wandb_run.py\", line 758, in _telemetry_callback\n",
      "    self._telemetry_flush()\n",
      "  File \"c:\\Users\\valen\\anaconda3\\envs\\nlp-m\\lib\\site-packages\\wandb\\sdk\\wandb_run.py\", line 769, in _telemetry_flush\n",
      "    self._backend.interface._publish_telemetry(self._telemetry_obj)\n",
      "  File \"c:\\Users\\valen\\anaconda3\\envs\\nlp-m\\lib\\site-packages\\wandb\\sdk\\interface\\interface_shared.py\", line 101, in _publish_telemetry\n",
      "    self._publish(rec)\n",
      "  File \"c:\\Users\\valen\\anaconda3\\envs\\nlp-m\\lib\\site-packages\\wandb\\sdk\\interface\\interface_sock.py\", line 51, in _publish\n",
      "    self._sock_client.send_record_publish(record)\n",
      "  File \"c:\\Users\\valen\\anaconda3\\envs\\nlp-m\\lib\\site-packages\\wandb\\sdk\\lib\\sock_client.py\", line 221, in send_record_publish\n",
      "    self.send_server_request(server_req)\n",
      "  File \"c:\\Users\\valen\\anaconda3\\envs\\nlp-m\\lib\\site-packages\\wandb\\sdk\\lib\\sock_client.py\", line 155, in send_server_request\n",
      "    self._send_message(msg)\n",
      "  File \"c:\\Users\\valen\\anaconda3\\envs\\nlp-m\\lib\\site-packages\\wandb\\sdk\\lib\\sock_client.py\", line 152, in _send_message\n",
      "    self._sendall_with_error_handle(header + data)\n",
      "  File \"c:\\Users\\valen\\anaconda3\\envs\\nlp-m\\lib\\site-packages\\wandb\\sdk\\lib\\sock_client.py\", line 130, in _sendall_with_error_handle\n",
      "    sent = self._sock.send(data)\n",
      "ConnectionResetError: [WinError 10054] An existing connection was forcibly closed by the remote host\n",
      "\n",
      "The above exception was the direct cause of the following exception:\n",
      "\n",
      "Traceback (most recent call last):\n",
      "  File \"c:\\Users\\valen\\anaconda3\\envs\\nlp-m\\lib\\site-packages\\wandb\\agents\\pyagent.py\", line 298, in _run_job\n",
      "    self._function()\n",
      "  File \"C:\\Users\\valen\\AppData\\Local\\Temp\\ipykernel_19500\\35702409.py\", line 8, in train_model\n",
      "  File \"c:\\Users\\valen\\anaconda3\\envs\\nlp-m\\lib\\site-packages\\wandb\\sdk\\wandb_init.py\", line 1208, in init\n",
      "    raise Error(\"An unexpected error occurred\") from error_seen\n",
      "wandb.errors.Error: An unexpected error occurred\n",
      "\n",
      "During handling of the above exception, another exception occurred:\n",
      "\n",
      "Traceback (most recent call last):\n",
      "  File \"c:\\Users\\valen\\anaconda3\\envs\\nlp-m\\lib\\threading.py\", line 980, in _bootstrap_inner\n",
      "    self.run()\n",
      "  File \"c:\\Users\\valen\\anaconda3\\envs\\nlp-m\\lib\\threading.py\", line 917, in run\n",
      "    self._target(*self._args, **self._kwargs)\n",
      "  File \"c:\\Users\\valen\\anaconda3\\envs\\nlp-m\\lib\\site-packages\\wandb\\agents\\pyagent.py\", line 303, in _run_job\n",
      "    wandb.finish(exit_code=1)\n",
      "  File \"c:\\Users\\valen\\anaconda3\\envs\\nlp-m\\lib\\site-packages\\wandb\\sdk\\wandb_run.py\", line 4090, in finish\n",
      "    wandb.run.finish(exit_code=exit_code, quiet=quiet)\n",
      "  File \"c:\\Users\\valen\\anaconda3\\envs\\nlp-m\\lib\\site-packages\\wandb\\sdk\\wandb_run.py\", line 420, in wrapper\n",
      "    return func(self, *args, **kwargs)\n",
      "  File \"c:\\Users\\valen\\anaconda3\\envs\\nlp-m\\lib\\site-packages\\wandb\\sdk\\wandb_run.py\", line 361, in wrapper\n",
      "    return func(self, *args, **kwargs)\n",
      "  File \"c:\\Users\\valen\\anaconda3\\envs\\nlp-m\\lib\\site-packages\\wandb\\sdk\\wandb_run.py\", line 1953, in finish\n",
      "    return self._finish(exit_code, quiet)\n",
      "  File \"c:\\Users\\valen\\anaconda3\\envs\\nlp-m\\lib\\site-packages\\wandb\\sdk\\wandb_run.py\", line 1961, in _finish\n",
      "    tel.feature.finish = True\n",
      "  File \"c:\\Users\\valen\\anaconda3\\envs\\nlp-m\\lib\\site-packages\\wandb\\sdk\\lib\\telemetry.py\", line 42, in __exit__\n",
      "    self._run._telemetry_callback(self._obj)\n",
      "  File \"c:\\Users\\valen\\anaconda3\\envs\\nlp-m\\lib\\site-packages\\wandb\\sdk\\wandb_run.py\", line 758, in _telemetry_callback\n",
      "    self._telemetry_flush()\n",
      "  File \"c:\\Users\\valen\\anaconda3\\envs\\nlp-m\\lib\\site-packages\\wandb\\sdk\\wandb_run.py\", line 769, in _telemetry_flush\n",
      "    self._backend.interface._publish_telemetry(self._telemetry_obj)\n",
      "  File \"c:\\Users\\valen\\anaconda3\\envs\\nlp-m\\lib\\site-packages\\wandb\\sdk\\interface\\interface_shared.py\", line 101, in _publish_telemetry\n",
      "    self._publish(rec)\n",
      "  File \"c:\\Users\\valen\\anaconda3\\envs\\nlp-m\\lib\\site-packages\\wandb\\sdk\\interface\\interface_sock.py\", line 51, in _publish\n",
      "    self._sock_client.send_record_publish(record)\n",
      "  File \"c:\\Users\\valen\\anaconda3\\envs\\nlp-m\\lib\\site-packages\\wandb\\sdk\\lib\\sock_client.py\", line 221, in send_record_publish\n",
      "    self.send_server_request(server_req)\n",
      "  File \"c:\\Users\\valen\\anaconda3\\envs\\nlp-m\\lib\\site-packages\\wandb\\sdk\\lib\\sock_client.py\", line 155, in send_server_request\n",
      "    self._send_message(msg)\n",
      "  File \"c:\\Users\\valen\\anaconda3\\envs\\nlp-m\\lib\\site-packages\\wandb\\sdk\\lib\\sock_client.py\", line 152, in _send_message\n",
      "    self._sendall_with_error_handle(header + data)\n",
      "  File \"c:\\Users\\valen\\anaconda3\\envs\\nlp-m\\lib\\site-packages\\wandb\\sdk\\lib\\sock_client.py\", line 130, in _sendall_with_error_handle\n",
      "    sent = self._sock.send(data)\n",
      "ConnectionResetError: [WinError 10054] An existing connection was forcibly closed by the remote host\n",
      "\u001b[34m\u001b[1mwandb\u001b[0m: Agent Starting Run: wo2aekie with config:\n",
      "\u001b[34m\u001b[1mwandb\u001b[0m: \tbatch_size: 40\n",
      "\u001b[34m\u001b[1mwandb\u001b[0m: \tconv_hid_size: 32\n",
      "\u001b[34m\u001b[1mwandb\u001b[0m: \tconv_in_size: 64\n",
      "\u001b[34m\u001b[1mwandb\u001b[0m: \tconv_out_size: 32\n",
      "\u001b[34m\u001b[1mwandb\u001b[0m: \tdropout: 0.3\n",
      "\u001b[34m\u001b[1mwandb\u001b[0m: \tfc_size: 32\n",
      "\u001b[34m\u001b[1mwandb\u001b[0m: \thidden_size: 8\n",
      "\u001b[34m\u001b[1mwandb\u001b[0m: \tlr: 0.0001\n",
      "\u001b[34m\u001b[1mwandb\u001b[0m: \tmax_epochs: 250\n",
      "Traceback (most recent call last):\n",
      "  File \"c:\\Users\\valen\\anaconda3\\envs\\nlp-m\\lib\\site-packages\\wandb\\sdk\\wandb_init.py\", line 1166, in init\n",
      "    wi.setup(kwargs)\n",
      "  File \"c:\\Users\\valen\\anaconda3\\envs\\nlp-m\\lib\\site-packages\\wandb\\sdk\\wandb_init.py\", line 233, in setup\n",
      "    tel.feature.set_init_tags = True\n",
      "  File \"c:\\Users\\valen\\anaconda3\\envs\\nlp-m\\lib\\site-packages\\wandb\\sdk\\lib\\telemetry.py\", line 42, in __exit__\n",
      "    self._run._telemetry_callback(self._obj)\n",
      "  File \"c:\\Users\\valen\\anaconda3\\envs\\nlp-m\\lib\\site-packages\\wandb\\sdk\\wandb_run.py\", line 758, in _telemetry_callback\n",
      "    self._telemetry_flush()\n",
      "  File \"c:\\Users\\valen\\anaconda3\\envs\\nlp-m\\lib\\site-packages\\wandb\\sdk\\wandb_run.py\", line 769, in _telemetry_flush\n",
      "    self._backend.interface._publish_telemetry(self._telemetry_obj)\n",
      "  File \"c:\\Users\\valen\\anaconda3\\envs\\nlp-m\\lib\\site-packages\\wandb\\sdk\\interface\\interface_shared.py\", line 101, in _publish_telemetry\n",
      "    self._publish(rec)\n",
      "  File \"c:\\Users\\valen\\anaconda3\\envs\\nlp-m\\lib\\site-packages\\wandb\\sdk\\interface\\interface_sock.py\", line 51, in _publish\n",
      "    self._sock_client.send_record_publish(record)\n",
      "  File \"c:\\Users\\valen\\anaconda3\\envs\\nlp-m\\lib\\site-packages\\wandb\\sdk\\lib\\sock_client.py\", line 221, in send_record_publish\n",
      "    self.send_server_request(server_req)\n",
      "  File \"c:\\Users\\valen\\anaconda3\\envs\\nlp-m\\lib\\site-packages\\wandb\\sdk\\lib\\sock_client.py\", line 155, in send_server_request\n",
      "    self._send_message(msg)\n",
      "  File \"c:\\Users\\valen\\anaconda3\\envs\\nlp-m\\lib\\site-packages\\wandb\\sdk\\lib\\sock_client.py\", line 152, in _send_message\n",
      "    self._sendall_with_error_handle(header + data)\n",
      "  File \"c:\\Users\\valen\\anaconda3\\envs\\nlp-m\\lib\\site-packages\\wandb\\sdk\\lib\\sock_client.py\", line 130, in _sendall_with_error_handle\n",
      "    sent = self._sock.send(data)\n",
      "ConnectionResetError: [WinError 10054] An existing connection was forcibly closed by the remote host\n",
      "Exception in thread Thread-82:\n",
      "Traceback (most recent call last):\n",
      "  File \"c:\\Users\\valen\\anaconda3\\envs\\nlp-m\\lib\\site-packages\\wandb\\sdk\\wandb_init.py\", line 1166, in init\n",
      "    wi.setup(kwargs)\n",
      "  File \"c:\\Users\\valen\\anaconda3\\envs\\nlp-m\\lib\\site-packages\\wandb\\sdk\\wandb_init.py\", line 233, in setup\n",
      "    tel.feature.set_init_tags = True\n",
      "  File \"c:\\Users\\valen\\anaconda3\\envs\\nlp-m\\lib\\site-packages\\wandb\\sdk\\lib\\telemetry.py\", line 42, in __exit__\n",
      "    self._run._telemetry_callback(self._obj)\n",
      "  File \"c:\\Users\\valen\\anaconda3\\envs\\nlp-m\\lib\\site-packages\\wandb\\sdk\\wandb_run.py\", line 758, in _telemetry_callback\n",
      "    self._telemetry_flush()\n",
      "  File \"c:\\Users\\valen\\anaconda3\\envs\\nlp-m\\lib\\site-packages\\wandb\\sdk\\wandb_run.py\", line 769, in _telemetry_flush\n",
      "    self._backend.interface._publish_telemetry(self._telemetry_obj)\n",
      "  File \"c:\\Users\\valen\\anaconda3\\envs\\nlp-m\\lib\\site-packages\\wandb\\sdk\\interface\\interface_shared.py\", line 101, in _publish_telemetry\n",
      "    self._publish(rec)\n",
      "  File \"c:\\Users\\valen\\anaconda3\\envs\\nlp-m\\lib\\site-packages\\wandb\\sdk\\interface\\interface_sock.py\", line 51, in _publish\n",
      "    self._sock_client.send_record_publish(record)\n",
      "  File \"c:\\Users\\valen\\anaconda3\\envs\\nlp-m\\lib\\site-packages\\wandb\\sdk\\lib\\sock_client.py\", line 221, in send_record_publish\n",
      "    self.send_server_request(server_req)\n",
      "  File \"c:\\Users\\valen\\anaconda3\\envs\\nlp-m\\lib\\site-packages\\wandb\\sdk\\lib\\sock_client.py\", line 155, in send_server_request\n",
      "    self._send_message(msg)\n",
      "  File \"c:\\Users\\valen\\anaconda3\\envs\\nlp-m\\lib\\site-packages\\wandb\\sdk\\lib\\sock_client.py\", line 152, in _send_message\n",
      "    self._sendall_with_error_handle(header + data)\n",
      "  File \"c:\\Users\\valen\\anaconda3\\envs\\nlp-m\\lib\\site-packages\\wandb\\sdk\\lib\\sock_client.py\", line 130, in _sendall_with_error_handle\n",
      "    sent = self._sock.send(data)\n",
      "ConnectionResetError: [WinError 10054] An existing connection was forcibly closed by the remote host\n",
      "\n",
      "The above exception was the direct cause of the following exception:\n",
      "\n",
      "Traceback (most recent call last):\n",
      "  File \"c:\\Users\\valen\\anaconda3\\envs\\nlp-m\\lib\\site-packages\\wandb\\agents\\pyagent.py\", line 298, in _run_job\n",
      "    self._function()\n",
      "  File \"C:\\Users\\valen\\AppData\\Local\\Temp\\ipykernel_19500\\35702409.py\", line 8, in train_model\n",
      "  File \"c:\\Users\\valen\\anaconda3\\envs\\nlp-m\\lib\\site-packages\\wandb\\sdk\\wandb_init.py\", line 1208, in init\n",
      "    raise Error(\"An unexpected error occurred\") from error_seen\n",
      "wandb.errors.Error: An unexpected error occurred\n",
      "\n",
      "During handling of the above exception, another exception occurred:\n",
      "\n",
      "Traceback (most recent call last):\n",
      "  File \"c:\\Users\\valen\\anaconda3\\envs\\nlp-m\\lib\\threading.py\", line 980, in _bootstrap_inner\n",
      "    self.run()\n",
      "  File \"c:\\Users\\valen\\anaconda3\\envs\\nlp-m\\lib\\threading.py\", line 917, in run\n",
      "    self._target(*self._args, **self._kwargs)\n",
      "  File \"c:\\Users\\valen\\anaconda3\\envs\\nlp-m\\lib\\site-packages\\wandb\\agents\\pyagent.py\", line 303, in _run_job\n",
      "    wandb.finish(exit_code=1)\n",
      "  File \"c:\\Users\\valen\\anaconda3\\envs\\nlp-m\\lib\\site-packages\\wandb\\sdk\\wandb_run.py\", line 4090, in finish\n",
      "    wandb.run.finish(exit_code=exit_code, quiet=quiet)\n",
      "  File \"c:\\Users\\valen\\anaconda3\\envs\\nlp-m\\lib\\site-packages\\wandb\\sdk\\wandb_run.py\", line 420, in wrapper\n",
      "    return func(self, *args, **kwargs)\n",
      "  File \"c:\\Users\\valen\\anaconda3\\envs\\nlp-m\\lib\\site-packages\\wandb\\sdk\\wandb_run.py\", line 361, in wrapper\n",
      "    return func(self, *args, **kwargs)\n",
      "  File \"c:\\Users\\valen\\anaconda3\\envs\\nlp-m\\lib\\site-packages\\wandb\\sdk\\wandb_run.py\", line 1953, in finish\n",
      "    return self._finish(exit_code, quiet)\n",
      "  File \"c:\\Users\\valen\\anaconda3\\envs\\nlp-m\\lib\\site-packages\\wandb\\sdk\\wandb_run.py\", line 1961, in _finish\n",
      "    tel.feature.finish = True\n",
      "  File \"c:\\Users\\valen\\anaconda3\\envs\\nlp-m\\lib\\site-packages\\wandb\\sdk\\lib\\telemetry.py\", line 42, in __exit__\n",
      "    self._run._telemetry_callback(self._obj)\n",
      "  File \"c:\\Users\\valen\\anaconda3\\envs\\nlp-m\\lib\\site-packages\\wandb\\sdk\\wandb_run.py\", line 758, in _telemetry_callback\n",
      "    self._telemetry_flush()\n",
      "  File \"c:\\Users\\valen\\anaconda3\\envs\\nlp-m\\lib\\site-packages\\wandb\\sdk\\wandb_run.py\", line 769, in _telemetry_flush\n",
      "    self._backend.interface._publish_telemetry(self._telemetry_obj)\n",
      "  File \"c:\\Users\\valen\\anaconda3\\envs\\nlp-m\\lib\\site-packages\\wandb\\sdk\\interface\\interface_shared.py\", line 101, in _publish_telemetry\n",
      "    self._publish(rec)\n",
      "  File \"c:\\Users\\valen\\anaconda3\\envs\\nlp-m\\lib\\site-packages\\wandb\\sdk\\interface\\interface_sock.py\", line 51, in _publish\n",
      "    self._sock_client.send_record_publish(record)\n",
      "  File \"c:\\Users\\valen\\anaconda3\\envs\\nlp-m\\lib\\site-packages\\wandb\\sdk\\lib\\sock_client.py\", line 221, in send_record_publish\n",
      "    self.send_server_request(server_req)\n",
      "  File \"c:\\Users\\valen\\anaconda3\\envs\\nlp-m\\lib\\site-packages\\wandb\\sdk\\lib\\sock_client.py\", line 155, in send_server_request\n",
      "    self._send_message(msg)\n",
      "  File \"c:\\Users\\valen\\anaconda3\\envs\\nlp-m\\lib\\site-packages\\wandb\\sdk\\lib\\sock_client.py\", line 152, in _send_message\n",
      "    self._sendall_with_error_handle(header + data)\n",
      "  File \"c:\\Users\\valen\\anaconda3\\envs\\nlp-m\\lib\\site-packages\\wandb\\sdk\\lib\\sock_client.py\", line 130, in _sendall_with_error_handle\n",
      "    sent = self._sock.send(data)\n",
      "ConnectionResetError: [WinError 10054] An existing connection was forcibly closed by the remote host\n",
      "\u001b[34m\u001b[1mwandb\u001b[0m: Agent Starting Run: brpskabz with config:\n",
      "\u001b[34m\u001b[1mwandb\u001b[0m: \tbatch_size: 8\n",
      "\u001b[34m\u001b[1mwandb\u001b[0m: \tconv_hid_size: 8\n",
      "\u001b[34m\u001b[1mwandb\u001b[0m: \tconv_in_size: 32\n",
      "\u001b[34m\u001b[1mwandb\u001b[0m: \tconv_out_size: 32\n",
      "\u001b[34m\u001b[1mwandb\u001b[0m: \tdropout: 0.25\n",
      "\u001b[34m\u001b[1mwandb\u001b[0m: \tfc_size: 512\n",
      "\u001b[34m\u001b[1mwandb\u001b[0m: \thidden_size: 16\n",
      "\u001b[34m\u001b[1mwandb\u001b[0m: \tlr: 0.001\n",
      "\u001b[34m\u001b[1mwandb\u001b[0m: \tmax_epochs: 250\n",
      "Traceback (most recent call last):\n",
      "  File \"c:\\Users\\valen\\anaconda3\\envs\\nlp-m\\lib\\site-packages\\wandb\\sdk\\wandb_init.py\", line 1166, in init\n",
      "    wi.setup(kwargs)\n",
      "  File \"c:\\Users\\valen\\anaconda3\\envs\\nlp-m\\lib\\site-packages\\wandb\\sdk\\wandb_init.py\", line 233, in setup\n",
      "    tel.feature.set_init_tags = True\n",
      "  File \"c:\\Users\\valen\\anaconda3\\envs\\nlp-m\\lib\\site-packages\\wandb\\sdk\\lib\\telemetry.py\", line 42, in __exit__\n",
      "    self._run._telemetry_callback(self._obj)\n",
      "  File \"c:\\Users\\valen\\anaconda3\\envs\\nlp-m\\lib\\site-packages\\wandb\\sdk\\wandb_run.py\", line 758, in _telemetry_callback\n",
      "    self._telemetry_flush()\n",
      "  File \"c:\\Users\\valen\\anaconda3\\envs\\nlp-m\\lib\\site-packages\\wandb\\sdk\\wandb_run.py\", line 769, in _telemetry_flush\n",
      "    self._backend.interface._publish_telemetry(self._telemetry_obj)\n",
      "  File \"c:\\Users\\valen\\anaconda3\\envs\\nlp-m\\lib\\site-packages\\wandb\\sdk\\interface\\interface_shared.py\", line 101, in _publish_telemetry\n",
      "    self._publish(rec)\n",
      "  File \"c:\\Users\\valen\\anaconda3\\envs\\nlp-m\\lib\\site-packages\\wandb\\sdk\\interface\\interface_sock.py\", line 51, in _publish\n",
      "    self._sock_client.send_record_publish(record)\n",
      "  File \"c:\\Users\\valen\\anaconda3\\envs\\nlp-m\\lib\\site-packages\\wandb\\sdk\\lib\\sock_client.py\", line 221, in send_record_publish\n",
      "    self.send_server_request(server_req)\n",
      "  File \"c:\\Users\\valen\\anaconda3\\envs\\nlp-m\\lib\\site-packages\\wandb\\sdk\\lib\\sock_client.py\", line 155, in send_server_request\n",
      "    self._send_message(msg)\n",
      "  File \"c:\\Users\\valen\\anaconda3\\envs\\nlp-m\\lib\\site-packages\\wandb\\sdk\\lib\\sock_client.py\", line 152, in _send_message\n",
      "    self._sendall_with_error_handle(header + data)\n",
      "  File \"c:\\Users\\valen\\anaconda3\\envs\\nlp-m\\lib\\site-packages\\wandb\\sdk\\lib\\sock_client.py\", line 130, in _sendall_with_error_handle\n",
      "    sent = self._sock.send(data)\n",
      "ConnectionResetError: [WinError 10054] An existing connection was forcibly closed by the remote host\n",
      "Exception in thread Thread-83:\n",
      "Traceback (most recent call last):\n",
      "  File \"c:\\Users\\valen\\anaconda3\\envs\\nlp-m\\lib\\site-packages\\wandb\\sdk\\wandb_init.py\", line 1166, in init\n",
      "    wi.setup(kwargs)\n",
      "  File \"c:\\Users\\valen\\anaconda3\\envs\\nlp-m\\lib\\site-packages\\wandb\\sdk\\wandb_init.py\", line 233, in setup\n",
      "    tel.feature.set_init_tags = True\n",
      "  File \"c:\\Users\\valen\\anaconda3\\envs\\nlp-m\\lib\\site-packages\\wandb\\sdk\\lib\\telemetry.py\", line 42, in __exit__\n",
      "    self._run._telemetry_callback(self._obj)\n",
      "  File \"c:\\Users\\valen\\anaconda3\\envs\\nlp-m\\lib\\site-packages\\wandb\\sdk\\wandb_run.py\", line 758, in _telemetry_callback\n",
      "    self._telemetry_flush()\n",
      "  File \"c:\\Users\\valen\\anaconda3\\envs\\nlp-m\\lib\\site-packages\\wandb\\sdk\\wandb_run.py\", line 769, in _telemetry_flush\n",
      "    self._backend.interface._publish_telemetry(self._telemetry_obj)\n",
      "  File \"c:\\Users\\valen\\anaconda3\\envs\\nlp-m\\lib\\site-packages\\wandb\\sdk\\interface\\interface_shared.py\", line 101, in _publish_telemetry\n",
      "    self._publish(rec)\n",
      "  File \"c:\\Users\\valen\\anaconda3\\envs\\nlp-m\\lib\\site-packages\\wandb\\sdk\\interface\\interface_sock.py\", line 51, in _publish\n",
      "    self._sock_client.send_record_publish(record)\n",
      "  File \"c:\\Users\\valen\\anaconda3\\envs\\nlp-m\\lib\\site-packages\\wandb\\sdk\\lib\\sock_client.py\", line 221, in send_record_publish\n",
      "    self.send_server_request(server_req)\n",
      "  File \"c:\\Users\\valen\\anaconda3\\envs\\nlp-m\\lib\\site-packages\\wandb\\sdk\\lib\\sock_client.py\", line 155, in send_server_request\n",
      "    self._send_message(msg)\n",
      "  File \"c:\\Users\\valen\\anaconda3\\envs\\nlp-m\\lib\\site-packages\\wandb\\sdk\\lib\\sock_client.py\", line 152, in _send_message\n",
      "    self._sendall_with_error_handle(header + data)\n",
      "  File \"c:\\Users\\valen\\anaconda3\\envs\\nlp-m\\lib\\site-packages\\wandb\\sdk\\lib\\sock_client.py\", line 130, in _sendall_with_error_handle\n",
      "    sent = self._sock.send(data)\n",
      "ConnectionResetError: [WinError 10054] An existing connection was forcibly closed by the remote host\n",
      "\n",
      "The above exception was the direct cause of the following exception:\n",
      "\n",
      "Traceback (most recent call last):\n",
      "  File \"c:\\Users\\valen\\anaconda3\\envs\\nlp-m\\lib\\site-packages\\wandb\\agents\\pyagent.py\", line 298, in _run_job\n",
      "    self._function()\n",
      "  File \"C:\\Users\\valen\\AppData\\Local\\Temp\\ipykernel_19500\\35702409.py\", line 8, in train_model\n",
      "  File \"c:\\Users\\valen\\anaconda3\\envs\\nlp-m\\lib\\site-packages\\wandb\\sdk\\wandb_init.py\", line 1208, in init\n",
      "    raise Error(\"An unexpected error occurred\") from error_seen\n",
      "wandb.errors.Error: An unexpected error occurred\n",
      "\n",
      "During handling of the above exception, another exception occurred:\n",
      "\n",
      "Traceback (most recent call last):\n",
      "  File \"c:\\Users\\valen\\anaconda3\\envs\\nlp-m\\lib\\threading.py\", line 980, in _bootstrap_inner\n",
      "    self.run()\n",
      "  File \"c:\\Users\\valen\\anaconda3\\envs\\nlp-m\\lib\\threading.py\", line 917, in run\n",
      "    self._target(*self._args, **self._kwargs)\n",
      "  File \"c:\\Users\\valen\\anaconda3\\envs\\nlp-m\\lib\\site-packages\\wandb\\agents\\pyagent.py\", line 303, in _run_job\n",
      "    wandb.finish(exit_code=1)\n",
      "  File \"c:\\Users\\valen\\anaconda3\\envs\\nlp-m\\lib\\site-packages\\wandb\\sdk\\wandb_run.py\", line 4090, in finish\n",
      "    wandb.run.finish(exit_code=exit_code, quiet=quiet)\n",
      "  File \"c:\\Users\\valen\\anaconda3\\envs\\nlp-m\\lib\\site-packages\\wandb\\sdk\\wandb_run.py\", line 420, in wrapper\n",
      "    return func(self, *args, **kwargs)\n",
      "  File \"c:\\Users\\valen\\anaconda3\\envs\\nlp-m\\lib\\site-packages\\wandb\\sdk\\wandb_run.py\", line 361, in wrapper\n",
      "    return func(self, *args, **kwargs)\n",
      "  File \"c:\\Users\\valen\\anaconda3\\envs\\nlp-m\\lib\\site-packages\\wandb\\sdk\\wandb_run.py\", line 1953, in finish\n",
      "    return self._finish(exit_code, quiet)\n",
      "  File \"c:\\Users\\valen\\anaconda3\\envs\\nlp-m\\lib\\site-packages\\wandb\\sdk\\wandb_run.py\", line 1961, in _finish\n",
      "    tel.feature.finish = True\n",
      "  File \"c:\\Users\\valen\\anaconda3\\envs\\nlp-m\\lib\\site-packages\\wandb\\sdk\\lib\\telemetry.py\", line 42, in __exit__\n",
      "    self._run._telemetry_callback(self._obj)\n",
      "  File \"c:\\Users\\valen\\anaconda3\\envs\\nlp-m\\lib\\site-packages\\wandb\\sdk\\wandb_run.py\", line 758, in _telemetry_callback\n",
      "    self._telemetry_flush()\n",
      "  File \"c:\\Users\\valen\\anaconda3\\envs\\nlp-m\\lib\\site-packages\\wandb\\sdk\\wandb_run.py\", line 769, in _telemetry_flush\n",
      "    self._backend.interface._publish_telemetry(self._telemetry_obj)\n",
      "  File \"c:\\Users\\valen\\anaconda3\\envs\\nlp-m\\lib\\site-packages\\wandb\\sdk\\interface\\interface_shared.py\", line 101, in _publish_telemetry\n",
      "    self._publish(rec)\n",
      "  File \"c:\\Users\\valen\\anaconda3\\envs\\nlp-m\\lib\\site-packages\\wandb\\sdk\\interface\\interface_sock.py\", line 51, in _publish\n",
      "    self._sock_client.send_record_publish(record)\n",
      "  File \"c:\\Users\\valen\\anaconda3\\envs\\nlp-m\\lib\\site-packages\\wandb\\sdk\\lib\\sock_client.py\", line 221, in send_record_publish\n",
      "    self.send_server_request(server_req)\n",
      "  File \"c:\\Users\\valen\\anaconda3\\envs\\nlp-m\\lib\\site-packages\\wandb\\sdk\\lib\\sock_client.py\", line 155, in send_server_request\n",
      "    self._send_message(msg)\n",
      "  File \"c:\\Users\\valen\\anaconda3\\envs\\nlp-m\\lib\\site-packages\\wandb\\sdk\\lib\\sock_client.py\", line 152, in _send_message\n",
      "    self._sendall_with_error_handle(header + data)\n",
      "  File \"c:\\Users\\valen\\anaconda3\\envs\\nlp-m\\lib\\site-packages\\wandb\\sdk\\lib\\sock_client.py\", line 130, in _sendall_with_error_handle\n",
      "    sent = self._sock.send(data)\n",
      "ConnectionResetError: [WinError 10054] An existing connection was forcibly closed by the remote host\n",
      "\u001b[34m\u001b[1mwandb\u001b[0m: Agent Starting Run: axl4ozom with config:\n",
      "\u001b[34m\u001b[1mwandb\u001b[0m: \tbatch_size: 24\n",
      "\u001b[34m\u001b[1mwandb\u001b[0m: \tconv_hid_size: 8\n",
      "\u001b[34m\u001b[1mwandb\u001b[0m: \tconv_in_size: 32\n",
      "\u001b[34m\u001b[1mwandb\u001b[0m: \tconv_out_size: 16\n",
      "\u001b[34m\u001b[1mwandb\u001b[0m: \tdropout: 0.3\n",
      "\u001b[34m\u001b[1mwandb\u001b[0m: \tfc_size: 512\n",
      "\u001b[34m\u001b[1mwandb\u001b[0m: \thidden_size: 16\n",
      "\u001b[34m\u001b[1mwandb\u001b[0m: \tlr: 0.0001\n",
      "\u001b[34m\u001b[1mwandb\u001b[0m: \tmax_epochs: 250\n",
      "Traceback (most recent call last):\n",
      "  File \"c:\\Users\\valen\\anaconda3\\envs\\nlp-m\\lib\\site-packages\\wandb\\sdk\\wandb_init.py\", line 1166, in init\n",
      "    wi.setup(kwargs)\n",
      "  File \"c:\\Users\\valen\\anaconda3\\envs\\nlp-m\\lib\\site-packages\\wandb\\sdk\\wandb_init.py\", line 233, in setup\n",
      "    tel.feature.set_init_tags = True\n",
      "  File \"c:\\Users\\valen\\anaconda3\\envs\\nlp-m\\lib\\site-packages\\wandb\\sdk\\lib\\telemetry.py\", line 42, in __exit__\n",
      "    self._run._telemetry_callback(self._obj)\n",
      "  File \"c:\\Users\\valen\\anaconda3\\envs\\nlp-m\\lib\\site-packages\\wandb\\sdk\\wandb_run.py\", line 758, in _telemetry_callback\n",
      "    self._telemetry_flush()\n",
      "  File \"c:\\Users\\valen\\anaconda3\\envs\\nlp-m\\lib\\site-packages\\wandb\\sdk\\wandb_run.py\", line 769, in _telemetry_flush\n",
      "    self._backend.interface._publish_telemetry(self._telemetry_obj)\n",
      "  File \"c:\\Users\\valen\\anaconda3\\envs\\nlp-m\\lib\\site-packages\\wandb\\sdk\\interface\\interface_shared.py\", line 101, in _publish_telemetry\n",
      "    self._publish(rec)\n",
      "  File \"c:\\Users\\valen\\anaconda3\\envs\\nlp-m\\lib\\site-packages\\wandb\\sdk\\interface\\interface_sock.py\", line 51, in _publish\n",
      "    self._sock_client.send_record_publish(record)\n",
      "  File \"c:\\Users\\valen\\anaconda3\\envs\\nlp-m\\lib\\site-packages\\wandb\\sdk\\lib\\sock_client.py\", line 221, in send_record_publish\n",
      "    self.send_server_request(server_req)\n",
      "  File \"c:\\Users\\valen\\anaconda3\\envs\\nlp-m\\lib\\site-packages\\wandb\\sdk\\lib\\sock_client.py\", line 155, in send_server_request\n",
      "    self._send_message(msg)\n",
      "  File \"c:\\Users\\valen\\anaconda3\\envs\\nlp-m\\lib\\site-packages\\wandb\\sdk\\lib\\sock_client.py\", line 152, in _send_message\n",
      "    self._sendall_with_error_handle(header + data)\n",
      "  File \"c:\\Users\\valen\\anaconda3\\envs\\nlp-m\\lib\\site-packages\\wandb\\sdk\\lib\\sock_client.py\", line 130, in _sendall_with_error_handle\n",
      "    sent = self._sock.send(data)\n",
      "ConnectionResetError: [WinError 10054] An existing connection was forcibly closed by the remote host\n",
      "Exception in thread Thread-84:\n",
      "Traceback (most recent call last):\n",
      "  File \"c:\\Users\\valen\\anaconda3\\envs\\nlp-m\\lib\\site-packages\\wandb\\sdk\\wandb_init.py\", line 1166, in init\n",
      "    wi.setup(kwargs)\n",
      "  File \"c:\\Users\\valen\\anaconda3\\envs\\nlp-m\\lib\\site-packages\\wandb\\sdk\\wandb_init.py\", line 233, in setup\n",
      "    tel.feature.set_init_tags = True\n",
      "  File \"c:\\Users\\valen\\anaconda3\\envs\\nlp-m\\lib\\site-packages\\wandb\\sdk\\lib\\telemetry.py\", line 42, in __exit__\n",
      "    self._run._telemetry_callback(self._obj)\n",
      "  File \"c:\\Users\\valen\\anaconda3\\envs\\nlp-m\\lib\\site-packages\\wandb\\sdk\\wandb_run.py\", line 758, in _telemetry_callback\n",
      "    self._telemetry_flush()\n",
      "  File \"c:\\Users\\valen\\anaconda3\\envs\\nlp-m\\lib\\site-packages\\wandb\\sdk\\wandb_run.py\", line 769, in _telemetry_flush\n",
      "    self._backend.interface._publish_telemetry(self._telemetry_obj)\n",
      "  File \"c:\\Users\\valen\\anaconda3\\envs\\nlp-m\\lib\\site-packages\\wandb\\sdk\\interface\\interface_shared.py\", line 101, in _publish_telemetry\n",
      "    self._publish(rec)\n",
      "  File \"c:\\Users\\valen\\anaconda3\\envs\\nlp-m\\lib\\site-packages\\wandb\\sdk\\interface\\interface_sock.py\", line 51, in _publish\n",
      "    self._sock_client.send_record_publish(record)\n",
      "  File \"c:\\Users\\valen\\anaconda3\\envs\\nlp-m\\lib\\site-packages\\wandb\\sdk\\lib\\sock_client.py\", line 221, in send_record_publish\n",
      "    self.send_server_request(server_req)\n",
      "  File \"c:\\Users\\valen\\anaconda3\\envs\\nlp-m\\lib\\site-packages\\wandb\\sdk\\lib\\sock_client.py\", line 155, in send_server_request\n",
      "    self._send_message(msg)\n",
      "  File \"c:\\Users\\valen\\anaconda3\\envs\\nlp-m\\lib\\site-packages\\wandb\\sdk\\lib\\sock_client.py\", line 152, in _send_message\n",
      "    self._sendall_with_error_handle(header + data)\n",
      "  File \"c:\\Users\\valen\\anaconda3\\envs\\nlp-m\\lib\\site-packages\\wandb\\sdk\\lib\\sock_client.py\", line 130, in _sendall_with_error_handle\n",
      "    sent = self._sock.send(data)\n",
      "ConnectionResetError: [WinError 10054] An existing connection was forcibly closed by the remote host\n",
      "\n",
      "The above exception was the direct cause of the following exception:\n",
      "\n",
      "Traceback (most recent call last):\n",
      "  File \"c:\\Users\\valen\\anaconda3\\envs\\nlp-m\\lib\\site-packages\\wandb\\agents\\pyagent.py\", line 298, in _run_job\n",
      "    self._function()\n",
      "  File \"C:\\Users\\valen\\AppData\\Local\\Temp\\ipykernel_19500\\35702409.py\", line 8, in train_model\n",
      "  File \"c:\\Users\\valen\\anaconda3\\envs\\nlp-m\\lib\\site-packages\\wandb\\sdk\\wandb_init.py\", line 1208, in init\n",
      "    raise Error(\"An unexpected error occurred\") from error_seen\n",
      "wandb.errors.Error: An unexpected error occurred\n",
      "\n",
      "During handling of the above exception, another exception occurred:\n",
      "\n",
      "Traceback (most recent call last):\n",
      "  File \"c:\\Users\\valen\\anaconda3\\envs\\nlp-m\\lib\\threading.py\", line 980, in _bootstrap_inner\n",
      "    self.run()\n",
      "  File \"c:\\Users\\valen\\anaconda3\\envs\\nlp-m\\lib\\threading.py\", line 917, in run\n",
      "    self._target(*self._args, **self._kwargs)\n",
      "  File \"c:\\Users\\valen\\anaconda3\\envs\\nlp-m\\lib\\site-packages\\wandb\\agents\\pyagent.py\", line 303, in _run_job\n",
      "    wandb.finish(exit_code=1)\n",
      "  File \"c:\\Users\\valen\\anaconda3\\envs\\nlp-m\\lib\\site-packages\\wandb\\sdk\\wandb_run.py\", line 4090, in finish\n",
      "    wandb.run.finish(exit_code=exit_code, quiet=quiet)\n",
      "  File \"c:\\Users\\valen\\anaconda3\\envs\\nlp-m\\lib\\site-packages\\wandb\\sdk\\wandb_run.py\", line 420, in wrapper\n",
      "    return func(self, *args, **kwargs)\n",
      "  File \"c:\\Users\\valen\\anaconda3\\envs\\nlp-m\\lib\\site-packages\\wandb\\sdk\\wandb_run.py\", line 361, in wrapper\n",
      "    return func(self, *args, **kwargs)\n",
      "  File \"c:\\Users\\valen\\anaconda3\\envs\\nlp-m\\lib\\site-packages\\wandb\\sdk\\wandb_run.py\", line 1953, in finish\n",
      "    return self._finish(exit_code, quiet)\n",
      "  File \"c:\\Users\\valen\\anaconda3\\envs\\nlp-m\\lib\\site-packages\\wandb\\sdk\\wandb_run.py\", line 1961, in _finish\n",
      "    tel.feature.finish = True\n",
      "  File \"c:\\Users\\valen\\anaconda3\\envs\\nlp-m\\lib\\site-packages\\wandb\\sdk\\lib\\telemetry.py\", line 42, in __exit__\n",
      "    self._run._telemetry_callback(self._obj)\n",
      "  File \"c:\\Users\\valen\\anaconda3\\envs\\nlp-m\\lib\\site-packages\\wandb\\sdk\\wandb_run.py\", line 758, in _telemetry_callback\n",
      "    self._telemetry_flush()\n",
      "  File \"c:\\Users\\valen\\anaconda3\\envs\\nlp-m\\lib\\site-packages\\wandb\\sdk\\wandb_run.py\", line 769, in _telemetry_flush\n",
      "    self._backend.interface._publish_telemetry(self._telemetry_obj)\n",
      "  File \"c:\\Users\\valen\\anaconda3\\envs\\nlp-m\\lib\\site-packages\\wandb\\sdk\\interface\\interface_shared.py\", line 101, in _publish_telemetry\n",
      "    self._publish(rec)\n",
      "  File \"c:\\Users\\valen\\anaconda3\\envs\\nlp-m\\lib\\site-packages\\wandb\\sdk\\interface\\interface_sock.py\", line 51, in _publish\n",
      "    self._sock_client.send_record_publish(record)\n",
      "  File \"c:\\Users\\valen\\anaconda3\\envs\\nlp-m\\lib\\site-packages\\wandb\\sdk\\lib\\sock_client.py\", line 221, in send_record_publish\n",
      "    self.send_server_request(server_req)\n",
      "  File \"c:\\Users\\valen\\anaconda3\\envs\\nlp-m\\lib\\site-packages\\wandb\\sdk\\lib\\sock_client.py\", line 155, in send_server_request\n",
      "    self._send_message(msg)\n",
      "  File \"c:\\Users\\valen\\anaconda3\\envs\\nlp-m\\lib\\site-packages\\wandb\\sdk\\lib\\sock_client.py\", line 152, in _send_message\n",
      "    self._sendall_with_error_handle(header + data)\n",
      "  File \"c:\\Users\\valen\\anaconda3\\envs\\nlp-m\\lib\\site-packages\\wandb\\sdk\\lib\\sock_client.py\", line 130, in _sendall_with_error_handle\n",
      "    sent = self._sock.send(data)\n",
      "ConnectionResetError: [WinError 10054] An existing connection was forcibly closed by the remote host\n",
      "\u001b[34m\u001b[1mwandb\u001b[0m: Agent Starting Run: v26jiirv with config:\n",
      "\u001b[34m\u001b[1mwandb\u001b[0m: \tbatch_size: 24\n",
      "\u001b[34m\u001b[1mwandb\u001b[0m: \tconv_hid_size: 8\n",
      "\u001b[34m\u001b[1mwandb\u001b[0m: \tconv_in_size: 64\n",
      "\u001b[34m\u001b[1mwandb\u001b[0m: \tconv_out_size: 8\n",
      "\u001b[34m\u001b[1mwandb\u001b[0m: \tdropout: 0.25\n",
      "\u001b[34m\u001b[1mwandb\u001b[0m: \tfc_size: 256\n",
      "\u001b[34m\u001b[1mwandb\u001b[0m: \thidden_size: 8\n",
      "\u001b[34m\u001b[1mwandb\u001b[0m: \tlr: 0.0001\n",
      "\u001b[34m\u001b[1mwandb\u001b[0m: \tmax_epochs: 250\n",
      "Traceback (most recent call last):\n",
      "  File \"c:\\Users\\valen\\anaconda3\\envs\\nlp-m\\lib\\site-packages\\wandb\\sdk\\wandb_init.py\", line 1166, in init\n",
      "    wi.setup(kwargs)\n",
      "  File \"c:\\Users\\valen\\anaconda3\\envs\\nlp-m\\lib\\site-packages\\wandb\\sdk\\wandb_init.py\", line 233, in setup\n",
      "    tel.feature.set_init_tags = True\n",
      "  File \"c:\\Users\\valen\\anaconda3\\envs\\nlp-m\\lib\\site-packages\\wandb\\sdk\\lib\\telemetry.py\", line 42, in __exit__\n",
      "    self._run._telemetry_callback(self._obj)\n",
      "  File \"c:\\Users\\valen\\anaconda3\\envs\\nlp-m\\lib\\site-packages\\wandb\\sdk\\wandb_run.py\", line 758, in _telemetry_callback\n",
      "    self._telemetry_flush()\n",
      "  File \"c:\\Users\\valen\\anaconda3\\envs\\nlp-m\\lib\\site-packages\\wandb\\sdk\\wandb_run.py\", line 769, in _telemetry_flush\n",
      "    self._backend.interface._publish_telemetry(self._telemetry_obj)\n",
      "  File \"c:\\Users\\valen\\anaconda3\\envs\\nlp-m\\lib\\site-packages\\wandb\\sdk\\interface\\interface_shared.py\", line 101, in _publish_telemetry\n",
      "    self._publish(rec)\n",
      "  File \"c:\\Users\\valen\\anaconda3\\envs\\nlp-m\\lib\\site-packages\\wandb\\sdk\\interface\\interface_sock.py\", line 51, in _publish\n",
      "    self._sock_client.send_record_publish(record)\n",
      "  File \"c:\\Users\\valen\\anaconda3\\envs\\nlp-m\\lib\\site-packages\\wandb\\sdk\\lib\\sock_client.py\", line 221, in send_record_publish\n",
      "    self.send_server_request(server_req)\n",
      "  File \"c:\\Users\\valen\\anaconda3\\envs\\nlp-m\\lib\\site-packages\\wandb\\sdk\\lib\\sock_client.py\", line 155, in send_server_request\n",
      "    self._send_message(msg)\n",
      "  File \"c:\\Users\\valen\\anaconda3\\envs\\nlp-m\\lib\\site-packages\\wandb\\sdk\\lib\\sock_client.py\", line 152, in _send_message\n",
      "    self._sendall_with_error_handle(header + data)\n",
      "  File \"c:\\Users\\valen\\anaconda3\\envs\\nlp-m\\lib\\site-packages\\wandb\\sdk\\lib\\sock_client.py\", line 130, in _sendall_with_error_handle\n",
      "    sent = self._sock.send(data)\n",
      "ConnectionResetError: [WinError 10054] An existing connection was forcibly closed by the remote host\n",
      "Exception in thread Thread-85:\n",
      "Traceback (most recent call last):\n",
      "  File \"c:\\Users\\valen\\anaconda3\\envs\\nlp-m\\lib\\site-packages\\wandb\\sdk\\wandb_init.py\", line 1166, in init\n",
      "    wi.setup(kwargs)\n",
      "  File \"c:\\Users\\valen\\anaconda3\\envs\\nlp-m\\lib\\site-packages\\wandb\\sdk\\wandb_init.py\", line 233, in setup\n",
      "    tel.feature.set_init_tags = True\n",
      "  File \"c:\\Users\\valen\\anaconda3\\envs\\nlp-m\\lib\\site-packages\\wandb\\sdk\\lib\\telemetry.py\", line 42, in __exit__\n",
      "    self._run._telemetry_callback(self._obj)\n",
      "  File \"c:\\Users\\valen\\anaconda3\\envs\\nlp-m\\lib\\site-packages\\wandb\\sdk\\wandb_run.py\", line 758, in _telemetry_callback\n",
      "    self._telemetry_flush()\n",
      "  File \"c:\\Users\\valen\\anaconda3\\envs\\nlp-m\\lib\\site-packages\\wandb\\sdk\\wandb_run.py\", line 769, in _telemetry_flush\n",
      "    self._backend.interface._publish_telemetry(self._telemetry_obj)\n",
      "  File \"c:\\Users\\valen\\anaconda3\\envs\\nlp-m\\lib\\site-packages\\wandb\\sdk\\interface\\interface_shared.py\", line 101, in _publish_telemetry\n",
      "    self._publish(rec)\n",
      "  File \"c:\\Users\\valen\\anaconda3\\envs\\nlp-m\\lib\\site-packages\\wandb\\sdk\\interface\\interface_sock.py\", line 51, in _publish\n",
      "    self._sock_client.send_record_publish(record)\n",
      "  File \"c:\\Users\\valen\\anaconda3\\envs\\nlp-m\\lib\\site-packages\\wandb\\sdk\\lib\\sock_client.py\", line 221, in send_record_publish\n",
      "    self.send_server_request(server_req)\n",
      "  File \"c:\\Users\\valen\\anaconda3\\envs\\nlp-m\\lib\\site-packages\\wandb\\sdk\\lib\\sock_client.py\", line 155, in send_server_request\n",
      "    self._send_message(msg)\n",
      "  File \"c:\\Users\\valen\\anaconda3\\envs\\nlp-m\\lib\\site-packages\\wandb\\sdk\\lib\\sock_client.py\", line 152, in _send_message\n",
      "    self._sendall_with_error_handle(header + data)\n",
      "  File \"c:\\Users\\valen\\anaconda3\\envs\\nlp-m\\lib\\site-packages\\wandb\\sdk\\lib\\sock_client.py\", line 130, in _sendall_with_error_handle\n",
      "    sent = self._sock.send(data)\n",
      "ConnectionResetError: [WinError 10054] An existing connection was forcibly closed by the remote host\n",
      "\n",
      "The above exception was the direct cause of the following exception:\n",
      "\n",
      "Traceback (most recent call last):\n",
      "  File \"c:\\Users\\valen\\anaconda3\\envs\\nlp-m\\lib\\site-packages\\wandb\\agents\\pyagent.py\", line 298, in _run_job\n",
      "    self._function()\n",
      "  File \"C:\\Users\\valen\\AppData\\Local\\Temp\\ipykernel_19500\\35702409.py\", line 8, in train_model\n",
      "  File \"c:\\Users\\valen\\anaconda3\\envs\\nlp-m\\lib\\site-packages\\wandb\\sdk\\wandb_init.py\", line 1208, in init\n",
      "    raise Error(\"An unexpected error occurred\") from error_seen\n",
      "wandb.errors.Error: An unexpected error occurred\n",
      "\n",
      "During handling of the above exception, another exception occurred:\n",
      "\n",
      "Traceback (most recent call last):\n",
      "  File \"c:\\Users\\valen\\anaconda3\\envs\\nlp-m\\lib\\threading.py\", line 980, in _bootstrap_inner\n",
      "    self.run()\n",
      "  File \"c:\\Users\\valen\\anaconda3\\envs\\nlp-m\\lib\\threading.py\", line 917, in run\n",
      "    self._target(*self._args, **self._kwargs)\n",
      "  File \"c:\\Users\\valen\\anaconda3\\envs\\nlp-m\\lib\\site-packages\\wandb\\agents\\pyagent.py\", line 303, in _run_job\n",
      "    wandb.finish(exit_code=1)\n",
      "  File \"c:\\Users\\valen\\anaconda3\\envs\\nlp-m\\lib\\site-packages\\wandb\\sdk\\wandb_run.py\", line 4090, in finish\n",
      "    wandb.run.finish(exit_code=exit_code, quiet=quiet)\n",
      "  File \"c:\\Users\\valen\\anaconda3\\envs\\nlp-m\\lib\\site-packages\\wandb\\sdk\\wandb_run.py\", line 420, in wrapper\n",
      "    return func(self, *args, **kwargs)\n",
      "  File \"c:\\Users\\valen\\anaconda3\\envs\\nlp-m\\lib\\site-packages\\wandb\\sdk\\wandb_run.py\", line 361, in wrapper\n",
      "    return func(self, *args, **kwargs)\n",
      "  File \"c:\\Users\\valen\\anaconda3\\envs\\nlp-m\\lib\\site-packages\\wandb\\sdk\\wandb_run.py\", line 1953, in finish\n",
      "    return self._finish(exit_code, quiet)\n",
      "  File \"c:\\Users\\valen\\anaconda3\\envs\\nlp-m\\lib\\site-packages\\wandb\\sdk\\wandb_run.py\", line 1961, in _finish\n",
      "    tel.feature.finish = True\n",
      "  File \"c:\\Users\\valen\\anaconda3\\envs\\nlp-m\\lib\\site-packages\\wandb\\sdk\\lib\\telemetry.py\", line 42, in __exit__\n",
      "    self._run._telemetry_callback(self._obj)\n",
      "  File \"c:\\Users\\valen\\anaconda3\\envs\\nlp-m\\lib\\site-packages\\wandb\\sdk\\wandb_run.py\", line 758, in _telemetry_callback\n",
      "    self._telemetry_flush()\n",
      "  File \"c:\\Users\\valen\\anaconda3\\envs\\nlp-m\\lib\\site-packages\\wandb\\sdk\\wandb_run.py\", line 769, in _telemetry_flush\n",
      "    self._backend.interface._publish_telemetry(self._telemetry_obj)\n",
      "  File \"c:\\Users\\valen\\anaconda3\\envs\\nlp-m\\lib\\site-packages\\wandb\\sdk\\interface\\interface_shared.py\", line 101, in _publish_telemetry\n",
      "    self._publish(rec)\n",
      "  File \"c:\\Users\\valen\\anaconda3\\envs\\nlp-m\\lib\\site-packages\\wandb\\sdk\\interface\\interface_sock.py\", line 51, in _publish\n",
      "    self._sock_client.send_record_publish(record)\n",
      "  File \"c:\\Users\\valen\\anaconda3\\envs\\nlp-m\\lib\\site-packages\\wandb\\sdk\\lib\\sock_client.py\", line 221, in send_record_publish\n",
      "    self.send_server_request(server_req)\n",
      "  File \"c:\\Users\\valen\\anaconda3\\envs\\nlp-m\\lib\\site-packages\\wandb\\sdk\\lib\\sock_client.py\", line 155, in send_server_request\n",
      "    self._send_message(msg)\n",
      "  File \"c:\\Users\\valen\\anaconda3\\envs\\nlp-m\\lib\\site-packages\\wandb\\sdk\\lib\\sock_client.py\", line 152, in _send_message\n",
      "    self._sendall_with_error_handle(header + data)\n",
      "  File \"c:\\Users\\valen\\anaconda3\\envs\\nlp-m\\lib\\site-packages\\wandb\\sdk\\lib\\sock_client.py\", line 130, in _sendall_with_error_handle\n",
      "    sent = self._sock.send(data)\n",
      "ConnectionResetError: [WinError 10054] An existing connection was forcibly closed by the remote host\n",
      "\u001b[34m\u001b[1mwandb\u001b[0m: Agent Starting Run: iblt6qus with config:\n",
      "\u001b[34m\u001b[1mwandb\u001b[0m: \tbatch_size: 24\n",
      "\u001b[34m\u001b[1mwandb\u001b[0m: \tconv_hid_size: 16\n",
      "\u001b[34m\u001b[1mwandb\u001b[0m: \tconv_in_size: 64\n",
      "\u001b[34m\u001b[1mwandb\u001b[0m: \tconv_out_size: 32\n",
      "\u001b[34m\u001b[1mwandb\u001b[0m: \tdropout: 0.3\n",
      "\u001b[34m\u001b[1mwandb\u001b[0m: \tfc_size: 32\n",
      "\u001b[34m\u001b[1mwandb\u001b[0m: \thidden_size: 16\n",
      "\u001b[34m\u001b[1mwandb\u001b[0m: \tlr: 1e-05\n",
      "\u001b[34m\u001b[1mwandb\u001b[0m: \tmax_epochs: 250\n",
      "Traceback (most recent call last):\n",
      "  File \"c:\\Users\\valen\\anaconda3\\envs\\nlp-m\\lib\\site-packages\\wandb\\sdk\\wandb_init.py\", line 1166, in init\n",
      "    wi.setup(kwargs)\n",
      "  File \"c:\\Users\\valen\\anaconda3\\envs\\nlp-m\\lib\\site-packages\\wandb\\sdk\\wandb_init.py\", line 233, in setup\n",
      "    tel.feature.set_init_tags = True\n",
      "  File \"c:\\Users\\valen\\anaconda3\\envs\\nlp-m\\lib\\site-packages\\wandb\\sdk\\lib\\telemetry.py\", line 42, in __exit__\n",
      "    self._run._telemetry_callback(self._obj)\n",
      "  File \"c:\\Users\\valen\\anaconda3\\envs\\nlp-m\\lib\\site-packages\\wandb\\sdk\\wandb_run.py\", line 758, in _telemetry_callback\n",
      "    self._telemetry_flush()\n",
      "  File \"c:\\Users\\valen\\anaconda3\\envs\\nlp-m\\lib\\site-packages\\wandb\\sdk\\wandb_run.py\", line 769, in _telemetry_flush\n",
      "    self._backend.interface._publish_telemetry(self._telemetry_obj)\n",
      "  File \"c:\\Users\\valen\\anaconda3\\envs\\nlp-m\\lib\\site-packages\\wandb\\sdk\\interface\\interface_shared.py\", line 101, in _publish_telemetry\n",
      "    self._publish(rec)\n",
      "  File \"c:\\Users\\valen\\anaconda3\\envs\\nlp-m\\lib\\site-packages\\wandb\\sdk\\interface\\interface_sock.py\", line 51, in _publish\n",
      "    self._sock_client.send_record_publish(record)\n",
      "  File \"c:\\Users\\valen\\anaconda3\\envs\\nlp-m\\lib\\site-packages\\wandb\\sdk\\lib\\sock_client.py\", line 221, in send_record_publish\n",
      "    self.send_server_request(server_req)\n",
      "  File \"c:\\Users\\valen\\anaconda3\\envs\\nlp-m\\lib\\site-packages\\wandb\\sdk\\lib\\sock_client.py\", line 155, in send_server_request\n",
      "    self._send_message(msg)\n",
      "  File \"c:\\Users\\valen\\anaconda3\\envs\\nlp-m\\lib\\site-packages\\wandb\\sdk\\lib\\sock_client.py\", line 152, in _send_message\n",
      "    self._sendall_with_error_handle(header + data)\n",
      "  File \"c:\\Users\\valen\\anaconda3\\envs\\nlp-m\\lib\\site-packages\\wandb\\sdk\\lib\\sock_client.py\", line 130, in _sendall_with_error_handle\n",
      "    sent = self._sock.send(data)\n",
      "ConnectionResetError: [WinError 10054] An existing connection was forcibly closed by the remote host\n",
      "Exception in thread Thread-86:\n",
      "Traceback (most recent call last):\n",
      "  File \"c:\\Users\\valen\\anaconda3\\envs\\nlp-m\\lib\\site-packages\\wandb\\sdk\\wandb_init.py\", line 1166, in init\n",
      "    wi.setup(kwargs)\n",
      "  File \"c:\\Users\\valen\\anaconda3\\envs\\nlp-m\\lib\\site-packages\\wandb\\sdk\\wandb_init.py\", line 233, in setup\n",
      "    tel.feature.set_init_tags = True\n",
      "  File \"c:\\Users\\valen\\anaconda3\\envs\\nlp-m\\lib\\site-packages\\wandb\\sdk\\lib\\telemetry.py\", line 42, in __exit__\n",
      "    self._run._telemetry_callback(self._obj)\n",
      "  File \"c:\\Users\\valen\\anaconda3\\envs\\nlp-m\\lib\\site-packages\\wandb\\sdk\\wandb_run.py\", line 758, in _telemetry_callback\n",
      "    self._telemetry_flush()\n",
      "  File \"c:\\Users\\valen\\anaconda3\\envs\\nlp-m\\lib\\site-packages\\wandb\\sdk\\wandb_run.py\", line 769, in _telemetry_flush\n",
      "    self._backend.interface._publish_telemetry(self._telemetry_obj)\n",
      "  File \"c:\\Users\\valen\\anaconda3\\envs\\nlp-m\\lib\\site-packages\\wandb\\sdk\\interface\\interface_shared.py\", line 101, in _publish_telemetry\n",
      "    self._publish(rec)\n",
      "  File \"c:\\Users\\valen\\anaconda3\\envs\\nlp-m\\lib\\site-packages\\wandb\\sdk\\interface\\interface_sock.py\", line 51, in _publish\n",
      "    self._sock_client.send_record_publish(record)\n",
      "  File \"c:\\Users\\valen\\anaconda3\\envs\\nlp-m\\lib\\site-packages\\wandb\\sdk\\lib\\sock_client.py\", line 221, in send_record_publish\n",
      "    self.send_server_request(server_req)\n",
      "  File \"c:\\Users\\valen\\anaconda3\\envs\\nlp-m\\lib\\site-packages\\wandb\\sdk\\lib\\sock_client.py\", line 155, in send_server_request\n",
      "    self._send_message(msg)\n",
      "  File \"c:\\Users\\valen\\anaconda3\\envs\\nlp-m\\lib\\site-packages\\wandb\\sdk\\lib\\sock_client.py\", line 152, in _send_message\n",
      "    self._sendall_with_error_handle(header + data)\n",
      "  File \"c:\\Users\\valen\\anaconda3\\envs\\nlp-m\\lib\\site-packages\\wandb\\sdk\\lib\\sock_client.py\", line 130, in _sendall_with_error_handle\n",
      "    sent = self._sock.send(data)\n",
      "ConnectionResetError: [WinError 10054] An existing connection was forcibly closed by the remote host\n",
      "\n",
      "The above exception was the direct cause of the following exception:\n",
      "\n",
      "Traceback (most recent call last):\n",
      "  File \"c:\\Users\\valen\\anaconda3\\envs\\nlp-m\\lib\\site-packages\\wandb\\agents\\pyagent.py\", line 298, in _run_job\n",
      "    self._function()\n",
      "  File \"C:\\Users\\valen\\AppData\\Local\\Temp\\ipykernel_19500\\35702409.py\", line 8, in train_model\n",
      "  File \"c:\\Users\\valen\\anaconda3\\envs\\nlp-m\\lib\\site-packages\\wandb\\sdk\\wandb_init.py\", line 1208, in init\n",
      "    raise Error(\"An unexpected error occurred\") from error_seen\n",
      "wandb.errors.Error: An unexpected error occurred\n",
      "\n",
      "During handling of the above exception, another exception occurred:\n",
      "\n",
      "Traceback (most recent call last):\n",
      "  File \"c:\\Users\\valen\\anaconda3\\envs\\nlp-m\\lib\\threading.py\", line 980, in _bootstrap_inner\n",
      "    self.run()\n",
      "  File \"c:\\Users\\valen\\anaconda3\\envs\\nlp-m\\lib\\threading.py\", line 917, in run\n",
      "    self._target(*self._args, **self._kwargs)\n",
      "  File \"c:\\Users\\valen\\anaconda3\\envs\\nlp-m\\lib\\site-packages\\wandb\\agents\\pyagent.py\", line 303, in _run_job\n",
      "    wandb.finish(exit_code=1)\n",
      "  File \"c:\\Users\\valen\\anaconda3\\envs\\nlp-m\\lib\\site-packages\\wandb\\sdk\\wandb_run.py\", line 4090, in finish\n",
      "    wandb.run.finish(exit_code=exit_code, quiet=quiet)\n",
      "  File \"c:\\Users\\valen\\anaconda3\\envs\\nlp-m\\lib\\site-packages\\wandb\\sdk\\wandb_run.py\", line 420, in wrapper\n",
      "    return func(self, *args, **kwargs)\n",
      "  File \"c:\\Users\\valen\\anaconda3\\envs\\nlp-m\\lib\\site-packages\\wandb\\sdk\\wandb_run.py\", line 361, in wrapper\n",
      "    return func(self, *args, **kwargs)\n",
      "  File \"c:\\Users\\valen\\anaconda3\\envs\\nlp-m\\lib\\site-packages\\wandb\\sdk\\wandb_run.py\", line 1953, in finish\n",
      "    return self._finish(exit_code, quiet)\n",
      "  File \"c:\\Users\\valen\\anaconda3\\envs\\nlp-m\\lib\\site-packages\\wandb\\sdk\\wandb_run.py\", line 1961, in _finish\n",
      "    tel.feature.finish = True\n",
      "  File \"c:\\Users\\valen\\anaconda3\\envs\\nlp-m\\lib\\site-packages\\wandb\\sdk\\lib\\telemetry.py\", line 42, in __exit__\n",
      "    self._run._telemetry_callback(self._obj)\n",
      "  File \"c:\\Users\\valen\\anaconda3\\envs\\nlp-m\\lib\\site-packages\\wandb\\sdk\\wandb_run.py\", line 758, in _telemetry_callback\n",
      "    self._telemetry_flush()\n",
      "  File \"c:\\Users\\valen\\anaconda3\\envs\\nlp-m\\lib\\site-packages\\wandb\\sdk\\wandb_run.py\", line 769, in _telemetry_flush\n",
      "    self._backend.interface._publish_telemetry(self._telemetry_obj)\n",
      "  File \"c:\\Users\\valen\\anaconda3\\envs\\nlp-m\\lib\\site-packages\\wandb\\sdk\\interface\\interface_shared.py\", line 101, in _publish_telemetry\n",
      "    self._publish(rec)\n",
      "  File \"c:\\Users\\valen\\anaconda3\\envs\\nlp-m\\lib\\site-packages\\wandb\\sdk\\interface\\interface_sock.py\", line 51, in _publish\n",
      "    self._sock_client.send_record_publish(record)\n",
      "  File \"c:\\Users\\valen\\anaconda3\\envs\\nlp-m\\lib\\site-packages\\wandb\\sdk\\lib\\sock_client.py\", line 221, in send_record_publish\n",
      "    self.send_server_request(server_req)\n",
      "  File \"c:\\Users\\valen\\anaconda3\\envs\\nlp-m\\lib\\site-packages\\wandb\\sdk\\lib\\sock_client.py\", line 155, in send_server_request\n",
      "    self._send_message(msg)\n",
      "  File \"c:\\Users\\valen\\anaconda3\\envs\\nlp-m\\lib\\site-packages\\wandb\\sdk\\lib\\sock_client.py\", line 152, in _send_message\n",
      "    self._sendall_with_error_handle(header + data)\n",
      "  File \"c:\\Users\\valen\\anaconda3\\envs\\nlp-m\\lib\\site-packages\\wandb\\sdk\\lib\\sock_client.py\", line 130, in _sendall_with_error_handle\n",
      "    sent = self._sock.send(data)\n",
      "ConnectionResetError: [WinError 10054] An existing connection was forcibly closed by the remote host\n",
      "\u001b[34m\u001b[1mwandb\u001b[0m: Agent Starting Run: 46l5q3ar with config:\n",
      "\u001b[34m\u001b[1mwandb\u001b[0m: \tbatch_size: 32\n",
      "\u001b[34m\u001b[1mwandb\u001b[0m: \tconv_hid_size: 16\n",
      "\u001b[34m\u001b[1mwandb\u001b[0m: \tconv_in_size: 32\n",
      "\u001b[34m\u001b[1mwandb\u001b[0m: \tconv_out_size: 32\n",
      "\u001b[34m\u001b[1mwandb\u001b[0m: \tdropout: 0.2\n",
      "\u001b[34m\u001b[1mwandb\u001b[0m: \tfc_size: 512\n",
      "\u001b[34m\u001b[1mwandb\u001b[0m: \thidden_size: 16\n",
      "\u001b[34m\u001b[1mwandb\u001b[0m: \tlr: 0.0001\n",
      "\u001b[34m\u001b[1mwandb\u001b[0m: \tmax_epochs: 250\n",
      "Traceback (most recent call last):\n",
      "  File \"c:\\Users\\valen\\anaconda3\\envs\\nlp-m\\lib\\site-packages\\wandb\\sdk\\wandb_init.py\", line 1166, in init\n",
      "    wi.setup(kwargs)\n",
      "  File \"c:\\Users\\valen\\anaconda3\\envs\\nlp-m\\lib\\site-packages\\wandb\\sdk\\wandb_init.py\", line 233, in setup\n",
      "    tel.feature.set_init_tags = True\n",
      "  File \"c:\\Users\\valen\\anaconda3\\envs\\nlp-m\\lib\\site-packages\\wandb\\sdk\\lib\\telemetry.py\", line 42, in __exit__\n",
      "    self._run._telemetry_callback(self._obj)\n",
      "  File \"c:\\Users\\valen\\anaconda3\\envs\\nlp-m\\lib\\site-packages\\wandb\\sdk\\wandb_run.py\", line 758, in _telemetry_callback\n",
      "    self._telemetry_flush()\n",
      "  File \"c:\\Users\\valen\\anaconda3\\envs\\nlp-m\\lib\\site-packages\\wandb\\sdk\\wandb_run.py\", line 769, in _telemetry_flush\n",
      "    self._backend.interface._publish_telemetry(self._telemetry_obj)\n",
      "  File \"c:\\Users\\valen\\anaconda3\\envs\\nlp-m\\lib\\site-packages\\wandb\\sdk\\interface\\interface_shared.py\", line 101, in _publish_telemetry\n",
      "    self._publish(rec)\n",
      "  File \"c:\\Users\\valen\\anaconda3\\envs\\nlp-m\\lib\\site-packages\\wandb\\sdk\\interface\\interface_sock.py\", line 51, in _publish\n",
      "    self._sock_client.send_record_publish(record)\n",
      "  File \"c:\\Users\\valen\\anaconda3\\envs\\nlp-m\\lib\\site-packages\\wandb\\sdk\\lib\\sock_client.py\", line 221, in send_record_publish\n",
      "    self.send_server_request(server_req)\n",
      "  File \"c:\\Users\\valen\\anaconda3\\envs\\nlp-m\\lib\\site-packages\\wandb\\sdk\\lib\\sock_client.py\", line 155, in send_server_request\n",
      "    self._send_message(msg)\n",
      "  File \"c:\\Users\\valen\\anaconda3\\envs\\nlp-m\\lib\\site-packages\\wandb\\sdk\\lib\\sock_client.py\", line 152, in _send_message\n",
      "    self._sendall_with_error_handle(header + data)\n",
      "  File \"c:\\Users\\valen\\anaconda3\\envs\\nlp-m\\lib\\site-packages\\wandb\\sdk\\lib\\sock_client.py\", line 130, in _sendall_with_error_handle\n",
      "    sent = self._sock.send(data)\n",
      "ConnectionResetError: [WinError 10054] An existing connection was forcibly closed by the remote host\n",
      "Exception in thread Thread-87:\n",
      "Traceback (most recent call last):\n",
      "  File \"c:\\Users\\valen\\anaconda3\\envs\\nlp-m\\lib\\site-packages\\wandb\\sdk\\wandb_init.py\", line 1166, in init\n",
      "    wi.setup(kwargs)\n",
      "  File \"c:\\Users\\valen\\anaconda3\\envs\\nlp-m\\lib\\site-packages\\wandb\\sdk\\wandb_init.py\", line 233, in setup\n",
      "    tel.feature.set_init_tags = True\n",
      "  File \"c:\\Users\\valen\\anaconda3\\envs\\nlp-m\\lib\\site-packages\\wandb\\sdk\\lib\\telemetry.py\", line 42, in __exit__\n",
      "    self._run._telemetry_callback(self._obj)\n",
      "  File \"c:\\Users\\valen\\anaconda3\\envs\\nlp-m\\lib\\site-packages\\wandb\\sdk\\wandb_run.py\", line 758, in _telemetry_callback\n",
      "    self._telemetry_flush()\n",
      "  File \"c:\\Users\\valen\\anaconda3\\envs\\nlp-m\\lib\\site-packages\\wandb\\sdk\\wandb_run.py\", line 769, in _telemetry_flush\n",
      "    self._backend.interface._publish_telemetry(self._telemetry_obj)\n",
      "  File \"c:\\Users\\valen\\anaconda3\\envs\\nlp-m\\lib\\site-packages\\wandb\\sdk\\interface\\interface_shared.py\", line 101, in _publish_telemetry\n",
      "    self._publish(rec)\n",
      "  File \"c:\\Users\\valen\\anaconda3\\envs\\nlp-m\\lib\\site-packages\\wandb\\sdk\\interface\\interface_sock.py\", line 51, in _publish\n",
      "    self._sock_client.send_record_publish(record)\n",
      "  File \"c:\\Users\\valen\\anaconda3\\envs\\nlp-m\\lib\\site-packages\\wandb\\sdk\\lib\\sock_client.py\", line 221, in send_record_publish\n",
      "    self.send_server_request(server_req)\n",
      "  File \"c:\\Users\\valen\\anaconda3\\envs\\nlp-m\\lib\\site-packages\\wandb\\sdk\\lib\\sock_client.py\", line 155, in send_server_request\n",
      "    self._send_message(msg)\n",
      "  File \"c:\\Users\\valen\\anaconda3\\envs\\nlp-m\\lib\\site-packages\\wandb\\sdk\\lib\\sock_client.py\", line 152, in _send_message\n",
      "    self._sendall_with_error_handle(header + data)\n",
      "  File \"c:\\Users\\valen\\anaconda3\\envs\\nlp-m\\lib\\site-packages\\wandb\\sdk\\lib\\sock_client.py\", line 130, in _sendall_with_error_handle\n",
      "    sent = self._sock.send(data)\n",
      "ConnectionResetError: [WinError 10054] An existing connection was forcibly closed by the remote host\n",
      "\n",
      "The above exception was the direct cause of the following exception:\n",
      "\n",
      "Traceback (most recent call last):\n",
      "  File \"c:\\Users\\valen\\anaconda3\\envs\\nlp-m\\lib\\site-packages\\wandb\\agents\\pyagent.py\", line 298, in _run_job\n",
      "    self._function()\n",
      "  File \"C:\\Users\\valen\\AppData\\Local\\Temp\\ipykernel_19500\\35702409.py\", line 8, in train_model\n",
      "  File \"c:\\Users\\valen\\anaconda3\\envs\\nlp-m\\lib\\site-packages\\wandb\\sdk\\wandb_init.py\", line 1208, in init\n",
      "    raise Error(\"An unexpected error occurred\") from error_seen\n",
      "wandb.errors.Error: An unexpected error occurred\n",
      "\n",
      "During handling of the above exception, another exception occurred:\n",
      "\n",
      "Traceback (most recent call last):\n",
      "  File \"c:\\Users\\valen\\anaconda3\\envs\\nlp-m\\lib\\threading.py\", line 980, in _bootstrap_inner\n",
      "    self.run()\n",
      "  File \"c:\\Users\\valen\\anaconda3\\envs\\nlp-m\\lib\\threading.py\", line 917, in run\n",
      "    self._target(*self._args, **self._kwargs)\n",
      "  File \"c:\\Users\\valen\\anaconda3\\envs\\nlp-m\\lib\\site-packages\\wandb\\agents\\pyagent.py\", line 303, in _run_job\n",
      "    wandb.finish(exit_code=1)\n",
      "  File \"c:\\Users\\valen\\anaconda3\\envs\\nlp-m\\lib\\site-packages\\wandb\\sdk\\wandb_run.py\", line 4090, in finish\n",
      "    wandb.run.finish(exit_code=exit_code, quiet=quiet)\n",
      "  File \"c:\\Users\\valen\\anaconda3\\envs\\nlp-m\\lib\\site-packages\\wandb\\sdk\\wandb_run.py\", line 420, in wrapper\n",
      "    return func(self, *args, **kwargs)\n",
      "  File \"c:\\Users\\valen\\anaconda3\\envs\\nlp-m\\lib\\site-packages\\wandb\\sdk\\wandb_run.py\", line 361, in wrapper\n",
      "    return func(self, *args, **kwargs)\n",
      "  File \"c:\\Users\\valen\\anaconda3\\envs\\nlp-m\\lib\\site-packages\\wandb\\sdk\\wandb_run.py\", line 1953, in finish\n",
      "    return self._finish(exit_code, quiet)\n",
      "  File \"c:\\Users\\valen\\anaconda3\\envs\\nlp-m\\lib\\site-packages\\wandb\\sdk\\wandb_run.py\", line 1961, in _finish\n",
      "    tel.feature.finish = True\n",
      "  File \"c:\\Users\\valen\\anaconda3\\envs\\nlp-m\\lib\\site-packages\\wandb\\sdk\\lib\\telemetry.py\", line 42, in __exit__\n",
      "    self._run._telemetry_callback(self._obj)\n",
      "  File \"c:\\Users\\valen\\anaconda3\\envs\\nlp-m\\lib\\site-packages\\wandb\\sdk\\wandb_run.py\", line 758, in _telemetry_callback\n",
      "    self._telemetry_flush()\n",
      "  File \"c:\\Users\\valen\\anaconda3\\envs\\nlp-m\\lib\\site-packages\\wandb\\sdk\\wandb_run.py\", line 769, in _telemetry_flush\n",
      "    self._backend.interface._publish_telemetry(self._telemetry_obj)\n",
      "  File \"c:\\Users\\valen\\anaconda3\\envs\\nlp-m\\lib\\site-packages\\wandb\\sdk\\interface\\interface_shared.py\", line 101, in _publish_telemetry\n",
      "    self._publish(rec)\n",
      "  File \"c:\\Users\\valen\\anaconda3\\envs\\nlp-m\\lib\\site-packages\\wandb\\sdk\\interface\\interface_sock.py\", line 51, in _publish\n",
      "    self._sock_client.send_record_publish(record)\n",
      "  File \"c:\\Users\\valen\\anaconda3\\envs\\nlp-m\\lib\\site-packages\\wandb\\sdk\\lib\\sock_client.py\", line 221, in send_record_publish\n",
      "    self.send_server_request(server_req)\n",
      "  File \"c:\\Users\\valen\\anaconda3\\envs\\nlp-m\\lib\\site-packages\\wandb\\sdk\\lib\\sock_client.py\", line 155, in send_server_request\n",
      "    self._send_message(msg)\n",
      "  File \"c:\\Users\\valen\\anaconda3\\envs\\nlp-m\\lib\\site-packages\\wandb\\sdk\\lib\\sock_client.py\", line 152, in _send_message\n",
      "    self._sendall_with_error_handle(header + data)\n",
      "  File \"c:\\Users\\valen\\anaconda3\\envs\\nlp-m\\lib\\site-packages\\wandb\\sdk\\lib\\sock_client.py\", line 130, in _sendall_with_error_handle\n",
      "    sent = self._sock.send(data)\n",
      "ConnectionResetError: [WinError 10054] An existing connection was forcibly closed by the remote host\n",
      "\u001b[34m\u001b[1mwandb\u001b[0m: Agent Starting Run: lgbszpdc with config:\n",
      "\u001b[34m\u001b[1mwandb\u001b[0m: \tbatch_size: 40\n",
      "\u001b[34m\u001b[1mwandb\u001b[0m: \tconv_hid_size: 8\n",
      "\u001b[34m\u001b[1mwandb\u001b[0m: \tconv_in_size: 128\n",
      "\u001b[34m\u001b[1mwandb\u001b[0m: \tconv_out_size: 8\n",
      "\u001b[34m\u001b[1mwandb\u001b[0m: \tdropout: 0.2\n",
      "\u001b[34m\u001b[1mwandb\u001b[0m: \tfc_size: 256\n",
      "\u001b[34m\u001b[1mwandb\u001b[0m: \thidden_size: 16\n",
      "\u001b[34m\u001b[1mwandb\u001b[0m: \tlr: 0.001\n",
      "\u001b[34m\u001b[1mwandb\u001b[0m: \tmax_epochs: 250\n",
      "Traceback (most recent call last):\n",
      "  File \"c:\\Users\\valen\\anaconda3\\envs\\nlp-m\\lib\\site-packages\\wandb\\sdk\\wandb_init.py\", line 1166, in init\n",
      "    wi.setup(kwargs)\n",
      "  File \"c:\\Users\\valen\\anaconda3\\envs\\nlp-m\\lib\\site-packages\\wandb\\sdk\\wandb_init.py\", line 233, in setup\n",
      "    tel.feature.set_init_tags = True\n",
      "  File \"c:\\Users\\valen\\anaconda3\\envs\\nlp-m\\lib\\site-packages\\wandb\\sdk\\lib\\telemetry.py\", line 42, in __exit__\n",
      "    self._run._telemetry_callback(self._obj)\n",
      "  File \"c:\\Users\\valen\\anaconda3\\envs\\nlp-m\\lib\\site-packages\\wandb\\sdk\\wandb_run.py\", line 758, in _telemetry_callback\n",
      "    self._telemetry_flush()\n",
      "  File \"c:\\Users\\valen\\anaconda3\\envs\\nlp-m\\lib\\site-packages\\wandb\\sdk\\wandb_run.py\", line 769, in _telemetry_flush\n",
      "    self._backend.interface._publish_telemetry(self._telemetry_obj)\n",
      "  File \"c:\\Users\\valen\\anaconda3\\envs\\nlp-m\\lib\\site-packages\\wandb\\sdk\\interface\\interface_shared.py\", line 101, in _publish_telemetry\n",
      "    self._publish(rec)\n",
      "  File \"c:\\Users\\valen\\anaconda3\\envs\\nlp-m\\lib\\site-packages\\wandb\\sdk\\interface\\interface_sock.py\", line 51, in _publish\n",
      "    self._sock_client.send_record_publish(record)\n",
      "  File \"c:\\Users\\valen\\anaconda3\\envs\\nlp-m\\lib\\site-packages\\wandb\\sdk\\lib\\sock_client.py\", line 221, in send_record_publish\n",
      "    self.send_server_request(server_req)\n",
      "  File \"c:\\Users\\valen\\anaconda3\\envs\\nlp-m\\lib\\site-packages\\wandb\\sdk\\lib\\sock_client.py\", line 155, in send_server_request\n",
      "    self._send_message(msg)\n",
      "  File \"c:\\Users\\valen\\anaconda3\\envs\\nlp-m\\lib\\site-packages\\wandb\\sdk\\lib\\sock_client.py\", line 152, in _send_message\n",
      "    self._sendall_with_error_handle(header + data)\n",
      "  File \"c:\\Users\\valen\\anaconda3\\envs\\nlp-m\\lib\\site-packages\\wandb\\sdk\\lib\\sock_client.py\", line 130, in _sendall_with_error_handle\n",
      "    sent = self._sock.send(data)\n",
      "ConnectionResetError: [WinError 10054] An existing connection was forcibly closed by the remote host\n",
      "Exception in thread Thread-88:\n",
      "Traceback (most recent call last):\n",
      "  File \"c:\\Users\\valen\\anaconda3\\envs\\nlp-m\\lib\\site-packages\\wandb\\sdk\\wandb_init.py\", line 1166, in init\n",
      "    wi.setup(kwargs)\n",
      "  File \"c:\\Users\\valen\\anaconda3\\envs\\nlp-m\\lib\\site-packages\\wandb\\sdk\\wandb_init.py\", line 233, in setup\n",
      "    tel.feature.set_init_tags = True\n",
      "  File \"c:\\Users\\valen\\anaconda3\\envs\\nlp-m\\lib\\site-packages\\wandb\\sdk\\lib\\telemetry.py\", line 42, in __exit__\n",
      "    self._run._telemetry_callback(self._obj)\n",
      "  File \"c:\\Users\\valen\\anaconda3\\envs\\nlp-m\\lib\\site-packages\\wandb\\sdk\\wandb_run.py\", line 758, in _telemetry_callback\n",
      "    self._telemetry_flush()\n",
      "  File \"c:\\Users\\valen\\anaconda3\\envs\\nlp-m\\lib\\site-packages\\wandb\\sdk\\wandb_run.py\", line 769, in _telemetry_flush\n",
      "    self._backend.interface._publish_telemetry(self._telemetry_obj)\n",
      "  File \"c:\\Users\\valen\\anaconda3\\envs\\nlp-m\\lib\\site-packages\\wandb\\sdk\\interface\\interface_shared.py\", line 101, in _publish_telemetry\n",
      "    self._publish(rec)\n",
      "  File \"c:\\Users\\valen\\anaconda3\\envs\\nlp-m\\lib\\site-packages\\wandb\\sdk\\interface\\interface_sock.py\", line 51, in _publish\n",
      "    self._sock_client.send_record_publish(record)\n",
      "  File \"c:\\Users\\valen\\anaconda3\\envs\\nlp-m\\lib\\site-packages\\wandb\\sdk\\lib\\sock_client.py\", line 221, in send_record_publish\n",
      "    self.send_server_request(server_req)\n",
      "  File \"c:\\Users\\valen\\anaconda3\\envs\\nlp-m\\lib\\site-packages\\wandb\\sdk\\lib\\sock_client.py\", line 155, in send_server_request\n",
      "    self._send_message(msg)\n",
      "  File \"c:\\Users\\valen\\anaconda3\\envs\\nlp-m\\lib\\site-packages\\wandb\\sdk\\lib\\sock_client.py\", line 152, in _send_message\n",
      "    self._sendall_with_error_handle(header + data)\n",
      "  File \"c:\\Users\\valen\\anaconda3\\envs\\nlp-m\\lib\\site-packages\\wandb\\sdk\\lib\\sock_client.py\", line 130, in _sendall_with_error_handle\n",
      "    sent = self._sock.send(data)\n",
      "ConnectionResetError: [WinError 10054] An existing connection was forcibly closed by the remote host\n",
      "\n",
      "The above exception was the direct cause of the following exception:\n",
      "\n",
      "Traceback (most recent call last):\n",
      "  File \"c:\\Users\\valen\\anaconda3\\envs\\nlp-m\\lib\\site-packages\\wandb\\agents\\pyagent.py\", line 298, in _run_job\n",
      "    self._function()\n",
      "  File \"C:\\Users\\valen\\AppData\\Local\\Temp\\ipykernel_19500\\35702409.py\", line 8, in train_model\n",
      "  File \"c:\\Users\\valen\\anaconda3\\envs\\nlp-m\\lib\\site-packages\\wandb\\sdk\\wandb_init.py\", line 1208, in init\n",
      "    raise Error(\"An unexpected error occurred\") from error_seen\n",
      "wandb.errors.Error: An unexpected error occurred\n",
      "\n",
      "During handling of the above exception, another exception occurred:\n",
      "\n",
      "Traceback (most recent call last):\n",
      "  File \"c:\\Users\\valen\\anaconda3\\envs\\nlp-m\\lib\\threading.py\", line 980, in _bootstrap_inner\n",
      "    self.run()\n",
      "  File \"c:\\Users\\valen\\anaconda3\\envs\\nlp-m\\lib\\threading.py\", line 917, in run\n",
      "    self._target(*self._args, **self._kwargs)\n",
      "  File \"c:\\Users\\valen\\anaconda3\\envs\\nlp-m\\lib\\site-packages\\wandb\\agents\\pyagent.py\", line 303, in _run_job\n",
      "    wandb.finish(exit_code=1)\n",
      "  File \"c:\\Users\\valen\\anaconda3\\envs\\nlp-m\\lib\\site-packages\\wandb\\sdk\\wandb_run.py\", line 4090, in finish\n",
      "    wandb.run.finish(exit_code=exit_code, quiet=quiet)\n",
      "  File \"c:\\Users\\valen\\anaconda3\\envs\\nlp-m\\lib\\site-packages\\wandb\\sdk\\wandb_run.py\", line 420, in wrapper\n",
      "    return func(self, *args, **kwargs)\n",
      "  File \"c:\\Users\\valen\\anaconda3\\envs\\nlp-m\\lib\\site-packages\\wandb\\sdk\\wandb_run.py\", line 361, in wrapper\n",
      "    return func(self, *args, **kwargs)\n",
      "  File \"c:\\Users\\valen\\anaconda3\\envs\\nlp-m\\lib\\site-packages\\wandb\\sdk\\wandb_run.py\", line 1953, in finish\n",
      "    return self._finish(exit_code, quiet)\n",
      "  File \"c:\\Users\\valen\\anaconda3\\envs\\nlp-m\\lib\\site-packages\\wandb\\sdk\\wandb_run.py\", line 1961, in _finish\n",
      "    tel.feature.finish = True\n",
      "  File \"c:\\Users\\valen\\anaconda3\\envs\\nlp-m\\lib\\site-packages\\wandb\\sdk\\lib\\telemetry.py\", line 42, in __exit__\n",
      "    self._run._telemetry_callback(self._obj)\n",
      "  File \"c:\\Users\\valen\\anaconda3\\envs\\nlp-m\\lib\\site-packages\\wandb\\sdk\\wandb_run.py\", line 758, in _telemetry_callback\n",
      "    self._telemetry_flush()\n",
      "  File \"c:\\Users\\valen\\anaconda3\\envs\\nlp-m\\lib\\site-packages\\wandb\\sdk\\wandb_run.py\", line 769, in _telemetry_flush\n",
      "    self._backend.interface._publish_telemetry(self._telemetry_obj)\n",
      "  File \"c:\\Users\\valen\\anaconda3\\envs\\nlp-m\\lib\\site-packages\\wandb\\sdk\\interface\\interface_shared.py\", line 101, in _publish_telemetry\n",
      "    self._publish(rec)\n",
      "  File \"c:\\Users\\valen\\anaconda3\\envs\\nlp-m\\lib\\site-packages\\wandb\\sdk\\interface\\interface_sock.py\", line 51, in _publish\n",
      "    self._sock_client.send_record_publish(record)\n",
      "  File \"c:\\Users\\valen\\anaconda3\\envs\\nlp-m\\lib\\site-packages\\wandb\\sdk\\lib\\sock_client.py\", line 221, in send_record_publish\n",
      "    self.send_server_request(server_req)\n",
      "  File \"c:\\Users\\valen\\anaconda3\\envs\\nlp-m\\lib\\site-packages\\wandb\\sdk\\lib\\sock_client.py\", line 155, in send_server_request\n",
      "    self._send_message(msg)\n",
      "  File \"c:\\Users\\valen\\anaconda3\\envs\\nlp-m\\lib\\site-packages\\wandb\\sdk\\lib\\sock_client.py\", line 152, in _send_message\n",
      "    self._sendall_with_error_handle(header + data)\n",
      "  File \"c:\\Users\\valen\\anaconda3\\envs\\nlp-m\\lib\\site-packages\\wandb\\sdk\\lib\\sock_client.py\", line 130, in _sendall_with_error_handle\n",
      "    sent = self._sock.send(data)\n",
      "ConnectionResetError: [WinError 10054] An existing connection was forcibly closed by the remote host\n",
      "\u001b[34m\u001b[1mwandb\u001b[0m: Agent Starting Run: 4cfy5bop with config:\n",
      "\u001b[34m\u001b[1mwandb\u001b[0m: \tbatch_size: 40\n",
      "\u001b[34m\u001b[1mwandb\u001b[0m: \tconv_hid_size: 8\n",
      "\u001b[34m\u001b[1mwandb\u001b[0m: \tconv_in_size: 256\n",
      "\u001b[34m\u001b[1mwandb\u001b[0m: \tconv_out_size: 32\n",
      "\u001b[34m\u001b[1mwandb\u001b[0m: \tdropout: 0.25\n",
      "\u001b[34m\u001b[1mwandb\u001b[0m: \tfc_size: 128\n",
      "\u001b[34m\u001b[1mwandb\u001b[0m: \thidden_size: 16\n",
      "\u001b[34m\u001b[1mwandb\u001b[0m: \tlr: 0.0001\n",
      "\u001b[34m\u001b[1mwandb\u001b[0m: \tmax_epochs: 250\n",
      "Traceback (most recent call last):\n",
      "  File \"c:\\Users\\valen\\anaconda3\\envs\\nlp-m\\lib\\site-packages\\wandb\\sdk\\wandb_init.py\", line 1166, in init\n",
      "    wi.setup(kwargs)\n",
      "  File \"c:\\Users\\valen\\anaconda3\\envs\\nlp-m\\lib\\site-packages\\wandb\\sdk\\wandb_init.py\", line 233, in setup\n",
      "    tel.feature.set_init_tags = True\n",
      "  File \"c:\\Users\\valen\\anaconda3\\envs\\nlp-m\\lib\\site-packages\\wandb\\sdk\\lib\\telemetry.py\", line 42, in __exit__\n",
      "    self._run._telemetry_callback(self._obj)\n",
      "  File \"c:\\Users\\valen\\anaconda3\\envs\\nlp-m\\lib\\site-packages\\wandb\\sdk\\wandb_run.py\", line 758, in _telemetry_callback\n",
      "    self._telemetry_flush()\n",
      "  File \"c:\\Users\\valen\\anaconda3\\envs\\nlp-m\\lib\\site-packages\\wandb\\sdk\\wandb_run.py\", line 769, in _telemetry_flush\n",
      "    self._backend.interface._publish_telemetry(self._telemetry_obj)\n",
      "  File \"c:\\Users\\valen\\anaconda3\\envs\\nlp-m\\lib\\site-packages\\wandb\\sdk\\interface\\interface_shared.py\", line 101, in _publish_telemetry\n",
      "    self._publish(rec)\n",
      "  File \"c:\\Users\\valen\\anaconda3\\envs\\nlp-m\\lib\\site-packages\\wandb\\sdk\\interface\\interface_sock.py\", line 51, in _publish\n",
      "    self._sock_client.send_record_publish(record)\n",
      "  File \"c:\\Users\\valen\\anaconda3\\envs\\nlp-m\\lib\\site-packages\\wandb\\sdk\\lib\\sock_client.py\", line 221, in send_record_publish\n",
      "    self.send_server_request(server_req)\n",
      "  File \"c:\\Users\\valen\\anaconda3\\envs\\nlp-m\\lib\\site-packages\\wandb\\sdk\\lib\\sock_client.py\", line 155, in send_server_request\n",
      "    self._send_message(msg)\n",
      "  File \"c:\\Users\\valen\\anaconda3\\envs\\nlp-m\\lib\\site-packages\\wandb\\sdk\\lib\\sock_client.py\", line 152, in _send_message\n",
      "    self._sendall_with_error_handle(header + data)\n",
      "  File \"c:\\Users\\valen\\anaconda3\\envs\\nlp-m\\lib\\site-packages\\wandb\\sdk\\lib\\sock_client.py\", line 130, in _sendall_with_error_handle\n",
      "    sent = self._sock.send(data)\n",
      "ConnectionResetError: [WinError 10054] An existing connection was forcibly closed by the remote host\n",
      "Exception in thread Thread-89:\n",
      "Traceback (most recent call last):\n",
      "  File \"c:\\Users\\valen\\anaconda3\\envs\\nlp-m\\lib\\site-packages\\wandb\\sdk\\wandb_init.py\", line 1166, in init\n",
      "    wi.setup(kwargs)\n",
      "  File \"c:\\Users\\valen\\anaconda3\\envs\\nlp-m\\lib\\site-packages\\wandb\\sdk\\wandb_init.py\", line 233, in setup\n",
      "    tel.feature.set_init_tags = True\n",
      "  File \"c:\\Users\\valen\\anaconda3\\envs\\nlp-m\\lib\\site-packages\\wandb\\sdk\\lib\\telemetry.py\", line 42, in __exit__\n",
      "    self._run._telemetry_callback(self._obj)\n",
      "  File \"c:\\Users\\valen\\anaconda3\\envs\\nlp-m\\lib\\site-packages\\wandb\\sdk\\wandb_run.py\", line 758, in _telemetry_callback\n",
      "    self._telemetry_flush()\n",
      "  File \"c:\\Users\\valen\\anaconda3\\envs\\nlp-m\\lib\\site-packages\\wandb\\sdk\\wandb_run.py\", line 769, in _telemetry_flush\n",
      "    self._backend.interface._publish_telemetry(self._telemetry_obj)\n",
      "  File \"c:\\Users\\valen\\anaconda3\\envs\\nlp-m\\lib\\site-packages\\wandb\\sdk\\interface\\interface_shared.py\", line 101, in _publish_telemetry\n",
      "    self._publish(rec)\n",
      "  File \"c:\\Users\\valen\\anaconda3\\envs\\nlp-m\\lib\\site-packages\\wandb\\sdk\\interface\\interface_sock.py\", line 51, in _publish\n",
      "    self._sock_client.send_record_publish(record)\n",
      "  File \"c:\\Users\\valen\\anaconda3\\envs\\nlp-m\\lib\\site-packages\\wandb\\sdk\\lib\\sock_client.py\", line 221, in send_record_publish\n",
      "    self.send_server_request(server_req)\n",
      "  File \"c:\\Users\\valen\\anaconda3\\envs\\nlp-m\\lib\\site-packages\\wandb\\sdk\\lib\\sock_client.py\", line 155, in send_server_request\n",
      "    self._send_message(msg)\n",
      "  File \"c:\\Users\\valen\\anaconda3\\envs\\nlp-m\\lib\\site-packages\\wandb\\sdk\\lib\\sock_client.py\", line 152, in _send_message\n",
      "    self._sendall_with_error_handle(header + data)\n",
      "  File \"c:\\Users\\valen\\anaconda3\\envs\\nlp-m\\lib\\site-packages\\wandb\\sdk\\lib\\sock_client.py\", line 130, in _sendall_with_error_handle\n",
      "    sent = self._sock.send(data)\n",
      "ConnectionResetError: [WinError 10054] An existing connection was forcibly closed by the remote host\n",
      "\n",
      "The above exception was the direct cause of the following exception:\n",
      "\n",
      "Traceback (most recent call last):\n",
      "  File \"c:\\Users\\valen\\anaconda3\\envs\\nlp-m\\lib\\site-packages\\wandb\\agents\\pyagent.py\", line 298, in _run_job\n",
      "    self._function()\n",
      "  File \"C:\\Users\\valen\\AppData\\Local\\Temp\\ipykernel_19500\\35702409.py\", line 8, in train_model\n",
      "  File \"c:\\Users\\valen\\anaconda3\\envs\\nlp-m\\lib\\site-packages\\wandb\\sdk\\wandb_init.py\", line 1208, in init\n",
      "    raise Error(\"An unexpected error occurred\") from error_seen\n",
      "wandb.errors.Error: An unexpected error occurred\n",
      "\n",
      "During handling of the above exception, another exception occurred:\n",
      "\n",
      "Traceback (most recent call last):\n",
      "  File \"c:\\Users\\valen\\anaconda3\\envs\\nlp-m\\lib\\threading.py\", line 980, in _bootstrap_inner\n",
      "    self.run()\n",
      "  File \"c:\\Users\\valen\\anaconda3\\envs\\nlp-m\\lib\\threading.py\", line 917, in run\n",
      "    self._target(*self._args, **self._kwargs)\n",
      "  File \"c:\\Users\\valen\\anaconda3\\envs\\nlp-m\\lib\\site-packages\\wandb\\agents\\pyagent.py\", line 303, in _run_job\n",
      "    wandb.finish(exit_code=1)\n",
      "  File \"c:\\Users\\valen\\anaconda3\\envs\\nlp-m\\lib\\site-packages\\wandb\\sdk\\wandb_run.py\", line 4090, in finish\n",
      "    wandb.run.finish(exit_code=exit_code, quiet=quiet)\n",
      "  File \"c:\\Users\\valen\\anaconda3\\envs\\nlp-m\\lib\\site-packages\\wandb\\sdk\\wandb_run.py\", line 420, in wrapper\n",
      "    return func(self, *args, **kwargs)\n",
      "  File \"c:\\Users\\valen\\anaconda3\\envs\\nlp-m\\lib\\site-packages\\wandb\\sdk\\wandb_run.py\", line 361, in wrapper\n",
      "    return func(self, *args, **kwargs)\n",
      "  File \"c:\\Users\\valen\\anaconda3\\envs\\nlp-m\\lib\\site-packages\\wandb\\sdk\\wandb_run.py\", line 1953, in finish\n",
      "    return self._finish(exit_code, quiet)\n",
      "  File \"c:\\Users\\valen\\anaconda3\\envs\\nlp-m\\lib\\site-packages\\wandb\\sdk\\wandb_run.py\", line 1961, in _finish\n",
      "    tel.feature.finish = True\n",
      "  File \"c:\\Users\\valen\\anaconda3\\envs\\nlp-m\\lib\\site-packages\\wandb\\sdk\\lib\\telemetry.py\", line 42, in __exit__\n",
      "    self._run._telemetry_callback(self._obj)\n",
      "  File \"c:\\Users\\valen\\anaconda3\\envs\\nlp-m\\lib\\site-packages\\wandb\\sdk\\wandb_run.py\", line 758, in _telemetry_callback\n",
      "    self._telemetry_flush()\n",
      "  File \"c:\\Users\\valen\\anaconda3\\envs\\nlp-m\\lib\\site-packages\\wandb\\sdk\\wandb_run.py\", line 769, in _telemetry_flush\n",
      "    self._backend.interface._publish_telemetry(self._telemetry_obj)\n",
      "  File \"c:\\Users\\valen\\anaconda3\\envs\\nlp-m\\lib\\site-packages\\wandb\\sdk\\interface\\interface_shared.py\", line 101, in _publish_telemetry\n",
      "    self._publish(rec)\n",
      "  File \"c:\\Users\\valen\\anaconda3\\envs\\nlp-m\\lib\\site-packages\\wandb\\sdk\\interface\\interface_sock.py\", line 51, in _publish\n",
      "    self._sock_client.send_record_publish(record)\n",
      "  File \"c:\\Users\\valen\\anaconda3\\envs\\nlp-m\\lib\\site-packages\\wandb\\sdk\\lib\\sock_client.py\", line 221, in send_record_publish\n",
      "    self.send_server_request(server_req)\n",
      "  File \"c:\\Users\\valen\\anaconda3\\envs\\nlp-m\\lib\\site-packages\\wandb\\sdk\\lib\\sock_client.py\", line 155, in send_server_request\n",
      "    self._send_message(msg)\n",
      "  File \"c:\\Users\\valen\\anaconda3\\envs\\nlp-m\\lib\\site-packages\\wandb\\sdk\\lib\\sock_client.py\", line 152, in _send_message\n",
      "    self._sendall_with_error_handle(header + data)\n",
      "  File \"c:\\Users\\valen\\anaconda3\\envs\\nlp-m\\lib\\site-packages\\wandb\\sdk\\lib\\sock_client.py\", line 130, in _sendall_with_error_handle\n",
      "    sent = self._sock.send(data)\n",
      "ConnectionResetError: [WinError 10054] An existing connection was forcibly closed by the remote host\n",
      "\u001b[34m\u001b[1mwandb\u001b[0m: Agent Starting Run: qh1955fm with config:\n",
      "\u001b[34m\u001b[1mwandb\u001b[0m: \tbatch_size: 32\n",
      "\u001b[34m\u001b[1mwandb\u001b[0m: \tconv_hid_size: 32\n",
      "\u001b[34m\u001b[1mwandb\u001b[0m: \tconv_in_size: 32\n",
      "\u001b[34m\u001b[1mwandb\u001b[0m: \tconv_out_size: 32\n",
      "\u001b[34m\u001b[1mwandb\u001b[0m: \tdropout: 0.2\n",
      "\u001b[34m\u001b[1mwandb\u001b[0m: \tfc_size: 32\n",
      "\u001b[34m\u001b[1mwandb\u001b[0m: \thidden_size: 8\n",
      "\u001b[34m\u001b[1mwandb\u001b[0m: \tlr: 0.0001\n",
      "\u001b[34m\u001b[1mwandb\u001b[0m: \tmax_epochs: 250\n",
      "Traceback (most recent call last):\n",
      "  File \"c:\\Users\\valen\\anaconda3\\envs\\nlp-m\\lib\\site-packages\\wandb\\sdk\\wandb_init.py\", line 1166, in init\n",
      "    wi.setup(kwargs)\n",
      "  File \"c:\\Users\\valen\\anaconda3\\envs\\nlp-m\\lib\\site-packages\\wandb\\sdk\\wandb_init.py\", line 233, in setup\n",
      "    tel.feature.set_init_tags = True\n",
      "  File \"c:\\Users\\valen\\anaconda3\\envs\\nlp-m\\lib\\site-packages\\wandb\\sdk\\lib\\telemetry.py\", line 42, in __exit__\n",
      "    self._run._telemetry_callback(self._obj)\n",
      "  File \"c:\\Users\\valen\\anaconda3\\envs\\nlp-m\\lib\\site-packages\\wandb\\sdk\\wandb_run.py\", line 758, in _telemetry_callback\n",
      "    self._telemetry_flush()\n",
      "  File \"c:\\Users\\valen\\anaconda3\\envs\\nlp-m\\lib\\site-packages\\wandb\\sdk\\wandb_run.py\", line 769, in _telemetry_flush\n",
      "    self._backend.interface._publish_telemetry(self._telemetry_obj)\n",
      "  File \"c:\\Users\\valen\\anaconda3\\envs\\nlp-m\\lib\\site-packages\\wandb\\sdk\\interface\\interface_shared.py\", line 101, in _publish_telemetry\n",
      "    self._publish(rec)\n",
      "  File \"c:\\Users\\valen\\anaconda3\\envs\\nlp-m\\lib\\site-packages\\wandb\\sdk\\interface\\interface_sock.py\", line 51, in _publish\n",
      "    self._sock_client.send_record_publish(record)\n",
      "  File \"c:\\Users\\valen\\anaconda3\\envs\\nlp-m\\lib\\site-packages\\wandb\\sdk\\lib\\sock_client.py\", line 221, in send_record_publish\n",
      "    self.send_server_request(server_req)\n",
      "  File \"c:\\Users\\valen\\anaconda3\\envs\\nlp-m\\lib\\site-packages\\wandb\\sdk\\lib\\sock_client.py\", line 155, in send_server_request\n",
      "    self._send_message(msg)\n",
      "  File \"c:\\Users\\valen\\anaconda3\\envs\\nlp-m\\lib\\site-packages\\wandb\\sdk\\lib\\sock_client.py\", line 152, in _send_message\n",
      "    self._sendall_with_error_handle(header + data)\n",
      "  File \"c:\\Users\\valen\\anaconda3\\envs\\nlp-m\\lib\\site-packages\\wandb\\sdk\\lib\\sock_client.py\", line 130, in _sendall_with_error_handle\n",
      "    sent = self._sock.send(data)\n",
      "ConnectionResetError: [WinError 10054] An existing connection was forcibly closed by the remote host\n",
      "Exception in thread Thread-90:\n",
      "Traceback (most recent call last):\n",
      "  File \"c:\\Users\\valen\\anaconda3\\envs\\nlp-m\\lib\\site-packages\\wandb\\sdk\\wandb_init.py\", line 1166, in init\n",
      "    wi.setup(kwargs)\n",
      "  File \"c:\\Users\\valen\\anaconda3\\envs\\nlp-m\\lib\\site-packages\\wandb\\sdk\\wandb_init.py\", line 233, in setup\n",
      "    tel.feature.set_init_tags = True\n",
      "  File \"c:\\Users\\valen\\anaconda3\\envs\\nlp-m\\lib\\site-packages\\wandb\\sdk\\lib\\telemetry.py\", line 42, in __exit__\n",
      "    self._run._telemetry_callback(self._obj)\n",
      "  File \"c:\\Users\\valen\\anaconda3\\envs\\nlp-m\\lib\\site-packages\\wandb\\sdk\\wandb_run.py\", line 758, in _telemetry_callback\n",
      "    self._telemetry_flush()\n",
      "  File \"c:\\Users\\valen\\anaconda3\\envs\\nlp-m\\lib\\site-packages\\wandb\\sdk\\wandb_run.py\", line 769, in _telemetry_flush\n",
      "    self._backend.interface._publish_telemetry(self._telemetry_obj)\n",
      "  File \"c:\\Users\\valen\\anaconda3\\envs\\nlp-m\\lib\\site-packages\\wandb\\sdk\\interface\\interface_shared.py\", line 101, in _publish_telemetry\n",
      "    self._publish(rec)\n",
      "  File \"c:\\Users\\valen\\anaconda3\\envs\\nlp-m\\lib\\site-packages\\wandb\\sdk\\interface\\interface_sock.py\", line 51, in _publish\n",
      "    self._sock_client.send_record_publish(record)\n",
      "  File \"c:\\Users\\valen\\anaconda3\\envs\\nlp-m\\lib\\site-packages\\wandb\\sdk\\lib\\sock_client.py\", line 221, in send_record_publish\n",
      "    self.send_server_request(server_req)\n",
      "  File \"c:\\Users\\valen\\anaconda3\\envs\\nlp-m\\lib\\site-packages\\wandb\\sdk\\lib\\sock_client.py\", line 155, in send_server_request\n",
      "    self._send_message(msg)\n",
      "  File \"c:\\Users\\valen\\anaconda3\\envs\\nlp-m\\lib\\site-packages\\wandb\\sdk\\lib\\sock_client.py\", line 152, in _send_message\n",
      "    self._sendall_with_error_handle(header + data)\n",
      "  File \"c:\\Users\\valen\\anaconda3\\envs\\nlp-m\\lib\\site-packages\\wandb\\sdk\\lib\\sock_client.py\", line 130, in _sendall_with_error_handle\n",
      "    sent = self._sock.send(data)\n",
      "ConnectionResetError: [WinError 10054] An existing connection was forcibly closed by the remote host\n",
      "\n",
      "The above exception was the direct cause of the following exception:\n",
      "\n",
      "Traceback (most recent call last):\n",
      "  File \"c:\\Users\\valen\\anaconda3\\envs\\nlp-m\\lib\\site-packages\\wandb\\agents\\pyagent.py\", line 298, in _run_job\n",
      "    self._function()\n",
      "  File \"C:\\Users\\valen\\AppData\\Local\\Temp\\ipykernel_19500\\35702409.py\", line 8, in train_model\n",
      "  File \"c:\\Users\\valen\\anaconda3\\envs\\nlp-m\\lib\\site-packages\\wandb\\sdk\\wandb_init.py\", line 1208, in init\n",
      "    raise Error(\"An unexpected error occurred\") from error_seen\n",
      "wandb.errors.Error: An unexpected error occurred\n",
      "\n",
      "During handling of the above exception, another exception occurred:\n",
      "\n",
      "Traceback (most recent call last):\n",
      "  File \"c:\\Users\\valen\\anaconda3\\envs\\nlp-m\\lib\\threading.py\", line 980, in _bootstrap_inner\n",
      "    self.run()\n",
      "  File \"c:\\Users\\valen\\anaconda3\\envs\\nlp-m\\lib\\threading.py\", line 917, in run\n",
      "    self._target(*self._args, **self._kwargs)\n",
      "  File \"c:\\Users\\valen\\anaconda3\\envs\\nlp-m\\lib\\site-packages\\wandb\\agents\\pyagent.py\", line 303, in _run_job\n",
      "    wandb.finish(exit_code=1)\n",
      "  File \"c:\\Users\\valen\\anaconda3\\envs\\nlp-m\\lib\\site-packages\\wandb\\sdk\\wandb_run.py\", line 4090, in finish\n",
      "    wandb.run.finish(exit_code=exit_code, quiet=quiet)\n",
      "  File \"c:\\Users\\valen\\anaconda3\\envs\\nlp-m\\lib\\site-packages\\wandb\\sdk\\wandb_run.py\", line 420, in wrapper\n",
      "    return func(self, *args, **kwargs)\n",
      "  File \"c:\\Users\\valen\\anaconda3\\envs\\nlp-m\\lib\\site-packages\\wandb\\sdk\\wandb_run.py\", line 361, in wrapper\n",
      "    return func(self, *args, **kwargs)\n",
      "  File \"c:\\Users\\valen\\anaconda3\\envs\\nlp-m\\lib\\site-packages\\wandb\\sdk\\wandb_run.py\", line 1953, in finish\n",
      "    return self._finish(exit_code, quiet)\n",
      "  File \"c:\\Users\\valen\\anaconda3\\envs\\nlp-m\\lib\\site-packages\\wandb\\sdk\\wandb_run.py\", line 1961, in _finish\n",
      "    tel.feature.finish = True\n",
      "  File \"c:\\Users\\valen\\anaconda3\\envs\\nlp-m\\lib\\site-packages\\wandb\\sdk\\lib\\telemetry.py\", line 42, in __exit__\n",
      "    self._run._telemetry_callback(self._obj)\n",
      "  File \"c:\\Users\\valen\\anaconda3\\envs\\nlp-m\\lib\\site-packages\\wandb\\sdk\\wandb_run.py\", line 758, in _telemetry_callback\n",
      "    self._telemetry_flush()\n",
      "  File \"c:\\Users\\valen\\anaconda3\\envs\\nlp-m\\lib\\site-packages\\wandb\\sdk\\wandb_run.py\", line 769, in _telemetry_flush\n",
      "    self._backend.interface._publish_telemetry(self._telemetry_obj)\n",
      "  File \"c:\\Users\\valen\\anaconda3\\envs\\nlp-m\\lib\\site-packages\\wandb\\sdk\\interface\\interface_shared.py\", line 101, in _publish_telemetry\n",
      "    self._publish(rec)\n",
      "  File \"c:\\Users\\valen\\anaconda3\\envs\\nlp-m\\lib\\site-packages\\wandb\\sdk\\interface\\interface_sock.py\", line 51, in _publish\n",
      "    self._sock_client.send_record_publish(record)\n",
      "  File \"c:\\Users\\valen\\anaconda3\\envs\\nlp-m\\lib\\site-packages\\wandb\\sdk\\lib\\sock_client.py\", line 221, in send_record_publish\n",
      "    self.send_server_request(server_req)\n",
      "  File \"c:\\Users\\valen\\anaconda3\\envs\\nlp-m\\lib\\site-packages\\wandb\\sdk\\lib\\sock_client.py\", line 155, in send_server_request\n",
      "    self._send_message(msg)\n",
      "  File \"c:\\Users\\valen\\anaconda3\\envs\\nlp-m\\lib\\site-packages\\wandb\\sdk\\lib\\sock_client.py\", line 152, in _send_message\n",
      "    self._sendall_with_error_handle(header + data)\n",
      "  File \"c:\\Users\\valen\\anaconda3\\envs\\nlp-m\\lib\\site-packages\\wandb\\sdk\\lib\\sock_client.py\", line 130, in _sendall_with_error_handle\n",
      "    sent = self._sock.send(data)\n",
      "ConnectionResetError: [WinError 10054] An existing connection was forcibly closed by the remote host\n",
      "\u001b[34m\u001b[1mwandb\u001b[0m: Agent Starting Run: zb8wv0at with config:\n",
      "\u001b[34m\u001b[1mwandb\u001b[0m: \tbatch_size: 56\n",
      "\u001b[34m\u001b[1mwandb\u001b[0m: \tconv_hid_size: 16\n",
      "\u001b[34m\u001b[1mwandb\u001b[0m: \tconv_in_size: 32\n",
      "\u001b[34m\u001b[1mwandb\u001b[0m: \tconv_out_size: 8\n",
      "\u001b[34m\u001b[1mwandb\u001b[0m: \tdropout: 0.15\n",
      "\u001b[34m\u001b[1mwandb\u001b[0m: \tfc_size: 32\n",
      "\u001b[34m\u001b[1mwandb\u001b[0m: \thidden_size: 8\n",
      "\u001b[34m\u001b[1mwandb\u001b[0m: \tlr: 0.001\n",
      "\u001b[34m\u001b[1mwandb\u001b[0m: \tmax_epochs: 250\n",
      "Traceback (most recent call last):\n",
      "  File \"c:\\Users\\valen\\anaconda3\\envs\\nlp-m\\lib\\site-packages\\wandb\\sdk\\wandb_init.py\", line 1166, in init\n",
      "    wi.setup(kwargs)\n",
      "  File \"c:\\Users\\valen\\anaconda3\\envs\\nlp-m\\lib\\site-packages\\wandb\\sdk\\wandb_init.py\", line 233, in setup\n",
      "    tel.feature.set_init_tags = True\n",
      "  File \"c:\\Users\\valen\\anaconda3\\envs\\nlp-m\\lib\\site-packages\\wandb\\sdk\\lib\\telemetry.py\", line 42, in __exit__\n",
      "    self._run._telemetry_callback(self._obj)\n",
      "  File \"c:\\Users\\valen\\anaconda3\\envs\\nlp-m\\lib\\site-packages\\wandb\\sdk\\wandb_run.py\", line 758, in _telemetry_callback\n",
      "    self._telemetry_flush()\n",
      "  File \"c:\\Users\\valen\\anaconda3\\envs\\nlp-m\\lib\\site-packages\\wandb\\sdk\\wandb_run.py\", line 769, in _telemetry_flush\n",
      "    self._backend.interface._publish_telemetry(self._telemetry_obj)\n",
      "  File \"c:\\Users\\valen\\anaconda3\\envs\\nlp-m\\lib\\site-packages\\wandb\\sdk\\interface\\interface_shared.py\", line 101, in _publish_telemetry\n",
      "    self._publish(rec)\n",
      "  File \"c:\\Users\\valen\\anaconda3\\envs\\nlp-m\\lib\\site-packages\\wandb\\sdk\\interface\\interface_sock.py\", line 51, in _publish\n",
      "    self._sock_client.send_record_publish(record)\n",
      "  File \"c:\\Users\\valen\\anaconda3\\envs\\nlp-m\\lib\\site-packages\\wandb\\sdk\\lib\\sock_client.py\", line 221, in send_record_publish\n",
      "    self.send_server_request(server_req)\n",
      "  File \"c:\\Users\\valen\\anaconda3\\envs\\nlp-m\\lib\\site-packages\\wandb\\sdk\\lib\\sock_client.py\", line 155, in send_server_request\n",
      "    self._send_message(msg)\n",
      "  File \"c:\\Users\\valen\\anaconda3\\envs\\nlp-m\\lib\\site-packages\\wandb\\sdk\\lib\\sock_client.py\", line 152, in _send_message\n",
      "    self._sendall_with_error_handle(header + data)\n",
      "  File \"c:\\Users\\valen\\anaconda3\\envs\\nlp-m\\lib\\site-packages\\wandb\\sdk\\lib\\sock_client.py\", line 130, in _sendall_with_error_handle\n",
      "    sent = self._sock.send(data)\n",
      "ConnectionResetError: [WinError 10054] An existing connection was forcibly closed by the remote host\n",
      "Exception in thread Thread-91:\n",
      "Traceback (most recent call last):\n",
      "  File \"c:\\Users\\valen\\anaconda3\\envs\\nlp-m\\lib\\site-packages\\wandb\\sdk\\wandb_init.py\", line 1166, in init\n",
      "    wi.setup(kwargs)\n",
      "  File \"c:\\Users\\valen\\anaconda3\\envs\\nlp-m\\lib\\site-packages\\wandb\\sdk\\wandb_init.py\", line 233, in setup\n",
      "    tel.feature.set_init_tags = True\n",
      "  File \"c:\\Users\\valen\\anaconda3\\envs\\nlp-m\\lib\\site-packages\\wandb\\sdk\\lib\\telemetry.py\", line 42, in __exit__\n",
      "    self._run._telemetry_callback(self._obj)\n",
      "  File \"c:\\Users\\valen\\anaconda3\\envs\\nlp-m\\lib\\site-packages\\wandb\\sdk\\wandb_run.py\", line 758, in _telemetry_callback\n",
      "    self._telemetry_flush()\n",
      "  File \"c:\\Users\\valen\\anaconda3\\envs\\nlp-m\\lib\\site-packages\\wandb\\sdk\\wandb_run.py\", line 769, in _telemetry_flush\n",
      "    self._backend.interface._publish_telemetry(self._telemetry_obj)\n",
      "  File \"c:\\Users\\valen\\anaconda3\\envs\\nlp-m\\lib\\site-packages\\wandb\\sdk\\interface\\interface_shared.py\", line 101, in _publish_telemetry\n",
      "    self._publish(rec)\n",
      "  File \"c:\\Users\\valen\\anaconda3\\envs\\nlp-m\\lib\\site-packages\\wandb\\sdk\\interface\\interface_sock.py\", line 51, in _publish\n",
      "    self._sock_client.send_record_publish(record)\n",
      "  File \"c:\\Users\\valen\\anaconda3\\envs\\nlp-m\\lib\\site-packages\\wandb\\sdk\\lib\\sock_client.py\", line 221, in send_record_publish\n",
      "    self.send_server_request(server_req)\n",
      "  File \"c:\\Users\\valen\\anaconda3\\envs\\nlp-m\\lib\\site-packages\\wandb\\sdk\\lib\\sock_client.py\", line 155, in send_server_request\n",
      "    self._send_message(msg)\n",
      "  File \"c:\\Users\\valen\\anaconda3\\envs\\nlp-m\\lib\\site-packages\\wandb\\sdk\\lib\\sock_client.py\", line 152, in _send_message\n",
      "    self._sendall_with_error_handle(header + data)\n",
      "  File \"c:\\Users\\valen\\anaconda3\\envs\\nlp-m\\lib\\site-packages\\wandb\\sdk\\lib\\sock_client.py\", line 130, in _sendall_with_error_handle\n",
      "    sent = self._sock.send(data)\n",
      "ConnectionResetError: [WinError 10054] An existing connection was forcibly closed by the remote host\n",
      "\n",
      "The above exception was the direct cause of the following exception:\n",
      "\n",
      "Traceback (most recent call last):\n",
      "  File \"c:\\Users\\valen\\anaconda3\\envs\\nlp-m\\lib\\site-packages\\wandb\\agents\\pyagent.py\", line 298, in _run_job\n",
      "    self._function()\n",
      "  File \"C:\\Users\\valen\\AppData\\Local\\Temp\\ipykernel_19500\\35702409.py\", line 8, in train_model\n",
      "  File \"c:\\Users\\valen\\anaconda3\\envs\\nlp-m\\lib\\site-packages\\wandb\\sdk\\wandb_init.py\", line 1208, in init\n",
      "    raise Error(\"An unexpected error occurred\") from error_seen\n",
      "wandb.errors.Error: An unexpected error occurred\n",
      "\n",
      "During handling of the above exception, another exception occurred:\n",
      "\n",
      "Traceback (most recent call last):\n",
      "  File \"c:\\Users\\valen\\anaconda3\\envs\\nlp-m\\lib\\threading.py\", line 980, in _bootstrap_inner\n",
      "    self.run()\n",
      "  File \"c:\\Users\\valen\\anaconda3\\envs\\nlp-m\\lib\\threading.py\", line 917, in run\n",
      "    self._target(*self._args, **self._kwargs)\n",
      "  File \"c:\\Users\\valen\\anaconda3\\envs\\nlp-m\\lib\\site-packages\\wandb\\agents\\pyagent.py\", line 303, in _run_job\n",
      "    wandb.finish(exit_code=1)\n",
      "  File \"c:\\Users\\valen\\anaconda3\\envs\\nlp-m\\lib\\site-packages\\wandb\\sdk\\wandb_run.py\", line 4090, in finish\n",
      "    wandb.run.finish(exit_code=exit_code, quiet=quiet)\n",
      "  File \"c:\\Users\\valen\\anaconda3\\envs\\nlp-m\\lib\\site-packages\\wandb\\sdk\\wandb_run.py\", line 420, in wrapper\n",
      "    return func(self, *args, **kwargs)\n",
      "  File \"c:\\Users\\valen\\anaconda3\\envs\\nlp-m\\lib\\site-packages\\wandb\\sdk\\wandb_run.py\", line 361, in wrapper\n",
      "    return func(self, *args, **kwargs)\n",
      "  File \"c:\\Users\\valen\\anaconda3\\envs\\nlp-m\\lib\\site-packages\\wandb\\sdk\\wandb_run.py\", line 1953, in finish\n",
      "    return self._finish(exit_code, quiet)\n",
      "  File \"c:\\Users\\valen\\anaconda3\\envs\\nlp-m\\lib\\site-packages\\wandb\\sdk\\wandb_run.py\", line 1961, in _finish\n",
      "    tel.feature.finish = True\n",
      "  File \"c:\\Users\\valen\\anaconda3\\envs\\nlp-m\\lib\\site-packages\\wandb\\sdk\\lib\\telemetry.py\", line 42, in __exit__\n",
      "    self._run._telemetry_callback(self._obj)\n",
      "  File \"c:\\Users\\valen\\anaconda3\\envs\\nlp-m\\lib\\site-packages\\wandb\\sdk\\wandb_run.py\", line 758, in _telemetry_callback\n",
      "    self._telemetry_flush()\n",
      "  File \"c:\\Users\\valen\\anaconda3\\envs\\nlp-m\\lib\\site-packages\\wandb\\sdk\\wandb_run.py\", line 769, in _telemetry_flush\n",
      "    self._backend.interface._publish_telemetry(self._telemetry_obj)\n",
      "  File \"c:\\Users\\valen\\anaconda3\\envs\\nlp-m\\lib\\site-packages\\wandb\\sdk\\interface\\interface_shared.py\", line 101, in _publish_telemetry\n",
      "    self._publish(rec)\n",
      "  File \"c:\\Users\\valen\\anaconda3\\envs\\nlp-m\\lib\\site-packages\\wandb\\sdk\\interface\\interface_sock.py\", line 51, in _publish\n",
      "    self._sock_client.send_record_publish(record)\n",
      "  File \"c:\\Users\\valen\\anaconda3\\envs\\nlp-m\\lib\\site-packages\\wandb\\sdk\\lib\\sock_client.py\", line 221, in send_record_publish\n",
      "    self.send_server_request(server_req)\n",
      "  File \"c:\\Users\\valen\\anaconda3\\envs\\nlp-m\\lib\\site-packages\\wandb\\sdk\\lib\\sock_client.py\", line 155, in send_server_request\n",
      "    self._send_message(msg)\n",
      "  File \"c:\\Users\\valen\\anaconda3\\envs\\nlp-m\\lib\\site-packages\\wandb\\sdk\\lib\\sock_client.py\", line 152, in _send_message\n",
      "    self._sendall_with_error_handle(header + data)\n",
      "  File \"c:\\Users\\valen\\anaconda3\\envs\\nlp-m\\lib\\site-packages\\wandb\\sdk\\lib\\sock_client.py\", line 130, in _sendall_with_error_handle\n",
      "    sent = self._sock.send(data)\n",
      "ConnectionResetError: [WinError 10054] An existing connection was forcibly closed by the remote host\n",
      "\u001b[34m\u001b[1mwandb\u001b[0m: Agent Starting Run: qqeq78pw with config:\n",
      "\u001b[34m\u001b[1mwandb\u001b[0m: \tbatch_size: 8\n",
      "\u001b[34m\u001b[1mwandb\u001b[0m: \tconv_hid_size: 16\n",
      "\u001b[34m\u001b[1mwandb\u001b[0m: \tconv_in_size: 128\n",
      "\u001b[34m\u001b[1mwandb\u001b[0m: \tconv_out_size: 16\n",
      "\u001b[34m\u001b[1mwandb\u001b[0m: \tdropout: 0.3\n",
      "\u001b[34m\u001b[1mwandb\u001b[0m: \tfc_size: 512\n",
      "\u001b[34m\u001b[1mwandb\u001b[0m: \thidden_size: 8\n",
      "\u001b[34m\u001b[1mwandb\u001b[0m: \tlr: 0.001\n",
      "\u001b[34m\u001b[1mwandb\u001b[0m: \tmax_epochs: 250\n",
      "Traceback (most recent call last):\n",
      "  File \"c:\\Users\\valen\\anaconda3\\envs\\nlp-m\\lib\\site-packages\\wandb\\sdk\\wandb_init.py\", line 1166, in init\n",
      "    wi.setup(kwargs)\n",
      "  File \"c:\\Users\\valen\\anaconda3\\envs\\nlp-m\\lib\\site-packages\\wandb\\sdk\\wandb_init.py\", line 233, in setup\n",
      "    tel.feature.set_init_tags = True\n",
      "  File \"c:\\Users\\valen\\anaconda3\\envs\\nlp-m\\lib\\site-packages\\wandb\\sdk\\lib\\telemetry.py\", line 42, in __exit__\n",
      "    self._run._telemetry_callback(self._obj)\n",
      "  File \"c:\\Users\\valen\\anaconda3\\envs\\nlp-m\\lib\\site-packages\\wandb\\sdk\\wandb_run.py\", line 758, in _telemetry_callback\n",
      "    self._telemetry_flush()\n",
      "  File \"c:\\Users\\valen\\anaconda3\\envs\\nlp-m\\lib\\site-packages\\wandb\\sdk\\wandb_run.py\", line 769, in _telemetry_flush\n",
      "    self._backend.interface._publish_telemetry(self._telemetry_obj)\n",
      "  File \"c:\\Users\\valen\\anaconda3\\envs\\nlp-m\\lib\\site-packages\\wandb\\sdk\\interface\\interface_shared.py\", line 101, in _publish_telemetry\n",
      "    self._publish(rec)\n",
      "  File \"c:\\Users\\valen\\anaconda3\\envs\\nlp-m\\lib\\site-packages\\wandb\\sdk\\interface\\interface_sock.py\", line 51, in _publish\n",
      "    self._sock_client.send_record_publish(record)\n",
      "  File \"c:\\Users\\valen\\anaconda3\\envs\\nlp-m\\lib\\site-packages\\wandb\\sdk\\lib\\sock_client.py\", line 221, in send_record_publish\n",
      "    self.send_server_request(server_req)\n",
      "  File \"c:\\Users\\valen\\anaconda3\\envs\\nlp-m\\lib\\site-packages\\wandb\\sdk\\lib\\sock_client.py\", line 155, in send_server_request\n",
      "    self._send_message(msg)\n",
      "  File \"c:\\Users\\valen\\anaconda3\\envs\\nlp-m\\lib\\site-packages\\wandb\\sdk\\lib\\sock_client.py\", line 152, in _send_message\n",
      "    self._sendall_with_error_handle(header + data)\n",
      "  File \"c:\\Users\\valen\\anaconda3\\envs\\nlp-m\\lib\\site-packages\\wandb\\sdk\\lib\\sock_client.py\", line 130, in _sendall_with_error_handle\n",
      "    sent = self._sock.send(data)\n",
      "ConnectionResetError: [WinError 10054] An existing connection was forcibly closed by the remote host\n",
      "Exception in thread Thread-92:\n",
      "Traceback (most recent call last):\n",
      "  File \"c:\\Users\\valen\\anaconda3\\envs\\nlp-m\\lib\\site-packages\\wandb\\sdk\\wandb_init.py\", line 1166, in init\n",
      "    wi.setup(kwargs)\n",
      "  File \"c:\\Users\\valen\\anaconda3\\envs\\nlp-m\\lib\\site-packages\\wandb\\sdk\\wandb_init.py\", line 233, in setup\n",
      "    tel.feature.set_init_tags = True\n",
      "  File \"c:\\Users\\valen\\anaconda3\\envs\\nlp-m\\lib\\site-packages\\wandb\\sdk\\lib\\telemetry.py\", line 42, in __exit__\n",
      "    self._run._telemetry_callback(self._obj)\n",
      "  File \"c:\\Users\\valen\\anaconda3\\envs\\nlp-m\\lib\\site-packages\\wandb\\sdk\\wandb_run.py\", line 758, in _telemetry_callback\n",
      "    self._telemetry_flush()\n",
      "  File \"c:\\Users\\valen\\anaconda3\\envs\\nlp-m\\lib\\site-packages\\wandb\\sdk\\wandb_run.py\", line 769, in _telemetry_flush\n",
      "    self._backend.interface._publish_telemetry(self._telemetry_obj)\n",
      "  File \"c:\\Users\\valen\\anaconda3\\envs\\nlp-m\\lib\\site-packages\\wandb\\sdk\\interface\\interface_shared.py\", line 101, in _publish_telemetry\n",
      "    self._publish(rec)\n",
      "  File \"c:\\Users\\valen\\anaconda3\\envs\\nlp-m\\lib\\site-packages\\wandb\\sdk\\interface\\interface_sock.py\", line 51, in _publish\n",
      "    self._sock_client.send_record_publish(record)\n",
      "  File \"c:\\Users\\valen\\anaconda3\\envs\\nlp-m\\lib\\site-packages\\wandb\\sdk\\lib\\sock_client.py\", line 221, in send_record_publish\n",
      "    self.send_server_request(server_req)\n",
      "  File \"c:\\Users\\valen\\anaconda3\\envs\\nlp-m\\lib\\site-packages\\wandb\\sdk\\lib\\sock_client.py\", line 155, in send_server_request\n",
      "    self._send_message(msg)\n",
      "  File \"c:\\Users\\valen\\anaconda3\\envs\\nlp-m\\lib\\site-packages\\wandb\\sdk\\lib\\sock_client.py\", line 152, in _send_message\n",
      "    self._sendall_with_error_handle(header + data)\n",
      "  File \"c:\\Users\\valen\\anaconda3\\envs\\nlp-m\\lib\\site-packages\\wandb\\sdk\\lib\\sock_client.py\", line 130, in _sendall_with_error_handle\n",
      "    sent = self._sock.send(data)\n",
      "ConnectionResetError: [WinError 10054] An existing connection was forcibly closed by the remote host\n",
      "\n",
      "The above exception was the direct cause of the following exception:\n",
      "\n",
      "Traceback (most recent call last):\n",
      "  File \"c:\\Users\\valen\\anaconda3\\envs\\nlp-m\\lib\\site-packages\\wandb\\agents\\pyagent.py\", line 298, in _run_job\n",
      "    self._function()\n",
      "  File \"C:\\Users\\valen\\AppData\\Local\\Temp\\ipykernel_19500\\35702409.py\", line 8, in train_model\n",
      "  File \"c:\\Users\\valen\\anaconda3\\envs\\nlp-m\\lib\\site-packages\\wandb\\sdk\\wandb_init.py\", line 1208, in init\n",
      "    raise Error(\"An unexpected error occurred\") from error_seen\n",
      "wandb.errors.Error: An unexpected error occurred\n",
      "\n",
      "During handling of the above exception, another exception occurred:\n",
      "\n",
      "Traceback (most recent call last):\n",
      "  File \"c:\\Users\\valen\\anaconda3\\envs\\nlp-m\\lib\\threading.py\", line 980, in _bootstrap_inner\n",
      "    self.run()\n",
      "  File \"c:\\Users\\valen\\anaconda3\\envs\\nlp-m\\lib\\threading.py\", line 917, in run\n",
      "    self._target(*self._args, **self._kwargs)\n",
      "  File \"c:\\Users\\valen\\anaconda3\\envs\\nlp-m\\lib\\site-packages\\wandb\\agents\\pyagent.py\", line 303, in _run_job\n",
      "    wandb.finish(exit_code=1)\n",
      "  File \"c:\\Users\\valen\\anaconda3\\envs\\nlp-m\\lib\\site-packages\\wandb\\sdk\\wandb_run.py\", line 4090, in finish\n",
      "    wandb.run.finish(exit_code=exit_code, quiet=quiet)\n",
      "  File \"c:\\Users\\valen\\anaconda3\\envs\\nlp-m\\lib\\site-packages\\wandb\\sdk\\wandb_run.py\", line 420, in wrapper\n",
      "    return func(self, *args, **kwargs)\n",
      "  File \"c:\\Users\\valen\\anaconda3\\envs\\nlp-m\\lib\\site-packages\\wandb\\sdk\\wandb_run.py\", line 361, in wrapper\n",
      "    return func(self, *args, **kwargs)\n",
      "  File \"c:\\Users\\valen\\anaconda3\\envs\\nlp-m\\lib\\site-packages\\wandb\\sdk\\wandb_run.py\", line 1953, in finish\n",
      "    return self._finish(exit_code, quiet)\n",
      "  File \"c:\\Users\\valen\\anaconda3\\envs\\nlp-m\\lib\\site-packages\\wandb\\sdk\\wandb_run.py\", line 1961, in _finish\n",
      "    tel.feature.finish = True\n",
      "  File \"c:\\Users\\valen\\anaconda3\\envs\\nlp-m\\lib\\site-packages\\wandb\\sdk\\lib\\telemetry.py\", line 42, in __exit__\n",
      "    self._run._telemetry_callback(self._obj)\n",
      "  File \"c:\\Users\\valen\\anaconda3\\envs\\nlp-m\\lib\\site-packages\\wandb\\sdk\\wandb_run.py\", line 758, in _telemetry_callback\n",
      "    self._telemetry_flush()\n",
      "  File \"c:\\Users\\valen\\anaconda3\\envs\\nlp-m\\lib\\site-packages\\wandb\\sdk\\wandb_run.py\", line 769, in _telemetry_flush\n",
      "    self._backend.interface._publish_telemetry(self._telemetry_obj)\n",
      "  File \"c:\\Users\\valen\\anaconda3\\envs\\nlp-m\\lib\\site-packages\\wandb\\sdk\\interface\\interface_shared.py\", line 101, in _publish_telemetry\n",
      "    self._publish(rec)\n",
      "  File \"c:\\Users\\valen\\anaconda3\\envs\\nlp-m\\lib\\site-packages\\wandb\\sdk\\interface\\interface_sock.py\", line 51, in _publish\n",
      "    self._sock_client.send_record_publish(record)\n",
      "  File \"c:\\Users\\valen\\anaconda3\\envs\\nlp-m\\lib\\site-packages\\wandb\\sdk\\lib\\sock_client.py\", line 221, in send_record_publish\n",
      "    self.send_server_request(server_req)\n",
      "  File \"c:\\Users\\valen\\anaconda3\\envs\\nlp-m\\lib\\site-packages\\wandb\\sdk\\lib\\sock_client.py\", line 155, in send_server_request\n",
      "    self._send_message(msg)\n",
      "  File \"c:\\Users\\valen\\anaconda3\\envs\\nlp-m\\lib\\site-packages\\wandb\\sdk\\lib\\sock_client.py\", line 152, in _send_message\n",
      "    self._sendall_with_error_handle(header + data)\n",
      "  File \"c:\\Users\\valen\\anaconda3\\envs\\nlp-m\\lib\\site-packages\\wandb\\sdk\\lib\\sock_client.py\", line 130, in _sendall_with_error_handle\n",
      "    sent = self._sock.send(data)\n",
      "ConnectionResetError: [WinError 10054] An existing connection was forcibly closed by the remote host\n",
      "\u001b[34m\u001b[1mwandb\u001b[0m: Agent Starting Run: qlkx69o7 with config:\n",
      "\u001b[34m\u001b[1mwandb\u001b[0m: \tbatch_size: 8\n",
      "\u001b[34m\u001b[1mwandb\u001b[0m: \tconv_hid_size: 32\n",
      "\u001b[34m\u001b[1mwandb\u001b[0m: \tconv_in_size: 64\n",
      "\u001b[34m\u001b[1mwandb\u001b[0m: \tconv_out_size: 8\n",
      "\u001b[34m\u001b[1mwandb\u001b[0m: \tdropout: 0.2\n",
      "\u001b[34m\u001b[1mwandb\u001b[0m: \tfc_size: 256\n",
      "\u001b[34m\u001b[1mwandb\u001b[0m: \thidden_size: 16\n",
      "\u001b[34m\u001b[1mwandb\u001b[0m: \tlr: 1e-05\n",
      "\u001b[34m\u001b[1mwandb\u001b[0m: \tmax_epochs: 250\n",
      "Traceback (most recent call last):\n",
      "  File \"c:\\Users\\valen\\anaconda3\\envs\\nlp-m\\lib\\site-packages\\wandb\\sdk\\wandb_init.py\", line 1166, in init\n",
      "    wi.setup(kwargs)\n",
      "  File \"c:\\Users\\valen\\anaconda3\\envs\\nlp-m\\lib\\site-packages\\wandb\\sdk\\wandb_init.py\", line 233, in setup\n",
      "    tel.feature.set_init_tags = True\n",
      "  File \"c:\\Users\\valen\\anaconda3\\envs\\nlp-m\\lib\\site-packages\\wandb\\sdk\\lib\\telemetry.py\", line 42, in __exit__\n",
      "    self._run._telemetry_callback(self._obj)\n",
      "  File \"c:\\Users\\valen\\anaconda3\\envs\\nlp-m\\lib\\site-packages\\wandb\\sdk\\wandb_run.py\", line 758, in _telemetry_callback\n",
      "    self._telemetry_flush()\n",
      "  File \"c:\\Users\\valen\\anaconda3\\envs\\nlp-m\\lib\\site-packages\\wandb\\sdk\\wandb_run.py\", line 769, in _telemetry_flush\n",
      "    self._backend.interface._publish_telemetry(self._telemetry_obj)\n",
      "  File \"c:\\Users\\valen\\anaconda3\\envs\\nlp-m\\lib\\site-packages\\wandb\\sdk\\interface\\interface_shared.py\", line 101, in _publish_telemetry\n",
      "    self._publish(rec)\n",
      "  File \"c:\\Users\\valen\\anaconda3\\envs\\nlp-m\\lib\\site-packages\\wandb\\sdk\\interface\\interface_sock.py\", line 51, in _publish\n",
      "    self._sock_client.send_record_publish(record)\n",
      "  File \"c:\\Users\\valen\\anaconda3\\envs\\nlp-m\\lib\\site-packages\\wandb\\sdk\\lib\\sock_client.py\", line 221, in send_record_publish\n",
      "    self.send_server_request(server_req)\n",
      "  File \"c:\\Users\\valen\\anaconda3\\envs\\nlp-m\\lib\\site-packages\\wandb\\sdk\\lib\\sock_client.py\", line 155, in send_server_request\n",
      "    self._send_message(msg)\n",
      "  File \"c:\\Users\\valen\\anaconda3\\envs\\nlp-m\\lib\\site-packages\\wandb\\sdk\\lib\\sock_client.py\", line 152, in _send_message\n",
      "    self._sendall_with_error_handle(header + data)\n",
      "  File \"c:\\Users\\valen\\anaconda3\\envs\\nlp-m\\lib\\site-packages\\wandb\\sdk\\lib\\sock_client.py\", line 130, in _sendall_with_error_handle\n",
      "    sent = self._sock.send(data)\n",
      "ConnectionResetError: [WinError 10054] An existing connection was forcibly closed by the remote host\n",
      "Exception in thread Thread-93:\n",
      "Traceback (most recent call last):\n",
      "  File \"c:\\Users\\valen\\anaconda3\\envs\\nlp-m\\lib\\site-packages\\wandb\\sdk\\wandb_init.py\", line 1166, in init\n",
      "    wi.setup(kwargs)\n",
      "  File \"c:\\Users\\valen\\anaconda3\\envs\\nlp-m\\lib\\site-packages\\wandb\\sdk\\wandb_init.py\", line 233, in setup\n",
      "    tel.feature.set_init_tags = True\n",
      "  File \"c:\\Users\\valen\\anaconda3\\envs\\nlp-m\\lib\\site-packages\\wandb\\sdk\\lib\\telemetry.py\", line 42, in __exit__\n",
      "    self._run._telemetry_callback(self._obj)\n",
      "  File \"c:\\Users\\valen\\anaconda3\\envs\\nlp-m\\lib\\site-packages\\wandb\\sdk\\wandb_run.py\", line 758, in _telemetry_callback\n",
      "    self._telemetry_flush()\n",
      "  File \"c:\\Users\\valen\\anaconda3\\envs\\nlp-m\\lib\\site-packages\\wandb\\sdk\\wandb_run.py\", line 769, in _telemetry_flush\n",
      "    self._backend.interface._publish_telemetry(self._telemetry_obj)\n",
      "  File \"c:\\Users\\valen\\anaconda3\\envs\\nlp-m\\lib\\site-packages\\wandb\\sdk\\interface\\interface_shared.py\", line 101, in _publish_telemetry\n",
      "    self._publish(rec)\n",
      "  File \"c:\\Users\\valen\\anaconda3\\envs\\nlp-m\\lib\\site-packages\\wandb\\sdk\\interface\\interface_sock.py\", line 51, in _publish\n",
      "    self._sock_client.send_record_publish(record)\n",
      "  File \"c:\\Users\\valen\\anaconda3\\envs\\nlp-m\\lib\\site-packages\\wandb\\sdk\\lib\\sock_client.py\", line 221, in send_record_publish\n",
      "    self.send_server_request(server_req)\n",
      "  File \"c:\\Users\\valen\\anaconda3\\envs\\nlp-m\\lib\\site-packages\\wandb\\sdk\\lib\\sock_client.py\", line 155, in send_server_request\n",
      "    self._send_message(msg)\n",
      "  File \"c:\\Users\\valen\\anaconda3\\envs\\nlp-m\\lib\\site-packages\\wandb\\sdk\\lib\\sock_client.py\", line 152, in _send_message\n",
      "    self._sendall_with_error_handle(header + data)\n",
      "  File \"c:\\Users\\valen\\anaconda3\\envs\\nlp-m\\lib\\site-packages\\wandb\\sdk\\lib\\sock_client.py\", line 130, in _sendall_with_error_handle\n",
      "    sent = self._sock.send(data)\n",
      "ConnectionResetError: [WinError 10054] An existing connection was forcibly closed by the remote host\n",
      "\n",
      "The above exception was the direct cause of the following exception:\n",
      "\n",
      "Traceback (most recent call last):\n",
      "  File \"c:\\Users\\valen\\anaconda3\\envs\\nlp-m\\lib\\site-packages\\wandb\\agents\\pyagent.py\", line 298, in _run_job\n",
      "    self._function()\n",
      "  File \"C:\\Users\\valen\\AppData\\Local\\Temp\\ipykernel_19500\\35702409.py\", line 8, in train_model\n",
      "  File \"c:\\Users\\valen\\anaconda3\\envs\\nlp-m\\lib\\site-packages\\wandb\\sdk\\wandb_init.py\", line 1208, in init\n",
      "    raise Error(\"An unexpected error occurred\") from error_seen\n",
      "wandb.errors.Error: An unexpected error occurred\n",
      "\n",
      "During handling of the above exception, another exception occurred:\n",
      "\n",
      "Traceback (most recent call last):\n",
      "  File \"c:\\Users\\valen\\anaconda3\\envs\\nlp-m\\lib\\threading.py\", line 980, in _bootstrap_inner\n",
      "    self.run()\n",
      "  File \"c:\\Users\\valen\\anaconda3\\envs\\nlp-m\\lib\\threading.py\", line 917, in run\n",
      "    self._target(*self._args, **self._kwargs)\n",
      "  File \"c:\\Users\\valen\\anaconda3\\envs\\nlp-m\\lib\\site-packages\\wandb\\agents\\pyagent.py\", line 303, in _run_job\n",
      "    wandb.finish(exit_code=1)\n",
      "  File \"c:\\Users\\valen\\anaconda3\\envs\\nlp-m\\lib\\site-packages\\wandb\\sdk\\wandb_run.py\", line 4090, in finish\n",
      "    wandb.run.finish(exit_code=exit_code, quiet=quiet)\n",
      "  File \"c:\\Users\\valen\\anaconda3\\envs\\nlp-m\\lib\\site-packages\\wandb\\sdk\\wandb_run.py\", line 420, in wrapper\n",
      "    return func(self, *args, **kwargs)\n",
      "  File \"c:\\Users\\valen\\anaconda3\\envs\\nlp-m\\lib\\site-packages\\wandb\\sdk\\wandb_run.py\", line 361, in wrapper\n",
      "    return func(self, *args, **kwargs)\n",
      "  File \"c:\\Users\\valen\\anaconda3\\envs\\nlp-m\\lib\\site-packages\\wandb\\sdk\\wandb_run.py\", line 1953, in finish\n",
      "    return self._finish(exit_code, quiet)\n",
      "  File \"c:\\Users\\valen\\anaconda3\\envs\\nlp-m\\lib\\site-packages\\wandb\\sdk\\wandb_run.py\", line 1961, in _finish\n",
      "    tel.feature.finish = True\n",
      "  File \"c:\\Users\\valen\\anaconda3\\envs\\nlp-m\\lib\\site-packages\\wandb\\sdk\\lib\\telemetry.py\", line 42, in __exit__\n",
      "    self._run._telemetry_callback(self._obj)\n",
      "  File \"c:\\Users\\valen\\anaconda3\\envs\\nlp-m\\lib\\site-packages\\wandb\\sdk\\wandb_run.py\", line 758, in _telemetry_callback\n",
      "    self._telemetry_flush()\n",
      "  File \"c:\\Users\\valen\\anaconda3\\envs\\nlp-m\\lib\\site-packages\\wandb\\sdk\\wandb_run.py\", line 769, in _telemetry_flush\n",
      "    self._backend.interface._publish_telemetry(self._telemetry_obj)\n",
      "  File \"c:\\Users\\valen\\anaconda3\\envs\\nlp-m\\lib\\site-packages\\wandb\\sdk\\interface\\interface_shared.py\", line 101, in _publish_telemetry\n",
      "    self._publish(rec)\n",
      "  File \"c:\\Users\\valen\\anaconda3\\envs\\nlp-m\\lib\\site-packages\\wandb\\sdk\\interface\\interface_sock.py\", line 51, in _publish\n",
      "    self._sock_client.send_record_publish(record)\n",
      "  File \"c:\\Users\\valen\\anaconda3\\envs\\nlp-m\\lib\\site-packages\\wandb\\sdk\\lib\\sock_client.py\", line 221, in send_record_publish\n",
      "    self.send_server_request(server_req)\n",
      "  File \"c:\\Users\\valen\\anaconda3\\envs\\nlp-m\\lib\\site-packages\\wandb\\sdk\\lib\\sock_client.py\", line 155, in send_server_request\n",
      "    self._send_message(msg)\n",
      "  File \"c:\\Users\\valen\\anaconda3\\envs\\nlp-m\\lib\\site-packages\\wandb\\sdk\\lib\\sock_client.py\", line 152, in _send_message\n",
      "    self._sendall_with_error_handle(header + data)\n",
      "  File \"c:\\Users\\valen\\anaconda3\\envs\\nlp-m\\lib\\site-packages\\wandb\\sdk\\lib\\sock_client.py\", line 130, in _sendall_with_error_handle\n",
      "    sent = self._sock.send(data)\n",
      "ConnectionResetError: [WinError 10054] An existing connection was forcibly closed by the remote host\n",
      "\u001b[34m\u001b[1mwandb\u001b[0m: Agent Starting Run: 5ymjns16 with config:\n",
      "\u001b[34m\u001b[1mwandb\u001b[0m: \tbatch_size: 8\n",
      "\u001b[34m\u001b[1mwandb\u001b[0m: \tconv_hid_size: 8\n",
      "\u001b[34m\u001b[1mwandb\u001b[0m: \tconv_in_size: 256\n",
      "\u001b[34m\u001b[1mwandb\u001b[0m: \tconv_out_size: 32\n",
      "\u001b[34m\u001b[1mwandb\u001b[0m: \tdropout: 0.25\n",
      "\u001b[34m\u001b[1mwandb\u001b[0m: \tfc_size: 128\n",
      "\u001b[34m\u001b[1mwandb\u001b[0m: \thidden_size: 16\n",
      "\u001b[34m\u001b[1mwandb\u001b[0m: \tlr: 0.001\n",
      "\u001b[34m\u001b[1mwandb\u001b[0m: \tmax_epochs: 250\n",
      "Traceback (most recent call last):\n",
      "  File \"c:\\Users\\valen\\anaconda3\\envs\\nlp-m\\lib\\site-packages\\wandb\\sdk\\wandb_init.py\", line 1166, in init\n",
      "    wi.setup(kwargs)\n",
      "  File \"c:\\Users\\valen\\anaconda3\\envs\\nlp-m\\lib\\site-packages\\wandb\\sdk\\wandb_init.py\", line 233, in setup\n",
      "    tel.feature.set_init_tags = True\n",
      "  File \"c:\\Users\\valen\\anaconda3\\envs\\nlp-m\\lib\\site-packages\\wandb\\sdk\\lib\\telemetry.py\", line 42, in __exit__\n",
      "    self._run._telemetry_callback(self._obj)\n",
      "  File \"c:\\Users\\valen\\anaconda3\\envs\\nlp-m\\lib\\site-packages\\wandb\\sdk\\wandb_run.py\", line 758, in _telemetry_callback\n",
      "    self._telemetry_flush()\n",
      "  File \"c:\\Users\\valen\\anaconda3\\envs\\nlp-m\\lib\\site-packages\\wandb\\sdk\\wandb_run.py\", line 769, in _telemetry_flush\n",
      "    self._backend.interface._publish_telemetry(self._telemetry_obj)\n",
      "  File \"c:\\Users\\valen\\anaconda3\\envs\\nlp-m\\lib\\site-packages\\wandb\\sdk\\interface\\interface_shared.py\", line 101, in _publish_telemetry\n",
      "    self._publish(rec)\n",
      "  File \"c:\\Users\\valen\\anaconda3\\envs\\nlp-m\\lib\\site-packages\\wandb\\sdk\\interface\\interface_sock.py\", line 51, in _publish\n",
      "    self._sock_client.send_record_publish(record)\n",
      "  File \"c:\\Users\\valen\\anaconda3\\envs\\nlp-m\\lib\\site-packages\\wandb\\sdk\\lib\\sock_client.py\", line 221, in send_record_publish\n",
      "    self.send_server_request(server_req)\n",
      "  File \"c:\\Users\\valen\\anaconda3\\envs\\nlp-m\\lib\\site-packages\\wandb\\sdk\\lib\\sock_client.py\", line 155, in send_server_request\n",
      "    self._send_message(msg)\n",
      "  File \"c:\\Users\\valen\\anaconda3\\envs\\nlp-m\\lib\\site-packages\\wandb\\sdk\\lib\\sock_client.py\", line 152, in _send_message\n",
      "    self._sendall_with_error_handle(header + data)\n",
      "  File \"c:\\Users\\valen\\anaconda3\\envs\\nlp-m\\lib\\site-packages\\wandb\\sdk\\lib\\sock_client.py\", line 130, in _sendall_with_error_handle\n",
      "    sent = self._sock.send(data)\n",
      "ConnectionResetError: [WinError 10054] An existing connection was forcibly closed by the remote host\n",
      "Exception in thread Thread-94:\n",
      "Traceback (most recent call last):\n",
      "  File \"c:\\Users\\valen\\anaconda3\\envs\\nlp-m\\lib\\site-packages\\wandb\\sdk\\wandb_init.py\", line 1166, in init\n",
      "    wi.setup(kwargs)\n",
      "  File \"c:\\Users\\valen\\anaconda3\\envs\\nlp-m\\lib\\site-packages\\wandb\\sdk\\wandb_init.py\", line 233, in setup\n",
      "    tel.feature.set_init_tags = True\n",
      "  File \"c:\\Users\\valen\\anaconda3\\envs\\nlp-m\\lib\\site-packages\\wandb\\sdk\\lib\\telemetry.py\", line 42, in __exit__\n",
      "    self._run._telemetry_callback(self._obj)\n",
      "  File \"c:\\Users\\valen\\anaconda3\\envs\\nlp-m\\lib\\site-packages\\wandb\\sdk\\wandb_run.py\", line 758, in _telemetry_callback\n",
      "    self._telemetry_flush()\n",
      "  File \"c:\\Users\\valen\\anaconda3\\envs\\nlp-m\\lib\\site-packages\\wandb\\sdk\\wandb_run.py\", line 769, in _telemetry_flush\n",
      "    self._backend.interface._publish_telemetry(self._telemetry_obj)\n",
      "  File \"c:\\Users\\valen\\anaconda3\\envs\\nlp-m\\lib\\site-packages\\wandb\\sdk\\interface\\interface_shared.py\", line 101, in _publish_telemetry\n",
      "    self._publish(rec)\n",
      "  File \"c:\\Users\\valen\\anaconda3\\envs\\nlp-m\\lib\\site-packages\\wandb\\sdk\\interface\\interface_sock.py\", line 51, in _publish\n",
      "    self._sock_client.send_record_publish(record)\n",
      "  File \"c:\\Users\\valen\\anaconda3\\envs\\nlp-m\\lib\\site-packages\\wandb\\sdk\\lib\\sock_client.py\", line 221, in send_record_publish\n",
      "    self.send_server_request(server_req)\n",
      "  File \"c:\\Users\\valen\\anaconda3\\envs\\nlp-m\\lib\\site-packages\\wandb\\sdk\\lib\\sock_client.py\", line 155, in send_server_request\n",
      "    self._send_message(msg)\n",
      "  File \"c:\\Users\\valen\\anaconda3\\envs\\nlp-m\\lib\\site-packages\\wandb\\sdk\\lib\\sock_client.py\", line 152, in _send_message\n",
      "    self._sendall_with_error_handle(header + data)\n",
      "  File \"c:\\Users\\valen\\anaconda3\\envs\\nlp-m\\lib\\site-packages\\wandb\\sdk\\lib\\sock_client.py\", line 130, in _sendall_with_error_handle\n",
      "    sent = self._sock.send(data)\n",
      "ConnectionResetError: [WinError 10054] An existing connection was forcibly closed by the remote host\n",
      "\n",
      "The above exception was the direct cause of the following exception:\n",
      "\n",
      "Traceback (most recent call last):\n",
      "  File \"c:\\Users\\valen\\anaconda3\\envs\\nlp-m\\lib\\site-packages\\wandb\\agents\\pyagent.py\", line 298, in _run_job\n",
      "    self._function()\n",
      "  File \"C:\\Users\\valen\\AppData\\Local\\Temp\\ipykernel_19500\\35702409.py\", line 8, in train_model\n",
      "  File \"c:\\Users\\valen\\anaconda3\\envs\\nlp-m\\lib\\site-packages\\wandb\\sdk\\wandb_init.py\", line 1208, in init\n",
      "    raise Error(\"An unexpected error occurred\") from error_seen\n",
      "wandb.errors.Error: An unexpected error occurred\n",
      "\n",
      "During handling of the above exception, another exception occurred:\n",
      "\n",
      "Traceback (most recent call last):\n",
      "  File \"c:\\Users\\valen\\anaconda3\\envs\\nlp-m\\lib\\threading.py\", line 980, in _bootstrap_inner\n",
      "    self.run()\n",
      "  File \"c:\\Users\\valen\\anaconda3\\envs\\nlp-m\\lib\\threading.py\", line 917, in run\n",
      "    self._target(*self._args, **self._kwargs)\n",
      "  File \"c:\\Users\\valen\\anaconda3\\envs\\nlp-m\\lib\\site-packages\\wandb\\agents\\pyagent.py\", line 303, in _run_job\n",
      "    wandb.finish(exit_code=1)\n",
      "  File \"c:\\Users\\valen\\anaconda3\\envs\\nlp-m\\lib\\site-packages\\wandb\\sdk\\wandb_run.py\", line 4090, in finish\n",
      "    wandb.run.finish(exit_code=exit_code, quiet=quiet)\n",
      "  File \"c:\\Users\\valen\\anaconda3\\envs\\nlp-m\\lib\\site-packages\\wandb\\sdk\\wandb_run.py\", line 420, in wrapper\n",
      "    return func(self, *args, **kwargs)\n",
      "  File \"c:\\Users\\valen\\anaconda3\\envs\\nlp-m\\lib\\site-packages\\wandb\\sdk\\wandb_run.py\", line 361, in wrapper\n",
      "    return func(self, *args, **kwargs)\n",
      "  File \"c:\\Users\\valen\\anaconda3\\envs\\nlp-m\\lib\\site-packages\\wandb\\sdk\\wandb_run.py\", line 1953, in finish\n",
      "    return self._finish(exit_code, quiet)\n",
      "  File \"c:\\Users\\valen\\anaconda3\\envs\\nlp-m\\lib\\site-packages\\wandb\\sdk\\wandb_run.py\", line 1961, in _finish\n",
      "    tel.feature.finish = True\n",
      "  File \"c:\\Users\\valen\\anaconda3\\envs\\nlp-m\\lib\\site-packages\\wandb\\sdk\\lib\\telemetry.py\", line 42, in __exit__\n",
      "    self._run._telemetry_callback(self._obj)\n",
      "  File \"c:\\Users\\valen\\anaconda3\\envs\\nlp-m\\lib\\site-packages\\wandb\\sdk\\wandb_run.py\", line 758, in _telemetry_callback\n",
      "    self._telemetry_flush()\n",
      "  File \"c:\\Users\\valen\\anaconda3\\envs\\nlp-m\\lib\\site-packages\\wandb\\sdk\\wandb_run.py\", line 769, in _telemetry_flush\n",
      "    self._backend.interface._publish_telemetry(self._telemetry_obj)\n",
      "  File \"c:\\Users\\valen\\anaconda3\\envs\\nlp-m\\lib\\site-packages\\wandb\\sdk\\interface\\interface_shared.py\", line 101, in _publish_telemetry\n",
      "    self._publish(rec)\n",
      "  File \"c:\\Users\\valen\\anaconda3\\envs\\nlp-m\\lib\\site-packages\\wandb\\sdk\\interface\\interface_sock.py\", line 51, in _publish\n",
      "    self._sock_client.send_record_publish(record)\n",
      "  File \"c:\\Users\\valen\\anaconda3\\envs\\nlp-m\\lib\\site-packages\\wandb\\sdk\\lib\\sock_client.py\", line 221, in send_record_publish\n",
      "    self.send_server_request(server_req)\n",
      "  File \"c:\\Users\\valen\\anaconda3\\envs\\nlp-m\\lib\\site-packages\\wandb\\sdk\\lib\\sock_client.py\", line 155, in send_server_request\n",
      "    self._send_message(msg)\n",
      "  File \"c:\\Users\\valen\\anaconda3\\envs\\nlp-m\\lib\\site-packages\\wandb\\sdk\\lib\\sock_client.py\", line 152, in _send_message\n",
      "    self._sendall_with_error_handle(header + data)\n",
      "  File \"c:\\Users\\valen\\anaconda3\\envs\\nlp-m\\lib\\site-packages\\wandb\\sdk\\lib\\sock_client.py\", line 130, in _sendall_with_error_handle\n",
      "    sent = self._sock.send(data)\n",
      "ConnectionResetError: [WinError 10054] An existing connection was forcibly closed by the remote host\n",
      "\u001b[34m\u001b[1mwandb\u001b[0m: Agent Starting Run: mvvkvq4a with config:\n",
      "\u001b[34m\u001b[1mwandb\u001b[0m: \tbatch_size: 16\n",
      "\u001b[34m\u001b[1mwandb\u001b[0m: \tconv_hid_size: 8\n",
      "\u001b[34m\u001b[1mwandb\u001b[0m: \tconv_in_size: 64\n",
      "\u001b[34m\u001b[1mwandb\u001b[0m: \tconv_out_size: 32\n",
      "\u001b[34m\u001b[1mwandb\u001b[0m: \tdropout: 0.2\n",
      "\u001b[34m\u001b[1mwandb\u001b[0m: \tfc_size: 32\n",
      "\u001b[34m\u001b[1mwandb\u001b[0m: \thidden_size: 8\n",
      "\u001b[34m\u001b[1mwandb\u001b[0m: \tlr: 0.0001\n",
      "\u001b[34m\u001b[1mwandb\u001b[0m: \tmax_epochs: 250\n",
      "Traceback (most recent call last):\n",
      "  File \"c:\\Users\\valen\\anaconda3\\envs\\nlp-m\\lib\\site-packages\\wandb\\sdk\\wandb_init.py\", line 1166, in init\n",
      "    wi.setup(kwargs)\n",
      "  File \"c:\\Users\\valen\\anaconda3\\envs\\nlp-m\\lib\\site-packages\\wandb\\sdk\\wandb_init.py\", line 233, in setup\n",
      "    tel.feature.set_init_tags = True\n",
      "  File \"c:\\Users\\valen\\anaconda3\\envs\\nlp-m\\lib\\site-packages\\wandb\\sdk\\lib\\telemetry.py\", line 42, in __exit__\n",
      "    self._run._telemetry_callback(self._obj)\n",
      "  File \"c:\\Users\\valen\\anaconda3\\envs\\nlp-m\\lib\\site-packages\\wandb\\sdk\\wandb_run.py\", line 758, in _telemetry_callback\n",
      "    self._telemetry_flush()\n",
      "  File \"c:\\Users\\valen\\anaconda3\\envs\\nlp-m\\lib\\site-packages\\wandb\\sdk\\wandb_run.py\", line 769, in _telemetry_flush\n",
      "    self._backend.interface._publish_telemetry(self._telemetry_obj)\n",
      "  File \"c:\\Users\\valen\\anaconda3\\envs\\nlp-m\\lib\\site-packages\\wandb\\sdk\\interface\\interface_shared.py\", line 101, in _publish_telemetry\n",
      "    self._publish(rec)\n",
      "  File \"c:\\Users\\valen\\anaconda3\\envs\\nlp-m\\lib\\site-packages\\wandb\\sdk\\interface\\interface_sock.py\", line 51, in _publish\n",
      "    self._sock_client.send_record_publish(record)\n",
      "  File \"c:\\Users\\valen\\anaconda3\\envs\\nlp-m\\lib\\site-packages\\wandb\\sdk\\lib\\sock_client.py\", line 221, in send_record_publish\n",
      "    self.send_server_request(server_req)\n",
      "  File \"c:\\Users\\valen\\anaconda3\\envs\\nlp-m\\lib\\site-packages\\wandb\\sdk\\lib\\sock_client.py\", line 155, in send_server_request\n",
      "    self._send_message(msg)\n",
      "  File \"c:\\Users\\valen\\anaconda3\\envs\\nlp-m\\lib\\site-packages\\wandb\\sdk\\lib\\sock_client.py\", line 152, in _send_message\n",
      "    self._sendall_with_error_handle(header + data)\n",
      "  File \"c:\\Users\\valen\\anaconda3\\envs\\nlp-m\\lib\\site-packages\\wandb\\sdk\\lib\\sock_client.py\", line 130, in _sendall_with_error_handle\n",
      "    sent = self._sock.send(data)\n",
      "ConnectionResetError: [WinError 10054] An existing connection was forcibly closed by the remote host\n",
      "Exception in thread Thread-95:\n",
      "Traceback (most recent call last):\n",
      "  File \"c:\\Users\\valen\\anaconda3\\envs\\nlp-m\\lib\\site-packages\\wandb\\sdk\\wandb_init.py\", line 1166, in init\n",
      "    wi.setup(kwargs)\n",
      "  File \"c:\\Users\\valen\\anaconda3\\envs\\nlp-m\\lib\\site-packages\\wandb\\sdk\\wandb_init.py\", line 233, in setup\n",
      "    tel.feature.set_init_tags = True\n",
      "  File \"c:\\Users\\valen\\anaconda3\\envs\\nlp-m\\lib\\site-packages\\wandb\\sdk\\lib\\telemetry.py\", line 42, in __exit__\n",
      "    self._run._telemetry_callback(self._obj)\n",
      "  File \"c:\\Users\\valen\\anaconda3\\envs\\nlp-m\\lib\\site-packages\\wandb\\sdk\\wandb_run.py\", line 758, in _telemetry_callback\n",
      "    self._telemetry_flush()\n",
      "  File \"c:\\Users\\valen\\anaconda3\\envs\\nlp-m\\lib\\site-packages\\wandb\\sdk\\wandb_run.py\", line 769, in _telemetry_flush\n",
      "    self._backend.interface._publish_telemetry(self._telemetry_obj)\n",
      "  File \"c:\\Users\\valen\\anaconda3\\envs\\nlp-m\\lib\\site-packages\\wandb\\sdk\\interface\\interface_shared.py\", line 101, in _publish_telemetry\n",
      "    self._publish(rec)\n",
      "  File \"c:\\Users\\valen\\anaconda3\\envs\\nlp-m\\lib\\site-packages\\wandb\\sdk\\interface\\interface_sock.py\", line 51, in _publish\n",
      "    self._sock_client.send_record_publish(record)\n",
      "  File \"c:\\Users\\valen\\anaconda3\\envs\\nlp-m\\lib\\site-packages\\wandb\\sdk\\lib\\sock_client.py\", line 221, in send_record_publish\n",
      "    self.send_server_request(server_req)\n",
      "  File \"c:\\Users\\valen\\anaconda3\\envs\\nlp-m\\lib\\site-packages\\wandb\\sdk\\lib\\sock_client.py\", line 155, in send_server_request\n",
      "    self._send_message(msg)\n",
      "  File \"c:\\Users\\valen\\anaconda3\\envs\\nlp-m\\lib\\site-packages\\wandb\\sdk\\lib\\sock_client.py\", line 152, in _send_message\n",
      "    self._sendall_with_error_handle(header + data)\n",
      "  File \"c:\\Users\\valen\\anaconda3\\envs\\nlp-m\\lib\\site-packages\\wandb\\sdk\\lib\\sock_client.py\", line 130, in _sendall_with_error_handle\n",
      "    sent = self._sock.send(data)\n",
      "ConnectionResetError: [WinError 10054] An existing connection was forcibly closed by the remote host\n",
      "\n",
      "The above exception was the direct cause of the following exception:\n",
      "\n",
      "Traceback (most recent call last):\n",
      "  File \"c:\\Users\\valen\\anaconda3\\envs\\nlp-m\\lib\\site-packages\\wandb\\agents\\pyagent.py\", line 298, in _run_job\n",
      "    self._function()\n",
      "  File \"C:\\Users\\valen\\AppData\\Local\\Temp\\ipykernel_19500\\35702409.py\", line 8, in train_model\n",
      "  File \"c:\\Users\\valen\\anaconda3\\envs\\nlp-m\\lib\\site-packages\\wandb\\sdk\\wandb_init.py\", line 1208, in init\n",
      "    raise Error(\"An unexpected error occurred\") from error_seen\n",
      "wandb.errors.Error: An unexpected error occurred\n",
      "\n",
      "During handling of the above exception, another exception occurred:\n",
      "\n",
      "Traceback (most recent call last):\n",
      "  File \"c:\\Users\\valen\\anaconda3\\envs\\nlp-m\\lib\\threading.py\", line 980, in _bootstrap_inner\n",
      "    self.run()\n",
      "  File \"c:\\Users\\valen\\anaconda3\\envs\\nlp-m\\lib\\threading.py\", line 917, in run\n",
      "    self._target(*self._args, **self._kwargs)\n",
      "  File \"c:\\Users\\valen\\anaconda3\\envs\\nlp-m\\lib\\site-packages\\wandb\\agents\\pyagent.py\", line 303, in _run_job\n",
      "    wandb.finish(exit_code=1)\n",
      "  File \"c:\\Users\\valen\\anaconda3\\envs\\nlp-m\\lib\\site-packages\\wandb\\sdk\\wandb_run.py\", line 4090, in finish\n",
      "    wandb.run.finish(exit_code=exit_code, quiet=quiet)\n",
      "  File \"c:\\Users\\valen\\anaconda3\\envs\\nlp-m\\lib\\site-packages\\wandb\\sdk\\wandb_run.py\", line 420, in wrapper\n",
      "    return func(self, *args, **kwargs)\n",
      "  File \"c:\\Users\\valen\\anaconda3\\envs\\nlp-m\\lib\\site-packages\\wandb\\sdk\\wandb_run.py\", line 361, in wrapper\n",
      "    return func(self, *args, **kwargs)\n",
      "  File \"c:\\Users\\valen\\anaconda3\\envs\\nlp-m\\lib\\site-packages\\wandb\\sdk\\wandb_run.py\", line 1953, in finish\n",
      "    return self._finish(exit_code, quiet)\n",
      "  File \"c:\\Users\\valen\\anaconda3\\envs\\nlp-m\\lib\\site-packages\\wandb\\sdk\\wandb_run.py\", line 1961, in _finish\n",
      "    tel.feature.finish = True\n",
      "  File \"c:\\Users\\valen\\anaconda3\\envs\\nlp-m\\lib\\site-packages\\wandb\\sdk\\lib\\telemetry.py\", line 42, in __exit__\n",
      "    self._run._telemetry_callback(self._obj)\n",
      "  File \"c:\\Users\\valen\\anaconda3\\envs\\nlp-m\\lib\\site-packages\\wandb\\sdk\\wandb_run.py\", line 758, in _telemetry_callback\n",
      "    self._telemetry_flush()\n",
      "  File \"c:\\Users\\valen\\anaconda3\\envs\\nlp-m\\lib\\site-packages\\wandb\\sdk\\wandb_run.py\", line 769, in _telemetry_flush\n",
      "    self._backend.interface._publish_telemetry(self._telemetry_obj)\n",
      "  File \"c:\\Users\\valen\\anaconda3\\envs\\nlp-m\\lib\\site-packages\\wandb\\sdk\\interface\\interface_shared.py\", line 101, in _publish_telemetry\n",
      "    self._publish(rec)\n",
      "  File \"c:\\Users\\valen\\anaconda3\\envs\\nlp-m\\lib\\site-packages\\wandb\\sdk\\interface\\interface_sock.py\", line 51, in _publish\n",
      "    self._sock_client.send_record_publish(record)\n",
      "  File \"c:\\Users\\valen\\anaconda3\\envs\\nlp-m\\lib\\site-packages\\wandb\\sdk\\lib\\sock_client.py\", line 221, in send_record_publish\n",
      "    self.send_server_request(server_req)\n",
      "  File \"c:\\Users\\valen\\anaconda3\\envs\\nlp-m\\lib\\site-packages\\wandb\\sdk\\lib\\sock_client.py\", line 155, in send_server_request\n",
      "    self._send_message(msg)\n",
      "  File \"c:\\Users\\valen\\anaconda3\\envs\\nlp-m\\lib\\site-packages\\wandb\\sdk\\lib\\sock_client.py\", line 152, in _send_message\n",
      "    self._sendall_with_error_handle(header + data)\n",
      "  File \"c:\\Users\\valen\\anaconda3\\envs\\nlp-m\\lib\\site-packages\\wandb\\sdk\\lib\\sock_client.py\", line 130, in _sendall_with_error_handle\n",
      "    sent = self._sock.send(data)\n",
      "ConnectionResetError: [WinError 10054] An existing connection was forcibly closed by the remote host\n",
      "\u001b[34m\u001b[1mwandb\u001b[0m: Agent Starting Run: 6n3s8fk5 with config:\n",
      "\u001b[34m\u001b[1mwandb\u001b[0m: \tbatch_size: 40\n",
      "\u001b[34m\u001b[1mwandb\u001b[0m: \tconv_hid_size: 8\n",
      "\u001b[34m\u001b[1mwandb\u001b[0m: \tconv_in_size: 64\n",
      "\u001b[34m\u001b[1mwandb\u001b[0m: \tconv_out_size: 32\n",
      "\u001b[34m\u001b[1mwandb\u001b[0m: \tdropout: 0.3\n",
      "\u001b[34m\u001b[1mwandb\u001b[0m: \tfc_size: 128\n",
      "\u001b[34m\u001b[1mwandb\u001b[0m: \thidden_size: 8\n",
      "\u001b[34m\u001b[1mwandb\u001b[0m: \tlr: 0.001\n",
      "\u001b[34m\u001b[1mwandb\u001b[0m: \tmax_epochs: 250\n",
      "Traceback (most recent call last):\n",
      "  File \"c:\\Users\\valen\\anaconda3\\envs\\nlp-m\\lib\\site-packages\\wandb\\sdk\\wandb_init.py\", line 1166, in init\n",
      "    wi.setup(kwargs)\n",
      "  File \"c:\\Users\\valen\\anaconda3\\envs\\nlp-m\\lib\\site-packages\\wandb\\sdk\\wandb_init.py\", line 233, in setup\n",
      "    tel.feature.set_init_tags = True\n",
      "  File \"c:\\Users\\valen\\anaconda3\\envs\\nlp-m\\lib\\site-packages\\wandb\\sdk\\lib\\telemetry.py\", line 42, in __exit__\n",
      "    self._run._telemetry_callback(self._obj)\n",
      "  File \"c:\\Users\\valen\\anaconda3\\envs\\nlp-m\\lib\\site-packages\\wandb\\sdk\\wandb_run.py\", line 758, in _telemetry_callback\n",
      "    self._telemetry_flush()\n",
      "  File \"c:\\Users\\valen\\anaconda3\\envs\\nlp-m\\lib\\site-packages\\wandb\\sdk\\wandb_run.py\", line 769, in _telemetry_flush\n",
      "    self._backend.interface._publish_telemetry(self._telemetry_obj)\n",
      "  File \"c:\\Users\\valen\\anaconda3\\envs\\nlp-m\\lib\\site-packages\\wandb\\sdk\\interface\\interface_shared.py\", line 101, in _publish_telemetry\n",
      "    self._publish(rec)\n",
      "  File \"c:\\Users\\valen\\anaconda3\\envs\\nlp-m\\lib\\site-packages\\wandb\\sdk\\interface\\interface_sock.py\", line 51, in _publish\n",
      "    self._sock_client.send_record_publish(record)\n",
      "  File \"c:\\Users\\valen\\anaconda3\\envs\\nlp-m\\lib\\site-packages\\wandb\\sdk\\lib\\sock_client.py\", line 221, in send_record_publish\n",
      "    self.send_server_request(server_req)\n",
      "  File \"c:\\Users\\valen\\anaconda3\\envs\\nlp-m\\lib\\site-packages\\wandb\\sdk\\lib\\sock_client.py\", line 155, in send_server_request\n",
      "    self._send_message(msg)\n",
      "  File \"c:\\Users\\valen\\anaconda3\\envs\\nlp-m\\lib\\site-packages\\wandb\\sdk\\lib\\sock_client.py\", line 152, in _send_message\n",
      "    self._sendall_with_error_handle(header + data)\n",
      "  File \"c:\\Users\\valen\\anaconda3\\envs\\nlp-m\\lib\\site-packages\\wandb\\sdk\\lib\\sock_client.py\", line 130, in _sendall_with_error_handle\n",
      "    sent = self._sock.send(data)\n",
      "ConnectionResetError: [WinError 10054] An existing connection was forcibly closed by the remote host\n",
      "Exception in thread Thread-96:\n",
      "Traceback (most recent call last):\n",
      "  File \"c:\\Users\\valen\\anaconda3\\envs\\nlp-m\\lib\\site-packages\\wandb\\sdk\\wandb_init.py\", line 1166, in init\n",
      "    wi.setup(kwargs)\n",
      "  File \"c:\\Users\\valen\\anaconda3\\envs\\nlp-m\\lib\\site-packages\\wandb\\sdk\\wandb_init.py\", line 233, in setup\n",
      "    tel.feature.set_init_tags = True\n",
      "  File \"c:\\Users\\valen\\anaconda3\\envs\\nlp-m\\lib\\site-packages\\wandb\\sdk\\lib\\telemetry.py\", line 42, in __exit__\n",
      "    self._run._telemetry_callback(self._obj)\n",
      "  File \"c:\\Users\\valen\\anaconda3\\envs\\nlp-m\\lib\\site-packages\\wandb\\sdk\\wandb_run.py\", line 758, in _telemetry_callback\n",
      "    self._telemetry_flush()\n",
      "  File \"c:\\Users\\valen\\anaconda3\\envs\\nlp-m\\lib\\site-packages\\wandb\\sdk\\wandb_run.py\", line 769, in _telemetry_flush\n",
      "    self._backend.interface._publish_telemetry(self._telemetry_obj)\n",
      "  File \"c:\\Users\\valen\\anaconda3\\envs\\nlp-m\\lib\\site-packages\\wandb\\sdk\\interface\\interface_shared.py\", line 101, in _publish_telemetry\n",
      "    self._publish(rec)\n",
      "  File \"c:\\Users\\valen\\anaconda3\\envs\\nlp-m\\lib\\site-packages\\wandb\\sdk\\interface\\interface_sock.py\", line 51, in _publish\n",
      "    self._sock_client.send_record_publish(record)\n",
      "  File \"c:\\Users\\valen\\anaconda3\\envs\\nlp-m\\lib\\site-packages\\wandb\\sdk\\lib\\sock_client.py\", line 221, in send_record_publish\n",
      "    self.send_server_request(server_req)\n",
      "  File \"c:\\Users\\valen\\anaconda3\\envs\\nlp-m\\lib\\site-packages\\wandb\\sdk\\lib\\sock_client.py\", line 155, in send_server_request\n",
      "    self._send_message(msg)\n",
      "  File \"c:\\Users\\valen\\anaconda3\\envs\\nlp-m\\lib\\site-packages\\wandb\\sdk\\lib\\sock_client.py\", line 152, in _send_message\n",
      "    self._sendall_with_error_handle(header + data)\n",
      "  File \"c:\\Users\\valen\\anaconda3\\envs\\nlp-m\\lib\\site-packages\\wandb\\sdk\\lib\\sock_client.py\", line 130, in _sendall_with_error_handle\n",
      "    sent = self._sock.send(data)\n",
      "ConnectionResetError: [WinError 10054] An existing connection was forcibly closed by the remote host\n",
      "\n",
      "The above exception was the direct cause of the following exception:\n",
      "\n",
      "Traceback (most recent call last):\n",
      "  File \"c:\\Users\\valen\\anaconda3\\envs\\nlp-m\\lib\\site-packages\\wandb\\agents\\pyagent.py\", line 298, in _run_job\n",
      "    self._function()\n",
      "  File \"C:\\Users\\valen\\AppData\\Local\\Temp\\ipykernel_19500\\35702409.py\", line 8, in train_model\n",
      "  File \"c:\\Users\\valen\\anaconda3\\envs\\nlp-m\\lib\\site-packages\\wandb\\sdk\\wandb_init.py\", line 1208, in init\n",
      "    raise Error(\"An unexpected error occurred\") from error_seen\n",
      "wandb.errors.Error: An unexpected error occurred\n",
      "\n",
      "During handling of the above exception, another exception occurred:\n",
      "\n",
      "Traceback (most recent call last):\n",
      "  File \"c:\\Users\\valen\\anaconda3\\envs\\nlp-m\\lib\\threading.py\", line 980, in _bootstrap_inner\n",
      "    self.run()\n",
      "  File \"c:\\Users\\valen\\anaconda3\\envs\\nlp-m\\lib\\threading.py\", line 917, in run\n",
      "    self._target(*self._args, **self._kwargs)\n",
      "  File \"c:\\Users\\valen\\anaconda3\\envs\\nlp-m\\lib\\site-packages\\wandb\\agents\\pyagent.py\", line 303, in _run_job\n",
      "    wandb.finish(exit_code=1)\n",
      "  File \"c:\\Users\\valen\\anaconda3\\envs\\nlp-m\\lib\\site-packages\\wandb\\sdk\\wandb_run.py\", line 4090, in finish\n",
      "    wandb.run.finish(exit_code=exit_code, quiet=quiet)\n",
      "  File \"c:\\Users\\valen\\anaconda3\\envs\\nlp-m\\lib\\site-packages\\wandb\\sdk\\wandb_run.py\", line 420, in wrapper\n",
      "    return func(self, *args, **kwargs)\n",
      "  File \"c:\\Users\\valen\\anaconda3\\envs\\nlp-m\\lib\\site-packages\\wandb\\sdk\\wandb_run.py\", line 361, in wrapper\n",
      "    return func(self, *args, **kwargs)\n",
      "  File \"c:\\Users\\valen\\anaconda3\\envs\\nlp-m\\lib\\site-packages\\wandb\\sdk\\wandb_run.py\", line 1953, in finish\n",
      "    return self._finish(exit_code, quiet)\n",
      "  File \"c:\\Users\\valen\\anaconda3\\envs\\nlp-m\\lib\\site-packages\\wandb\\sdk\\wandb_run.py\", line 1961, in _finish\n",
      "    tel.feature.finish = True\n",
      "  File \"c:\\Users\\valen\\anaconda3\\envs\\nlp-m\\lib\\site-packages\\wandb\\sdk\\lib\\telemetry.py\", line 42, in __exit__\n",
      "    self._run._telemetry_callback(self._obj)\n",
      "  File \"c:\\Users\\valen\\anaconda3\\envs\\nlp-m\\lib\\site-packages\\wandb\\sdk\\wandb_run.py\", line 758, in _telemetry_callback\n",
      "    self._telemetry_flush()\n",
      "  File \"c:\\Users\\valen\\anaconda3\\envs\\nlp-m\\lib\\site-packages\\wandb\\sdk\\wandb_run.py\", line 769, in _telemetry_flush\n",
      "    self._backend.interface._publish_telemetry(self._telemetry_obj)\n",
      "  File \"c:\\Users\\valen\\anaconda3\\envs\\nlp-m\\lib\\site-packages\\wandb\\sdk\\interface\\interface_shared.py\", line 101, in _publish_telemetry\n",
      "    self._publish(rec)\n",
      "  File \"c:\\Users\\valen\\anaconda3\\envs\\nlp-m\\lib\\site-packages\\wandb\\sdk\\interface\\interface_sock.py\", line 51, in _publish\n",
      "    self._sock_client.send_record_publish(record)\n",
      "  File \"c:\\Users\\valen\\anaconda3\\envs\\nlp-m\\lib\\site-packages\\wandb\\sdk\\lib\\sock_client.py\", line 221, in send_record_publish\n",
      "    self.send_server_request(server_req)\n",
      "  File \"c:\\Users\\valen\\anaconda3\\envs\\nlp-m\\lib\\site-packages\\wandb\\sdk\\lib\\sock_client.py\", line 155, in send_server_request\n",
      "    self._send_message(msg)\n",
      "  File \"c:\\Users\\valen\\anaconda3\\envs\\nlp-m\\lib\\site-packages\\wandb\\sdk\\lib\\sock_client.py\", line 152, in _send_message\n",
      "    self._sendall_with_error_handle(header + data)\n",
      "  File \"c:\\Users\\valen\\anaconda3\\envs\\nlp-m\\lib\\site-packages\\wandb\\sdk\\lib\\sock_client.py\", line 130, in _sendall_with_error_handle\n",
      "    sent = self._sock.send(data)\n",
      "ConnectionResetError: [WinError 10054] An existing connection was forcibly closed by the remote host\n",
      "\u001b[34m\u001b[1mwandb\u001b[0m: Agent Starting Run: 9f6hmnsh with config:\n",
      "\u001b[34m\u001b[1mwandb\u001b[0m: \tbatch_size: 56\n",
      "\u001b[34m\u001b[1mwandb\u001b[0m: \tconv_hid_size: 32\n",
      "\u001b[34m\u001b[1mwandb\u001b[0m: \tconv_in_size: 32\n",
      "\u001b[34m\u001b[1mwandb\u001b[0m: \tconv_out_size: 32\n",
      "\u001b[34m\u001b[1mwandb\u001b[0m: \tdropout: 0.25\n",
      "\u001b[34m\u001b[1mwandb\u001b[0m: \tfc_size: 32\n",
      "\u001b[34m\u001b[1mwandb\u001b[0m: \thidden_size: 8\n",
      "\u001b[34m\u001b[1mwandb\u001b[0m: \tlr: 0.001\n",
      "\u001b[34m\u001b[1mwandb\u001b[0m: \tmax_epochs: 250\n",
      "Traceback (most recent call last):\n",
      "  File \"c:\\Users\\valen\\anaconda3\\envs\\nlp-m\\lib\\site-packages\\wandb\\sdk\\wandb_init.py\", line 1166, in init\n",
      "    wi.setup(kwargs)\n",
      "  File \"c:\\Users\\valen\\anaconda3\\envs\\nlp-m\\lib\\site-packages\\wandb\\sdk\\wandb_init.py\", line 233, in setup\n",
      "    tel.feature.set_init_tags = True\n",
      "  File \"c:\\Users\\valen\\anaconda3\\envs\\nlp-m\\lib\\site-packages\\wandb\\sdk\\lib\\telemetry.py\", line 42, in __exit__\n",
      "    self._run._telemetry_callback(self._obj)\n",
      "  File \"c:\\Users\\valen\\anaconda3\\envs\\nlp-m\\lib\\site-packages\\wandb\\sdk\\wandb_run.py\", line 758, in _telemetry_callback\n",
      "    self._telemetry_flush()\n",
      "  File \"c:\\Users\\valen\\anaconda3\\envs\\nlp-m\\lib\\site-packages\\wandb\\sdk\\wandb_run.py\", line 769, in _telemetry_flush\n",
      "    self._backend.interface._publish_telemetry(self._telemetry_obj)\n",
      "  File \"c:\\Users\\valen\\anaconda3\\envs\\nlp-m\\lib\\site-packages\\wandb\\sdk\\interface\\interface_shared.py\", line 101, in _publish_telemetry\n",
      "    self._publish(rec)\n",
      "  File \"c:\\Users\\valen\\anaconda3\\envs\\nlp-m\\lib\\site-packages\\wandb\\sdk\\interface\\interface_sock.py\", line 51, in _publish\n",
      "    self._sock_client.send_record_publish(record)\n",
      "  File \"c:\\Users\\valen\\anaconda3\\envs\\nlp-m\\lib\\site-packages\\wandb\\sdk\\lib\\sock_client.py\", line 221, in send_record_publish\n",
      "    self.send_server_request(server_req)\n",
      "  File \"c:\\Users\\valen\\anaconda3\\envs\\nlp-m\\lib\\site-packages\\wandb\\sdk\\lib\\sock_client.py\", line 155, in send_server_request\n",
      "    self._send_message(msg)\n",
      "  File \"c:\\Users\\valen\\anaconda3\\envs\\nlp-m\\lib\\site-packages\\wandb\\sdk\\lib\\sock_client.py\", line 152, in _send_message\n",
      "    self._sendall_with_error_handle(header + data)\n",
      "  File \"c:\\Users\\valen\\anaconda3\\envs\\nlp-m\\lib\\site-packages\\wandb\\sdk\\lib\\sock_client.py\", line 130, in _sendall_with_error_handle\n",
      "    sent = self._sock.send(data)\n",
      "ConnectionResetError: [WinError 10054] An existing connection was forcibly closed by the remote host\n",
      "Exception in thread Thread-97:\n",
      "Traceback (most recent call last):\n",
      "  File \"c:\\Users\\valen\\anaconda3\\envs\\nlp-m\\lib\\site-packages\\wandb\\sdk\\wandb_init.py\", line 1166, in init\n",
      "    wi.setup(kwargs)\n",
      "  File \"c:\\Users\\valen\\anaconda3\\envs\\nlp-m\\lib\\site-packages\\wandb\\sdk\\wandb_init.py\", line 233, in setup\n",
      "    tel.feature.set_init_tags = True\n",
      "  File \"c:\\Users\\valen\\anaconda3\\envs\\nlp-m\\lib\\site-packages\\wandb\\sdk\\lib\\telemetry.py\", line 42, in __exit__\n",
      "    self._run._telemetry_callback(self._obj)\n",
      "  File \"c:\\Users\\valen\\anaconda3\\envs\\nlp-m\\lib\\site-packages\\wandb\\sdk\\wandb_run.py\", line 758, in _telemetry_callback\n",
      "    self._telemetry_flush()\n",
      "  File \"c:\\Users\\valen\\anaconda3\\envs\\nlp-m\\lib\\site-packages\\wandb\\sdk\\wandb_run.py\", line 769, in _telemetry_flush\n",
      "    self._backend.interface._publish_telemetry(self._telemetry_obj)\n",
      "  File \"c:\\Users\\valen\\anaconda3\\envs\\nlp-m\\lib\\site-packages\\wandb\\sdk\\interface\\interface_shared.py\", line 101, in _publish_telemetry\n",
      "    self._publish(rec)\n",
      "  File \"c:\\Users\\valen\\anaconda3\\envs\\nlp-m\\lib\\site-packages\\wandb\\sdk\\interface\\interface_sock.py\", line 51, in _publish\n",
      "    self._sock_client.send_record_publish(record)\n",
      "  File \"c:\\Users\\valen\\anaconda3\\envs\\nlp-m\\lib\\site-packages\\wandb\\sdk\\lib\\sock_client.py\", line 221, in send_record_publish\n",
      "    self.send_server_request(server_req)\n",
      "  File \"c:\\Users\\valen\\anaconda3\\envs\\nlp-m\\lib\\site-packages\\wandb\\sdk\\lib\\sock_client.py\", line 155, in send_server_request\n",
      "    self._send_message(msg)\n",
      "  File \"c:\\Users\\valen\\anaconda3\\envs\\nlp-m\\lib\\site-packages\\wandb\\sdk\\lib\\sock_client.py\", line 152, in _send_message\n",
      "    self._sendall_with_error_handle(header + data)\n",
      "  File \"c:\\Users\\valen\\anaconda3\\envs\\nlp-m\\lib\\site-packages\\wandb\\sdk\\lib\\sock_client.py\", line 130, in _sendall_with_error_handle\n",
      "    sent = self._sock.send(data)\n",
      "ConnectionResetError: [WinError 10054] An existing connection was forcibly closed by the remote host\n",
      "\n",
      "The above exception was the direct cause of the following exception:\n",
      "\n",
      "Traceback (most recent call last):\n",
      "  File \"c:\\Users\\valen\\anaconda3\\envs\\nlp-m\\lib\\site-packages\\wandb\\agents\\pyagent.py\", line 298, in _run_job\n",
      "    self._function()\n",
      "  File \"C:\\Users\\valen\\AppData\\Local\\Temp\\ipykernel_19500\\35702409.py\", line 8, in train_model\n",
      "  File \"c:\\Users\\valen\\anaconda3\\envs\\nlp-m\\lib\\site-packages\\wandb\\sdk\\wandb_init.py\", line 1208, in init\n",
      "    raise Error(\"An unexpected error occurred\") from error_seen\n",
      "wandb.errors.Error: An unexpected error occurred\n",
      "\n",
      "During handling of the above exception, another exception occurred:\n",
      "\n",
      "Traceback (most recent call last):\n",
      "  File \"c:\\Users\\valen\\anaconda3\\envs\\nlp-m\\lib\\threading.py\", line 980, in _bootstrap_inner\n",
      "    self.run()\n",
      "  File \"c:\\Users\\valen\\anaconda3\\envs\\nlp-m\\lib\\threading.py\", line 917, in run\n",
      "    self._target(*self._args, **self._kwargs)\n",
      "  File \"c:\\Users\\valen\\anaconda3\\envs\\nlp-m\\lib\\site-packages\\wandb\\agents\\pyagent.py\", line 303, in _run_job\n",
      "    wandb.finish(exit_code=1)\n",
      "  File \"c:\\Users\\valen\\anaconda3\\envs\\nlp-m\\lib\\site-packages\\wandb\\sdk\\wandb_run.py\", line 4090, in finish\n",
      "    wandb.run.finish(exit_code=exit_code, quiet=quiet)\n",
      "  File \"c:\\Users\\valen\\anaconda3\\envs\\nlp-m\\lib\\site-packages\\wandb\\sdk\\wandb_run.py\", line 420, in wrapper\n",
      "    return func(self, *args, **kwargs)\n",
      "  File \"c:\\Users\\valen\\anaconda3\\envs\\nlp-m\\lib\\site-packages\\wandb\\sdk\\wandb_run.py\", line 361, in wrapper\n",
      "    return func(self, *args, **kwargs)\n",
      "  File \"c:\\Users\\valen\\anaconda3\\envs\\nlp-m\\lib\\site-packages\\wandb\\sdk\\wandb_run.py\", line 1953, in finish\n",
      "    return self._finish(exit_code, quiet)\n",
      "  File \"c:\\Users\\valen\\anaconda3\\envs\\nlp-m\\lib\\site-packages\\wandb\\sdk\\wandb_run.py\", line 1961, in _finish\n",
      "    tel.feature.finish = True\n",
      "  File \"c:\\Users\\valen\\anaconda3\\envs\\nlp-m\\lib\\site-packages\\wandb\\sdk\\lib\\telemetry.py\", line 42, in __exit__\n",
      "    self._run._telemetry_callback(self._obj)\n",
      "  File \"c:\\Users\\valen\\anaconda3\\envs\\nlp-m\\lib\\site-packages\\wandb\\sdk\\wandb_run.py\", line 758, in _telemetry_callback\n",
      "    self._telemetry_flush()\n",
      "  File \"c:\\Users\\valen\\anaconda3\\envs\\nlp-m\\lib\\site-packages\\wandb\\sdk\\wandb_run.py\", line 769, in _telemetry_flush\n",
      "    self._backend.interface._publish_telemetry(self._telemetry_obj)\n",
      "  File \"c:\\Users\\valen\\anaconda3\\envs\\nlp-m\\lib\\site-packages\\wandb\\sdk\\interface\\interface_shared.py\", line 101, in _publish_telemetry\n",
      "    self._publish(rec)\n",
      "  File \"c:\\Users\\valen\\anaconda3\\envs\\nlp-m\\lib\\site-packages\\wandb\\sdk\\interface\\interface_sock.py\", line 51, in _publish\n",
      "    self._sock_client.send_record_publish(record)\n",
      "  File \"c:\\Users\\valen\\anaconda3\\envs\\nlp-m\\lib\\site-packages\\wandb\\sdk\\lib\\sock_client.py\", line 221, in send_record_publish\n",
      "    self.send_server_request(server_req)\n",
      "  File \"c:\\Users\\valen\\anaconda3\\envs\\nlp-m\\lib\\site-packages\\wandb\\sdk\\lib\\sock_client.py\", line 155, in send_server_request\n",
      "    self._send_message(msg)\n",
      "  File \"c:\\Users\\valen\\anaconda3\\envs\\nlp-m\\lib\\site-packages\\wandb\\sdk\\lib\\sock_client.py\", line 152, in _send_message\n",
      "    self._sendall_with_error_handle(header + data)\n",
      "  File \"c:\\Users\\valen\\anaconda3\\envs\\nlp-m\\lib\\site-packages\\wandb\\sdk\\lib\\sock_client.py\", line 130, in _sendall_with_error_handle\n",
      "    sent = self._sock.send(data)\n",
      "ConnectionResetError: [WinError 10054] An existing connection was forcibly closed by the remote host\n"
     ]
    },
    {
     "name": "stdout",
     "output_type": "stream",
     "text": [
      "Error in callback <bound method _WandbInit._pause_backend of <wandb.sdk.wandb_init._WandbInit object at 0x00000233385F9A30>> (for post_run_cell):\n"
     ]
    },
    {
     "ename": "ConnectionResetError",
     "evalue": "[WinError 10054] An existing connection was forcibly closed by the remote host",
     "output_type": "error",
     "traceback": [
      "\u001b[1;31m---------------------------------------------------------------------------\u001b[0m",
      "\u001b[1;31mConnectionResetError\u001b[0m                      Traceback (most recent call last)",
      "File \u001b[1;32mc:\\Users\\valen\\anaconda3\\envs\\nlp-m\\lib\\site-packages\\wandb\\sdk\\wandb_init.py:436\u001b[0m, in \u001b[0;36m_WandbInit._pause_backend\u001b[1;34m(self, *args, **kwargs)\u001b[0m\n\u001b[0;32m    434\u001b[0m \u001b[38;5;28;01mif\u001b[39;00m \u001b[38;5;28mself\u001b[39m\u001b[38;5;241m.\u001b[39mbackend\u001b[38;5;241m.\u001b[39minterface \u001b[38;5;129;01mis\u001b[39;00m \u001b[38;5;129;01mnot\u001b[39;00m \u001b[38;5;28;01mNone\u001b[39;00m:\n\u001b[0;32m    435\u001b[0m     logger\u001b[38;5;241m.\u001b[39minfo(\u001b[38;5;124m\"\u001b[39m\u001b[38;5;124mpausing backend\u001b[39m\u001b[38;5;124m\"\u001b[39m)  \u001b[38;5;66;03m# type: ignore\u001b[39;00m\n\u001b[1;32m--> 436\u001b[0m     \u001b[38;5;28;43mself\u001b[39;49m\u001b[38;5;241;43m.\u001b[39;49m\u001b[43mbackend\u001b[49m\u001b[38;5;241;43m.\u001b[39;49m\u001b[43minterface\u001b[49m\u001b[38;5;241;43m.\u001b[39;49m\u001b[43mpublish_pause\u001b[49m\u001b[43m(\u001b[49m\u001b[43m)\u001b[49m\n",
      "File \u001b[1;32mc:\\Users\\valen\\anaconda3\\envs\\nlp-m\\lib\\site-packages\\wandb\\sdk\\interface\\interface.py:647\u001b[0m, in \u001b[0;36mInterfaceBase.publish_pause\u001b[1;34m(self)\u001b[0m\n\u001b[0;32m    645\u001b[0m \u001b[38;5;28;01mdef\u001b[39;00m \u001b[38;5;21mpublish_pause\u001b[39m(\u001b[38;5;28mself\u001b[39m) \u001b[38;5;241m-\u001b[39m\u001b[38;5;241m>\u001b[39m \u001b[38;5;28;01mNone\u001b[39;00m:\n\u001b[0;32m    646\u001b[0m     pause \u001b[38;5;241m=\u001b[39m pb\u001b[38;5;241m.\u001b[39mPauseRequest()\n\u001b[1;32m--> 647\u001b[0m     \u001b[38;5;28;43mself\u001b[39;49m\u001b[38;5;241;43m.\u001b[39;49m\u001b[43m_publish_pause\u001b[49m\u001b[43m(\u001b[49m\u001b[43mpause\u001b[49m\u001b[43m)\u001b[49m\n",
      "File \u001b[1;32mc:\\Users\\valen\\anaconda3\\envs\\nlp-m\\lib\\site-packages\\wandb\\sdk\\interface\\interface_shared.py:349\u001b[0m, in \u001b[0;36mInterfaceShared._publish_pause\u001b[1;34m(self, pause)\u001b[0m\n\u001b[0;32m    347\u001b[0m \u001b[38;5;28;01mdef\u001b[39;00m \u001b[38;5;21m_publish_pause\u001b[39m(\u001b[38;5;28mself\u001b[39m, pause: pb\u001b[38;5;241m.\u001b[39mPauseRequest) \u001b[38;5;241m-\u001b[39m\u001b[38;5;241m>\u001b[39m \u001b[38;5;28;01mNone\u001b[39;00m:\n\u001b[0;32m    348\u001b[0m     rec \u001b[38;5;241m=\u001b[39m \u001b[38;5;28mself\u001b[39m\u001b[38;5;241m.\u001b[39m_make_request(pause\u001b[38;5;241m=\u001b[39mpause)\n\u001b[1;32m--> 349\u001b[0m     \u001b[38;5;28;43mself\u001b[39;49m\u001b[38;5;241;43m.\u001b[39;49m\u001b[43m_publish\u001b[49m\u001b[43m(\u001b[49m\u001b[43mrec\u001b[49m\u001b[43m)\u001b[49m\n",
      "File \u001b[1;32mc:\\Users\\valen\\anaconda3\\envs\\nlp-m\\lib\\site-packages\\wandb\\sdk\\interface\\interface_sock.py:51\u001b[0m, in \u001b[0;36mInterfaceSock._publish\u001b[1;34m(self, record, local)\u001b[0m\n\u001b[0;32m     49\u001b[0m \u001b[38;5;28;01mdef\u001b[39;00m \u001b[38;5;21m_publish\u001b[39m(\u001b[38;5;28mself\u001b[39m, record: \u001b[38;5;124m\"\u001b[39m\u001b[38;5;124mpb.Record\u001b[39m\u001b[38;5;124m\"\u001b[39m, local: Optional[\u001b[38;5;28mbool\u001b[39m] \u001b[38;5;241m=\u001b[39m \u001b[38;5;28;01mNone\u001b[39;00m) \u001b[38;5;241m-\u001b[39m\u001b[38;5;241m>\u001b[39m \u001b[38;5;28;01mNone\u001b[39;00m:\n\u001b[0;32m     50\u001b[0m     \u001b[38;5;28mself\u001b[39m\u001b[38;5;241m.\u001b[39m_assign(record)\n\u001b[1;32m---> 51\u001b[0m     \u001b[38;5;28;43mself\u001b[39;49m\u001b[38;5;241;43m.\u001b[39;49m\u001b[43m_sock_client\u001b[49m\u001b[38;5;241;43m.\u001b[39;49m\u001b[43msend_record_publish\u001b[49m\u001b[43m(\u001b[49m\u001b[43mrecord\u001b[49m\u001b[43m)\u001b[49m\n",
      "File \u001b[1;32mc:\\Users\\valen\\anaconda3\\envs\\nlp-m\\lib\\site-packages\\wandb\\sdk\\lib\\sock_client.py:221\u001b[0m, in \u001b[0;36mSockClient.send_record_publish\u001b[1;34m(self, record)\u001b[0m\n\u001b[0;32m    219\u001b[0m server_req \u001b[38;5;241m=\u001b[39m spb\u001b[38;5;241m.\u001b[39mServerRequest()\n\u001b[0;32m    220\u001b[0m server_req\u001b[38;5;241m.\u001b[39mrecord_publish\u001b[38;5;241m.\u001b[39mCopyFrom(record)\n\u001b[1;32m--> 221\u001b[0m \u001b[38;5;28;43mself\u001b[39;49m\u001b[38;5;241;43m.\u001b[39;49m\u001b[43msend_server_request\u001b[49m\u001b[43m(\u001b[49m\u001b[43mserver_req\u001b[49m\u001b[43m)\u001b[49m\n",
      "File \u001b[1;32mc:\\Users\\valen\\anaconda3\\envs\\nlp-m\\lib\\site-packages\\wandb\\sdk\\lib\\sock_client.py:155\u001b[0m, in \u001b[0;36mSockClient.send_server_request\u001b[1;34m(self, msg)\u001b[0m\n\u001b[0;32m    154\u001b[0m \u001b[38;5;28;01mdef\u001b[39;00m \u001b[38;5;21msend_server_request\u001b[39m(\u001b[38;5;28mself\u001b[39m, msg: Any) \u001b[38;5;241m-\u001b[39m\u001b[38;5;241m>\u001b[39m \u001b[38;5;28;01mNone\u001b[39;00m:\n\u001b[1;32m--> 155\u001b[0m     \u001b[38;5;28;43mself\u001b[39;49m\u001b[38;5;241;43m.\u001b[39;49m\u001b[43m_send_message\u001b[49m\u001b[43m(\u001b[49m\u001b[43mmsg\u001b[49m\u001b[43m)\u001b[49m\n",
      "File \u001b[1;32mc:\\Users\\valen\\anaconda3\\envs\\nlp-m\\lib\\site-packages\\wandb\\sdk\\lib\\sock_client.py:152\u001b[0m, in \u001b[0;36mSockClient._send_message\u001b[1;34m(self, msg)\u001b[0m\n\u001b[0;32m    150\u001b[0m header \u001b[38;5;241m=\u001b[39m struct\u001b[38;5;241m.\u001b[39mpack(\u001b[38;5;124m\"\u001b[39m\u001b[38;5;124m<BI\u001b[39m\u001b[38;5;124m\"\u001b[39m, \u001b[38;5;28mord\u001b[39m(\u001b[38;5;124m\"\u001b[39m\u001b[38;5;124mW\u001b[39m\u001b[38;5;124m\"\u001b[39m), raw_size)\n\u001b[0;32m    151\u001b[0m \u001b[38;5;28;01mwith\u001b[39;00m \u001b[38;5;28mself\u001b[39m\u001b[38;5;241m.\u001b[39m_lock:\n\u001b[1;32m--> 152\u001b[0m     \u001b[38;5;28;43mself\u001b[39;49m\u001b[38;5;241;43m.\u001b[39;49m\u001b[43m_sendall_with_error_handle\u001b[49m\u001b[43m(\u001b[49m\u001b[43mheader\u001b[49m\u001b[43m \u001b[49m\u001b[38;5;241;43m+\u001b[39;49m\u001b[43m \u001b[49m\u001b[43mdata\u001b[49m\u001b[43m)\u001b[49m\n",
      "File \u001b[1;32mc:\\Users\\valen\\anaconda3\\envs\\nlp-m\\lib\\site-packages\\wandb\\sdk\\lib\\sock_client.py:130\u001b[0m, in \u001b[0;36mSockClient._sendall_with_error_handle\u001b[1;34m(self, data)\u001b[0m\n\u001b[0;32m    128\u001b[0m start_time \u001b[38;5;241m=\u001b[39m time\u001b[38;5;241m.\u001b[39mmonotonic()\n\u001b[0;32m    129\u001b[0m \u001b[38;5;28;01mtry\u001b[39;00m:\n\u001b[1;32m--> 130\u001b[0m     sent \u001b[38;5;241m=\u001b[39m \u001b[38;5;28;43mself\u001b[39;49m\u001b[38;5;241;43m.\u001b[39;49m\u001b[43m_sock\u001b[49m\u001b[38;5;241;43m.\u001b[39;49m\u001b[43msend\u001b[49m\u001b[43m(\u001b[49m\u001b[43mdata\u001b[49m\u001b[43m)\u001b[49m\n\u001b[0;32m    131\u001b[0m     \u001b[38;5;66;03m# sent equal to 0 indicates a closed socket\u001b[39;00m\n\u001b[0;32m    132\u001b[0m     \u001b[38;5;28;01mif\u001b[39;00m sent \u001b[38;5;241m==\u001b[39m \u001b[38;5;241m0\u001b[39m:\n",
      "\u001b[1;31mConnectionResetError\u001b[0m: [WinError 10054] An existing connection was forcibly closed by the remote host"
     ]
    }
   ],
   "source": [
    "# Run training\n",
    "wandb.agent(sweep_id, train_model, count=50)"
   ]
  },
  {
   "cell_type": "markdown",
   "metadata": {},
   "source": [
    "Naive CNN performance achieves ~70% validation accuracy. We stop early when the validation accuracy is achieved."
   ]
  },
  {
   "cell_type": "markdown",
   "metadata": {},
   "source": [
    "### Next Steps\n",
    "- Explore different ConvNet architectures\n",
    "- Figure out why number of samples is so much less than actual number\n",
    "- Figure out how to deal with the inconsistent classes\n",
    "- Try ResNet (PyTorch has models)"
   ]
  },
  {
   "cell_type": "code",
   "execution_count": null,
   "metadata": {},
   "outputs": [],
   "source": [
    "# import torch\n",
    "# import torchvision.models as models\n",
    "# import torchvision.transforms as transforms\n",
    "# from torch.utils.data import DataLoader\n",
    "# from torchvision.datasets import ImageFolder\n",
    "\n",
    "# resnet18 = models.resnet18(pretrained=True)  # For ResNet18\n",
    "# resnet50 = models.resnet50(pretrained=True)  # For ResNet50"
   ]
  },
  {
   "cell_type": "code",
   "execution_count": null,
   "metadata": {},
   "outputs": [],
   "source": [
    "# import torchvision.transforms as transforms\n",
    "\n",
    "# class GrayscaleToRGBTransform:\n",
    "#     def __call__(self, tensor):\n",
    "#         # Check if the tensor has one channel (grayscale)\n",
    "#         if tensor.shape[0] == 1:\n",
    "#             # Repeat the tensor across 3 channels\n",
    "#             tensor = tensor.repeat(3, 1, 1)\n",
    "#         return tensor\n",
    "\n",
    "# res_transform = transforms.Compose([\n",
    "#     GrayscaleToRGBTransform(),\n",
    "#     transforms.Resize(256),\n",
    "#     transforms.CenterCrop(224),\n",
    "#     transforms.Normalize(mean=[0.485, 0.456, 0.406], std=[0.229, 0.224, 0.225]),\n",
    "# ])\n",
    "\n",
    "# def apply_all_transforms(X, transform):\n",
    "#     transformed_data = []\n",
    "#     for x in X:\n",
    "#         x = transform(x)  # Apply the transformation\n",
    "#         transformed_data.append(x)\n",
    "#     return torch.stack(transformed_data)\n",
    "    \n",
    "# X_train_resnet = apply_all_transforms(X_train, transform=res_transform)\n",
    "# train_resnet = TensorDataset(X_train_resnet, y_train)\n",
    "# trainloader_resnet = DataLoader(train_resnet, batch_size=32, shuffle=True)\n",
    "\n",
    "# X_val_resnet = apply_all_transforms(X_val, transform=res_transform)\n",
    "# val_resnet = TensorDataset(X_val_resnet, y_val)\n",
    "# valloader_resnet = DataLoader(val_resnet, batch_size=32, shuffle=True)"
   ]
  },
  {
   "cell_type": "code",
   "execution_count": null,
   "metadata": {},
   "outputs": [],
   "source": [
    "# num_epochs = 100  # Set the number of epochs\n",
    "# num_ftrs = resnet18.fc.in_features\n",
    "# resnet18.fc = torch.nn.Linear(num_ftrs, args.num_classes) \n",
    "\n",
    "# # Define a loss function and optimizer\n",
    "# criterion = torch.nn.CrossEntropyLoss(class_weights)\n",
    "# optimizer = torch.optim.SGD(resnet18.parameters(), lr=0.001, momentum=0.9)\n",
    "# train_model(num_epochs, resnet18, criterion, optimizer, trainloader_resnet, valloader_resnet, stop_acc=70)"
   ]
  }
 ],
 "metadata": {
  "interpreter": {
   "hash": "62ef8ab7a50fde946441678ef251eba85852e5ab7813d8beba261a97f4cf7750"
  },
  "kernelspec": {
   "display_name": "Python 3.11.4 64-bit ('nlp-m': conda)",
   "name": "python3"
  },
  "language_info": {
   "codemirror_mode": {
    "name": "ipython",
    "version": 3
   },
   "file_extension": ".py",
   "mimetype": "text/x-python",
   "name": "python",
   "nbconvert_exporter": "python",
   "pygments_lexer": "ipython3",
   "version": "3.9.17"
  },
  "orig_nbformat": 4
 },
 "nbformat": 4,
 "nbformat_minor": 2
}
